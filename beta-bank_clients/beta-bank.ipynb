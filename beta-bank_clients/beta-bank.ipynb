{
 "cells": [
  {
   "cell_type": "markdown",
   "metadata": {},
   "source": [
    "# Описание проекта"
   ]
  },
  {
   "cell_type": "markdown",
   "metadata": {},
   "source": [
    "Допустим, вы работаете в добывающей гипотетической компании «ГлавРосГосНефть». Нужно решить, где бурить новую скважину.\n",
    "\n",
    "Вам предоставлены пробы нефти в трёх регионах: в каждом 10 000 месторождений, где измерили качество нефти и объём её запасов. Постройте модель машинного обучения, которая поможет определить регион, где добыча принесёт наибольшую прибыль. Проанализируйте возможную прибыль и риски техникой *Bootstrap.*\n",
    "\n",
    "        При разведке региона исследуют 500 точек, из которых выбирают 200 лучших для расчёта прибыли.\n",
    "        \n",
    "        Бюджет на разработку скважин в регионе — 10 млрд рублей.\n",
    "\n",
    "        Один баррель сырья приносит 450 рублей дохода. Доход с каждой единицы продукта составляет 450 тыс. рублей, поскольку объём указан в тысячах баррелей.\n",
    "\n",
    "        После оценки рисков нужно оставить лишь те регионы, в которых вероятность убытков меньше 2.5%. Среди них выбирают регион с наибольшей средней прибылью.\n",
    "\n",
    "        Данные синтетические: детали контрактов и характеристики месторождений не разглашаются."
   ]
  },
  {
   "cell_type": "markdown",
   "metadata": {},
   "source": [
    "# 1. Загрузка и подготовка данных"
   ]
  },
  {
   "cell_type": "code",
   "execution_count": 1,
   "metadata": {
    "scrolled": true
   },
   "outputs": [],
   "source": [
    "import pandas as pd\n",
    "import numpy as np\n",
    "import seaborn\n",
    "import matplotlib.pyplot as plt\n",
    "from IPython.display import display\n",
    "from sklearn.model_selection import train_test_split\n",
    "from sklearn.preprocessing import StandardScaler\n",
    "from sklearn.metrics import confusion_matrix, recall_score, precision_score, f1_score, roc_curve, roc_auc_score, accuracy_score\n",
    "from sklearn.utils import shuffle\n",
    "from sklearn.metrics import mean_squared_error\n",
    "from scipy import stats as st\n",
    "from sklearn.linear_model import LinearRegression"
   ]
  },
  {
   "cell_type": "markdown",
   "metadata": {},
   "source": [
    "            Загрузим данные и посмотрим на них."
   ]
  },
  {
   "cell_type": "code",
   "execution_count": 2,
   "metadata": {
    "scrolled": true
   },
   "outputs": [],
   "source": [
    "#reg_0 = pd.read_csv('geo_data_0.csv')\n",
    "#reg_1 = pd.read_csv('geo_data_1.csv')\n",
    "#reg_2 = pd.read_csv('geo_data_2.csv')\n",
    "reg_0 = pd.read_csv(r'C:\\Users\\Айболит\\Desktop\\DataFrames\\projects\\нефть\\geo_data_0.csv')\n",
    "reg_1 = pd.read_csv(r'C:\\Users\\Айболит\\Desktop\\DataFrames\\projects\\нефть\\geo_data_1.csv')\n",
    "reg_2 = pd.read_csv(r'C:\\Users\\Айболит\\Desktop\\DataFrames\\projects\\нефть\\geo_data_2.csv')"
   ]
  },
  {
   "cell_type": "code",
   "execution_count": 3,
   "metadata": {
    "scrolled": true
   },
   "outputs": [
    {
     "data": {
      "text/html": [
       "<div>\n",
       "<style scoped>\n",
       "    .dataframe tbody tr th:only-of-type {\n",
       "        vertical-align: middle;\n",
       "    }\n",
       "\n",
       "    .dataframe tbody tr th {\n",
       "        vertical-align: top;\n",
       "    }\n",
       "\n",
       "    .dataframe thead th {\n",
       "        text-align: right;\n",
       "    }\n",
       "</style>\n",
       "<table border=\"1\" class=\"dataframe\">\n",
       "  <thead>\n",
       "    <tr style=\"text-align: right;\">\n",
       "      <th></th>\n",
       "      <th>id</th>\n",
       "      <th>f0</th>\n",
       "      <th>f1</th>\n",
       "      <th>f2</th>\n",
       "      <th>product</th>\n",
       "    </tr>\n",
       "  </thead>\n",
       "  <tbody>\n",
       "    <tr>\n",
       "      <th>0</th>\n",
       "      <td>txEyH</td>\n",
       "      <td>0.705745</td>\n",
       "      <td>-0.497823</td>\n",
       "      <td>1.221170</td>\n",
       "      <td>105.280062</td>\n",
       "    </tr>\n",
       "    <tr>\n",
       "      <th>1</th>\n",
       "      <td>2acmU</td>\n",
       "      <td>1.334711</td>\n",
       "      <td>-0.340164</td>\n",
       "      <td>4.365080</td>\n",
       "      <td>73.037750</td>\n",
       "    </tr>\n",
       "    <tr>\n",
       "      <th>2</th>\n",
       "      <td>409Wp</td>\n",
       "      <td>1.022732</td>\n",
       "      <td>0.151990</td>\n",
       "      <td>1.419926</td>\n",
       "      <td>85.265647</td>\n",
       "    </tr>\n",
       "    <tr>\n",
       "      <th>3</th>\n",
       "      <td>iJLyR</td>\n",
       "      <td>-0.032172</td>\n",
       "      <td>0.139033</td>\n",
       "      <td>2.978566</td>\n",
       "      <td>168.620776</td>\n",
       "    </tr>\n",
       "    <tr>\n",
       "      <th>4</th>\n",
       "      <td>Xdl7t</td>\n",
       "      <td>1.988431</td>\n",
       "      <td>0.155413</td>\n",
       "      <td>4.751769</td>\n",
       "      <td>154.036647</td>\n",
       "    </tr>\n",
       "    <tr>\n",
       "      <th>...</th>\n",
       "      <td>...</td>\n",
       "      <td>...</td>\n",
       "      <td>...</td>\n",
       "      <td>...</td>\n",
       "      <td>...</td>\n",
       "    </tr>\n",
       "    <tr>\n",
       "      <th>99995</th>\n",
       "      <td>DLsed</td>\n",
       "      <td>0.971957</td>\n",
       "      <td>0.370953</td>\n",
       "      <td>6.075346</td>\n",
       "      <td>110.744026</td>\n",
       "    </tr>\n",
       "    <tr>\n",
       "      <th>99996</th>\n",
       "      <td>QKivN</td>\n",
       "      <td>1.392429</td>\n",
       "      <td>-0.382606</td>\n",
       "      <td>1.273912</td>\n",
       "      <td>122.346843</td>\n",
       "    </tr>\n",
       "    <tr>\n",
       "      <th>99997</th>\n",
       "      <td>3rnvd</td>\n",
       "      <td>1.029585</td>\n",
       "      <td>0.018787</td>\n",
       "      <td>-1.348308</td>\n",
       "      <td>64.375443</td>\n",
       "    </tr>\n",
       "    <tr>\n",
       "      <th>99998</th>\n",
       "      <td>7kl59</td>\n",
       "      <td>0.998163</td>\n",
       "      <td>-0.528582</td>\n",
       "      <td>1.583869</td>\n",
       "      <td>74.040764</td>\n",
       "    </tr>\n",
       "    <tr>\n",
       "      <th>99999</th>\n",
       "      <td>1CWhH</td>\n",
       "      <td>1.764754</td>\n",
       "      <td>-0.266417</td>\n",
       "      <td>5.722849</td>\n",
       "      <td>149.633246</td>\n",
       "    </tr>\n",
       "  </tbody>\n",
       "</table>\n",
       "<p>100000 rows × 5 columns</p>\n",
       "</div>"
      ],
      "text/plain": [
       "          id        f0        f1        f2     product\n",
       "0      txEyH  0.705745 -0.497823  1.221170  105.280062\n",
       "1      2acmU  1.334711 -0.340164  4.365080   73.037750\n",
       "2      409Wp  1.022732  0.151990  1.419926   85.265647\n",
       "3      iJLyR -0.032172  0.139033  2.978566  168.620776\n",
       "4      Xdl7t  1.988431  0.155413  4.751769  154.036647\n",
       "...      ...       ...       ...       ...         ...\n",
       "99995  DLsed  0.971957  0.370953  6.075346  110.744026\n",
       "99996  QKivN  1.392429 -0.382606  1.273912  122.346843\n",
       "99997  3rnvd  1.029585  0.018787 -1.348308   64.375443\n",
       "99998  7kl59  0.998163 -0.528582  1.583869   74.040764\n",
       "99999  1CWhH  1.764754 -0.266417  5.722849  149.633246\n",
       "\n",
       "[100000 rows x 5 columns]"
      ]
     },
     "execution_count": 3,
     "metadata": {},
     "output_type": "execute_result"
    }
   ],
   "source": [
    "reg_0"
   ]
  },
  {
   "cell_type": "code",
   "execution_count": 4,
   "metadata": {
    "scrolled": true
   },
   "outputs": [
    {
     "name": "stdout",
     "output_type": "stream",
     "text": [
      "<class 'pandas.core.frame.DataFrame'>\n",
      "RangeIndex: 100000 entries, 0 to 99999\n",
      "Data columns (total 5 columns):\n",
      "id         100000 non-null object\n",
      "f0         100000 non-null float64\n",
      "f1         100000 non-null float64\n",
      "f2         100000 non-null float64\n",
      "product    100000 non-null float64\n",
      "dtypes: float64(4), object(1)\n",
      "memory usage: 3.8+ MB\n"
     ]
    }
   ],
   "source": [
    "reg_0.info()"
   ]
  },
  {
   "cell_type": "code",
   "execution_count": 5,
   "metadata": {
    "scrolled": true
   },
   "outputs": [
    {
     "data": {
      "text/plain": [
       "0"
      ]
     },
     "execution_count": 5,
     "metadata": {},
     "output_type": "execute_result"
    }
   ],
   "source": [
    "reg_0.duplicated().sum()"
   ]
  },
  {
   "cell_type": "code",
   "execution_count": 6,
   "metadata": {
    "scrolled": true
   },
   "outputs": [
    {
     "data": {
      "text/plain": [
       "99990"
      ]
     },
     "execution_count": 6,
     "metadata": {},
     "output_type": "execute_result"
    }
   ],
   "source": [
    "len(reg_0['id'].unique())"
   ]
  },
  {
   "cell_type": "code",
   "execution_count": 7,
   "metadata": {
    "scrolled": true
   },
   "outputs": [
    {
     "data": {
      "text/plain": [
       "array([[<matplotlib.axes._subplots.AxesSubplot object at 0x7fc8e28b2c10>,\n",
       "        <matplotlib.axes._subplots.AxesSubplot object at 0x7fc884929e10>],\n",
       "       [<matplotlib.axes._subplots.AxesSubplot object at 0x7fc8848eb650>,\n",
       "        <matplotlib.axes._subplots.AxesSubplot object at 0x7fc8848a0e50>]],\n",
       "      dtype=object)"
      ]
     },
     "execution_count": 7,
     "metadata": {},
     "output_type": "execute_result"
    },
    {
     "data": {
      "image/png": "[encoded data removed]",
      "text/plain": [
       "<Figure size 1080x720 with 4 Axes>"
      ]
     },
     "metadata": {
      "needs_background": "light"
     },
     "output_type": "display_data"
    }
   ],
   "source": [
    "reg_0.hist(bins=50, figsize=(15, 10))"
   ]
  },
  {
   "cell_type": "markdown",
   "metadata": {},
   "source": [
    "        Многогорбые распределения.\n",
    "        Пропусков в данных нет.\n",
    "        Есть дубликаты ID скважин, нужно их удалить."
   ]
  },
  {
   "cell_type": "code",
   "execution_count": 8,
   "metadata": {
    "scrolled": true
   },
   "outputs": [
    {
     "name": "stdout",
     "output_type": "stream",
     "text": [
      "<class 'pandas.core.frame.DataFrame'>\n",
      "RangeIndex: 100000 entries, 0 to 99999\n",
      "Data columns (total 5 columns):\n",
      "id         100000 non-null object\n",
      "f0         100000 non-null float64\n",
      "f1         100000 non-null float64\n",
      "f2         100000 non-null float64\n",
      "product    100000 non-null float64\n",
      "dtypes: float64(4), object(1)\n",
      "memory usage: 3.8+ MB\n"
     ]
    }
   ],
   "source": [
    "reg_1.info()"
   ]
  },
  {
   "cell_type": "code",
   "execution_count": 9,
   "metadata": {
    "scrolled": true
   },
   "outputs": [
    {
     "data": {
      "text/plain": [
       "0"
      ]
     },
     "execution_count": 9,
     "metadata": {},
     "output_type": "execute_result"
    }
   ],
   "source": [
    "reg_1.duplicated().sum()"
   ]
  },
  {
   "cell_type": "code",
   "execution_count": 10,
   "metadata": {
    "scrolled": true
   },
   "outputs": [
    {
     "data": {
      "text/plain": [
       "4"
      ]
     },
     "execution_count": 10,
     "metadata": {},
     "output_type": "execute_result"
    }
   ],
   "source": [
    "reg_1['id'].duplicated().sum()"
   ]
  },
  {
   "cell_type": "code",
   "execution_count": 11,
   "metadata": {
    "scrolled": true
   },
   "outputs": [
    {
     "data": {
      "text/plain": [
       "array([[<matplotlib.axes._subplots.AxesSubplot object at 0x7fc884259650>,\n",
       "        <matplotlib.axes._subplots.AxesSubplot object at 0x7fc8841474d0>],\n",
       "       [<matplotlib.axes._subplots.AxesSubplot object at 0x7fc883373f10>,\n",
       "        <matplotlib.axes._subplots.AxesSubplot object at 0x7fc883726890>]],\n",
       "      dtype=object)"
      ]
     },
     "execution_count": 11,
     "metadata": {},
     "output_type": "execute_result"
    },
    {
     "data": {
      "image/png": "[encoded data removed]",
      "text/plain": [
       "<Figure size 1080x720 with 4 Axes>"
      ]
     },
     "metadata": {
      "needs_background": "light"
     },
     "output_type": "display_data"
    }
   ],
   "source": [
    "reg_1.hist(bins=50, figsize=(15, 10))"
   ]
  },
  {
   "cell_type": "code",
   "execution_count": 12,
   "metadata": {
    "scrolled": true
   },
   "outputs": [
    {
     "name": "stdout",
     "output_type": "stream",
     "text": [
      "<class 'pandas.core.frame.DataFrame'>\n",
      "RangeIndex: 100000 entries, 0 to 99999\n",
      "Data columns (total 5 columns):\n",
      "id         100000 non-null object\n",
      "f0         100000 non-null float64\n",
      "f1         100000 non-null float64\n",
      "f2         100000 non-null float64\n",
      "product    100000 non-null float64\n",
      "dtypes: float64(4), object(1)\n",
      "memory usage: 3.8+ MB\n"
     ]
    }
   ],
   "source": [
    "reg_2.info()"
   ]
  },
  {
   "cell_type": "code",
   "execution_count": 13,
   "metadata": {
    "scrolled": true
   },
   "outputs": [
    {
     "data": {
      "text/plain": [
       "0"
      ]
     },
     "execution_count": 13,
     "metadata": {},
     "output_type": "execute_result"
    }
   ],
   "source": [
    "reg_2.duplicated().sum()"
   ]
  },
  {
   "cell_type": "code",
   "execution_count": 14,
   "metadata": {
    "scrolled": true
   },
   "outputs": [
    {
     "data": {
      "text/plain": [
       "4"
      ]
     },
     "execution_count": 14,
     "metadata": {},
     "output_type": "execute_result"
    }
   ],
   "source": [
    "reg_2['id'].duplicated().sum()"
   ]
  },
  {
   "cell_type": "code",
   "execution_count": 15,
   "metadata": {
    "scrolled": true
   },
   "outputs": [
    {
     "data": {
      "text/plain": [
       "array([[<matplotlib.axes._subplots.AxesSubplot object at 0x7fc88a5d7e90>,\n",
       "        <matplotlib.axes._subplots.AxesSubplot object at 0x7fc883220790>],\n",
       "       [<matplotlib.axes._subplots.AxesSubplot object at 0x7fc883234f90>,\n",
       "        <matplotlib.axes._subplots.AxesSubplot object at 0x7fc8831f5790>]],\n",
       "      dtype=object)"
      ]
     },
     "execution_count": 15,
     "metadata": {},
     "output_type": "execute_result"
    },
    {
     "data": {
      "image/png": "[encoded data removed]",
      "text/plain": [
       "<Figure size 1080x720 with 4 Axes>"
      ]
     },
     "metadata": {
      "needs_background": "light"
     },
     "output_type": "display_data"
    }
   ],
   "source": [
    "reg_2.hist(bins=50, figsize=(15, 10))"
   ]
  },
  {
   "cell_type": "markdown",
   "metadata": {
    "scrolled": true
   },
   "source": [
    "    Мы увидели разные распределения.\n",
    "    Засекли повторы в ID скважин, но их крайне малое значение, максимум - 10шт. в регионе 1. Поэтому их даже можно не удалять."
   ]
  },
  {
   "cell_type": "markdown",
   "metadata": {},
   "source": [
    "В дальнейшей работе нам не понадобятся ID скважин, и более того, нам нужны данные сторого без ID, поэтому удалим их, сохранив в новой переменной остаток."
   ]
  },
  {
   "cell_type": "code",
   "execution_count": 16,
   "metadata": {
    "scrolled": true
   },
   "outputs": [],
   "source": [
    "df_0 = reg_0.drop('id', axis=1)\n",
    "df_1 = reg_1.drop('id', axis=1)\n",
    "df_2 = reg_2.drop('id', axis=1)"
   ]
  },
  {
   "cell_type": "markdown",
   "metadata": {},
   "source": [
    "# 2. Обучение и проверка модели"
   ]
  },
  {
   "cell_type": "markdown",
   "metadata": {},
   "source": [
    "    В этом шаге мы обучим и проверим модели для каждого региона.\n",
    "    Сохраним предсказания наших моделей на валидационной выборке."
   ]
  },
  {
   "cell_type": "markdown",
   "metadata": {},
   "source": [
    "__1.__\n",
    "\n",
    "В этом шаге мы напишем функцию - few_steps_in_one(), которая сможет совместить в себе несколько этапов:\n",
    "\n",
    "    1. выделит целевое значение от остальных признаков.\n",
    "    2. разделит данные на обучающую и валидационную выборки в соотношении 75 к 25ю\n",
    "    3. обучит модель.\n",
    "    \n",
    "Моделью выберем - линейную регрессию, линейную, т.к. имеем дело с числами, а не с категориальными данными, регрессию - как наиболее предсказуемая.\n",
    "\n",
    "    4. вернёт прогноз и верные (\"таргетные\") значения.\n",
    "    5. а также нужные для оценки модели и предсказания метрики.\n",
    "    \n",
    "К ним относятся: метрика качества RMSE, и нужные нам для получения представления о регионе данные - средний запас сырья (предсказанный моделью - pred_mean_product и реальный - real_mean_product)\n",
    "\n",
    "Соответственно, всё, что понадобится функции на вход - наши данные."
   ]
  },
  {
   "cell_type": "code",
   "execution_count": 17,
   "metadata": {},
   "outputs": [],
   "source": [
    "def split_train_valid(df):\n",
    "    features = df.drop('product', axis=1)\n",
    "    target = df['product']\n",
    "    \n",
    "    train_features, valid_features, train_target, valid_target = train_test_split(\n",
    "    features, target, test_size=0.25, random_state=123)\n",
    "    \n",
    "    model = LinearRegression()\n",
    "    model.fit(train_features, train_target)\n",
    "    prediction = pd.Series(model.predict(valid_features))\n",
    "    \n",
    "    rmse = mean_squared_error(valid_target, prediction)**0.5\n",
    "                           \n",
    "    pred_mean_product= prediction.mean()\n",
    "                           \n",
    "    real_mean_product = valid_target.mean()\n",
    "    \n",
    "    return(prediction, valid_target.reset_index(drop=True), rmse, \n",
    "           pred_mean_product, real_mean_product) "
   ]
  },
  {
   "cell_type": "markdown",
   "metadata": {},
   "source": [
    "        для региона 1"
   ]
  },
  {
   "cell_type": "code",
   "execution_count": 18,
   "metadata": {},
   "outputs": [],
   "source": [
    "pred_0, valid_target_0, rmse_0, pred_mean_product_0, real_mean_product_0 = split_train_valid(df_0)"
   ]
  },
  {
   "cell_type": "markdown",
   "metadata": {},
   "source": [
    "        для региона 2"
   ]
  },
  {
   "cell_type": "code",
   "execution_count": 19,
   "metadata": {},
   "outputs": [],
   "source": [
    "pred_1, valid_target_1, rmse_1, pred_mean_product_1, real_mean_product_1 = split_train_valid(df_1)"
   ]
  },
  {
   "cell_type": "markdown",
   "metadata": {},
   "source": [
    "        для региона 3"
   ]
  },
  {
   "cell_type": "code",
   "execution_count": 20,
   "metadata": {},
   "outputs": [],
   "source": [
    "pred_2, valid_target_2, rmse_2, pred_mean_product_2, real_mean_product_2 = split_train_valid(df_2)"
   ]
  },
  {
   "cell_type": "markdown",
   "metadata": {
    "scrolled": true
   },
   "source": [
    "__2.__\n",
    "\n",
    "Cохраним полученные прогнозы с верными ответами. Понадобятся в дальнейшем, когда будем подсчитавать риски убытков и прибыль для компании."
   ]
  },
  {
   "cell_type": "code",
   "execution_count": 21,
   "metadata": {},
   "outputs": [],
   "source": [
    "answers_0 = pd.DataFrame()\n",
    "answers_0['true_product'] = valid_target_0\n",
    "answers_0['predict_product'] = pred_0"
   ]
  },
  {
   "cell_type": "code",
   "execution_count": 22,
   "metadata": {},
   "outputs": [],
   "source": [
    "answers_1 = pd.DataFrame()\n",
    "answers_1['true_product'] = valid_target_1\n",
    "answers_1['predict_product'] = pred_1"
   ]
  },
  {
   "cell_type": "code",
   "execution_count": 23,
   "metadata": {},
   "outputs": [],
   "source": [
    "answers_2 = pd.DataFrame()\n",
    "answers_2['true_product'] = valid_target_2\n",
    "answers_2['predict_product'] = pred_2"
   ]
  },
  {
   "cell_type": "markdown",
   "metadata": {},
   "source": [
    "__3.__\n",
    "\n",
    "Далее посмотрим на RMSE моделей и средний запас предсказанного сырья по регионам."
   ]
  },
  {
   "cell_type": "markdown",
   "metadata": {},
   "source": [
    "        средний запас сырья предсказанный моделью - pred_mean_product.\n",
    "        \n",
    "        средний запас сырья на самом деле - real_mean_product."
   ]
  },
  {
   "cell_type": "code",
   "execution_count": 24,
   "metadata": {},
   "outputs": [
    {
     "name": "stdout",
     "output_type": "stream",
     "text": [
      "RMSE модели региона 1: 37.65\n",
      "средний запас сырья предсказанный моделью региона 1: 92\n",
      "средний запас сырья на самом деле региона 1:  92\n"
     ]
    }
   ],
   "source": [
    "print('RMSE модели региона 1: {:0.2f}'.format(rmse_0))\n",
    "print('средний запас сырья предсказанный моделью региона 1:', int(pred_mean_product_0))\n",
    "print('средний запас сырья на самом деле региона 1: ', int(real_mean_product_0))"
   ]
  },
  {
   "cell_type": "code",
   "execution_count": 25,
   "metadata": {},
   "outputs": [
    {
     "name": "stdout",
     "output_type": "stream",
     "text": [
      "RMSE модели региона 2: 0.90\n",
      "средний запас сырья предсказанный моделью региона 2: 69\n",
      "средний запас сырья на самом деле региона 2:  69\n"
     ]
    }
   ],
   "source": [
    "print('RMSE модели региона 2: {:0.2f}'.format(rmse_1))\n",
    "print('средний запас сырья предсказанный моделью региона 2:', int(pred_mean_product_1))\n",
    "print('средний запас сырья на самом деле региона 2: ', int(real_mean_product_1))\n"
   ]
  },
  {
   "cell_type": "code",
   "execution_count": 26,
   "metadata": {},
   "outputs": [
    {
     "name": "stdout",
     "output_type": "stream",
     "text": [
      "RMSE модели региона 3: 40.13\n",
      "средний запас сырья предсказанный моделью региона 3: 95\n",
      "средний запас сырья на самом деле региона 3:  94\n"
     ]
    }
   ],
   "source": [
    "print('RMSE модели региона 3: {:0.2f}'.format(rmse_2))\n",
    "print('средний запас сырья предсказанный моделью региона 3:', int(pred_mean_product_2))\n",
    "print('средний запас сырья на самом деле региона 3: ', int(real_mean_product_2))"
   ]
  },
  {
   "cell_type": "markdown",
   "metadata": {},
   "source": [
    "Нас __больше интересует средний запас, нежели rmse__, т.к. прибыль будет больше там, где больше нефти.\n",
    "\n",
    "Большне нефти в регионе 3 - 95тыс.баррелей его средний запас,и модель предсказалла 95.\n",
    "\n",
    "Потом идёт регион 1 со средним запасом в 92тыс.баррелей, и модель предсказала 92.\n",
    "\n",
    "Замыкает ряд регион 3 со средним запасом - 69 тыс.баррелей, модель предсказала 69.\n",
    "\n",
    "Но самая низкая, а чем ниже, тем лучше, rmse модели второго региона, предсказанные данные по второму региону из всех прогнозов наиболее близки к реальности.."
   ]
  },
  {
   "cell_type": "markdown",
   "metadata": {},
   "source": [
    "# 3. Подготовка к расчёту прибыли"
   ]
  },
  {
   "cell_type": "markdown",
   "metadata": {
    "scrolled": true
   },
   "source": [
    "__1.__\n",
    "\n",
    "Сохраним ключевые значения для расчётов в отдельных переменных."
   ]
  },
  {
   "cell_type": "markdown",
   "metadata": {},
   "source": [
    "        Бюджет на регион (budget) = 10 млрд.руб"
   ]
  },
  {
   "cell_type": "code",
   "execution_count": 27,
   "metadata": {},
   "outputs": [],
   "source": [
    "BUDGET = 10000000000"
   ]
  },
  {
   "cell_type": "markdown",
   "metadata": {},
   "source": [
    "        Планируемое количество разрабатываемых скважин (wells) = 200 скважин в регионе."
   ]
  },
  {
   "cell_type": "code",
   "execution_count": 28,
   "metadata": {},
   "outputs": [],
   "source": [
    "WELLS = 200"
   ]
  },
  {
   "cell_type": "markdown",
   "metadata": {},
   "source": [
    "        Стоимость 1 тыс.баррелей нефти (cost_1000) = 450 тыс.руб."
   ]
  },
  {
   "cell_type": "code",
   "execution_count": 29,
   "metadata": {},
   "outputs": [],
   "source": [
    "COST_1000 = 450000"
   ]
  },
  {
   "cell_type": "markdown",
   "metadata": {},
   "source": [
    "__2.__\n",
    "\n",
    "Рассчитаем достаточный объём сырья для безубыточной разработки новой скважины. \n",
    "\n",
    "Сравним полученный объём сырья со средним запасом в каждом регионе."
   ]
  },
  {
   "cell_type": "markdown",
   "metadata": {},
   "source": [
    "__Бюджет__ каждого региона - __10 млрд.руб.__ Планируется разработка 200 скважин. Значит каждая скважина должна приносить не меньшую потраченной на нее сумму прибыль, \n",
    "\n",
    "которую узнаем посчитав отношение бюджета к количеству планируемых скважин:"
   ]
  },
  {
   "cell_type": "code",
   "execution_count": 30,
   "metadata": {},
   "outputs": [
    {
     "data": {
      "text/plain": [
       "50000000.0"
      ]
     },
     "execution_count": 30,
     "metadata": {},
     "output_type": "execute_result"
    }
   ],
   "source": [
    "profit_1_well = BUDGET / WELLS\n",
    "profit_1_well"
   ]
  },
  {
   "cell_type": "markdown",
   "metadata": {},
   "source": [
    "Таким образом, чтобы не уйти в убыток и вложенные средства как-минимум вернулись, __одна скважина__ должна принести не менее __50 млн.руб.__\n",
    "\n",
    "Зная, что __1 барелль__ нефти стоит __450 руб.__ рассчитаем минимальный запас нефти, который должен быть в скважине (min_reserve).\n",
    "\n",
    "Для этого посмотрим на отношение минимальной прибыли скважины к стоимости 1 тысячи баррелей нефти"
   ]
  },
  {
   "cell_type": "code",
   "execution_count": 31,
   "metadata": {},
   "outputs": [
    {
     "data": {
      "text/plain": [
       "111.11111111111111"
      ]
     },
     "execution_count": 31,
     "metadata": {},
     "output_type": "execute_result"
    }
   ],
   "source": [
    "min_reserve = profit_1_well / COST_1000\n",
    "min_reserve"
   ]
  },
  {
   "cell_type": "markdown",
   "metadata": {},
   "source": [
    "Ясно, что нас интересуют скважины,по прогнозу в которых хранится не менее 112 тыс.баррелей, чтобы не уйти в убыточное производство."
   ]
  },
  {
   "cell_type": "markdown",
   "metadata": {},
   "source": [
    "                                    ***"
   ]
  },
  {
   "cell_type": "markdown",
   "metadata": {},
   "source": [
    "Сравним полученный объём сырья со средним запасом в каждом регионе."
   ]
  },
  {
   "cell_type": "code",
   "execution_count": 32,
   "metadata": {},
   "outputs": [
    {
     "name": "stdout",
     "output_type": "stream",
     "text": [
      "Средний запас в регионе 1 : 93\n",
      "Средний запас в регионе 2 : 69\n",
      "Средний запас в регионе 3 : 95\n",
      "Необходимое количество нефти для окупаемости : 111.1\n"
     ]
    }
   ],
   "source": [
    "print(\"Средний запас в регионе 1 : {:0.0f}\".format(pred_mean_product_0))\n",
    "print(\"Средний запас в регионе 2 : {:0.0f}\".format(pred_mean_product_1))\n",
    "print(\"Средний запас в регионе 3 : {:0.0f}\".format(pred_mean_product_2))\n",
    "print(\"Необходимое количество нефти для окупаемости : {:0.1f}\".format(min_reserve))"
   ]
  },
  {
   "cell_type": "markdown",
   "metadata": {},
   "source": [
    "Средний запас в регионах меньше необходимого, но не стоит паниковать, ведь это средний запас....\n",
    "\n",
    "Предлогаю сравнить не со средним, а с распределением на гистограмме:"
   ]
  },
  {
   "cell_type": "markdown",
   "metadata": {},
   "source": [
    "        предсказания модели относительно запасов в регионе 1:"
   ]
  },
  {
   "cell_type": "code",
   "execution_count": 33,
   "metadata": {},
   "outputs": [
    {
     "data": {
      "image/png": "[encoded data removed]",
      "text/plain": [
       "<Figure size 432x288 with 1 Axes>"
      ]
     },
     "metadata": {
      "needs_background": "light"
     },
     "output_type": "display_data"
    }
   ],
   "source": [
    "answers_0['predict_product'].hist(bins=50)\n",
    "plt.title(\"распределение запасов нефти в регионе 1\"); \n",
    "plt.xlabel(\"объем нефти, тыс.баррелей\")\n",
    "plt.ylabel(\"количество месторождений\")\n",
    "plt.show()"
   ]
  },
  {
   "cell_type": "code",
   "execution_count": 34,
   "metadata": {},
   "outputs": [
    {
     "data": {
      "text/plain": [
       "count    25000.000000\n",
       "mean        92.549362\n",
       "std         23.417413\n",
       "min         -9.834307\n",
       "25%         76.555717\n",
       "50%         92.687630\n",
       "75%        108.463616\n",
       "max        180.192010\n",
       "Name: predict_product, dtype: float64"
      ]
     },
     "execution_count": 34,
     "metadata": {},
     "output_type": "execute_result"
    }
   ],
   "source": [
    "answers_0['predict_product'].describe()"
   ]
  },
  {
   "cell_type": "markdown",
   "metadata": {},
   "source": [
    "        предсказания модели относительно запасов в регионе 2:"
   ]
  },
  {
   "cell_type": "code",
   "execution_count": 35,
   "metadata": {},
   "outputs": [
    {
     "data": {
      "image/png": "[encoded data removed]",
      "text/plain": [
       "<Figure size 432x288 with 1 Axes>"
      ]
     },
     "metadata": {
      "needs_background": "light"
     },
     "output_type": "display_data"
    }
   ],
   "source": [
    "answers_1['predict_product'].hist(bins=50)\n",
    "plt.title(\"распределение запасов нефти в регионе 2\"); \n",
    "plt.xlabel(\"объем нефти, тыс.баррелей\")\n",
    "plt.ylabel(\"количество месторождений\")\n",
    "plt.show()"
   ]
  },
  {
   "cell_type": "code",
   "execution_count": 36,
   "metadata": {},
   "outputs": [
    {
     "data": {
      "text/plain": [
       "count    25000.000000\n",
       "mean        69.280019\n",
       "std         45.819890\n",
       "min         -2.066353\n",
       "25%         28.689663\n",
       "50%         79.987224\n",
       "75%        109.351179\n",
       "max        139.906443\n",
       "Name: predict_product, dtype: float64"
      ]
     },
     "execution_count": 36,
     "metadata": {},
     "output_type": "execute_result"
    }
   ],
   "source": [
    "answers_1['predict_product'].describe()"
   ]
  },
  {
   "cell_type": "markdown",
   "metadata": {},
   "source": [
    "        предсказания модели относительно запасов в регионе 3:"
   ]
  },
  {
   "cell_type": "code",
   "execution_count": 37,
   "metadata": {},
   "outputs": [
    {
     "data": {
      "image/png": "[encoded data removed]",
      "text/plain": [
       "<Figure size 432x288 with 1 Axes>"
      ]
     },
     "metadata": {
      "needs_background": "light"
     },
     "output_type": "display_data"
    }
   ],
   "source": [
    "answers_2['predict_product'].hist(bins=50)\n",
    "plt.title(\"распределение запасов нефти в регионе 3\"); \n",
    "plt.xlabel(\"объем нефти, тыс.баррелей\")\n",
    "plt.ylabel(\"количество месторождений\")\n",
    "plt.show()"
   ]
  },
  {
   "cell_type": "code",
   "execution_count": 38,
   "metadata": {},
   "outputs": [
    {
     "data": {
      "text/plain": [
       "count    25000.000000\n",
       "mean        95.098599\n",
       "std         20.175789\n",
       "min         14.590694\n",
       "25%         81.398949\n",
       "50%         94.929589\n",
       "75%        108.821916\n",
       "max        174.573336\n",
       "Name: predict_product, dtype: float64"
      ]
     },
     "execution_count": 38,
     "metadata": {},
     "output_type": "execute_result"
    }
   ],
   "source": [
    "answers_2['predict_product'].describe()"
   ]
  },
  {
   "cell_type": "markdown",
   "metadata": {},
   "source": [
    "На графиках трёх регионов мы видим, что в достаточном количестве встречаются месторождения с запасом более 120 тыс.баррелей.\n",
    "\n",
    "Теперь нас не пугает недостаточное среднее. Главное, чтоб модель верно строила прогноз."
   ]
  },
  {
   "cell_type": "markdown",
   "metadata": {},
   "source": [
    "# 4. Напишем функцию для расчёта прибыли по выбранным скважинам и предсказаниям модели"
   ]
  },
  {
   "cell_type": "markdown",
   "metadata": {},
   "source": [
    "В этом шаге мы:\n",
    "\n",
    "\n",
    "Напишем функцию для расчёта прибыли по выбранным скважинам и предсказаниям модели.\n"
   ]
  },
  {
   "cell_type": "markdown",
   "metadata": {},
   "source": [
    "        Функция для расчёта прибыли - сумма всех тысяч баррелей нефти предсказанная (или реальная), которые может добыть кампания, разрабатывая известные месторождения, умноженная на стоимость одной тысячи баррелей из чего вычитается бюджет. "
   ]
  },
  {
   "cell_type": "code",
   "execution_count": 39,
   "metadata": {},
   "outputs": [],
   "source": [
    "def general_profit(summ_barrels):\n",
    "    return(int((sum(summ_barrels) * COST_1000) - BUDGET))"
   ]
  },
  {
   "cell_type": "markdown",
   "metadata": {},
   "source": [
    "        Функцимя для расчета средней прибыли:"
   ]
  },
  {
   "cell_type": "code",
   "execution_count": 40,
   "metadata": {},
   "outputs": [],
   "source": [
    "def general_mean_profit(series):\n",
    "    return(series.mean())"
   ]
  },
  {
   "cell_type": "markdown",
   "metadata": {
    "scrolled": true
   },
   "source": [
    "__4.1.__\n",
    "\n",
    "Выберем скважины с максимальными значениями предсказаний. Количество скважин зависит от бюджета компании и стоимости разработки одной скважины.\n"
   ]
  },
  {
   "cell_type": "markdown",
   "metadata": {},
   "source": [
    "В шаге три мы обговорили, что бюджет на разработку 1 скважины = 50млн.руб., а бюджет на весь регион - 10 млрд.руб., то есть на разработку 200 скважин."
   ]
  },
  {
   "cell_type": "markdown",
   "metadata": {},
   "source": [
    "        топ 200 скважин района 1:"
   ]
  },
  {
   "cell_type": "code",
   "execution_count": 41,
   "metadata": {},
   "outputs": [],
   "source": [
    "top_0 = sorted(pred_0, reverse=True)"
   ]
  },
  {
   "cell_type": "code",
   "execution_count": 42,
   "metadata": {},
   "outputs": [],
   "source": [
    "top_0 = top_0[0:200]"
   ]
  },
  {
   "cell_type": "markdown",
   "metadata": {},
   "source": [
    "        топ 200 скважин района 2:"
   ]
  },
  {
   "cell_type": "code",
   "execution_count": 43,
   "metadata": {},
   "outputs": [],
   "source": [
    "top_1 = sorted(pred_1, reverse=True)"
   ]
  },
  {
   "cell_type": "code",
   "execution_count": 44,
   "metadata": {},
   "outputs": [],
   "source": [
    "top_1 = top_1[0:200]"
   ]
  },
  {
   "cell_type": "markdown",
   "metadata": {},
   "source": [
    "        топ 200 скважин района 3:"
   ]
  },
  {
   "cell_type": "code",
   "execution_count": 45,
   "metadata": {},
   "outputs": [],
   "source": [
    "top_2 = sorted(pred_2, reverse=True)"
   ]
  },
  {
   "cell_type": "code",
   "execution_count": 46,
   "metadata": {},
   "outputs": [],
   "source": [
    "top_2 = top_2[0:200]"
   ]
  },
  {
   "cell_type": "markdown",
   "metadata": {},
   "source": [
    "__4.2.__ \n",
    "\n",
    "Просуммируем целевое значение объёма сырья, соответствующее этим предсказаниям."
   ]
  },
  {
   "cell_type": "markdown",
   "metadata": {},
   "source": [
    "        сумма объема сырья региона 1:"
   ]
  },
  {
   "cell_type": "code",
   "execution_count": 47,
   "metadata": {},
   "outputs": [
    {
     "data": {
      "text/plain": [
       "31034.787805093598"
      ]
     },
     "execution_count": 47,
     "metadata": {},
     "output_type": "execute_result"
    }
   ],
   "source": [
    "summ_0 = sum(top_0)\n",
    "summ_0"
   ]
  },
  {
   "cell_type": "markdown",
   "metadata": {},
   "source": [
    "        сумма объема сырья региона 2:"
   ]
  },
  {
   "cell_type": "code",
   "execution_count": 48,
   "metadata": {},
   "outputs": [
    {
     "data": {
      "text/plain": [
       "27755.76198279395"
      ]
     },
     "execution_count": 48,
     "metadata": {},
     "output_type": "execute_result"
    }
   ],
   "source": [
    "summ_1 = sum(top_1)\n",
    "summ_1"
   ]
  },
  {
   "cell_type": "markdown",
   "metadata": {},
   "source": [
    "        сумма объема сырья региона 3:"
   ]
  },
  {
   "cell_type": "code",
   "execution_count": 49,
   "metadata": {},
   "outputs": [
    {
     "data": {
      "text/plain": [
       "29943.44311039178"
      ]
     },
     "execution_count": 49,
     "metadata": {},
     "output_type": "execute_result"
    }
   ],
   "source": [
    "summ_2 = sum(top_2)\n",
    "summ_2"
   ]
  },
  {
   "cell_type": "markdown",
   "metadata": {},
   "source": [
    "Самый перспективный регион - первый, далее - третий и замыкает - второй."
   ]
  },
  {
   "cell_type": "markdown",
   "metadata": {},
   "source": [
    "__4.3.__\n",
    "\n",
    "Рассчитаем прибыль для полученного объёма сырья произведением суммы запасов в 200 сткважинах на стоимость тысячи баррелей (в рублях)."
   ]
  },
  {
   "cell_type": "markdown",
   "metadata": {},
   "source": [
    "        прибыль в регионе 1:"
   ]
  },
  {
   "cell_type": "code",
   "execution_count": 50,
   "metadata": {},
   "outputs": [
    {
     "data": {
      "text/plain": [
       "3965654512"
      ]
     },
     "execution_count": 50,
     "metadata": {},
     "output_type": "execute_result"
    }
   ],
   "source": [
    "sum_profit_0 = general_profit(top_0)\n",
    "sum_profit_0"
   ]
  },
  {
   "cell_type": "markdown",
   "metadata": {},
   "source": [
    "        прибыль в регионе 2:"
   ]
  },
  {
   "cell_type": "code",
   "execution_count": 51,
   "metadata": {},
   "outputs": [
    {
     "data": {
      "text/plain": [
       "2490092892"
      ]
     },
     "execution_count": 51,
     "metadata": {},
     "output_type": "execute_result"
    }
   ],
   "source": [
    "sum_profit_1 = general_profit(top_1)\n",
    "sum_profit_1"
   ]
  },
  {
   "cell_type": "markdown",
   "metadata": {},
   "source": [
    "        прибыль в регионе 3:"
   ]
  },
  {
   "cell_type": "code",
   "execution_count": 52,
   "metadata": {},
   "outputs": [
    {
     "data": {
      "text/plain": [
       "3474549399"
      ]
     },
     "execution_count": 52,
     "metadata": {},
     "output_type": "execute_result"
    }
   ],
   "source": [
    "sum_profit_2 = general_profit(top_2)\n",
    "sum_profit_2"
   ]
  },
  {
   "cell_type": "markdown",
   "metadata": {},
   "source": [
    "Теоретически: Самый перспективный регион - первый, далее - третий и замыкает - второй.\n",
    "\n",
    "С каким регионом будет работать кампания - узнаем в шаге 5."
   ]
  },
  {
   "cell_type": "markdown",
   "metadata": {},
   "source": [
    "# 5. Подсчёт рисков и прибыли для каждого региона"
   ]
  },
  {
   "cell_type": "markdown",
   "metadata": {},
   "source": [
    "Общий план таков:\n",
    "\n",
    "Согласно Центральной Предельной Теореме случайная выборка имеет свойства генеральной совокупности.\n",
    "\n",
    "Поэтому методом Bootstrap мы создадим 1000 случайных выборок по 500 объектов из общего датафрейма, отсортируем датафрейм по предсказанным значениям от большего к меньшему и возьмем из него первые 200 значений \"действительного запаса нефти\" (НЕ предсказанного, а \"таргетного\"). \n",
    "\n",
    "Посчитаем прибыль и сохраним данные в список ``values``.\n",
    "\n",
    "Далее найдем среднюю прибыль, 95%-й доверительный интервал и риск убытков.\n"
   ]
  },
  {
   "cell_type": "markdown",
   "metadata": {},
   "source": [
    "__5.1.__\n",
    "\n",
    "Примените технику Bootstrap с 1000 выборок, чтобы найти распределение прибыли."
   ]
  },
  {
   "cell_type": "code",
   "execution_count": 53,
   "metadata": {},
   "outputs": [],
   "source": [
    "def get_values(data):\n",
    "    values = []\n",
    "    state = np.random.RandomState(12345)\n",
    "    for i in range(1000):\n",
    "        subsampling = data.sample(n=500, replace=True, random_state=state)\n",
    "        subsampling = subsampling.sort_values(by='predict_product', ascending=False).reset_index(drop=True)\n",
    "        selected_wells = subsampling.loc[0:(WELLS - 1), 'true_product']      \n",
    "        profit = general_profit(selected_wells)\n",
    "        values.append(profit)\n",
    "    values = pd.Series(values)\n",
    "    return(values)"
   ]
  },
  {
   "cell_type": "markdown",
   "metadata": {},
   "source": [
    "Данные, которые мы получили в шаге 2 - хранятся в датафрейме answers, в столбце 'predict_product' - предсказанные на валидационной выборке значения запасов нефти, в столбце 'true_product' - таргетные значения."
   ]
  },
  {
   "cell_type": "code",
   "execution_count": 54,
   "metadata": {},
   "outputs": [],
   "source": [
    "values_0 = get_values(answers_0)"
   ]
  },
  {
   "cell_type": "code",
   "execution_count": 55,
   "metadata": {},
   "outputs": [
    {
     "data": {
      "text/html": [
       "<div>\n",
       "<style scoped>\n",
       "    .dataframe tbody tr th:only-of-type {\n",
       "        vertical-align: middle;\n",
       "    }\n",
       "\n",
       "    .dataframe tbody tr th {\n",
       "        vertical-align: top;\n",
       "    }\n",
       "\n",
       "    .dataframe thead th {\n",
       "        text-align: right;\n",
       "    }\n",
       "</style>\n",
       "<table border=\"1\" class=\"dataframe\">\n",
       "  <thead>\n",
       "    <tr style=\"text-align: right;\">\n",
       "      <th></th>\n",
       "      <th>true_product</th>\n",
       "      <th>predict_product</th>\n",
       "    </tr>\n",
       "  </thead>\n",
       "  <tbody>\n",
       "    <tr>\n",
       "      <td>0</td>\n",
       "      <td>145.825972</td>\n",
       "      <td>123.284256</td>\n",
       "    </tr>\n",
       "    <tr>\n",
       "      <td>1</td>\n",
       "      <td>134.020212</td>\n",
       "      <td>75.838240</td>\n",
       "    </tr>\n",
       "    <tr>\n",
       "      <td>2</td>\n",
       "      <td>88.905826</td>\n",
       "      <td>55.526760</td>\n",
       "    </tr>\n",
       "    <tr>\n",
       "      <td>3</td>\n",
       "      <td>19.508226</td>\n",
       "      <td>86.673045</td>\n",
       "    </tr>\n",
       "    <tr>\n",
       "      <td>4</td>\n",
       "      <td>108.713468</td>\n",
       "      <td>109.909327</td>\n",
       "    </tr>\n",
       "    <tr>\n",
       "      <td>...</td>\n",
       "      <td>...</td>\n",
       "      <td>...</td>\n",
       "    </tr>\n",
       "    <tr>\n",
       "      <td>195</td>\n",
       "      <td>122.662279</td>\n",
       "      <td>107.438498</td>\n",
       "    </tr>\n",
       "    <tr>\n",
       "      <td>196</td>\n",
       "      <td>67.054045</td>\n",
       "      <td>80.291796</td>\n",
       "    </tr>\n",
       "    <tr>\n",
       "      <td>197</td>\n",
       "      <td>148.655849</td>\n",
       "      <td>71.747691</td>\n",
       "    </tr>\n",
       "    <tr>\n",
       "      <td>198</td>\n",
       "      <td>117.784324</td>\n",
       "      <td>90.083788</td>\n",
       "    </tr>\n",
       "    <tr>\n",
       "      <td>199</td>\n",
       "      <td>101.209762</td>\n",
       "      <td>97.161905</td>\n",
       "    </tr>\n",
       "  </tbody>\n",
       "</table>\n",
       "<p>200 rows × 2 columns</p>\n",
       "</div>"
      ],
      "text/plain": [
       "     true_product  predict_product\n",
       "0      145.825972       123.284256\n",
       "1      134.020212        75.838240\n",
       "2       88.905826        55.526760\n",
       "3       19.508226        86.673045\n",
       "4      108.713468       109.909327\n",
       "..            ...              ...\n",
       "195    122.662279       107.438498\n",
       "196     67.054045        80.291796\n",
       "197    148.655849        71.747691\n",
       "198    117.784324        90.083788\n",
       "199    101.209762        97.161905\n",
       "\n",
       "[200 rows x 2 columns]"
      ]
     },
     "execution_count": 55,
     "metadata": {},
     "output_type": "execute_result"
    }
   ],
   "source": [
    "answers_0.loc[0:WELLS - 1]"
   ]
  },
  {
   "cell_type": "code",
   "execution_count": 56,
   "metadata": {},
   "outputs": [
    {
     "data": {
      "text/plain": [
       "<matplotlib.axes._subplots.AxesSubplot at 0x7fc87ac3aad0>"
      ]
     },
     "execution_count": 56,
     "metadata": {},
     "output_type": "execute_result"
    },
    {
     "data": {
      "image/png": "[encoded data removed]",
      "text/plain": [
       "<Figure size 432x288 with 1 Axes>"
      ]
     },
     "metadata": {
      "needs_background": "light"
     },
     "output_type": "display_data"
    }
   ],
   "source": [
    "values_0.hist(bins=50)"
   ]
  },
  {
   "cell_type": "code",
   "execution_count": 57,
   "metadata": {},
   "outputs": [
    {
     "data": {
      "text/plain": [
       "<matplotlib.axes._subplots.AxesSubplot at 0x7fc87aa46850>"
      ]
     },
     "execution_count": 57,
     "metadata": {},
     "output_type": "execute_result"
    },
    {
     "data": {
      "image/png": "[encoded data removed]",
      "text/plain": [
       "<Figure size 432x288 with 1 Axes>"
      ]
     },
     "metadata": {
      "needs_background": "light"
     },
     "output_type": "display_data"
    }
   ],
   "source": [
    "values_1 = get_values(answers_1)\n",
    "values_1.hist(bins=50)"
   ]
  },
  {
   "cell_type": "code",
   "execution_count": 58,
   "metadata": {},
   "outputs": [
    {
     "data": {
      "text/plain": [
       "<matplotlib.axes._subplots.AxesSubplot at 0x7fc87a982710>"
      ]
     },
     "execution_count": 58,
     "metadata": {},
     "output_type": "execute_result"
    },
    {
     "data": {
      "image/png": "[encoded data removed]",
      "text/plain": [
       "<Figure size 432x288 with 1 Axes>"
      ]
     },
     "metadata": {
      "needs_background": "light"
     },
     "output_type": "display_data"
    }
   ],
   "source": [
    "values_2 = get_values(answers_2)\n",
    "values_2.hist(bins=50)"
   ]
  },
  {
   "cell_type": "code",
   "execution_count": 59,
   "metadata": {},
   "outputs": [
    {
     "data": {
      "text/plain": [
       "353155921700"
      ]
     },
     "execution_count": 59,
     "metadata": {},
     "output_type": "execute_result"
    }
   ],
   "source": [
    "values_2.sum()"
   ]
  },
  {
   "cell_type": "markdown",
   "metadata": {},
   "source": [
    "Оценивая распределеиня, можно сказать, что наша модель справляется, причем оптимальней всего - в регионе 2, где rmse = 0.8, самая низкая."
   ]
  },
  {
   "cell_type": "markdown",
   "metadata": {},
   "source": [
    "__5.2.__\n",
    "\n",
    "Найдем среднюю прибыль, 95%-й доверительный интервал и риск убытков. Убыток — это отрицательная прибыль."
   ]
  },
  {
   "cell_type": "markdown",
   "metadata": {},
   "source": [
    "Автоматизируем процесс, что позволит сократить объем кода и его дубликацию:"
   ]
  },
  {
   "cell_type": "code",
   "execution_count": 60,
   "metadata": {},
   "outputs": [],
   "source": [
    "def get_conf_int(values):\n",
    "    lover = int(values.quantile(0.025))\n",
    "    upper = int(values.quantile(0.975))\n",
    "    mean_prof = int(values.mean())\n",
    "    median_prof = int(values.median())\n",
    "    confidence_interval = st.t.interval(alpha = 0.95, df=(len(values)-1),\n",
    "                                        loc=values.mean(), scale=values.sem())\n",
    "    risc = 0\n",
    "    count_negative = 0\n",
    "    for i in range(len(values)):\n",
    "        if values[i] < 0:\n",
    "            count_negative += 1\n",
    "        risc = abs(count_negative / len(values))\n",
    "    print('Средняя выручка: ', mean_prof)\n",
    "    print('Медиана распределения выручки: ', median_prof)\n",
    "    print('2,7% - квантиль: ', lover)\n",
    "    print('97.5% - квантиль: ', upper)\n",
    "    print('Доверительный интервал: ', confidence_interval)\n",
    "    print('Риск убытков: {:0.1f}% '.format(risc * 100))"
   ]
  },
  {
   "cell_type": "code",
   "execution_count": 61,
   "metadata": {},
   "outputs": [
    {
     "name": "stdout",
     "output_type": "stream",
     "text": [
      "Регион 1\n",
      "\n",
      "Средняя выручка:  476303228\n",
      "Медиана распределения выручки:  469799721\n",
      "2,7% - квантиль:  4800798\n",
      "97.5% - квантиль:  1008423975\n",
      "Доверительный интервал:  (459787858.83432347, 492818599.0696766)\n",
      "Риск убытков: 2.5% \n"
     ]
    }
   ],
   "source": [
    "print('Регион 1')\n",
    "print()\n",
    "get_conf_int(values_0)"
   ]
  },
  {
   "cell_type": "code",
   "execution_count": 62,
   "metadata": {},
   "outputs": [
    {
     "name": "stdout",
     "output_type": "stream",
     "text": [
      "Регион 2\n",
      "\n",
      "Средняя выручка:  480214032\n",
      "Медиана распределения выручки:  474109803\n",
      "2,7% - квантиль:  83026797\n",
      "97.5% - квантиль:  890027646\n",
      "Доверительный интервал:  (467293087.95712936, 493134976.5868707)\n",
      "Риск убытков: 1.1% \n"
     ]
    }
   ],
   "source": [
    "print('Регион 2')\n",
    "print()\n",
    "get_conf_int(values_1)"
   ]
  },
  {
   "cell_type": "code",
   "execution_count": 63,
   "metadata": {},
   "outputs": [
    {
     "name": "stdout",
     "output_type": "stream",
     "text": [
      "Регион 3\n",
      "\n",
      "Средняя выручка:  353155921\n",
      "Медиана распределения выручки:  352759951\n",
      "2,7% - квантиль:  -178067459\n",
      "97.5% - квантиль:  897086216\n",
      "Доверительный интервал:  (336287830.2024933, 370024013.19750667)\n",
      "Риск убытков: 9.6% \n"
     ]
    }
   ],
   "source": [
    "print('Регион 3')\n",
    "print()\n",
    "get_conf_int(values_2)"
   ]
  },
  {
   "cell_type": "markdown",
   "metadata": {},
   "source": [
    "__5.3.__\n",
    "\n",
    "__Вывод:__ предложим регион для разработки скважин и обоснуем выбор."
   ]
  },
  {
   "cell_type": "markdown",
   "metadata": {},
   "source": [
    "Сразу отказываемся от разработки первого и третьего региона, т.к. риск понести компанией убытки составляет 2,5% и 9,6% соответственно, не смотря на то, что третий регион - лидер по запасам сырья, а первый едва уступает ему. НО rmse модели третьего и первого региона высоки = 40 и 37, что делает прогноз модели не всегда соответствующим действительности."
   ]
  },
  {
   "cell_type": "markdown",
   "metadata": {},
   "source": [
    "Однозначно рекомендуем к выбору второй регион для разработки."
   ]
  },
  {
   "cell_type": "markdown",
   "metadata": {},
   "source": [
    "Таким образом, на практике был выбран второй регион, который с самым низким запасом сырья = 69 против 95 и 93 в третьем и первом регионах, НО самой точной моделью, ее rmse = 0.9, против первого региона = 37 и третьего = 40. Третий стал самым убыточным. То есть можно сказать, что точность предсказания важней запасов сырья, т.к. будут выбраны месторождения с максимальным запасом сырья с бОльшей вероятность."
   ]
  }
 ],
 "metadata": {
  "kernelspec": {
   "display_name": "Python 3",
   "language": "python",
   "name": "python3"
  },
  "language_info": {
   "codemirror_mode": {
    "name": "ipython",
    "version": 3
   },
   "file_extension": ".py",
   "mimetype": "text/x-python",
   "name": "python",
   "nbconvert_exporter": "python",
   "pygments_lexer": "ipython3",
   "version": "3.7.6"
  }
 },
 "nbformat": 4,
 "nbformat_minor": 2
}
