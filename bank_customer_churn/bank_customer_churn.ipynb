{
 "cells": [
  {
   "cell_type": "markdown",
   "metadata": {},
   "source": [
    "# Отток клиентов"
   ]
  },
  {
   "cell_type": "markdown",
   "metadata": {},
   "source": [
    "Из Банка стали уходить клиенты. Каждый месяц. Немного, но заметно. Банковские маркетологи посчитали: сохранять текущих клиентов дешевле, чем привлекать новых.\n",
    "\n",
    "Нужно спрогнозировать, уйдёт клиент из банка в ближайшее время или нет. Вам предоставлены исторические данные о поведении клиентов и расторжении договоров с банком. \n",
    "\n",
    "Постройте модель с предельно большим значением *F1*-меры. \n",
    "\n",
    "Источник данных: [https://www.kaggle.com/barelydedicated/bank-customer-churn-modeling](https://www.kaggle.com/barelydedicated/bank-customer-churn-modeling)"
   ]
  },
  {
   "cell_type": "markdown",
   "metadata": {},
   "source": [
    "# 1. Подготовка данных"
   ]
  },
  {
   "cell_type": "code",
   "execution_count": 1,
   "metadata": {
    "scrolled": false
   },
   "outputs": [],
   "source": [
    "import pandas as pd\n",
    "import numpy as np\n",
    "import seaborn\n",
    "import matplotlib.pyplot as plt\n",
    "from IPython.display import display\n",
    "from sklearn.model_selection import train_test_split\n",
    "from sklearn.preprocessing import StandardScaler\n",
    "from sklearn.metrics import confusion_matrix, recall_score, precision_score, f1_score, roc_curve, roc_auc_score, accuracy_score\n",
    "from sklearn.utils import shuffle"
   ]
  },
  {
   "cell_type": "code",
   "execution_count": 2,
   "metadata": {
    "scrolled": false
   },
   "outputs": [],
   "source": [
    "df = pd.read_csv('/datasets/Churn.csv')"
   ]
  },
  {
   "cell_type": "code",
   "execution_count": 3,
   "metadata": {
    "scrolled": false
   },
   "outputs": [
    {
     "data": {
      "text/html": [
       "<div>\n",
       "<style scoped>\n",
       "    .dataframe tbody tr th:only-of-type {\n",
       "        vertical-align: middle;\n",
       "    }\n",
       "\n",
       "    .dataframe tbody tr th {\n",
       "        vertical-align: top;\n",
       "    }\n",
       "\n",
       "    .dataframe thead th {\n",
       "        text-align: right;\n",
       "    }\n",
       "</style>\n",
       "<table border=\"1\" class=\"dataframe\">\n",
       "  <thead>\n",
       "    <tr style=\"text-align: right;\">\n",
       "      <th></th>\n",
       "      <th>RowNumber</th>\n",
       "      <th>CustomerId</th>\n",
       "      <th>Surname</th>\n",
       "      <th>CreditScore</th>\n",
       "      <th>Geography</th>\n",
       "      <th>Gender</th>\n",
       "      <th>Age</th>\n",
       "      <th>Tenure</th>\n",
       "      <th>Balance</th>\n",
       "      <th>NumOfProducts</th>\n",
       "      <th>HasCrCard</th>\n",
       "      <th>IsActiveMember</th>\n",
       "      <th>EstimatedSalary</th>\n",
       "      <th>Exited</th>\n",
       "    </tr>\n",
       "  </thead>\n",
       "  <tbody>\n",
       "    <tr>\n",
       "      <td>0</td>\n",
       "      <td>1</td>\n",
       "      <td>15634602</td>\n",
       "      <td>Hargrave</td>\n",
       "      <td>619</td>\n",
       "      <td>France</td>\n",
       "      <td>Female</td>\n",
       "      <td>42</td>\n",
       "      <td>2.0</td>\n",
       "      <td>0.00</td>\n",
       "      <td>1</td>\n",
       "      <td>1</td>\n",
       "      <td>1</td>\n",
       "      <td>101348.88</td>\n",
       "      <td>1</td>\n",
       "    </tr>\n",
       "    <tr>\n",
       "      <td>1</td>\n",
       "      <td>2</td>\n",
       "      <td>15647311</td>\n",
       "      <td>Hill</td>\n",
       "      <td>608</td>\n",
       "      <td>Spain</td>\n",
       "      <td>Female</td>\n",
       "      <td>41</td>\n",
       "      <td>1.0</td>\n",
       "      <td>83807.86</td>\n",
       "      <td>1</td>\n",
       "      <td>0</td>\n",
       "      <td>1</td>\n",
       "      <td>112542.58</td>\n",
       "      <td>0</td>\n",
       "    </tr>\n",
       "    <tr>\n",
       "      <td>2</td>\n",
       "      <td>3</td>\n",
       "      <td>15619304</td>\n",
       "      <td>Onio</td>\n",
       "      <td>502</td>\n",
       "      <td>France</td>\n",
       "      <td>Female</td>\n",
       "      <td>42</td>\n",
       "      <td>8.0</td>\n",
       "      <td>159660.80</td>\n",
       "      <td>3</td>\n",
       "      <td>1</td>\n",
       "      <td>0</td>\n",
       "      <td>113931.57</td>\n",
       "      <td>1</td>\n",
       "    </tr>\n",
       "    <tr>\n",
       "      <td>3</td>\n",
       "      <td>4</td>\n",
       "      <td>15701354</td>\n",
       "      <td>Boni</td>\n",
       "      <td>699</td>\n",
       "      <td>France</td>\n",
       "      <td>Female</td>\n",
       "      <td>39</td>\n",
       "      <td>1.0</td>\n",
       "      <td>0.00</td>\n",
       "      <td>2</td>\n",
       "      <td>0</td>\n",
       "      <td>0</td>\n",
       "      <td>93826.63</td>\n",
       "      <td>0</td>\n",
       "    </tr>\n",
       "    <tr>\n",
       "      <td>4</td>\n",
       "      <td>5</td>\n",
       "      <td>15737888</td>\n",
       "      <td>Mitchell</td>\n",
       "      <td>850</td>\n",
       "      <td>Spain</td>\n",
       "      <td>Female</td>\n",
       "      <td>43</td>\n",
       "      <td>2.0</td>\n",
       "      <td>125510.82</td>\n",
       "      <td>1</td>\n",
       "      <td>1</td>\n",
       "      <td>1</td>\n",
       "      <td>79084.10</td>\n",
       "      <td>0</td>\n",
       "    </tr>\n",
       "  </tbody>\n",
       "</table>\n",
       "</div>"
      ],
      "text/plain": [
       "   RowNumber  CustomerId   Surname  CreditScore Geography  Gender  Age  \\\n",
       "0          1    15634602  Hargrave          619    France  Female   42   \n",
       "1          2    15647311      Hill          608     Spain  Female   41   \n",
       "2          3    15619304      Onio          502    France  Female   42   \n",
       "3          4    15701354      Boni          699    France  Female   39   \n",
       "4          5    15737888  Mitchell          850     Spain  Female   43   \n",
       "\n",
       "   Tenure    Balance  NumOfProducts  HasCrCard  IsActiveMember  \\\n",
       "0     2.0       0.00              1          1               1   \n",
       "1     1.0   83807.86              1          0               1   \n",
       "2     8.0  159660.80              3          1               0   \n",
       "3     1.0       0.00              2          0               0   \n",
       "4     2.0  125510.82              1          1               1   \n",
       "\n",
       "   EstimatedSalary  Exited  \n",
       "0        101348.88       1  \n",
       "1        112542.58       0  \n",
       "2        113931.57       1  \n",
       "3         93826.63       0  \n",
       "4         79084.10       0  "
      ]
     },
     "execution_count": 3,
     "metadata": {},
     "output_type": "execute_result"
    }
   ],
   "source": [
    "df.head(5)"
   ]
  },
  {
   "cell_type": "markdown",
   "metadata": {},
   "source": [
    "__1. Знакомство с данными__ \n",
    "\n",
    "Загрузили данные. Далее изучим их, посмотрим на баланс классов, проверим наличие дубликатов и пропусков, при необходимости исправим проблемы, посмотрим на распределение признаков и возможные \"выбросы\".\n",
    "\n",
    "Сразу заметили. что столбец, он же признак, RowNumber - следует удалить, т.к. никакой значимости он не несет и будет путать модель при обучении."
   ]
  },
  {
   "cell_type": "code",
   "execution_count": 4,
   "metadata": {
    "scrolled": false
   },
   "outputs": [],
   "source": [
    "df = df.drop('RowNumber', axis=1)"
   ]
  },
  {
   "cell_type": "code",
   "execution_count": 5,
   "metadata": {
    "scrolled": false
   },
   "outputs": [
    {
     "name": "stdout",
     "output_type": "stream",
     "text": [
      "<class 'pandas.core.frame.DataFrame'>\n",
      "RangeIndex: 10000 entries, 0 to 9999\n",
      "Data columns (total 13 columns):\n",
      "CustomerId         10000 non-null int64\n",
      "Surname            10000 non-null object\n",
      "CreditScore        10000 non-null int64\n",
      "Geography          10000 non-null object\n",
      "Gender             10000 non-null object\n",
      "Age                10000 non-null int64\n",
      "Tenure             9091 non-null float64\n",
      "Balance            10000 non-null float64\n",
      "NumOfProducts      10000 non-null int64\n",
      "HasCrCard          10000 non-null int64\n",
      "IsActiveMember     10000 non-null int64\n",
      "EstimatedSalary    10000 non-null float64\n",
      "Exited             10000 non-null int64\n",
      "dtypes: float64(3), int64(7), object(3)\n",
      "memory usage: 1015.8+ KB\n"
     ]
    }
   ],
   "source": [
    "df.info()"
   ]
  },
  {
   "cell_type": "code",
   "execution_count": 6,
   "metadata": {
    "scrolled": false
   },
   "outputs": [
    {
     "data": {
      "text/plain": [
       "0    7963\n",
       "1    2037\n",
       "Name: Exited, dtype: int64"
      ]
     },
     "execution_count": 6,
     "metadata": {},
     "output_type": "execute_result"
    }
   ],
   "source": [
    "df['Exited'].value_counts()"
   ]
  },
  {
   "cell_type": "markdown",
   "metadata": {},
   "source": [
    "Видим несбалансированность классов. \"0\" - 80% и \"ушедших\" (причина не уточняется) - 20%."
   ]
  },
  {
   "cell_type": "code",
   "execution_count": 7,
   "metadata": {
    "scrolled": false
   },
   "outputs": [
    {
     "data": {
      "text/plain": [
       "0"
      ]
     },
     "execution_count": 7,
     "metadata": {},
     "output_type": "execute_result"
    }
   ],
   "source": [
    "df.duplicated().sum()"
   ]
  },
  {
   "cell_type": "markdown",
   "metadata": {},
   "source": [
    "Дубликатов нет."
   ]
  },
  {
   "cell_type": "code",
   "execution_count": 8,
   "metadata": {
    "scrolled": false
   },
   "outputs": [
    {
     "name": "stdout",
     "output_type": "stream",
     "text": [
      "<class 'pandas.core.frame.DataFrame'>\n",
      "RangeIndex: 10000 entries, 0 to 9999\n",
      "Data columns (total 13 columns):\n",
      "CustomerId         10000 non-null int64\n",
      "Surname            10000 non-null object\n",
      "CreditScore        10000 non-null int64\n",
      "Geography          10000 non-null object\n",
      "Gender             10000 non-null object\n",
      "Age                10000 non-null int64\n",
      "Tenure             9091 non-null float64\n",
      "Balance            10000 non-null float64\n",
      "NumOfProducts      10000 non-null int64\n",
      "HasCrCard          10000 non-null int64\n",
      "IsActiveMember     10000 non-null int64\n",
      "EstimatedSalary    10000 non-null float64\n",
      "Exited             10000 non-null int64\n",
      "dtypes: float64(3), int64(7), object(3)\n",
      "memory usage: 1015.8+ KB\n"
     ]
    }
   ],
   "source": [
    "df.info()"
   ]
  },
  {
   "cell_type": "markdown",
   "metadata": {},
   "source": [
    "Имеем пропуски в данных. Tenure - количество недвижимости - заполнено на 90%.\n",
    "\n",
    "Подумаем - как можем их заполнить:\n",
    "\n",
    "1. Запросить у ответственного лица данные.\n",
    "\n",
    "2. Удалить строки с пропусками.\n",
    "\n",
    "3. Попытаться заполнить самостоятельно."
   ]
  },
  {
   "cell_type": "code",
   "execution_count": 9,
   "metadata": {
    "scrolled": false
   },
   "outputs": [
    {
     "data": {
      "text/plain": [
       "2932"
      ]
     },
     "execution_count": 9,
     "metadata": {},
     "output_type": "execute_result"
    }
   ],
   "source": [
    "len(df['Surname'].unique())"
   ]
  },
  {
   "cell_type": "markdown",
   "metadata": {},
   "source": [
    "Количесвто уникалиных фамилий - 2932. Может ли это нам помочь? Можем ли мы взять заполненные данные у однофамильцев?"
   ]
  },
  {
   "cell_type": "code",
   "execution_count": 10,
   "metadata": {
    "scrolled": false
   },
   "outputs": [],
   "source": [
    "familiar = df.pivot_table(index=['Surname', 'Tenure'], values='Age')"
   ]
  },
  {
   "cell_type": "code",
   "execution_count": 11,
   "metadata": {
    "scrolled": false
   },
   "outputs": [
    {
     "data": {
      "text/html": [
       "<div>\n",
       "<style scoped>\n",
       "    .dataframe tbody tr th:only-of-type {\n",
       "        vertical-align: middle;\n",
       "    }\n",
       "\n",
       "    .dataframe tbody tr th {\n",
       "        vertical-align: top;\n",
       "    }\n",
       "\n",
       "    .dataframe thead th {\n",
       "        text-align: right;\n",
       "    }\n",
       "</style>\n",
       "<table border=\"1\" class=\"dataframe\">\n",
       "  <thead>\n",
       "    <tr style=\"text-align: right;\">\n",
       "      <th></th>\n",
       "      <th></th>\n",
       "      <th>Age</th>\n",
       "    </tr>\n",
       "    <tr>\n",
       "      <th>Surname</th>\n",
       "      <th>Tenure</th>\n",
       "      <th></th>\n",
       "    </tr>\n",
       "  </thead>\n",
       "  <tbody>\n",
       "    <tr>\n",
       "      <td>Zotova</td>\n",
       "      <td>1.0</td>\n",
       "      <td>38.0</td>\n",
       "    </tr>\n",
       "    <tr>\n",
       "      <td>Zox</td>\n",
       "      <td>3.0</td>\n",
       "      <td>48.0</td>\n",
       "    </tr>\n",
       "    <tr>\n",
       "      <td rowspan=\"2\" valign=\"top\">Zubarev</td>\n",
       "      <td>6.0</td>\n",
       "      <td>26.0</td>\n",
       "    </tr>\n",
       "    <tr>\n",
       "      <td>9.0</td>\n",
       "      <td>43.0</td>\n",
       "    </tr>\n",
       "    <tr>\n",
       "      <td>Zubareva</td>\n",
       "      <td>1.0</td>\n",
       "      <td>42.0</td>\n",
       "    </tr>\n",
       "    <tr>\n",
       "      <td>Zuev</td>\n",
       "      <td>1.0</td>\n",
       "      <td>39.0</td>\n",
       "    </tr>\n",
       "    <tr>\n",
       "      <td rowspan=\"2\" valign=\"top\">Zuyev</td>\n",
       "      <td>8.0</td>\n",
       "      <td>39.0</td>\n",
       "    </tr>\n",
       "    <tr>\n",
       "      <td>9.0</td>\n",
       "      <td>53.0</td>\n",
       "    </tr>\n",
       "    <tr>\n",
       "      <td rowspan=\"2\" valign=\"top\">Zuyeva</td>\n",
       "      <td>1.0</td>\n",
       "      <td>32.0</td>\n",
       "    </tr>\n",
       "    <tr>\n",
       "      <td>5.0</td>\n",
       "      <td>41.0</td>\n",
       "    </tr>\n",
       "  </tbody>\n",
       "</table>\n",
       "</div>"
      ],
      "text/plain": [
       "                  Age\n",
       "Surname  Tenure      \n",
       "Zotova   1.0     38.0\n",
       "Zox      3.0     48.0\n",
       "Zubarev  6.0     26.0\n",
       "         9.0     43.0\n",
       "Zubareva 1.0     42.0\n",
       "Zuev     1.0     39.0\n",
       "Zuyev    8.0     39.0\n",
       "         9.0     53.0\n",
       "Zuyeva   1.0     32.0\n",
       "         5.0     41.0"
      ]
     },
     "execution_count": 11,
     "metadata": {},
     "output_type": "execute_result"
    }
   ],
   "source": [
    "familiar.tail(10)"
   ]
  },
  {
   "cell_type": "markdown",
   "metadata": {},
   "source": [
    "Давайте возьмём одну фамилию, к примеру Yin, и посмотрим на данные"
   ]
  },
  {
   "cell_type": "code",
   "execution_count": 12,
   "metadata": {
    "scrolled": false
   },
   "outputs": [
    {
     "data": {
      "text/html": [
       "<div>\n",
       "<style scoped>\n",
       "    .dataframe tbody tr th:only-of-type {\n",
       "        vertical-align: middle;\n",
       "    }\n",
       "\n",
       "    .dataframe tbody tr th {\n",
       "        vertical-align: top;\n",
       "    }\n",
       "\n",
       "    .dataframe thead th {\n",
       "        text-align: right;\n",
       "    }\n",
       "</style>\n",
       "<table border=\"1\" class=\"dataframe\">\n",
       "  <thead>\n",
       "    <tr style=\"text-align: right;\">\n",
       "      <th></th>\n",
       "      <th>CustomerId</th>\n",
       "      <th>Surname</th>\n",
       "      <th>CreditScore</th>\n",
       "      <th>Geography</th>\n",
       "      <th>Gender</th>\n",
       "      <th>Age</th>\n",
       "      <th>Tenure</th>\n",
       "      <th>Balance</th>\n",
       "      <th>NumOfProducts</th>\n",
       "      <th>HasCrCard</th>\n",
       "      <th>IsActiveMember</th>\n",
       "      <th>EstimatedSalary</th>\n",
       "      <th>Exited</th>\n",
       "    </tr>\n",
       "  </thead>\n",
       "  <tbody>\n",
       "    <tr>\n",
       "      <td>48</td>\n",
       "      <td>15766205</td>\n",
       "      <td>Yin</td>\n",
       "      <td>550</td>\n",
       "      <td>Germany</td>\n",
       "      <td>Male</td>\n",
       "      <td>38</td>\n",
       "      <td>NaN</td>\n",
       "      <td>103391.38</td>\n",
       "      <td>1</td>\n",
       "      <td>0</td>\n",
       "      <td>1</td>\n",
       "      <td>90878.13</td>\n",
       "      <td>0</td>\n",
       "    </tr>\n",
       "    <tr>\n",
       "      <td>458</td>\n",
       "      <td>15707362</td>\n",
       "      <td>Yin</td>\n",
       "      <td>514</td>\n",
       "      <td>Germany</td>\n",
       "      <td>Male</td>\n",
       "      <td>43</td>\n",
       "      <td>1.0</td>\n",
       "      <td>95556.31</td>\n",
       "      <td>1</td>\n",
       "      <td>0</td>\n",
       "      <td>1</td>\n",
       "      <td>199273.98</td>\n",
       "      <td>1</td>\n",
       "    </tr>\n",
       "    <tr>\n",
       "      <td>725</td>\n",
       "      <td>15672692</td>\n",
       "      <td>Yin</td>\n",
       "      <td>787</td>\n",
       "      <td>France</td>\n",
       "      <td>Female</td>\n",
       "      <td>42</td>\n",
       "      <td>10.0</td>\n",
       "      <td>145988.65</td>\n",
       "      <td>2</td>\n",
       "      <td>1</td>\n",
       "      <td>1</td>\n",
       "      <td>79510.37</td>\n",
       "      <td>0</td>\n",
       "    </tr>\n",
       "    <tr>\n",
       "      <td>1335</td>\n",
       "      <td>15576683</td>\n",
       "      <td>Yin</td>\n",
       "      <td>568</td>\n",
       "      <td>Spain</td>\n",
       "      <td>Female</td>\n",
       "      <td>43</td>\n",
       "      <td>9.0</td>\n",
       "      <td>0.00</td>\n",
       "      <td>1</td>\n",
       "      <td>1</td>\n",
       "      <td>0</td>\n",
       "      <td>125870.79</td>\n",
       "      <td>1</td>\n",
       "    </tr>\n",
       "    <tr>\n",
       "      <td>1677</td>\n",
       "      <td>15801767</td>\n",
       "      <td>Yin</td>\n",
       "      <td>784</td>\n",
       "      <td>Spain</td>\n",
       "      <td>Female</td>\n",
       "      <td>40</td>\n",
       "      <td>8.0</td>\n",
       "      <td>0.00</td>\n",
       "      <td>2</td>\n",
       "      <td>1</td>\n",
       "      <td>0</td>\n",
       "      <td>108891.30</td>\n",
       "      <td>0</td>\n",
       "    </tr>\n",
       "    <tr>\n",
       "      <td>3553</td>\n",
       "      <td>15626612</td>\n",
       "      <td>Yin</td>\n",
       "      <td>741</td>\n",
       "      <td>Spain</td>\n",
       "      <td>Male</td>\n",
       "      <td>40</td>\n",
       "      <td>4.0</td>\n",
       "      <td>104784.23</td>\n",
       "      <td>1</td>\n",
       "      <td>1</td>\n",
       "      <td>0</td>\n",
       "      <td>135163.76</td>\n",
       "      <td>1</td>\n",
       "    </tr>\n",
       "    <tr>\n",
       "      <td>3846</td>\n",
       "      <td>15737354</td>\n",
       "      <td>Yin</td>\n",
       "      <td>554</td>\n",
       "      <td>France</td>\n",
       "      <td>Female</td>\n",
       "      <td>48</td>\n",
       "      <td>7.0</td>\n",
       "      <td>0.00</td>\n",
       "      <td>2</td>\n",
       "      <td>1</td>\n",
       "      <td>1</td>\n",
       "      <td>63708.07</td>\n",
       "      <td>0</td>\n",
       "    </tr>\n",
       "    <tr>\n",
       "      <td>4611</td>\n",
       "      <td>15710553</td>\n",
       "      <td>Yin</td>\n",
       "      <td>555</td>\n",
       "      <td>Germany</td>\n",
       "      <td>Male</td>\n",
       "      <td>48</td>\n",
       "      <td>3.0</td>\n",
       "      <td>142055.41</td>\n",
       "      <td>2</td>\n",
       "      <td>0</td>\n",
       "      <td>1</td>\n",
       "      <td>79134.78</td>\n",
       "      <td>0</td>\n",
       "    </tr>\n",
       "    <tr>\n",
       "      <td>5529</td>\n",
       "      <td>15812647</td>\n",
       "      <td>Yin</td>\n",
       "      <td>691</td>\n",
       "      <td>France</td>\n",
       "      <td>Male</td>\n",
       "      <td>34</td>\n",
       "      <td>8.0</td>\n",
       "      <td>133936.04</td>\n",
       "      <td>2</td>\n",
       "      <td>1</td>\n",
       "      <td>0</td>\n",
       "      <td>91359.79</td>\n",
       "      <td>0</td>\n",
       "    </tr>\n",
       "    <tr>\n",
       "      <td>7361</td>\n",
       "      <td>15586479</td>\n",
       "      <td>Yin</td>\n",
       "      <td>692</td>\n",
       "      <td>France</td>\n",
       "      <td>Female</td>\n",
       "      <td>36</td>\n",
       "      <td>4.0</td>\n",
       "      <td>0.00</td>\n",
       "      <td>1</td>\n",
       "      <td>1</td>\n",
       "      <td>0</td>\n",
       "      <td>185580.89</td>\n",
       "      <td>1</td>\n",
       "    </tr>\n",
       "    <tr>\n",
       "      <td>9130</td>\n",
       "      <td>15790599</td>\n",
       "      <td>Yin</td>\n",
       "      <td>756</td>\n",
       "      <td>Germany</td>\n",
       "      <td>Female</td>\n",
       "      <td>39</td>\n",
       "      <td>NaN</td>\n",
       "      <td>149363.12</td>\n",
       "      <td>2</td>\n",
       "      <td>1</td>\n",
       "      <td>1</td>\n",
       "      <td>109098.39</td>\n",
       "      <td>0</td>\n",
       "    </tr>\n",
       "  </tbody>\n",
       "</table>\n",
       "</div>"
      ],
      "text/plain": [
       "      CustomerId Surname  CreditScore Geography  Gender  Age  Tenure  \\\n",
       "48      15766205     Yin          550   Germany    Male   38     NaN   \n",
       "458     15707362     Yin          514   Germany    Male   43     1.0   \n",
       "725     15672692     Yin          787    France  Female   42    10.0   \n",
       "1335    15576683     Yin          568     Spain  Female   43     9.0   \n",
       "1677    15801767     Yin          784     Spain  Female   40     8.0   \n",
       "3553    15626612     Yin          741     Spain    Male   40     4.0   \n",
       "3846    15737354     Yin          554    France  Female   48     7.0   \n",
       "4611    15710553     Yin          555   Germany    Male   48     3.0   \n",
       "5529    15812647     Yin          691    France    Male   34     8.0   \n",
       "7361    15586479     Yin          692    France  Female   36     4.0   \n",
       "9130    15790599     Yin          756   Germany  Female   39     NaN   \n",
       "\n",
       "        Balance  NumOfProducts  HasCrCard  IsActiveMember  EstimatedSalary  \\\n",
       "48    103391.38              1          0               1         90878.13   \n",
       "458    95556.31              1          0               1        199273.98   \n",
       "725   145988.65              2          1               1         79510.37   \n",
       "1335       0.00              1          1               0        125870.79   \n",
       "1677       0.00              2          1               0        108891.30   \n",
       "3553  104784.23              1          1               0        135163.76   \n",
       "3846       0.00              2          1               1         63708.07   \n",
       "4611  142055.41              2          0               1         79134.78   \n",
       "5529  133936.04              2          1               0         91359.79   \n",
       "7361       0.00              1          1               0        185580.89   \n",
       "9130  149363.12              2          1               1        109098.39   \n",
       "\n",
       "      Exited  \n",
       "48         0  \n",
       "458        1  \n",
       "725        0  \n",
       "1335       1  \n",
       "1677       0  \n",
       "3553       1  \n",
       "3846       0  \n",
       "4611       0  \n",
       "5529       0  \n",
       "7361       1  \n",
       "9130       0  "
      ]
     },
     "execution_count": 12,
     "metadata": {},
     "output_type": "execute_result"
    }
   ],
   "source": [
    "df.loc[df.loc[:,'Surname'] == 'Yin']"
   ]
  },
  {
   "cell_type": "code",
   "execution_count": 13,
   "metadata": {
    "scrolled": false
   },
   "outputs": [
    {
     "data": {
      "text/plain": [
       "10000"
      ]
     },
     "execution_count": 13,
     "metadata": {},
     "output_type": "execute_result"
    }
   ],
   "source": [
    "len(df['CustomerId'].unique())"
   ]
  },
  {
   "cell_type": "markdown",
   "metadata": {},
   "source": [
    "Давайте посмотрим есть ли некоторая корреляция между Tenure и EstimatedSalary"
   ]
  },
  {
   "cell_type": "code",
   "execution_count": 14,
   "metadata": {
    "scrolled": false
   },
   "outputs": [
    {
     "data": {
      "text/html": [
       "<div>\n",
       "<style scoped>\n",
       "    .dataframe tbody tr th:only-of-type {\n",
       "        vertical-align: middle;\n",
       "    }\n",
       "\n",
       "    .dataframe tbody tr th {\n",
       "        vertical-align: top;\n",
       "    }\n",
       "\n",
       "    .dataframe thead th {\n",
       "        text-align: right;\n",
       "    }\n",
       "</style>\n",
       "<table border=\"1\" class=\"dataframe\">\n",
       "  <thead>\n",
       "    <tr style=\"text-align: right;\">\n",
       "      <th></th>\n",
       "      <th>CustomerId</th>\n",
       "      <th>CreditScore</th>\n",
       "      <th>Age</th>\n",
       "      <th>Tenure</th>\n",
       "      <th>Balance</th>\n",
       "      <th>NumOfProducts</th>\n",
       "      <th>HasCrCard</th>\n",
       "      <th>IsActiveMember</th>\n",
       "      <th>EstimatedSalary</th>\n",
       "      <th>Exited</th>\n",
       "    </tr>\n",
       "  </thead>\n",
       "  <tbody>\n",
       "    <tr>\n",
       "      <td>CustomerId</td>\n",
       "      <td>1.000000</td>\n",
       "      <td>0.005308</td>\n",
       "      <td>0.009497</td>\n",
       "      <td>-0.021418</td>\n",
       "      <td>-0.012419</td>\n",
       "      <td>0.016972</td>\n",
       "      <td>-0.014025</td>\n",
       "      <td>0.001665</td>\n",
       "      <td>0.015271</td>\n",
       "      <td>-0.006248</td>\n",
       "    </tr>\n",
       "    <tr>\n",
       "      <td>CreditScore</td>\n",
       "      <td>0.005308</td>\n",
       "      <td>1.000000</td>\n",
       "      <td>-0.003965</td>\n",
       "      <td>-0.000062</td>\n",
       "      <td>0.006268</td>\n",
       "      <td>0.012238</td>\n",
       "      <td>-0.005458</td>\n",
       "      <td>0.025651</td>\n",
       "      <td>-0.001384</td>\n",
       "      <td>-0.027094</td>\n",
       "    </tr>\n",
       "    <tr>\n",
       "      <td>Age</td>\n",
       "      <td>0.009497</td>\n",
       "      <td>-0.003965</td>\n",
       "      <td>1.000000</td>\n",
       "      <td>-0.013134</td>\n",
       "      <td>0.028308</td>\n",
       "      <td>-0.030680</td>\n",
       "      <td>-0.011721</td>\n",
       "      <td>0.085472</td>\n",
       "      <td>-0.007201</td>\n",
       "      <td>0.285323</td>\n",
       "    </tr>\n",
       "    <tr>\n",
       "      <td>Tenure</td>\n",
       "      <td>-0.021418</td>\n",
       "      <td>-0.000062</td>\n",
       "      <td>-0.013134</td>\n",
       "      <td>1.000000</td>\n",
       "      <td>-0.007911</td>\n",
       "      <td>0.011979</td>\n",
       "      <td>0.027232</td>\n",
       "      <td>-0.032178</td>\n",
       "      <td>0.010520</td>\n",
       "      <td>-0.016761</td>\n",
       "    </tr>\n",
       "    <tr>\n",
       "      <td>Balance</td>\n",
       "      <td>-0.012419</td>\n",
       "      <td>0.006268</td>\n",
       "      <td>0.028308</td>\n",
       "      <td>-0.007911</td>\n",
       "      <td>1.000000</td>\n",
       "      <td>-0.304180</td>\n",
       "      <td>-0.014858</td>\n",
       "      <td>-0.010084</td>\n",
       "      <td>0.012797</td>\n",
       "      <td>0.118533</td>\n",
       "    </tr>\n",
       "    <tr>\n",
       "      <td>NumOfProducts</td>\n",
       "      <td>0.016972</td>\n",
       "      <td>0.012238</td>\n",
       "      <td>-0.030680</td>\n",
       "      <td>0.011979</td>\n",
       "      <td>-0.304180</td>\n",
       "      <td>1.000000</td>\n",
       "      <td>0.003183</td>\n",
       "      <td>0.009612</td>\n",
       "      <td>0.014204</td>\n",
       "      <td>-0.047820</td>\n",
       "    </tr>\n",
       "    <tr>\n",
       "      <td>HasCrCard</td>\n",
       "      <td>-0.014025</td>\n",
       "      <td>-0.005458</td>\n",
       "      <td>-0.011721</td>\n",
       "      <td>0.027232</td>\n",
       "      <td>-0.014858</td>\n",
       "      <td>0.003183</td>\n",
       "      <td>1.000000</td>\n",
       "      <td>-0.011866</td>\n",
       "      <td>-0.009933</td>\n",
       "      <td>-0.007138</td>\n",
       "    </tr>\n",
       "    <tr>\n",
       "      <td>IsActiveMember</td>\n",
       "      <td>0.001665</td>\n",
       "      <td>0.025651</td>\n",
       "      <td>0.085472</td>\n",
       "      <td>-0.032178</td>\n",
       "      <td>-0.010084</td>\n",
       "      <td>0.009612</td>\n",
       "      <td>-0.011866</td>\n",
       "      <td>1.000000</td>\n",
       "      <td>-0.011421</td>\n",
       "      <td>-0.156128</td>\n",
       "    </tr>\n",
       "    <tr>\n",
       "      <td>EstimatedSalary</td>\n",
       "      <td>0.015271</td>\n",
       "      <td>-0.001384</td>\n",
       "      <td>-0.007201</td>\n",
       "      <td>0.010520</td>\n",
       "      <td>0.012797</td>\n",
       "      <td>0.014204</td>\n",
       "      <td>-0.009933</td>\n",
       "      <td>-0.011421</td>\n",
       "      <td>1.000000</td>\n",
       "      <td>0.012097</td>\n",
       "    </tr>\n",
       "    <tr>\n",
       "      <td>Exited</td>\n",
       "      <td>-0.006248</td>\n",
       "      <td>-0.027094</td>\n",
       "      <td>0.285323</td>\n",
       "      <td>-0.016761</td>\n",
       "      <td>0.118533</td>\n",
       "      <td>-0.047820</td>\n",
       "      <td>-0.007138</td>\n",
       "      <td>-0.156128</td>\n",
       "      <td>0.012097</td>\n",
       "      <td>1.000000</td>\n",
       "    </tr>\n",
       "  </tbody>\n",
       "</table>\n",
       "</div>"
      ],
      "text/plain": [
       "                 CustomerId  CreditScore       Age    Tenure   Balance  \\\n",
       "CustomerId         1.000000     0.005308  0.009497 -0.021418 -0.012419   \n",
       "CreditScore        0.005308     1.000000 -0.003965 -0.000062  0.006268   \n",
       "Age                0.009497    -0.003965  1.000000 -0.013134  0.028308   \n",
       "Tenure            -0.021418    -0.000062 -0.013134  1.000000 -0.007911   \n",
       "Balance           -0.012419     0.006268  0.028308 -0.007911  1.000000   \n",
       "NumOfProducts      0.016972     0.012238 -0.030680  0.011979 -0.304180   \n",
       "HasCrCard         -0.014025    -0.005458 -0.011721  0.027232 -0.014858   \n",
       "IsActiveMember     0.001665     0.025651  0.085472 -0.032178 -0.010084   \n",
       "EstimatedSalary    0.015271    -0.001384 -0.007201  0.010520  0.012797   \n",
       "Exited            -0.006248    -0.027094  0.285323 -0.016761  0.118533   \n",
       "\n",
       "                 NumOfProducts  HasCrCard  IsActiveMember  EstimatedSalary  \\\n",
       "CustomerId            0.016972  -0.014025        0.001665         0.015271   \n",
       "CreditScore           0.012238  -0.005458        0.025651        -0.001384   \n",
       "Age                  -0.030680  -0.011721        0.085472        -0.007201   \n",
       "Tenure                0.011979   0.027232       -0.032178         0.010520   \n",
       "Balance              -0.304180  -0.014858       -0.010084         0.012797   \n",
       "NumOfProducts         1.000000   0.003183        0.009612         0.014204   \n",
       "HasCrCard             0.003183   1.000000       -0.011866        -0.009933   \n",
       "IsActiveMember        0.009612  -0.011866        1.000000        -0.011421   \n",
       "EstimatedSalary       0.014204  -0.009933       -0.011421         1.000000   \n",
       "Exited               -0.047820  -0.007138       -0.156128         0.012097   \n",
       "\n",
       "                   Exited  \n",
       "CustomerId      -0.006248  \n",
       "CreditScore     -0.027094  \n",
       "Age              0.285323  \n",
       "Tenure          -0.016761  \n",
       "Balance          0.118533  \n",
       "NumOfProducts   -0.047820  \n",
       "HasCrCard       -0.007138  \n",
       "IsActiveMember  -0.156128  \n",
       "EstimatedSalary  0.012097  \n",
       "Exited           1.000000  "
      ]
     },
     "execution_count": 14,
     "metadata": {},
     "output_type": "execute_result"
    }
   ],
   "source": [
    "df.corr()"
   ]
  },
  {
   "cell_type": "code",
   "execution_count": 15,
   "metadata": {
    "scrolled": false
   },
   "outputs": [
    {
     "data": {
      "image/png": "[encoded data removed]",
      "text/plain": [
       "<Figure size 432x288 with 1 Axes>"
      ]
     },
     "metadata": {
      "needs_background": "light"
     },
     "output_type": "display_data"
    }
   ],
   "source": [
    "seaborn.regplot(x='Tenure', y='EstimatedSalary', data=df)\n",
    "plt.title(\"зависимость Tenure и EstimatedSalary\"); \n",
    "plt.xlabel(\"Tenure\")\n",
    "plt.ylabel(\"EstimatedSalary\")\n",
    "plt.show()"
   ]
  },
  {
   "cell_type": "markdown",
   "metadata": {},
   "source": [
    "Метод corr(), а также и визуализация графика, однозначно дают понять, что связи нет и заполнить пропуски исходя из уровня зар.платы - совершенно необосновано."
   ]
  },
  {
   "cell_type": "markdown",
   "metadata": {},
   "source": [
    "Уникальных ID - 10000, то есть это действительно однофамильцы. И действительно, если посмотрим на таблицу выше, то увидим, что люди с аналогичной фамилией живут в разных странах, это люди разного пола и возраста с разной банковской активностью. \n",
    "\n",
    "Таким образом взять информацию у объекта с аналогичной фамилией станет ошибкой. Также как и заполнить пропуск медианой исходя из страны проживания, пола или возраста, это будет крайне субъективно и не ясно насколько далеко от истины. Зависимости зар.платы и количества недвижимости - также проследить не удалось.\n",
    "\n",
    "Значит остается 2 выхода:\n",
    "1. Запросить у ответственного лица данные (скачать с Kaggle заполненные данные в случае предполагаемого ответа, предположим, что ответа не поступит и вынуждены справляться самостоятельно).\n",
    "2. Удалить строки с пропусками.\n",
    "\n",
    "Предлогаю поступить так: сохранить данные в новый датафрейм, но без признака 'Tenure' и работать с 10000 объектами, а во втором  - удалить пропуски. Обучить модели на обоих датафреймах и посмотреть на их продуктивность, заодно и поймём насколько важен для предсказания признак - количество недвижимости.\n",
    "\n"
   ]
  },
  {
   "cell_type": "code",
   "execution_count": 16,
   "metadata": {
    "scrolled": false
   },
   "outputs": [],
   "source": [
    "without_tenure = df.drop('Tenure', axis=1)"
   ]
  },
  {
   "cell_type": "code",
   "execution_count": 17,
   "metadata": {
    "scrolled": false
   },
   "outputs": [
    {
     "name": "stdout",
     "output_type": "stream",
     "text": [
      "<class 'pandas.core.frame.DataFrame'>\n",
      "RangeIndex: 10000 entries, 0 to 9999\n",
      "Data columns (total 12 columns):\n",
      "CustomerId         10000 non-null int64\n",
      "Surname            10000 non-null object\n",
      "CreditScore        10000 non-null int64\n",
      "Geography          10000 non-null object\n",
      "Gender             10000 non-null object\n",
      "Age                10000 non-null int64\n",
      "Balance            10000 non-null float64\n",
      "NumOfProducts      10000 non-null int64\n",
      "HasCrCard          10000 non-null int64\n",
      "IsActiveMember     10000 non-null int64\n",
      "EstimatedSalary    10000 non-null float64\n",
      "Exited             10000 non-null int64\n",
      "dtypes: float64(2), int64(7), object(3)\n",
      "memory usage: 937.6+ KB\n"
     ]
    }
   ],
   "source": [
    "without_tenure.info()"
   ]
  },
  {
   "cell_type": "code",
   "execution_count": 18,
   "metadata": {
    "scrolled": false
   },
   "outputs": [],
   "source": [
    "with_tenure = df.dropna().reset_index(drop\n",
    "= True)"
   ]
  },
  {
   "cell_type": "code",
   "execution_count": 19,
   "metadata": {
    "scrolled": false
   },
   "outputs": [
    {
     "name": "stdout",
     "output_type": "stream",
     "text": [
      "<class 'pandas.core.frame.DataFrame'>\n",
      "RangeIndex: 9091 entries, 0 to 9090\n",
      "Data columns (total 13 columns):\n",
      "CustomerId         9091 non-null int64\n",
      "Surname            9091 non-null object\n",
      "CreditScore        9091 non-null int64\n",
      "Geography          9091 non-null object\n",
      "Gender             9091 non-null object\n",
      "Age                9091 non-null int64\n",
      "Tenure             9091 non-null float64\n",
      "Balance            9091 non-null float64\n",
      "NumOfProducts      9091 non-null int64\n",
      "HasCrCard          9091 non-null int64\n",
      "IsActiveMember     9091 non-null int64\n",
      "EstimatedSalary    9091 non-null float64\n",
      "Exited             9091 non-null int64\n",
      "dtypes: float64(3), int64(7), object(3)\n",
      "memory usage: 923.4+ KB\n"
     ]
    }
   ],
   "source": [
    "with_tenure.info()"
   ]
  },
  {
   "cell_type": "code",
   "execution_count": 20,
   "metadata": {
    "scrolled": false
   },
   "outputs": [
    {
     "data": {
      "text/html": [
       "<div>\n",
       "<style scoped>\n",
       "    .dataframe tbody tr th:only-of-type {\n",
       "        vertical-align: middle;\n",
       "    }\n",
       "\n",
       "    .dataframe tbody tr th {\n",
       "        vertical-align: top;\n",
       "    }\n",
       "\n",
       "    .dataframe thead th {\n",
       "        text-align: right;\n",
       "    }\n",
       "</style>\n",
       "<table border=\"1\" class=\"dataframe\">\n",
       "  <thead>\n",
       "    <tr style=\"text-align: right;\">\n",
       "      <th></th>\n",
       "      <th>CustomerId</th>\n",
       "      <th>Surname</th>\n",
       "      <th>CreditScore</th>\n",
       "      <th>Geography</th>\n",
       "      <th>Gender</th>\n",
       "      <th>Age</th>\n",
       "      <th>Tenure</th>\n",
       "      <th>Balance</th>\n",
       "      <th>NumOfProducts</th>\n",
       "      <th>HasCrCard</th>\n",
       "      <th>IsActiveMember</th>\n",
       "      <th>EstimatedSalary</th>\n",
       "      <th>Exited</th>\n",
       "    </tr>\n",
       "  </thead>\n",
       "  <tbody>\n",
       "    <tr>\n",
       "      <td>9081</td>\n",
       "      <td>15605622</td>\n",
       "      <td>McMillan</td>\n",
       "      <td>841</td>\n",
       "      <td>Spain</td>\n",
       "      <td>Male</td>\n",
       "      <td>28</td>\n",
       "      <td>4.0</td>\n",
       "      <td>0.00</td>\n",
       "      <td>2</td>\n",
       "      <td>1</td>\n",
       "      <td>1</td>\n",
       "      <td>179436.60</td>\n",
       "      <td>0</td>\n",
       "    </tr>\n",
       "    <tr>\n",
       "      <td>9082</td>\n",
       "      <td>15798964</td>\n",
       "      <td>Nkemakonam</td>\n",
       "      <td>714</td>\n",
       "      <td>Germany</td>\n",
       "      <td>Male</td>\n",
       "      <td>33</td>\n",
       "      <td>3.0</td>\n",
       "      <td>35016.60</td>\n",
       "      <td>1</td>\n",
       "      <td>1</td>\n",
       "      <td>0</td>\n",
       "      <td>53667.08</td>\n",
       "      <td>0</td>\n",
       "    </tr>\n",
       "    <tr>\n",
       "      <td>9083</td>\n",
       "      <td>15769959</td>\n",
       "      <td>Ajuluchukwu</td>\n",
       "      <td>597</td>\n",
       "      <td>France</td>\n",
       "      <td>Female</td>\n",
       "      <td>53</td>\n",
       "      <td>4.0</td>\n",
       "      <td>88381.21</td>\n",
       "      <td>1</td>\n",
       "      <td>1</td>\n",
       "      <td>0</td>\n",
       "      <td>69384.71</td>\n",
       "      <td>1</td>\n",
       "    </tr>\n",
       "    <tr>\n",
       "      <td>9084</td>\n",
       "      <td>15657105</td>\n",
       "      <td>Chukwualuka</td>\n",
       "      <td>726</td>\n",
       "      <td>Spain</td>\n",
       "      <td>Male</td>\n",
       "      <td>36</td>\n",
       "      <td>2.0</td>\n",
       "      <td>0.00</td>\n",
       "      <td>1</td>\n",
       "      <td>1</td>\n",
       "      <td>0</td>\n",
       "      <td>195192.40</td>\n",
       "      <td>0</td>\n",
       "    </tr>\n",
       "    <tr>\n",
       "      <td>9085</td>\n",
       "      <td>15569266</td>\n",
       "      <td>Rahman</td>\n",
       "      <td>644</td>\n",
       "      <td>France</td>\n",
       "      <td>Male</td>\n",
       "      <td>28</td>\n",
       "      <td>7.0</td>\n",
       "      <td>155060.41</td>\n",
       "      <td>1</td>\n",
       "      <td>1</td>\n",
       "      <td>0</td>\n",
       "      <td>29179.52</td>\n",
       "      <td>0</td>\n",
       "    </tr>\n",
       "    <tr>\n",
       "      <td>9086</td>\n",
       "      <td>15719294</td>\n",
       "      <td>Wood</td>\n",
       "      <td>800</td>\n",
       "      <td>France</td>\n",
       "      <td>Female</td>\n",
       "      <td>29</td>\n",
       "      <td>2.0</td>\n",
       "      <td>0.00</td>\n",
       "      <td>2</td>\n",
       "      <td>0</td>\n",
       "      <td>0</td>\n",
       "      <td>167773.55</td>\n",
       "      <td>0</td>\n",
       "    </tr>\n",
       "    <tr>\n",
       "      <td>9087</td>\n",
       "      <td>15606229</td>\n",
       "      <td>Obijiaku</td>\n",
       "      <td>771</td>\n",
       "      <td>France</td>\n",
       "      <td>Male</td>\n",
       "      <td>39</td>\n",
       "      <td>5.0</td>\n",
       "      <td>0.00</td>\n",
       "      <td>2</td>\n",
       "      <td>1</td>\n",
       "      <td>0</td>\n",
       "      <td>96270.64</td>\n",
       "      <td>0</td>\n",
       "    </tr>\n",
       "    <tr>\n",
       "      <td>9088</td>\n",
       "      <td>15569892</td>\n",
       "      <td>Johnstone</td>\n",
       "      <td>516</td>\n",
       "      <td>France</td>\n",
       "      <td>Male</td>\n",
       "      <td>35</td>\n",
       "      <td>10.0</td>\n",
       "      <td>57369.61</td>\n",
       "      <td>1</td>\n",
       "      <td>1</td>\n",
       "      <td>1</td>\n",
       "      <td>101699.77</td>\n",
       "      <td>0</td>\n",
       "    </tr>\n",
       "    <tr>\n",
       "      <td>9089</td>\n",
       "      <td>15584532</td>\n",
       "      <td>Liu</td>\n",
       "      <td>709</td>\n",
       "      <td>France</td>\n",
       "      <td>Female</td>\n",
       "      <td>36</td>\n",
       "      <td>7.0</td>\n",
       "      <td>0.00</td>\n",
       "      <td>1</td>\n",
       "      <td>0</td>\n",
       "      <td>1</td>\n",
       "      <td>42085.58</td>\n",
       "      <td>1</td>\n",
       "    </tr>\n",
       "    <tr>\n",
       "      <td>9090</td>\n",
       "      <td>15682355</td>\n",
       "      <td>Sabbatini</td>\n",
       "      <td>772</td>\n",
       "      <td>Germany</td>\n",
       "      <td>Male</td>\n",
       "      <td>42</td>\n",
       "      <td>3.0</td>\n",
       "      <td>75075.31</td>\n",
       "      <td>2</td>\n",
       "      <td>1</td>\n",
       "      <td>0</td>\n",
       "      <td>92888.52</td>\n",
       "      <td>1</td>\n",
       "    </tr>\n",
       "  </tbody>\n",
       "</table>\n",
       "</div>"
      ],
      "text/plain": [
       "      CustomerId      Surname  CreditScore Geography  Gender  Age  Tenure  \\\n",
       "9081    15605622     McMillan          841     Spain    Male   28     4.0   \n",
       "9082    15798964   Nkemakonam          714   Germany    Male   33     3.0   \n",
       "9083    15769959  Ajuluchukwu          597    France  Female   53     4.0   \n",
       "9084    15657105  Chukwualuka          726     Spain    Male   36     2.0   \n",
       "9085    15569266       Rahman          644    France    Male   28     7.0   \n",
       "9086    15719294         Wood          800    France  Female   29     2.0   \n",
       "9087    15606229     Obijiaku          771    France    Male   39     5.0   \n",
       "9088    15569892    Johnstone          516    France    Male   35    10.0   \n",
       "9089    15584532          Liu          709    France  Female   36     7.0   \n",
       "9090    15682355    Sabbatini          772   Germany    Male   42     3.0   \n",
       "\n",
       "        Balance  NumOfProducts  HasCrCard  IsActiveMember  EstimatedSalary  \\\n",
       "9081       0.00              2          1               1        179436.60   \n",
       "9082   35016.60              1          1               0         53667.08   \n",
       "9083   88381.21              1          1               0         69384.71   \n",
       "9084       0.00              1          1               0        195192.40   \n",
       "9085  155060.41              1          1               0         29179.52   \n",
       "9086       0.00              2          0               0        167773.55   \n",
       "9087       0.00              2          1               0         96270.64   \n",
       "9088   57369.61              1          1               1        101699.77   \n",
       "9089       0.00              1          0               1         42085.58   \n",
       "9090   75075.31              2          1               0         92888.52   \n",
       "\n",
       "      Exited  \n",
       "9081       0  \n",
       "9082       0  \n",
       "9083       1  \n",
       "9084       0  \n",
       "9085       0  \n",
       "9086       0  \n",
       "9087       0  \n",
       "9088       0  \n",
       "9089       1  \n",
       "9090       1  "
      ]
     },
     "execution_count": 20,
     "metadata": {},
     "output_type": "execute_result"
    }
   ],
   "source": [
    "with_tenure.tail(10)"
   ]
  },
  {
   "cell_type": "code",
   "execution_count": 21,
   "metadata": {
    "scrolled": false
   },
   "outputs": [
    {
     "data": {
      "text/plain": [
       "1.0     952\n",
       "2.0     950\n",
       "8.0     933\n",
       "3.0     928\n",
       "5.0     927\n",
       "7.0     925\n",
       "4.0     885\n",
       "9.0     882\n",
       "6.0     881\n",
       "10.0    446\n",
       "0.0     382\n",
       "Name: Tenure, dtype: int64"
      ]
     },
     "execution_count": 21,
     "metadata": {},
     "output_type": "execute_result"
    }
   ],
   "source": [
    "df['Tenure'].value_counts()"
   ]
  },
  {
   "cell_type": "code",
   "execution_count": 22,
   "metadata": {
    "scrolled": false
   },
   "outputs": [
    {
     "data": {
      "text/plain": [
       "Text(0, 0.5, 'количество человек')"
      ]
     },
     "execution_count": 22,
     "metadata": {},
     "output_type": "execute_result"
    },
    {
     "data": {
      "image/png": "[encoded data removed]",
      "text/plain": [
       "<Figure size 432x288 with 1 Axes>"
      ]
     },
     "metadata": {
      "needs_background": "light"
     },
     "output_type": "display_data"
    }
   ],
   "source": [
    "df['CreditScore'].hist(bins=50)\n",
    "plt.title('распределение CreditScore')\n",
    "plt.xlabel('credit score')\n",
    "plt.ylabel('количество человек')"
   ]
  },
  {
   "cell_type": "code",
   "execution_count": 23,
   "metadata": {
    "scrolled": false
   },
   "outputs": [
    {
     "data": {
      "text/plain": [
       "<matplotlib.axes._subplots.AxesSubplot at 0x7f136546aa10>"
      ]
     },
     "execution_count": 23,
     "metadata": {},
     "output_type": "execute_result"
    },
    {
     "data": {
      "image/png": "[encoded data removed]",
      "text/plain": [
       "<Figure size 432x288 with 1 Axes>"
      ]
     },
     "metadata": {
      "needs_background": "light"
     },
     "output_type": "display_data"
    }
   ],
   "source": [
    "df.boxplot('CreditScore')"
   ]
  },
  {
   "cell_type": "code",
   "execution_count": 24,
   "metadata": {
    "scrolled": false
   },
   "outputs": [
    {
     "data": {
      "text/plain": [
       "count    10000.000000\n",
       "mean       650.528800\n",
       "std         96.653299\n",
       "min        350.000000\n",
       "25%        584.000000\n",
       "50%        652.000000\n",
       "75%        718.000000\n",
       "max        850.000000\n",
       "Name: CreditScore, dtype: float64"
      ]
     },
     "execution_count": 24,
     "metadata": {},
     "output_type": "execute_result"
    }
   ],
   "source": [
    "df['CreditScore'].describe()"
   ]
  },
  {
   "cell_type": "code",
   "execution_count": 25,
   "metadata": {
    "scrolled": false
   },
   "outputs": [
    {
     "data": {
      "text/html": [
       "<div>\n",
       "<style scoped>\n",
       "    .dataframe tbody tr th:only-of-type {\n",
       "        vertical-align: middle;\n",
       "    }\n",
       "\n",
       "    .dataframe tbody tr th {\n",
       "        vertical-align: top;\n",
       "    }\n",
       "\n",
       "    .dataframe thead th {\n",
       "        text-align: right;\n",
       "    }\n",
       "</style>\n",
       "<table border=\"1\" class=\"dataframe\">\n",
       "  <thead>\n",
       "    <tr style=\"text-align: right;\">\n",
       "      <th></th>\n",
       "      <th>CustomerId</th>\n",
       "      <th>Surname</th>\n",
       "      <th>CreditScore</th>\n",
       "      <th>Geography</th>\n",
       "      <th>Gender</th>\n",
       "      <th>Age</th>\n",
       "      <th>Tenure</th>\n",
       "      <th>Balance</th>\n",
       "      <th>NumOfProducts</th>\n",
       "      <th>HasCrCard</th>\n",
       "      <th>IsActiveMember</th>\n",
       "      <th>EstimatedSalary</th>\n",
       "      <th>Exited</th>\n",
       "    </tr>\n",
       "  </thead>\n",
       "  <tbody>\n",
       "    <tr>\n",
       "      <td>7</td>\n",
       "      <td>15656148</td>\n",
       "      <td>Obinna</td>\n",
       "      <td>376</td>\n",
       "      <td>Germany</td>\n",
       "      <td>Female</td>\n",
       "      <td>29</td>\n",
       "      <td>4.0</td>\n",
       "      <td>115046.74</td>\n",
       "      <td>4</td>\n",
       "      <td>1</td>\n",
       "      <td>0</td>\n",
       "      <td>119346.88</td>\n",
       "      <td>1</td>\n",
       "    </tr>\n",
       "    <tr>\n",
       "      <td>942</td>\n",
       "      <td>15804586</td>\n",
       "      <td>Lin</td>\n",
       "      <td>376</td>\n",
       "      <td>France</td>\n",
       "      <td>Female</td>\n",
       "      <td>46</td>\n",
       "      <td>NaN</td>\n",
       "      <td>0.00</td>\n",
       "      <td>1</td>\n",
       "      <td>1</td>\n",
       "      <td>0</td>\n",
       "      <td>157333.69</td>\n",
       "      <td>1</td>\n",
       "    </tr>\n",
       "    <tr>\n",
       "      <td>1193</td>\n",
       "      <td>15779947</td>\n",
       "      <td>Thomas</td>\n",
       "      <td>363</td>\n",
       "      <td>Spain</td>\n",
       "      <td>Female</td>\n",
       "      <td>28</td>\n",
       "      <td>6.0</td>\n",
       "      <td>146098.43</td>\n",
       "      <td>3</td>\n",
       "      <td>1</td>\n",
       "      <td>0</td>\n",
       "      <td>100615.14</td>\n",
       "      <td>1</td>\n",
       "    </tr>\n",
       "    <tr>\n",
       "      <td>1201</td>\n",
       "      <td>15651052</td>\n",
       "      <td>McMasters</td>\n",
       "      <td>399</td>\n",
       "      <td>Germany</td>\n",
       "      <td>Male</td>\n",
       "      <td>46</td>\n",
       "      <td>2.0</td>\n",
       "      <td>127655.22</td>\n",
       "      <td>1</td>\n",
       "      <td>1</td>\n",
       "      <td>0</td>\n",
       "      <td>139994.68</td>\n",
       "      <td>1</td>\n",
       "    </tr>\n",
       "    <tr>\n",
       "      <td>1405</td>\n",
       "      <td>15612494</td>\n",
       "      <td>Panicucci</td>\n",
       "      <td>359</td>\n",
       "      <td>France</td>\n",
       "      <td>Female</td>\n",
       "      <td>44</td>\n",
       "      <td>NaN</td>\n",
       "      <td>128747.69</td>\n",
       "      <td>1</td>\n",
       "      <td>1</td>\n",
       "      <td>0</td>\n",
       "      <td>146955.71</td>\n",
       "      <td>1</td>\n",
       "    </tr>\n",
       "    <tr>\n",
       "      <td>1631</td>\n",
       "      <td>15685372</td>\n",
       "      <td>Azubuike</td>\n",
       "      <td>350</td>\n",
       "      <td>Spain</td>\n",
       "      <td>Male</td>\n",
       "      <td>54</td>\n",
       "      <td>1.0</td>\n",
       "      <td>152677.48</td>\n",
       "      <td>1</td>\n",
       "      <td>1</td>\n",
       "      <td>1</td>\n",
       "      <td>191973.49</td>\n",
       "      <td>1</td>\n",
       "    </tr>\n",
       "    <tr>\n",
       "      <td>1838</td>\n",
       "      <td>15758813</td>\n",
       "      <td>Campbell</td>\n",
       "      <td>350</td>\n",
       "      <td>Germany</td>\n",
       "      <td>Male</td>\n",
       "      <td>39</td>\n",
       "      <td>0.0</td>\n",
       "      <td>109733.20</td>\n",
       "      <td>2</td>\n",
       "      <td>0</td>\n",
       "      <td>0</td>\n",
       "      <td>123602.11</td>\n",
       "      <td>1</td>\n",
       "    </tr>\n",
       "    <tr>\n",
       "      <td>1962</td>\n",
       "      <td>15692416</td>\n",
       "      <td>Aikenhead</td>\n",
       "      <td>358</td>\n",
       "      <td>Spain</td>\n",
       "      <td>Female</td>\n",
       "      <td>52</td>\n",
       "      <td>8.0</td>\n",
       "      <td>143542.36</td>\n",
       "      <td>3</td>\n",
       "      <td>1</td>\n",
       "      <td>0</td>\n",
       "      <td>141959.11</td>\n",
       "      <td>1</td>\n",
       "    </tr>\n",
       "    <tr>\n",
       "      <td>2473</td>\n",
       "      <td>15679249</td>\n",
       "      <td>Chou</td>\n",
       "      <td>351</td>\n",
       "      <td>Germany</td>\n",
       "      <td>Female</td>\n",
       "      <td>57</td>\n",
       "      <td>4.0</td>\n",
       "      <td>163146.46</td>\n",
       "      <td>1</td>\n",
       "      <td>1</td>\n",
       "      <td>0</td>\n",
       "      <td>169621.69</td>\n",
       "      <td>1</td>\n",
       "    </tr>\n",
       "    <tr>\n",
       "      <td>2579</td>\n",
       "      <td>15597896</td>\n",
       "      <td>Ozoemena</td>\n",
       "      <td>365</td>\n",
       "      <td>Germany</td>\n",
       "      <td>Male</td>\n",
       "      <td>30</td>\n",
       "      <td>0.0</td>\n",
       "      <td>127760.07</td>\n",
       "      <td>1</td>\n",
       "      <td>1</td>\n",
       "      <td>0</td>\n",
       "      <td>81537.85</td>\n",
       "      <td>1</td>\n",
       "    </tr>\n",
       "    <tr>\n",
       "      <td>5285</td>\n",
       "      <td>15732643</td>\n",
       "      <td>Pike</td>\n",
       "      <td>386</td>\n",
       "      <td>Spain</td>\n",
       "      <td>Female</td>\n",
       "      <td>53</td>\n",
       "      <td>1.0</td>\n",
       "      <td>131955.07</td>\n",
       "      <td>1</td>\n",
       "      <td>1</td>\n",
       "      <td>1</td>\n",
       "      <td>62514.65</td>\n",
       "      <td>1</td>\n",
       "    </tr>\n",
       "    <tr>\n",
       "      <td>5494</td>\n",
       "      <td>15642821</td>\n",
       "      <td>Ijendu</td>\n",
       "      <td>383</td>\n",
       "      <td>Spain</td>\n",
       "      <td>Female</td>\n",
       "      <td>48</td>\n",
       "      <td>8.0</td>\n",
       "      <td>95808.19</td>\n",
       "      <td>1</td>\n",
       "      <td>0</td>\n",
       "      <td>0</td>\n",
       "      <td>137702.01</td>\n",
       "      <td>1</td>\n",
       "    </tr>\n",
       "    <tr>\n",
       "      <td>6253</td>\n",
       "      <td>15675337</td>\n",
       "      <td>Forbes</td>\n",
       "      <td>395</td>\n",
       "      <td>Germany</td>\n",
       "      <td>Female</td>\n",
       "      <td>34</td>\n",
       "      <td>5.0</td>\n",
       "      <td>106011.59</td>\n",
       "      <td>1</td>\n",
       "      <td>1</td>\n",
       "      <td>1</td>\n",
       "      <td>17376.57</td>\n",
       "      <td>1</td>\n",
       "    </tr>\n",
       "    <tr>\n",
       "      <td>8154</td>\n",
       "      <td>15791533</td>\n",
       "      <td>Ch'ien</td>\n",
       "      <td>367</td>\n",
       "      <td>Spain</td>\n",
       "      <td>Male</td>\n",
       "      <td>42</td>\n",
       "      <td>6.0</td>\n",
       "      <td>93608.28</td>\n",
       "      <td>1</td>\n",
       "      <td>1</td>\n",
       "      <td>0</td>\n",
       "      <td>168816.73</td>\n",
       "      <td>1</td>\n",
       "    </tr>\n",
       "    <tr>\n",
       "      <td>8723</td>\n",
       "      <td>15803202</td>\n",
       "      <td>Onyekachi</td>\n",
       "      <td>350</td>\n",
       "      <td>France</td>\n",
       "      <td>Male</td>\n",
       "      <td>51</td>\n",
       "      <td>10.0</td>\n",
       "      <td>0.00</td>\n",
       "      <td>1</td>\n",
       "      <td>1</td>\n",
       "      <td>1</td>\n",
       "      <td>125823.79</td>\n",
       "      <td>1</td>\n",
       "    </tr>\n",
       "    <tr>\n",
       "      <td>8762</td>\n",
       "      <td>15765173</td>\n",
       "      <td>Lin</td>\n",
       "      <td>350</td>\n",
       "      <td>France</td>\n",
       "      <td>Female</td>\n",
       "      <td>60</td>\n",
       "      <td>3.0</td>\n",
       "      <td>0.00</td>\n",
       "      <td>1</td>\n",
       "      <td>0</td>\n",
       "      <td>0</td>\n",
       "      <td>113796.15</td>\n",
       "      <td>1</td>\n",
       "    </tr>\n",
       "    <tr>\n",
       "      <td>9210</td>\n",
       "      <td>15792650</td>\n",
       "      <td>Watts</td>\n",
       "      <td>382</td>\n",
       "      <td>Spain</td>\n",
       "      <td>Male</td>\n",
       "      <td>36</td>\n",
       "      <td>0.0</td>\n",
       "      <td>0.00</td>\n",
       "      <td>1</td>\n",
       "      <td>1</td>\n",
       "      <td>1</td>\n",
       "      <td>179540.73</td>\n",
       "      <td>1</td>\n",
       "    </tr>\n",
       "    <tr>\n",
       "      <td>9356</td>\n",
       "      <td>15734711</td>\n",
       "      <td>Loggia</td>\n",
       "      <td>373</td>\n",
       "      <td>France</td>\n",
       "      <td>Male</td>\n",
       "      <td>42</td>\n",
       "      <td>7.0</td>\n",
       "      <td>0.00</td>\n",
       "      <td>1</td>\n",
       "      <td>1</td>\n",
       "      <td>0</td>\n",
       "      <td>77786.37</td>\n",
       "      <td>1</td>\n",
       "    </tr>\n",
       "    <tr>\n",
       "      <td>9624</td>\n",
       "      <td>15668309</td>\n",
       "      <td>Maslow</td>\n",
       "      <td>350</td>\n",
       "      <td>France</td>\n",
       "      <td>Female</td>\n",
       "      <td>40</td>\n",
       "      <td>0.0</td>\n",
       "      <td>111098.85</td>\n",
       "      <td>1</td>\n",
       "      <td>1</td>\n",
       "      <td>1</td>\n",
       "      <td>172321.21</td>\n",
       "      <td>1</td>\n",
       "    </tr>\n",
       "  </tbody>\n",
       "</table>\n",
       "</div>"
      ],
      "text/plain": [
       "      CustomerId    Surname  CreditScore Geography  Gender  Age  Tenure  \\\n",
       "7       15656148     Obinna          376   Germany  Female   29     4.0   \n",
       "942     15804586        Lin          376    France  Female   46     NaN   \n",
       "1193    15779947     Thomas          363     Spain  Female   28     6.0   \n",
       "1201    15651052  McMasters          399   Germany    Male   46     2.0   \n",
       "1405    15612494  Panicucci          359    France  Female   44     NaN   \n",
       "1631    15685372   Azubuike          350     Spain    Male   54     1.0   \n",
       "1838    15758813   Campbell          350   Germany    Male   39     0.0   \n",
       "1962    15692416  Aikenhead          358     Spain  Female   52     8.0   \n",
       "2473    15679249       Chou          351   Germany  Female   57     4.0   \n",
       "2579    15597896   Ozoemena          365   Germany    Male   30     0.0   \n",
       "5285    15732643       Pike          386     Spain  Female   53     1.0   \n",
       "5494    15642821     Ijendu          383     Spain  Female   48     8.0   \n",
       "6253    15675337     Forbes          395   Germany  Female   34     5.0   \n",
       "8154    15791533     Ch'ien          367     Spain    Male   42     6.0   \n",
       "8723    15803202  Onyekachi          350    France    Male   51    10.0   \n",
       "8762    15765173        Lin          350    France  Female   60     3.0   \n",
       "9210    15792650      Watts          382     Spain    Male   36     0.0   \n",
       "9356    15734711     Loggia          373    France    Male   42     7.0   \n",
       "9624    15668309     Maslow          350    France  Female   40     0.0   \n",
       "\n",
       "        Balance  NumOfProducts  HasCrCard  IsActiveMember  EstimatedSalary  \\\n",
       "7     115046.74              4          1               0        119346.88   \n",
       "942        0.00              1          1               0        157333.69   \n",
       "1193  146098.43              3          1               0        100615.14   \n",
       "1201  127655.22              1          1               0        139994.68   \n",
       "1405  128747.69              1          1               0        146955.71   \n",
       "1631  152677.48              1          1               1        191973.49   \n",
       "1838  109733.20              2          0               0        123602.11   \n",
       "1962  143542.36              3          1               0        141959.11   \n",
       "2473  163146.46              1          1               0        169621.69   \n",
       "2579  127760.07              1          1               0         81537.85   \n",
       "5285  131955.07              1          1               1         62514.65   \n",
       "5494   95808.19              1          0               0        137702.01   \n",
       "6253  106011.59              1          1               1         17376.57   \n",
       "8154   93608.28              1          1               0        168816.73   \n",
       "8723       0.00              1          1               1        125823.79   \n",
       "8762       0.00              1          0               0        113796.15   \n",
       "9210       0.00              1          1               1        179540.73   \n",
       "9356       0.00              1          1               0         77786.37   \n",
       "9624  111098.85              1          1               1        172321.21   \n",
       "\n",
       "      Exited  \n",
       "7          1  \n",
       "942        1  \n",
       "1193       1  \n",
       "1201       1  \n",
       "1405       1  \n",
       "1631       1  \n",
       "1838       1  \n",
       "1962       1  \n",
       "2473       1  \n",
       "2579       1  \n",
       "5285       1  \n",
       "5494       1  \n",
       "6253       1  \n",
       "8154       1  \n",
       "8723       1  \n",
       "8762       1  \n",
       "9210       1  \n",
       "9356       1  \n",
       "9624       1  "
      ]
     },
     "execution_count": 25,
     "metadata": {},
     "output_type": "execute_result"
    }
   ],
   "source": [
    "df.loc[df['CreditScore'] < 400]"
   ]
  },
  {
   "cell_type": "code",
   "execution_count": 26,
   "metadata": {
    "scrolled": false
   },
   "outputs": [
    {
     "data": {
      "text/plain": [
       "Male      5457\n",
       "Female    4543\n",
       "Name: Gender, dtype: int64"
      ]
     },
     "execution_count": 26,
     "metadata": {},
     "output_type": "execute_result"
    }
   ],
   "source": [
    "df['Gender'].value_counts()"
   ]
  },
  {
   "cell_type": "markdown",
   "metadata": {},
   "source": [
    "В нашем датафрейме мужчин больше на 10%, чем женщин."
   ]
  },
  {
   "cell_type": "code",
   "execution_count": 27,
   "metadata": {
    "scrolled": false
   },
   "outputs": [
    {
     "data": {
      "text/plain": [
       "Text(0, 0.5, 'количество человек')"
      ]
     },
     "execution_count": 27,
     "metadata": {},
     "output_type": "execute_result"
    },
    {
     "data": {
      "image/png": "[encoded data removed]",
      "text/plain": [
       "<Figure size 432x288 with 1 Axes>"
      ]
     },
     "metadata": {
      "needs_background": "light"
     },
     "output_type": "display_data"
    }
   ],
   "source": [
    "df['Age'].hist(bins=50)\n",
    "plt.title('распределение по возрасту')\n",
    "plt.xlabel('возраст')\n",
    "plt.ylabel('количество человек')"
   ]
  },
  {
   "cell_type": "code",
   "execution_count": 28,
   "metadata": {
    "scrolled": false
   },
   "outputs": [
    {
     "data": {
      "text/html": [
       "<div>\n",
       "<style scoped>\n",
       "    .dataframe tbody tr th:only-of-type {\n",
       "        vertical-align: middle;\n",
       "    }\n",
       "\n",
       "    .dataframe tbody tr th {\n",
       "        vertical-align: top;\n",
       "    }\n",
       "\n",
       "    .dataframe thead th {\n",
       "        text-align: right;\n",
       "    }\n",
       "</style>\n",
       "<table border=\"1\" class=\"dataframe\">\n",
       "  <thead>\n",
       "    <tr style=\"text-align: right;\">\n",
       "      <th></th>\n",
       "      <th>CustomerId</th>\n",
       "      <th>Surname</th>\n",
       "      <th>CreditScore</th>\n",
       "      <th>Geography</th>\n",
       "      <th>Gender</th>\n",
       "      <th>Age</th>\n",
       "      <th>Tenure</th>\n",
       "      <th>Balance</th>\n",
       "      <th>NumOfProducts</th>\n",
       "      <th>HasCrCard</th>\n",
       "      <th>IsActiveMember</th>\n",
       "      <th>EstimatedSalary</th>\n",
       "      <th>Exited</th>\n",
       "    </tr>\n",
       "  </thead>\n",
       "  <tbody>\n",
       "    <tr>\n",
       "      <td>746</td>\n",
       "      <td>15787619</td>\n",
       "      <td>Hsieh</td>\n",
       "      <td>844</td>\n",
       "      <td>France</td>\n",
       "      <td>Male</td>\n",
       "      <td>18</td>\n",
       "      <td>2.0</td>\n",
       "      <td>160980.03</td>\n",
       "      <td>1</td>\n",
       "      <td>0</td>\n",
       "      <td>0</td>\n",
       "      <td>145936.28</td>\n",
       "      <td>0</td>\n",
       "    </tr>\n",
       "    <tr>\n",
       "      <td>1619</td>\n",
       "      <td>15770309</td>\n",
       "      <td>McDonald</td>\n",
       "      <td>656</td>\n",
       "      <td>France</td>\n",
       "      <td>Male</td>\n",
       "      <td>18</td>\n",
       "      <td>10.0</td>\n",
       "      <td>151762.74</td>\n",
       "      <td>1</td>\n",
       "      <td>0</td>\n",
       "      <td>1</td>\n",
       "      <td>127014.32</td>\n",
       "      <td>0</td>\n",
       "    </tr>\n",
       "    <tr>\n",
       "      <td>1678</td>\n",
       "      <td>15569178</td>\n",
       "      <td>Kharlamov</td>\n",
       "      <td>570</td>\n",
       "      <td>France</td>\n",
       "      <td>Female</td>\n",
       "      <td>18</td>\n",
       "      <td>NaN</td>\n",
       "      <td>82767.42</td>\n",
       "      <td>1</td>\n",
       "      <td>1</td>\n",
       "      <td>0</td>\n",
       "      <td>71811.90</td>\n",
       "      <td>0</td>\n",
       "    </tr>\n",
       "    <tr>\n",
       "      <td>2021</td>\n",
       "      <td>15795519</td>\n",
       "      <td>Vasiliev</td>\n",
       "      <td>716</td>\n",
       "      <td>Germany</td>\n",
       "      <td>Female</td>\n",
       "      <td>18</td>\n",
       "      <td>3.0</td>\n",
       "      <td>128743.80</td>\n",
       "      <td>1</td>\n",
       "      <td>0</td>\n",
       "      <td>0</td>\n",
       "      <td>197322.13</td>\n",
       "      <td>0</td>\n",
       "    </tr>\n",
       "    <tr>\n",
       "      <td>2136</td>\n",
       "      <td>15621893</td>\n",
       "      <td>Bellucci</td>\n",
       "      <td>727</td>\n",
       "      <td>France</td>\n",
       "      <td>Male</td>\n",
       "      <td>18</td>\n",
       "      <td>4.0</td>\n",
       "      <td>133550.67</td>\n",
       "      <td>1</td>\n",
       "      <td>1</td>\n",
       "      <td>1</td>\n",
       "      <td>46941.41</td>\n",
       "      <td>0</td>\n",
       "    </tr>\n",
       "    <tr>\n",
       "      <td>2141</td>\n",
       "      <td>15758372</td>\n",
       "      <td>Wallace</td>\n",
       "      <td>674</td>\n",
       "      <td>France</td>\n",
       "      <td>Male</td>\n",
       "      <td>18</td>\n",
       "      <td>7.0</td>\n",
       "      <td>0.00</td>\n",
       "      <td>2</td>\n",
       "      <td>1</td>\n",
       "      <td>1</td>\n",
       "      <td>55753.12</td>\n",
       "      <td>1</td>\n",
       "    </tr>\n",
       "    <tr>\n",
       "      <td>3330</td>\n",
       "      <td>15657439</td>\n",
       "      <td>Chao</td>\n",
       "      <td>738</td>\n",
       "      <td>France</td>\n",
       "      <td>Male</td>\n",
       "      <td>18</td>\n",
       "      <td>4.0</td>\n",
       "      <td>0.00</td>\n",
       "      <td>2</td>\n",
       "      <td>1</td>\n",
       "      <td>1</td>\n",
       "      <td>47799.15</td>\n",
       "      <td>0</td>\n",
       "    </tr>\n",
       "    <tr>\n",
       "      <td>3512</td>\n",
       "      <td>15657779</td>\n",
       "      <td>Boylan</td>\n",
       "      <td>806</td>\n",
       "      <td>Spain</td>\n",
       "      <td>Male</td>\n",
       "      <td>18</td>\n",
       "      <td>3.0</td>\n",
       "      <td>0.00</td>\n",
       "      <td>2</td>\n",
       "      <td>1</td>\n",
       "      <td>1</td>\n",
       "      <td>86994.54</td>\n",
       "      <td>0</td>\n",
       "    </tr>\n",
       "    <tr>\n",
       "      <td>3517</td>\n",
       "      <td>15757821</td>\n",
       "      <td>Burgess</td>\n",
       "      <td>771</td>\n",
       "      <td>Spain</td>\n",
       "      <td>Male</td>\n",
       "      <td>18</td>\n",
       "      <td>1.0</td>\n",
       "      <td>0.00</td>\n",
       "      <td>2</td>\n",
       "      <td>0</td>\n",
       "      <td>0</td>\n",
       "      <td>41542.95</td>\n",
       "      <td>0</td>\n",
       "    </tr>\n",
       "    <tr>\n",
       "      <td>3686</td>\n",
       "      <td>15665327</td>\n",
       "      <td>Cattaneo</td>\n",
       "      <td>706</td>\n",
       "      <td>France</td>\n",
       "      <td>Male</td>\n",
       "      <td>18</td>\n",
       "      <td>2.0</td>\n",
       "      <td>176139.50</td>\n",
       "      <td>2</td>\n",
       "      <td>1</td>\n",
       "      <td>0</td>\n",
       "      <td>129654.22</td>\n",
       "      <td>0</td>\n",
       "    </tr>\n",
       "    <tr>\n",
       "      <td>4556</td>\n",
       "      <td>15796231</td>\n",
       "      <td>Nwankwo</td>\n",
       "      <td>681</td>\n",
       "      <td>France</td>\n",
       "      <td>Female</td>\n",
       "      <td>18</td>\n",
       "      <td>NaN</td>\n",
       "      <td>98894.39</td>\n",
       "      <td>1</td>\n",
       "      <td>1</td>\n",
       "      <td>1</td>\n",
       "      <td>9596.40</td>\n",
       "      <td>0</td>\n",
       "    </tr>\n",
       "    <tr>\n",
       "      <td>4716</td>\n",
       "      <td>15805764</td>\n",
       "      <td>Hallahan</td>\n",
       "      <td>646</td>\n",
       "      <td>France</td>\n",
       "      <td>Male</td>\n",
       "      <td>18</td>\n",
       "      <td>10.0</td>\n",
       "      <td>0.00</td>\n",
       "      <td>2</td>\n",
       "      <td>0</td>\n",
       "      <td>1</td>\n",
       "      <td>52795.15</td>\n",
       "      <td>0</td>\n",
       "    </tr>\n",
       "    <tr>\n",
       "      <td>7334</td>\n",
       "      <td>15759133</td>\n",
       "      <td>Vaguine</td>\n",
       "      <td>616</td>\n",
       "      <td>France</td>\n",
       "      <td>Male</td>\n",
       "      <td>18</td>\n",
       "      <td>6.0</td>\n",
       "      <td>0.00</td>\n",
       "      <td>2</td>\n",
       "      <td>1</td>\n",
       "      <td>1</td>\n",
       "      <td>27308.58</td>\n",
       "      <td>0</td>\n",
       "    </tr>\n",
       "    <tr>\n",
       "      <td>7722</td>\n",
       "      <td>15570086</td>\n",
       "      <td>Lynch</td>\n",
       "      <td>684</td>\n",
       "      <td>Germany</td>\n",
       "      <td>Male</td>\n",
       "      <td>18</td>\n",
       "      <td>9.0</td>\n",
       "      <td>90544.00</td>\n",
       "      <td>1</td>\n",
       "      <td>0</td>\n",
       "      <td>1</td>\n",
       "      <td>4777.23</td>\n",
       "      <td>0</td>\n",
       "    </tr>\n",
       "    <tr>\n",
       "      <td>8522</td>\n",
       "      <td>15619892</td>\n",
       "      <td>Page</td>\n",
       "      <td>644</td>\n",
       "      <td>Spain</td>\n",
       "      <td>Male</td>\n",
       "      <td>18</td>\n",
       "      <td>8.0</td>\n",
       "      <td>0.00</td>\n",
       "      <td>2</td>\n",
       "      <td>1</td>\n",
       "      <td>0</td>\n",
       "      <td>59172.42</td>\n",
       "      <td>0</td>\n",
       "    </tr>\n",
       "    <tr>\n",
       "      <td>9029</td>\n",
       "      <td>15722701</td>\n",
       "      <td>Bruno</td>\n",
       "      <td>594</td>\n",
       "      <td>Germany</td>\n",
       "      <td>Male</td>\n",
       "      <td>18</td>\n",
       "      <td>1.0</td>\n",
       "      <td>132694.73</td>\n",
       "      <td>1</td>\n",
       "      <td>1</td>\n",
       "      <td>0</td>\n",
       "      <td>167689.56</td>\n",
       "      <td>0</td>\n",
       "    </tr>\n",
       "    <tr>\n",
       "      <td>9501</td>\n",
       "      <td>15634146</td>\n",
       "      <td>Hou</td>\n",
       "      <td>835</td>\n",
       "      <td>Germany</td>\n",
       "      <td>Male</td>\n",
       "      <td>18</td>\n",
       "      <td>2.0</td>\n",
       "      <td>142872.36</td>\n",
       "      <td>1</td>\n",
       "      <td>1</td>\n",
       "      <td>1</td>\n",
       "      <td>117632.63</td>\n",
       "      <td>0</td>\n",
       "    </tr>\n",
       "    <tr>\n",
       "      <td>9520</td>\n",
       "      <td>15673180</td>\n",
       "      <td>Onyekaozulu</td>\n",
       "      <td>727</td>\n",
       "      <td>Germany</td>\n",
       "      <td>Female</td>\n",
       "      <td>18</td>\n",
       "      <td>2.0</td>\n",
       "      <td>93816.70</td>\n",
       "      <td>2</td>\n",
       "      <td>1</td>\n",
       "      <td>0</td>\n",
       "      <td>126172.11</td>\n",
       "      <td>0</td>\n",
       "    </tr>\n",
       "    <tr>\n",
       "      <td>9526</td>\n",
       "      <td>15665521</td>\n",
       "      <td>Chiazagomekpele</td>\n",
       "      <td>642</td>\n",
       "      <td>Germany</td>\n",
       "      <td>Male</td>\n",
       "      <td>18</td>\n",
       "      <td>5.0</td>\n",
       "      <td>111183.53</td>\n",
       "      <td>2</td>\n",
       "      <td>0</td>\n",
       "      <td>1</td>\n",
       "      <td>10063.75</td>\n",
       "      <td>0</td>\n",
       "    </tr>\n",
       "    <tr>\n",
       "      <td>9572</td>\n",
       "      <td>15641688</td>\n",
       "      <td>Collier</td>\n",
       "      <td>644</td>\n",
       "      <td>Spain</td>\n",
       "      <td>Male</td>\n",
       "      <td>18</td>\n",
       "      <td>7.0</td>\n",
       "      <td>0.00</td>\n",
       "      <td>1</td>\n",
       "      <td>0</td>\n",
       "      <td>1</td>\n",
       "      <td>59645.24</td>\n",
       "      <td>1</td>\n",
       "    </tr>\n",
       "    <tr>\n",
       "      <td>9782</td>\n",
       "      <td>15728829</td>\n",
       "      <td>Weigel</td>\n",
       "      <td>509</td>\n",
       "      <td>France</td>\n",
       "      <td>Male</td>\n",
       "      <td>18</td>\n",
       "      <td>7.0</td>\n",
       "      <td>102983.91</td>\n",
       "      <td>1</td>\n",
       "      <td>1</td>\n",
       "      <td>0</td>\n",
       "      <td>171770.58</td>\n",
       "      <td>0</td>\n",
       "    </tr>\n",
       "    <tr>\n",
       "      <td>9932</td>\n",
       "      <td>15813451</td>\n",
       "      <td>Fleetwood-Smith</td>\n",
       "      <td>677</td>\n",
       "      <td>Spain</td>\n",
       "      <td>Male</td>\n",
       "      <td>18</td>\n",
       "      <td>8.0</td>\n",
       "      <td>134796.87</td>\n",
       "      <td>2</td>\n",
       "      <td>1</td>\n",
       "      <td>1</td>\n",
       "      <td>114858.90</td>\n",
       "      <td>0</td>\n",
       "    </tr>\n",
       "  </tbody>\n",
       "</table>\n",
       "</div>"
      ],
      "text/plain": [
       "      CustomerId          Surname  CreditScore Geography  Gender  Age  Tenure  \\\n",
       "746     15787619            Hsieh          844    France    Male   18     2.0   \n",
       "1619    15770309         McDonald          656    France    Male   18    10.0   \n",
       "1678    15569178        Kharlamov          570    France  Female   18     NaN   \n",
       "2021    15795519         Vasiliev          716   Germany  Female   18     3.0   \n",
       "2136    15621893         Bellucci          727    France    Male   18     4.0   \n",
       "2141    15758372          Wallace          674    France    Male   18     7.0   \n",
       "3330    15657439             Chao          738    France    Male   18     4.0   \n",
       "3512    15657779           Boylan          806     Spain    Male   18     3.0   \n",
       "3517    15757821          Burgess          771     Spain    Male   18     1.0   \n",
       "3686    15665327         Cattaneo          706    France    Male   18     2.0   \n",
       "4556    15796231          Nwankwo          681    France  Female   18     NaN   \n",
       "4716    15805764         Hallahan          646    France    Male   18    10.0   \n",
       "7334    15759133          Vaguine          616    France    Male   18     6.0   \n",
       "7722    15570086            Lynch          684   Germany    Male   18     9.0   \n",
       "8522    15619892             Page          644     Spain    Male   18     8.0   \n",
       "9029    15722701            Bruno          594   Germany    Male   18     1.0   \n",
       "9501    15634146              Hou          835   Germany    Male   18     2.0   \n",
       "9520    15673180      Onyekaozulu          727   Germany  Female   18     2.0   \n",
       "9526    15665521  Chiazagomekpele          642   Germany    Male   18     5.0   \n",
       "9572    15641688          Collier          644     Spain    Male   18     7.0   \n",
       "9782    15728829           Weigel          509    France    Male   18     7.0   \n",
       "9932    15813451  Fleetwood-Smith          677     Spain    Male   18     8.0   \n",
       "\n",
       "        Balance  NumOfProducts  HasCrCard  IsActiveMember  EstimatedSalary  \\\n",
       "746   160980.03              1          0               0        145936.28   \n",
       "1619  151762.74              1          0               1        127014.32   \n",
       "1678   82767.42              1          1               0         71811.90   \n",
       "2021  128743.80              1          0               0        197322.13   \n",
       "2136  133550.67              1          1               1         46941.41   \n",
       "2141       0.00              2          1               1         55753.12   \n",
       "3330       0.00              2          1               1         47799.15   \n",
       "3512       0.00              2          1               1         86994.54   \n",
       "3517       0.00              2          0               0         41542.95   \n",
       "3686  176139.50              2          1               0        129654.22   \n",
       "4556   98894.39              1          1               1          9596.40   \n",
       "4716       0.00              2          0               1         52795.15   \n",
       "7334       0.00              2          1               1         27308.58   \n",
       "7722   90544.00              1          0               1          4777.23   \n",
       "8522       0.00              2          1               0         59172.42   \n",
       "9029  132694.73              1          1               0        167689.56   \n",
       "9501  142872.36              1          1               1        117632.63   \n",
       "9520   93816.70              2          1               0        126172.11   \n",
       "9526  111183.53              2          0               1         10063.75   \n",
       "9572       0.00              1          0               1         59645.24   \n",
       "9782  102983.91              1          1               0        171770.58   \n",
       "9932  134796.87              2          1               1        114858.90   \n",
       "\n",
       "      Exited  \n",
       "746        0  \n",
       "1619       0  \n",
       "1678       0  \n",
       "2021       0  \n",
       "2136       0  \n",
       "2141       1  \n",
       "3330       0  \n",
       "3512       0  \n",
       "3517       0  \n",
       "3686       0  \n",
       "4556       0  \n",
       "4716       0  \n",
       "7334       0  \n",
       "7722       0  \n",
       "8522       0  \n",
       "9029       0  \n",
       "9501       0  \n",
       "9520       0  \n",
       "9526       0  \n",
       "9572       1  \n",
       "9782       0  \n",
       "9932       0  "
      ]
     },
     "execution_count": 28,
     "metadata": {},
     "output_type": "execute_result"
    }
   ],
   "source": [
    "df.loc[df['Age'] < 19]"
   ]
  },
  {
   "cell_type": "code",
   "execution_count": 29,
   "metadata": {
    "scrolled": false
   },
   "outputs": [
    {
     "data": {
      "text/html": [
       "<div>\n",
       "<style scoped>\n",
       "    .dataframe tbody tr th:only-of-type {\n",
       "        vertical-align: middle;\n",
       "    }\n",
       "\n",
       "    .dataframe tbody tr th {\n",
       "        vertical-align: top;\n",
       "    }\n",
       "\n",
       "    .dataframe thead th {\n",
       "        text-align: right;\n",
       "    }\n",
       "</style>\n",
       "<table border=\"1\" class=\"dataframe\">\n",
       "  <thead>\n",
       "    <tr style=\"text-align: right;\">\n",
       "      <th></th>\n",
       "      <th>CustomerId</th>\n",
       "      <th>Surname</th>\n",
       "      <th>CreditScore</th>\n",
       "      <th>Geography</th>\n",
       "      <th>Gender</th>\n",
       "      <th>Age</th>\n",
       "      <th>Tenure</th>\n",
       "      <th>Balance</th>\n",
       "      <th>NumOfProducts</th>\n",
       "      <th>HasCrCard</th>\n",
       "      <th>IsActiveMember</th>\n",
       "      <th>EstimatedSalary</th>\n",
       "      <th>Exited</th>\n",
       "    </tr>\n",
       "  </thead>\n",
       "  <tbody>\n",
       "    <tr>\n",
       "      <td>252</td>\n",
       "      <td>15793726</td>\n",
       "      <td>Matveyeva</td>\n",
       "      <td>681</td>\n",
       "      <td>France</td>\n",
       "      <td>Female</td>\n",
       "      <td>79</td>\n",
       "      <td>0.0</td>\n",
       "      <td>0.00</td>\n",
       "      <td>2</td>\n",
       "      <td>0</td>\n",
       "      <td>1</td>\n",
       "      <td>170968.99</td>\n",
       "      <td>0</td>\n",
       "    </tr>\n",
       "    <tr>\n",
       "      <td>310</td>\n",
       "      <td>15712287</td>\n",
       "      <td>Pokrovskii</td>\n",
       "      <td>652</td>\n",
       "      <td>France</td>\n",
       "      <td>Female</td>\n",
       "      <td>80</td>\n",
       "      <td>4.0</td>\n",
       "      <td>0.00</td>\n",
       "      <td>2</td>\n",
       "      <td>1</td>\n",
       "      <td>1</td>\n",
       "      <td>188603.07</td>\n",
       "      <td>0</td>\n",
       "    </tr>\n",
       "    <tr>\n",
       "      <td>766</td>\n",
       "      <td>15810864</td>\n",
       "      <td>Williamson</td>\n",
       "      <td>700</td>\n",
       "      <td>France</td>\n",
       "      <td>Female</td>\n",
       "      <td>82</td>\n",
       "      <td>2.0</td>\n",
       "      <td>0.00</td>\n",
       "      <td>2</td>\n",
       "      <td>0</td>\n",
       "      <td>1</td>\n",
       "      <td>182055.36</td>\n",
       "      <td>0</td>\n",
       "    </tr>\n",
       "    <tr>\n",
       "      <td>1205</td>\n",
       "      <td>15724307</td>\n",
       "      <td>Mitchell</td>\n",
       "      <td>780</td>\n",
       "      <td>France</td>\n",
       "      <td>Male</td>\n",
       "      <td>76</td>\n",
       "      <td>10.0</td>\n",
       "      <td>121313.88</td>\n",
       "      <td>1</td>\n",
       "      <td>0</td>\n",
       "      <td>1</td>\n",
       "      <td>64872.33</td>\n",
       "      <td>0</td>\n",
       "    </tr>\n",
       "    <tr>\n",
       "      <td>1614</td>\n",
       "      <td>15646037</td>\n",
       "      <td>Sopuluchi</td>\n",
       "      <td>641</td>\n",
       "      <td>France</td>\n",
       "      <td>Male</td>\n",
       "      <td>77</td>\n",
       "      <td>9.0</td>\n",
       "      <td>0.00</td>\n",
       "      <td>3</td>\n",
       "      <td>1</td>\n",
       "      <td>1</td>\n",
       "      <td>81514.06</td>\n",
       "      <td>0</td>\n",
       "    </tr>\n",
       "    <tr>\n",
       "      <td>2164</td>\n",
       "      <td>15794479</td>\n",
       "      <td>Becker</td>\n",
       "      <td>767</td>\n",
       "      <td>Spain</td>\n",
       "      <td>Male</td>\n",
       "      <td>77</td>\n",
       "      <td>8.0</td>\n",
       "      <td>149083.70</td>\n",
       "      <td>1</td>\n",
       "      <td>1</td>\n",
       "      <td>1</td>\n",
       "      <td>190146.83</td>\n",
       "      <td>0</td>\n",
       "    </tr>\n",
       "    <tr>\n",
       "      <td>2458</td>\n",
       "      <td>15813303</td>\n",
       "      <td>Rearick</td>\n",
       "      <td>513</td>\n",
       "      <td>Spain</td>\n",
       "      <td>Male</td>\n",
       "      <td>88</td>\n",
       "      <td>10.0</td>\n",
       "      <td>0.00</td>\n",
       "      <td>2</td>\n",
       "      <td>1</td>\n",
       "      <td>1</td>\n",
       "      <td>52952.24</td>\n",
       "      <td>0</td>\n",
       "    </tr>\n",
       "    <tr>\n",
       "      <td>2925</td>\n",
       "      <td>15633531</td>\n",
       "      <td>Lavrov</td>\n",
       "      <td>717</td>\n",
       "      <td>France</td>\n",
       "      <td>Female</td>\n",
       "      <td>76</td>\n",
       "      <td>9.0</td>\n",
       "      <td>138489.66</td>\n",
       "      <td>1</td>\n",
       "      <td>1</td>\n",
       "      <td>1</td>\n",
       "      <td>68400.14</td>\n",
       "      <td>0</td>\n",
       "    </tr>\n",
       "    <tr>\n",
       "      <td>3033</td>\n",
       "      <td>15578006</td>\n",
       "      <td>Yao</td>\n",
       "      <td>787</td>\n",
       "      <td>France</td>\n",
       "      <td>Female</td>\n",
       "      <td>85</td>\n",
       "      <td>10.0</td>\n",
       "      <td>0.00</td>\n",
       "      <td>2</td>\n",
       "      <td>1</td>\n",
       "      <td>1</td>\n",
       "      <td>116537.96</td>\n",
       "      <td>0</td>\n",
       "    </tr>\n",
       "    <tr>\n",
       "      <td>3142</td>\n",
       "      <td>15586996</td>\n",
       "      <td>Azikiwe</td>\n",
       "      <td>697</td>\n",
       "      <td>France</td>\n",
       "      <td>Female</td>\n",
       "      <td>76</td>\n",
       "      <td>7.0</td>\n",
       "      <td>0.00</td>\n",
       "      <td>2</td>\n",
       "      <td>0</td>\n",
       "      <td>1</td>\n",
       "      <td>188772.45</td>\n",
       "      <td>0</td>\n",
       "    </tr>\n",
       "    <tr>\n",
       "      <td>3387</td>\n",
       "      <td>15798024</td>\n",
       "      <td>Lori</td>\n",
       "      <td>537</td>\n",
       "      <td>Germany</td>\n",
       "      <td>Male</td>\n",
       "      <td>84</td>\n",
       "      <td>8.0</td>\n",
       "      <td>92242.34</td>\n",
       "      <td>1</td>\n",
       "      <td>1</td>\n",
       "      <td>1</td>\n",
       "      <td>186235.98</td>\n",
       "      <td>0</td>\n",
       "    </tr>\n",
       "    <tr>\n",
       "      <td>3531</td>\n",
       "      <td>15653251</td>\n",
       "      <td>Hickey</td>\n",
       "      <td>408</td>\n",
       "      <td>France</td>\n",
       "      <td>Female</td>\n",
       "      <td>84</td>\n",
       "      <td>8.0</td>\n",
       "      <td>87873.39</td>\n",
       "      <td>1</td>\n",
       "      <td>0</td>\n",
       "      <td>0</td>\n",
       "      <td>188484.52</td>\n",
       "      <td>1</td>\n",
       "    </tr>\n",
       "    <tr>\n",
       "      <td>3602</td>\n",
       "      <td>15582762</td>\n",
       "      <td>Mazzanti</td>\n",
       "      <td>667</td>\n",
       "      <td>Spain</td>\n",
       "      <td>Male</td>\n",
       "      <td>77</td>\n",
       "      <td>2.0</td>\n",
       "      <td>0.00</td>\n",
       "      <td>1</td>\n",
       "      <td>1</td>\n",
       "      <td>1</td>\n",
       "      <td>34702.92</td>\n",
       "      <td>0</td>\n",
       "    </tr>\n",
       "    <tr>\n",
       "      <td>3651</td>\n",
       "      <td>15628999</td>\n",
       "      <td>Townsend</td>\n",
       "      <td>732</td>\n",
       "      <td>France</td>\n",
       "      <td>Male</td>\n",
       "      <td>79</td>\n",
       "      <td>10.0</td>\n",
       "      <td>61811.23</td>\n",
       "      <td>1</td>\n",
       "      <td>1</td>\n",
       "      <td>1</td>\n",
       "      <td>104222.80</td>\n",
       "      <td>0</td>\n",
       "    </tr>\n",
       "    <tr>\n",
       "      <td>3691</td>\n",
       "      <td>15760244</td>\n",
       "      <td>Ives</td>\n",
       "      <td>590</td>\n",
       "      <td>France</td>\n",
       "      <td>Female</td>\n",
       "      <td>76</td>\n",
       "      <td>5.0</td>\n",
       "      <td>160979.68</td>\n",
       "      <td>1</td>\n",
       "      <td>0</td>\n",
       "      <td>1</td>\n",
       "      <td>13848.58</td>\n",
       "      <td>0</td>\n",
       "    </tr>\n",
       "    <tr>\n",
       "      <td>3826</td>\n",
       "      <td>15751774</td>\n",
       "      <td>Monnier</td>\n",
       "      <td>774</td>\n",
       "      <td>France</td>\n",
       "      <td>Male</td>\n",
       "      <td>76</td>\n",
       "      <td>4.0</td>\n",
       "      <td>112510.89</td>\n",
       "      <td>1</td>\n",
       "      <td>1</td>\n",
       "      <td>1</td>\n",
       "      <td>143133.18</td>\n",
       "      <td>0</td>\n",
       "    </tr>\n",
       "    <tr>\n",
       "      <td>3994</td>\n",
       "      <td>15763097</td>\n",
       "      <td>Siciliano</td>\n",
       "      <td>809</td>\n",
       "      <td>Spain</td>\n",
       "      <td>Male</td>\n",
       "      <td>80</td>\n",
       "      <td>8.0</td>\n",
       "      <td>0.00</td>\n",
       "      <td>2</td>\n",
       "      <td>0</td>\n",
       "      <td>1</td>\n",
       "      <td>34164.05</td>\n",
       "      <td>0</td>\n",
       "    </tr>\n",
       "    <tr>\n",
       "      <td>4256</td>\n",
       "      <td>15578462</td>\n",
       "      <td>Hs?</td>\n",
       "      <td>596</td>\n",
       "      <td>Spain</td>\n",
       "      <td>Female</td>\n",
       "      <td>76</td>\n",
       "      <td>9.0</td>\n",
       "      <td>134208.25</td>\n",
       "      <td>1</td>\n",
       "      <td>1</td>\n",
       "      <td>1</td>\n",
       "      <td>13455.43</td>\n",
       "      <td>0</td>\n",
       "    </tr>\n",
       "    <tr>\n",
       "      <td>4318</td>\n",
       "      <td>15803685</td>\n",
       "      <td>Greco</td>\n",
       "      <td>673</td>\n",
       "      <td>Germany</td>\n",
       "      <td>Female</td>\n",
       "      <td>77</td>\n",
       "      <td>10.0</td>\n",
       "      <td>76510.52</td>\n",
       "      <td>2</td>\n",
       "      <td>0</td>\n",
       "      <td>1</td>\n",
       "      <td>59595.66</td>\n",
       "      <td>0</td>\n",
       "    </tr>\n",
       "    <tr>\n",
       "      <td>4590</td>\n",
       "      <td>15680167</td>\n",
       "      <td>Thomson</td>\n",
       "      <td>635</td>\n",
       "      <td>France</td>\n",
       "      <td>Female</td>\n",
       "      <td>78</td>\n",
       "      <td>NaN</td>\n",
       "      <td>47536.40</td>\n",
       "      <td>1</td>\n",
       "      <td>1</td>\n",
       "      <td>1</td>\n",
       "      <td>119400.08</td>\n",
       "      <td>0</td>\n",
       "    </tr>\n",
       "    <tr>\n",
       "      <td>4815</td>\n",
       "      <td>15737647</td>\n",
       "      <td>Obioma</td>\n",
       "      <td>775</td>\n",
       "      <td>Germany</td>\n",
       "      <td>Female</td>\n",
       "      <td>77</td>\n",
       "      <td>6.0</td>\n",
       "      <td>135120.56</td>\n",
       "      <td>1</td>\n",
       "      <td>1</td>\n",
       "      <td>0</td>\n",
       "      <td>37836.64</td>\n",
       "      <td>0</td>\n",
       "    </tr>\n",
       "    <tr>\n",
       "      <td>4832</td>\n",
       "      <td>15808389</td>\n",
       "      <td>Iheatu</td>\n",
       "      <td>617</td>\n",
       "      <td>France</td>\n",
       "      <td>Female</td>\n",
       "      <td>79</td>\n",
       "      <td>7.0</td>\n",
       "      <td>0.00</td>\n",
       "      <td>1</td>\n",
       "      <td>1</td>\n",
       "      <td>1</td>\n",
       "      <td>160589.18</td>\n",
       "      <td>0</td>\n",
       "    </tr>\n",
       "    <tr>\n",
       "      <td>4931</td>\n",
       "      <td>15772341</td>\n",
       "      <td>Hs?eh</td>\n",
       "      <td>682</td>\n",
       "      <td>Germany</td>\n",
       "      <td>Male</td>\n",
       "      <td>81</td>\n",
       "      <td>6.0</td>\n",
       "      <td>122029.15</td>\n",
       "      <td>1</td>\n",
       "      <td>1</td>\n",
       "      <td>1</td>\n",
       "      <td>50783.88</td>\n",
       "      <td>0</td>\n",
       "    </tr>\n",
       "    <tr>\n",
       "      <td>5068</td>\n",
       "      <td>15717879</td>\n",
       "      <td>Chen</td>\n",
       "      <td>712</td>\n",
       "      <td>Spain</td>\n",
       "      <td>Female</td>\n",
       "      <td>79</td>\n",
       "      <td>5.0</td>\n",
       "      <td>108078.56</td>\n",
       "      <td>1</td>\n",
       "      <td>1</td>\n",
       "      <td>1</td>\n",
       "      <td>174118.93</td>\n",
       "      <td>0</td>\n",
       "    </tr>\n",
       "    <tr>\n",
       "      <td>5490</td>\n",
       "      <td>15722322</td>\n",
       "      <td>Green</td>\n",
       "      <td>655</td>\n",
       "      <td>Spain</td>\n",
       "      <td>Female</td>\n",
       "      <td>78</td>\n",
       "      <td>2.0</td>\n",
       "      <td>0.00</td>\n",
       "      <td>2</td>\n",
       "      <td>0</td>\n",
       "      <td>1</td>\n",
       "      <td>188435.38</td>\n",
       "      <td>0</td>\n",
       "    </tr>\n",
       "    <tr>\n",
       "      <td>5957</td>\n",
       "      <td>15765532</td>\n",
       "      <td>Horton</td>\n",
       "      <td>612</td>\n",
       "      <td>Germany</td>\n",
       "      <td>Male</td>\n",
       "      <td>76</td>\n",
       "      <td>6.0</td>\n",
       "      <td>96166.88</td>\n",
       "      <td>1</td>\n",
       "      <td>1</td>\n",
       "      <td>1</td>\n",
       "      <td>191393.26</td>\n",
       "      <td>0</td>\n",
       "    </tr>\n",
       "    <tr>\n",
       "      <td>6443</td>\n",
       "      <td>15764927</td>\n",
       "      <td>Rogova</td>\n",
       "      <td>753</td>\n",
       "      <td>France</td>\n",
       "      <td>Male</td>\n",
       "      <td>92</td>\n",
       "      <td>NaN</td>\n",
       "      <td>121513.31</td>\n",
       "      <td>1</td>\n",
       "      <td>0</td>\n",
       "      <td>1</td>\n",
       "      <td>195563.99</td>\n",
       "      <td>0</td>\n",
       "    </tr>\n",
       "    <tr>\n",
       "      <td>6721</td>\n",
       "      <td>15715638</td>\n",
       "      <td>Ch'ang</td>\n",
       "      <td>824</td>\n",
       "      <td>Germany</td>\n",
       "      <td>Male</td>\n",
       "      <td>77</td>\n",
       "      <td>3.0</td>\n",
       "      <td>27517.15</td>\n",
       "      <td>2</td>\n",
       "      <td>0</td>\n",
       "      <td>1</td>\n",
       "      <td>2746.41</td>\n",
       "      <td>0</td>\n",
       "    </tr>\n",
       "    <tr>\n",
       "      <td>6759</td>\n",
       "      <td>15660878</td>\n",
       "      <td>T'ien</td>\n",
       "      <td>705</td>\n",
       "      <td>France</td>\n",
       "      <td>Male</td>\n",
       "      <td>92</td>\n",
       "      <td>1.0</td>\n",
       "      <td>126076.24</td>\n",
       "      <td>2</td>\n",
       "      <td>1</td>\n",
       "      <td>1</td>\n",
       "      <td>34436.83</td>\n",
       "      <td>0</td>\n",
       "    </tr>\n",
       "    <tr>\n",
       "      <td>7063</td>\n",
       "      <td>15766183</td>\n",
       "      <td>Ferguson</td>\n",
       "      <td>580</td>\n",
       "      <td>Germany</td>\n",
       "      <td>Male</td>\n",
       "      <td>76</td>\n",
       "      <td>2.0</td>\n",
       "      <td>130334.84</td>\n",
       "      <td>2</td>\n",
       "      <td>1</td>\n",
       "      <td>1</td>\n",
       "      <td>51672.08</td>\n",
       "      <td>0</td>\n",
       "    </tr>\n",
       "    <tr>\n",
       "      <td>7243</td>\n",
       "      <td>15728906</td>\n",
       "      <td>Ibekwe</td>\n",
       "      <td>634</td>\n",
       "      <td>France</td>\n",
       "      <td>Male</td>\n",
       "      <td>77</td>\n",
       "      <td>5.0</td>\n",
       "      <td>0.00</td>\n",
       "      <td>2</td>\n",
       "      <td>1</td>\n",
       "      <td>1</td>\n",
       "      <td>161579.85</td>\n",
       "      <td>0</td>\n",
       "    </tr>\n",
       "    <tr>\n",
       "      <td>7375</td>\n",
       "      <td>15638871</td>\n",
       "      <td>Ch'ang</td>\n",
       "      <td>639</td>\n",
       "      <td>France</td>\n",
       "      <td>Male</td>\n",
       "      <td>77</td>\n",
       "      <td>6.0</td>\n",
       "      <td>80926.02</td>\n",
       "      <td>2</td>\n",
       "      <td>1</td>\n",
       "      <td>1</td>\n",
       "      <td>55829.25</td>\n",
       "      <td>0</td>\n",
       "    </tr>\n",
       "    <tr>\n",
       "      <td>7526</td>\n",
       "      <td>15800554</td>\n",
       "      <td>Perry</td>\n",
       "      <td>850</td>\n",
       "      <td>France</td>\n",
       "      <td>Female</td>\n",
       "      <td>81</td>\n",
       "      <td>1.0</td>\n",
       "      <td>0.00</td>\n",
       "      <td>2</td>\n",
       "      <td>1</td>\n",
       "      <td>1</td>\n",
       "      <td>59568.24</td>\n",
       "      <td>0</td>\n",
       "    </tr>\n",
       "    <tr>\n",
       "      <td>7552</td>\n",
       "      <td>15781574</td>\n",
       "      <td>Ma</td>\n",
       "      <td>636</td>\n",
       "      <td>Spain</td>\n",
       "      <td>Male</td>\n",
       "      <td>76</td>\n",
       "      <td>9.0</td>\n",
       "      <td>126534.60</td>\n",
       "      <td>1</td>\n",
       "      <td>1</td>\n",
       "      <td>1</td>\n",
       "      <td>39789.62</td>\n",
       "      <td>0</td>\n",
       "    </tr>\n",
       "    <tr>\n",
       "      <td>7788</td>\n",
       "      <td>15674671</td>\n",
       "      <td>Conway</td>\n",
       "      <td>551</td>\n",
       "      <td>Spain</td>\n",
       "      <td>Male</td>\n",
       "      <td>76</td>\n",
       "      <td>2.0</td>\n",
       "      <td>128410.71</td>\n",
       "      <td>2</td>\n",
       "      <td>1</td>\n",
       "      <td>1</td>\n",
       "      <td>181718.73</td>\n",
       "      <td>0</td>\n",
       "    </tr>\n",
       "    <tr>\n",
       "      <td>7956</td>\n",
       "      <td>15731569</td>\n",
       "      <td>Hudson</td>\n",
       "      <td>850</td>\n",
       "      <td>France</td>\n",
       "      <td>Male</td>\n",
       "      <td>81</td>\n",
       "      <td>5.0</td>\n",
       "      <td>0.00</td>\n",
       "      <td>2</td>\n",
       "      <td>1</td>\n",
       "      <td>1</td>\n",
       "      <td>44827.47</td>\n",
       "      <td>0</td>\n",
       "    </tr>\n",
       "    <tr>\n",
       "      <td>9080</td>\n",
       "      <td>15620443</td>\n",
       "      <td>Fiorentino</td>\n",
       "      <td>711</td>\n",
       "      <td>France</td>\n",
       "      <td>Female</td>\n",
       "      <td>81</td>\n",
       "      <td>6.0</td>\n",
       "      <td>0.00</td>\n",
       "      <td>2</td>\n",
       "      <td>1</td>\n",
       "      <td>1</td>\n",
       "      <td>72276.24</td>\n",
       "      <td>0</td>\n",
       "    </tr>\n",
       "    <tr>\n",
       "      <td>9309</td>\n",
       "      <td>15621644</td>\n",
       "      <td>Lombardi</td>\n",
       "      <td>678</td>\n",
       "      <td>Germany</td>\n",
       "      <td>Male</td>\n",
       "      <td>83</td>\n",
       "      <td>6.0</td>\n",
       "      <td>123356.63</td>\n",
       "      <td>1</td>\n",
       "      <td>0</td>\n",
       "      <td>1</td>\n",
       "      <td>92934.41</td>\n",
       "      <td>0</td>\n",
       "    </tr>\n",
       "    <tr>\n",
       "      <td>9333</td>\n",
       "      <td>15714680</td>\n",
       "      <td>Bianchi</td>\n",
       "      <td>755</td>\n",
       "      <td>France</td>\n",
       "      <td>Female</td>\n",
       "      <td>78</td>\n",
       "      <td>5.0</td>\n",
       "      <td>121206.96</td>\n",
       "      <td>1</td>\n",
       "      <td>1</td>\n",
       "      <td>1</td>\n",
       "      <td>76016.49</td>\n",
       "      <td>0</td>\n",
       "    </tr>\n",
       "    <tr>\n",
       "      <td>9490</td>\n",
       "      <td>15655171</td>\n",
       "      <td>Yermakova</td>\n",
       "      <td>624</td>\n",
       "      <td>France</td>\n",
       "      <td>Male</td>\n",
       "      <td>80</td>\n",
       "      <td>3.0</td>\n",
       "      <td>0.00</td>\n",
       "      <td>1</td>\n",
       "      <td>1</td>\n",
       "      <td>1</td>\n",
       "      <td>65801.44</td>\n",
       "      <td>0</td>\n",
       "    </tr>\n",
       "    <tr>\n",
       "      <td>9587</td>\n",
       "      <td>15653050</td>\n",
       "      <td>Norriss</td>\n",
       "      <td>719</td>\n",
       "      <td>Germany</td>\n",
       "      <td>Female</td>\n",
       "      <td>76</td>\n",
       "      <td>10.0</td>\n",
       "      <td>95052.29</td>\n",
       "      <td>1</td>\n",
       "      <td>1</td>\n",
       "      <td>0</td>\n",
       "      <td>176244.87</td>\n",
       "      <td>0</td>\n",
       "    </tr>\n",
       "    <tr>\n",
       "      <td>9671</td>\n",
       "      <td>15636061</td>\n",
       "      <td>Pope</td>\n",
       "      <td>649</td>\n",
       "      <td>Germany</td>\n",
       "      <td>Male</td>\n",
       "      <td>78</td>\n",
       "      <td>4.0</td>\n",
       "      <td>68345.86</td>\n",
       "      <td>2</td>\n",
       "      <td>1</td>\n",
       "      <td>1</td>\n",
       "      <td>142566.75</td>\n",
       "      <td>0</td>\n",
       "    </tr>\n",
       "    <tr>\n",
       "      <td>9736</td>\n",
       "      <td>15644103</td>\n",
       "      <td>Wells</td>\n",
       "      <td>659</td>\n",
       "      <td>Spain</td>\n",
       "      <td>Male</td>\n",
       "      <td>78</td>\n",
       "      <td>2.0</td>\n",
       "      <td>151675.65</td>\n",
       "      <td>1</td>\n",
       "      <td>0</td>\n",
       "      <td>1</td>\n",
       "      <td>49978.67</td>\n",
       "      <td>0</td>\n",
       "    </tr>\n",
       "    <tr>\n",
       "      <td>9894</td>\n",
       "      <td>15704795</td>\n",
       "      <td>Vagin</td>\n",
       "      <td>521</td>\n",
       "      <td>France</td>\n",
       "      <td>Female</td>\n",
       "      <td>77</td>\n",
       "      <td>6.0</td>\n",
       "      <td>0.00</td>\n",
       "      <td>2</td>\n",
       "      <td>1</td>\n",
       "      <td>1</td>\n",
       "      <td>49054.10</td>\n",
       "      <td>0</td>\n",
       "    </tr>\n",
       "    <tr>\n",
       "      <td>9936</td>\n",
       "      <td>15653037</td>\n",
       "      <td>Parks</td>\n",
       "      <td>609</td>\n",
       "      <td>France</td>\n",
       "      <td>Male</td>\n",
       "      <td>77</td>\n",
       "      <td>1.0</td>\n",
       "      <td>0.00</td>\n",
       "      <td>1</td>\n",
       "      <td>0</td>\n",
       "      <td>1</td>\n",
       "      <td>18708.76</td>\n",
       "      <td>0</td>\n",
       "    </tr>\n",
       "  </tbody>\n",
       "</table>\n",
       "</div>"
      ],
      "text/plain": [
       "      CustomerId     Surname  CreditScore Geography  Gender  Age  Tenure  \\\n",
       "252     15793726   Matveyeva          681    France  Female   79     0.0   \n",
       "310     15712287  Pokrovskii          652    France  Female   80     4.0   \n",
       "766     15810864  Williamson          700    France  Female   82     2.0   \n",
       "1205    15724307    Mitchell          780    France    Male   76    10.0   \n",
       "1614    15646037   Sopuluchi          641    France    Male   77     9.0   \n",
       "2164    15794479      Becker          767     Spain    Male   77     8.0   \n",
       "2458    15813303     Rearick          513     Spain    Male   88    10.0   \n",
       "2925    15633531      Lavrov          717    France  Female   76     9.0   \n",
       "3033    15578006         Yao          787    France  Female   85    10.0   \n",
       "3142    15586996     Azikiwe          697    France  Female   76     7.0   \n",
       "3387    15798024        Lori          537   Germany    Male   84     8.0   \n",
       "3531    15653251      Hickey          408    France  Female   84     8.0   \n",
       "3602    15582762    Mazzanti          667     Spain    Male   77     2.0   \n",
       "3651    15628999    Townsend          732    France    Male   79    10.0   \n",
       "3691    15760244        Ives          590    France  Female   76     5.0   \n",
       "3826    15751774     Monnier          774    France    Male   76     4.0   \n",
       "3994    15763097   Siciliano          809     Spain    Male   80     8.0   \n",
       "4256    15578462         Hs?          596     Spain  Female   76     9.0   \n",
       "4318    15803685       Greco          673   Germany  Female   77    10.0   \n",
       "4590    15680167     Thomson          635    France  Female   78     NaN   \n",
       "4815    15737647      Obioma          775   Germany  Female   77     6.0   \n",
       "4832    15808389      Iheatu          617    France  Female   79     7.0   \n",
       "4931    15772341       Hs?eh          682   Germany    Male   81     6.0   \n",
       "5068    15717879        Chen          712     Spain  Female   79     5.0   \n",
       "5490    15722322       Green          655     Spain  Female   78     2.0   \n",
       "5957    15765532      Horton          612   Germany    Male   76     6.0   \n",
       "6443    15764927      Rogova          753    France    Male   92     NaN   \n",
       "6721    15715638      Ch'ang          824   Germany    Male   77     3.0   \n",
       "6759    15660878       T'ien          705    France    Male   92     1.0   \n",
       "7063    15766183    Ferguson          580   Germany    Male   76     2.0   \n",
       "7243    15728906      Ibekwe          634    France    Male   77     5.0   \n",
       "7375    15638871      Ch'ang          639    France    Male   77     6.0   \n",
       "7526    15800554       Perry          850    France  Female   81     1.0   \n",
       "7552    15781574          Ma          636     Spain    Male   76     9.0   \n",
       "7788    15674671      Conway          551     Spain    Male   76     2.0   \n",
       "7956    15731569      Hudson          850    France    Male   81     5.0   \n",
       "9080    15620443  Fiorentino          711    France  Female   81     6.0   \n",
       "9309    15621644    Lombardi          678   Germany    Male   83     6.0   \n",
       "9333    15714680     Bianchi          755    France  Female   78     5.0   \n",
       "9490    15655171   Yermakova          624    France    Male   80     3.0   \n",
       "9587    15653050     Norriss          719   Germany  Female   76    10.0   \n",
       "9671    15636061        Pope          649   Germany    Male   78     4.0   \n",
       "9736    15644103       Wells          659     Spain    Male   78     2.0   \n",
       "9894    15704795       Vagin          521    France  Female   77     6.0   \n",
       "9936    15653037       Parks          609    France    Male   77     1.0   \n",
       "\n",
       "        Balance  NumOfProducts  HasCrCard  IsActiveMember  EstimatedSalary  \\\n",
       "252        0.00              2          0               1        170968.99   \n",
       "310        0.00              2          1               1        188603.07   \n",
       "766        0.00              2          0               1        182055.36   \n",
       "1205  121313.88              1          0               1         64872.33   \n",
       "1614       0.00              3          1               1         81514.06   \n",
       "2164  149083.70              1          1               1        190146.83   \n",
       "2458       0.00              2          1               1         52952.24   \n",
       "2925  138489.66              1          1               1         68400.14   \n",
       "3033       0.00              2          1               1        116537.96   \n",
       "3142       0.00              2          0               1        188772.45   \n",
       "3387   92242.34              1          1               1        186235.98   \n",
       "3531   87873.39              1          0               0        188484.52   \n",
       "3602       0.00              1          1               1         34702.92   \n",
       "3651   61811.23              1          1               1        104222.80   \n",
       "3691  160979.68              1          0               1         13848.58   \n",
       "3826  112510.89              1          1               1        143133.18   \n",
       "3994       0.00              2          0               1         34164.05   \n",
       "4256  134208.25              1          1               1         13455.43   \n",
       "4318   76510.52              2          0               1         59595.66   \n",
       "4590   47536.40              1          1               1        119400.08   \n",
       "4815  135120.56              1          1               0         37836.64   \n",
       "4832       0.00              1          1               1        160589.18   \n",
       "4931  122029.15              1          1               1         50783.88   \n",
       "5068  108078.56              1          1               1        174118.93   \n",
       "5490       0.00              2          0               1        188435.38   \n",
       "5957   96166.88              1          1               1        191393.26   \n",
       "6443  121513.31              1          0               1        195563.99   \n",
       "6721   27517.15              2          0               1          2746.41   \n",
       "6759  126076.24              2          1               1         34436.83   \n",
       "7063  130334.84              2          1               1         51672.08   \n",
       "7243       0.00              2          1               1        161579.85   \n",
       "7375   80926.02              2          1               1         55829.25   \n",
       "7526       0.00              2          1               1         59568.24   \n",
       "7552  126534.60              1          1               1         39789.62   \n",
       "7788  128410.71              2          1               1        181718.73   \n",
       "7956       0.00              2          1               1         44827.47   \n",
       "9080       0.00              2          1               1         72276.24   \n",
       "9309  123356.63              1          0               1         92934.41   \n",
       "9333  121206.96              1          1               1         76016.49   \n",
       "9490       0.00              1          1               1         65801.44   \n",
       "9587   95052.29              1          1               0        176244.87   \n",
       "9671   68345.86              2          1               1        142566.75   \n",
       "9736  151675.65              1          0               1         49978.67   \n",
       "9894       0.00              2          1               1         49054.10   \n",
       "9936       0.00              1          0               1         18708.76   \n",
       "\n",
       "      Exited  \n",
       "252        0  \n",
       "310        0  \n",
       "766        0  \n",
       "1205       0  \n",
       "1614       0  \n",
       "2164       0  \n",
       "2458       0  \n",
       "2925       0  \n",
       "3033       0  \n",
       "3142       0  \n",
       "3387       0  \n",
       "3531       1  \n",
       "3602       0  \n",
       "3651       0  \n",
       "3691       0  \n",
       "3826       0  \n",
       "3994       0  \n",
       "4256       0  \n",
       "4318       0  \n",
       "4590       0  \n",
       "4815       0  \n",
       "4832       0  \n",
       "4931       0  \n",
       "5068       0  \n",
       "5490       0  \n",
       "5957       0  \n",
       "6443       0  \n",
       "6721       0  \n",
       "6759       0  \n",
       "7063       0  \n",
       "7243       0  \n",
       "7375       0  \n",
       "7526       0  \n",
       "7552       0  \n",
       "7788       0  \n",
       "7956       0  \n",
       "9080       0  \n",
       "9309       0  \n",
       "9333       0  \n",
       "9490       0  \n",
       "9587       0  \n",
       "9671       0  \n",
       "9736       0  \n",
       "9894       0  \n",
       "9936       0  "
      ]
     },
     "execution_count": 29,
     "metadata": {},
     "output_type": "execute_result"
    }
   ],
   "source": [
    "df.loc[df['Age'] > 75]"
   ]
  },
  {
   "cell_type": "markdown",
   "metadata": {},
   "source": [
    "Распределение по возрасту - нормальное. Посмотрел на данные лиц младше 19 - имеем данные только начиная с 18 лет, посмотрел на данные лиц старше 75 лет. Глазом не увидел привязки ухода из банка с возрастом."
   ]
  },
  {
   "cell_type": "code",
   "execution_count": 30,
   "metadata": {
    "scrolled": false
   },
   "outputs": [
    {
     "data": {
      "text/plain": [
       "Text(0, 0.5, 'количество человек')"
      ]
     },
     "execution_count": 30,
     "metadata": {},
     "output_type": "execute_result"
    },
    {
     "data": {
      "image/png": "[encoded data removed]",
      "text/plain": [
       "<Figure size 432x288 with 1 Axes>"
      ]
     },
     "metadata": {
      "needs_background": "light"
     },
     "output_type": "display_data"
    }
   ],
   "source": [
    "df['Balance'].hist(bins=50)\n",
    "plt.title('распределение по балансу')\n",
    "plt.xlabel('баланс')\n",
    "plt.ylabel('количество человек')"
   ]
  },
  {
   "cell_type": "markdown",
   "metadata": {},
   "source": []
  },
  {
   "cell_type": "code",
   "execution_count": 31,
   "metadata": {
    "scrolled": false
   },
   "outputs": [
    {
     "data": {
      "text/plain": [
       "Text(0, 0.5, 'количество человек')"
      ]
     },
     "execution_count": 31,
     "metadata": {},
     "output_type": "execute_result"
    },
    {
     "data": {
      "image/png": "[encoded data removed]",
      "text/plain": [
       "<Figure size 432x288 with 1 Axes>"
      ]
     },
     "metadata": {
      "needs_background": "light"
     },
     "output_type": "display_data"
    }
   ],
   "source": [
    "df['EstimatedSalary'].hist(bins=50)\n",
    "plt.title('распределение по зар.плате')\n",
    "plt.xlabel('доход')\n",
    "plt.ylabel('количество человек')"
   ]
  },
  {
   "cell_type": "code",
   "execution_count": 32,
   "metadata": {
    "scrolled": false
   },
   "outputs": [
    {
     "data": {
      "text/plain": [
       "<matplotlib.axes._subplots.AxesSubplot at 0x7f136504a990>"
      ]
     },
     "execution_count": 32,
     "metadata": {},
     "output_type": "execute_result"
    },
    {
     "data": {
      "image/png": "[encoded data removed]",
      "text/plain": [
       "<Figure size 432x288 with 1 Axes>"
      ]
     },
     "metadata": {
      "needs_background": "light"
     },
     "output_type": "display_data"
    }
   ],
   "source": [
    "df.boxplot('EstimatedSalary')"
   ]
  },
  {
   "cell_type": "code",
   "execution_count": 33,
   "metadata": {
    "scrolled": false
   },
   "outputs": [
    {
     "data": {
      "text/plain": [
       "count     10000.000000\n",
       "mean     100090.239881\n",
       "std       57510.492818\n",
       "min          11.580000\n",
       "25%       51002.110000\n",
       "50%      100193.915000\n",
       "75%      149388.247500\n",
       "max      199992.480000\n",
       "Name: EstimatedSalary, dtype: float64"
      ]
     },
     "execution_count": 33,
     "metadata": {},
     "output_type": "execute_result"
    }
   ],
   "source": [
    "df['EstimatedSalary'].describe()"
   ]
  },
  {
   "cell_type": "markdown",
   "metadata": {},
   "source": []
  },
  {
   "cell_type": "markdown",
   "metadata": {},
   "source": [
    "__2. Подготовка данных__\n",
    "\n",
    "Здесь мы приведем данные к нужному типу данных. Т.к. у нас два класса, которые должна предскказывать модель, то будем выбирать лучшую модель из типа классифицирующих, а значит нужно привести признаки типа 'object' к типу 'int', заменив на 0 и 1, для этого выберем метод One-Hot Encoding, т.к. мы будем выбирать лучшую модель, среди них будет и логистическая регрессия, для которой как раз подходит данный метод."
   ]
  },
  {
   "cell_type": "markdown",
   "metadata": {},
   "source": [
    "Признаки 'CustomerId' и 'Surname' считаю следует удалить."
   ]
  },
  {
   "cell_type": "code",
   "execution_count": 34,
   "metadata": {
    "scrolled": false
   },
   "outputs": [],
   "source": [
    "without_tenure = without_tenure.drop(columns=['CustomerId', 'Surname'])\n",
    "with_tenure = with_tenure.drop(columns=['CustomerId', 'Surname'])"
   ]
  },
  {
   "cell_type": "code",
   "execution_count": 35,
   "metadata": {
    "scrolled": false
   },
   "outputs": [],
   "source": [
    "without_tenure_ohe = pd.get_dummies(without_tenure, drop_first=True)\n",
    "with_tenure_ohe = pd.get_dummies(with_tenure, drop_first=True)"
   ]
  },
  {
   "cell_type": "code",
   "execution_count": 36,
   "metadata": {
    "scrolled": false
   },
   "outputs": [
    {
     "name": "stdout",
     "output_type": "stream",
     "text": [
      "<class 'pandas.core.frame.DataFrame'>\n",
      "RangeIndex: 10000 entries, 0 to 9999\n",
      "Data columns (total 13 columns):\n",
      "CustomerId         10000 non-null int64\n",
      "Surname            10000 non-null object\n",
      "CreditScore        10000 non-null int64\n",
      "Geography          10000 non-null object\n",
      "Gender             10000 non-null object\n",
      "Age                10000 non-null int64\n",
      "Tenure             9091 non-null float64\n",
      "Balance            10000 non-null float64\n",
      "NumOfProducts      10000 non-null int64\n",
      "HasCrCard          10000 non-null int64\n",
      "IsActiveMember     10000 non-null int64\n",
      "EstimatedSalary    10000 non-null float64\n",
      "Exited             10000 non-null int64\n",
      "dtypes: float64(3), int64(7), object(3)\n",
      "memory usage: 1015.8+ KB\n"
     ]
    }
   ],
   "source": [
    "df.info()"
   ]
  },
  {
   "cell_type": "code",
   "execution_count": 37,
   "metadata": {
    "scrolled": false
   },
   "outputs": [
    {
     "name": "stdout",
     "output_type": "stream",
     "text": [
      "<class 'pandas.core.frame.DataFrame'>\n",
      "RangeIndex: 9091 entries, 0 to 9090\n",
      "Data columns (total 12 columns):\n",
      "CreditScore          9091 non-null int64\n",
      "Age                  9091 non-null int64\n",
      "Tenure               9091 non-null float64\n",
      "Balance              9091 non-null float64\n",
      "NumOfProducts        9091 non-null int64\n",
      "HasCrCard            9091 non-null int64\n",
      "IsActiveMember       9091 non-null int64\n",
      "EstimatedSalary      9091 non-null float64\n",
      "Exited               9091 non-null int64\n",
      "Geography_Germany    9091 non-null uint8\n",
      "Geography_Spain      9091 non-null uint8\n",
      "Gender_Male          9091 non-null uint8\n",
      "dtypes: float64(3), int64(6), uint8(3)\n",
      "memory usage: 666.0 KB\n"
     ]
    }
   ],
   "source": [
    "with_tenure_ohe.info()"
   ]
  },
  {
   "cell_type": "code",
   "execution_count": 38,
   "metadata": {
    "scrolled": false
   },
   "outputs": [
    {
     "name": "stdout",
     "output_type": "stream",
     "text": [
      "<class 'pandas.core.frame.DataFrame'>\n",
      "RangeIndex: 10000 entries, 0 to 9999\n",
      "Data columns (total 11 columns):\n",
      "CreditScore          10000 non-null int64\n",
      "Age                  10000 non-null int64\n",
      "Balance              10000 non-null float64\n",
      "NumOfProducts        10000 non-null int64\n",
      "HasCrCard            10000 non-null int64\n",
      "IsActiveMember       10000 non-null int64\n",
      "EstimatedSalary      10000 non-null float64\n",
      "Exited               10000 non-null int64\n",
      "Geography_Germany    10000 non-null uint8\n",
      "Geography_Spain      10000 non-null uint8\n",
      "Gender_Male          10000 non-null uint8\n",
      "dtypes: float64(2), int64(6), uint8(3)\n",
      "memory usage: 654.4 KB\n"
     ]
    }
   ],
   "source": [
    "without_tenure_ohe.info()"
   ]
  },
  {
   "cell_type": "markdown",
   "metadata": {},
   "source": [
    "Разделим датафрейм на обучающую, валидационную и тестовую выборки."
   ]
  },
  {
   "cell_type": "code",
   "execution_count": 39,
   "metadata": {
    "scrolled": false
   },
   "outputs": [],
   "source": [
    "target_without = without_tenure_ohe['Exited']\n",
    "features_without = without_tenure_ohe.drop('Exited', axis=1)\n",
    "\n",
    "target_with= with_tenure_ohe['Exited']\n",
    "features_with = with_tenure_ohe.drop('Exited', axis=1)"
   ]
  },
  {
   "cell_type": "code",
   "execution_count": 40,
   "metadata": {
    "scrolled": false
   },
   "outputs": [],
   "source": [
    "features_without_train, features_without_general, target_without_train, target_without_general = train_test_split(\n",
    "    features_without, target_without, test_size=0.40, random_state=12345)\n",
    "\n",
    "features_with_train, features_with_general, target_with_train, target_with_general = train_test_split(\n",
    "    features_with, target_with, test_size=0.40, random_state=12345)"
   ]
  },
  {
   "cell_type": "code",
   "execution_count": 41,
   "metadata": {
    "scrolled": false
   },
   "outputs": [
    {
     "data": {
      "text/plain": [
       "((6000, 10), (4000, 10), (6000,), (4000,))"
      ]
     },
     "execution_count": 41,
     "metadata": {},
     "output_type": "execute_result"
    }
   ],
   "source": [
    "features_without_train.shape, features_without_general.shape, target_without_train.shape, target_without_general.shape"
   ]
  },
  {
   "cell_type": "code",
   "execution_count": 42,
   "metadata": {
    "scrolled": false
   },
   "outputs": [
    {
     "data": {
      "text/plain": [
       "((5454, 11), (3637, 11), (5454,), (3637,))"
      ]
     },
     "execution_count": 42,
     "metadata": {},
     "output_type": "execute_result"
    }
   ],
   "source": [
    "features_with_train.shape, features_with_general.shape, target_with_train.shape, target_with_general.shape"
   ]
  },
  {
   "cell_type": "code",
   "execution_count": 43,
   "metadata": {
    "scrolled": false
   },
   "outputs": [],
   "source": [
    "features_without_valid, features_without_test, target_without_valid, target_without_test = train_test_split(\n",
    "    features_without_general, target_without_general, test_size=0.50, random_state=12345)\n",
    "\n",
    "features_with_valid, features_with_test, target_with_valid, target_with_test = train_test_split(\n",
    "    features_with_general, target_with_general, test_size=0.50, random_state=12345)"
   ]
  },
  {
   "cell_type": "code",
   "execution_count": 44,
   "metadata": {
    "scrolled": false
   },
   "outputs": [
    {
     "data": {
      "text/plain": [
       "((2000, 10), (2000, 10), (2000,), (2000,))"
      ]
     },
     "execution_count": 44,
     "metadata": {},
     "output_type": "execute_result"
    }
   ],
   "source": [
    "features_without_valid.shape, features_without_test.shape, target_without_valid.shape, target_without_test.shape"
   ]
  },
  {
   "cell_type": "code",
   "execution_count": 45,
   "metadata": {
    "scrolled": true
   },
   "outputs": [
    {
     "data": {
      "text/plain": [
       "((1818, 11), (1819, 11), (1818,), (1819,))"
      ]
     },
     "execution_count": 45,
     "metadata": {},
     "output_type": "execute_result"
    }
   ],
   "source": [
    "features_with_valid.shape, features_with_test.shape, target_with_valid.shape, target_with_test.shape"
   ]
  },
  {
   "cell_type": "markdown",
   "metadata": {},
   "source": [
    "Также необходимо провести масштабирование признаков и стандартизовать их, чтобы модели считали все признаки равными. \n"
   ]
  },
  {
   "cell_type": "markdown",
   "metadata": {},
   "source": [
    "Определим признаки, которые будем масштабировать:"
   ]
  },
  {
   "cell_type": "code",
   "execution_count": 46,
   "metadata": {
    "scrolled": false
   },
   "outputs": [],
   "source": [
    "numeric = ['CreditScore', 'Age', 'Balance', 'NumOfProducts', 'EstimatedSalary']"
   ]
  },
  {
   "cell_type": "markdown",
   "metadata": {},
   "source": [
    "обучим наш scaler"
   ]
  },
  {
   "cell_type": "code",
   "execution_count": 47,
   "metadata": {
    "scrolled": false
   },
   "outputs": [
    {
     "name": "stderr",
     "output_type": "stream",
     "text": [
      "/opt/conda/lib/python3.7/site-packages/ipykernel_launcher.py:6: SettingWithCopyWarning: \n",
      "A value is trying to be set on a copy of a slice from a DataFrame.\n",
      "Try using .loc[row_indexer,col_indexer] = value instead\n",
      "\n",
      "See the caveats in the documentation: http://pandas.pydata.org/pandas-docs/stable/user_guide/indexing.html#returning-a-view-versus-a-copy\n",
      "  \n",
      "/opt/conda/lib/python3.7/site-packages/pandas/core/indexing.py:494: SettingWithCopyWarning: \n",
      "A value is trying to be set on a copy of a slice from a DataFrame.\n",
      "Try using .loc[row_indexer,col_indexer] = value instead\n",
      "\n",
      "See the caveats in the documentation: http://pandas.pydata.org/pandas-docs/stable/user_guide/indexing.html#returning-a-view-versus-a-copy\n",
      "  self.obj[item] = s\n",
      "/opt/conda/lib/python3.7/site-packages/ipykernel_launcher.py:7: SettingWithCopyWarning: \n",
      "A value is trying to be set on a copy of a slice from a DataFrame.\n",
      "Try using .loc[row_indexer,col_indexer] = value instead\n",
      "\n",
      "See the caveats in the documentation: http://pandas.pydata.org/pandas-docs/stable/user_guide/indexing.html#returning-a-view-versus-a-copy\n",
      "  import sys\n",
      "/opt/conda/lib/python3.7/site-packages/pandas/core/indexing.py:494: SettingWithCopyWarning: \n",
      "A value is trying to be set on a copy of a slice from a DataFrame.\n",
      "Try using .loc[row_indexer,col_indexer] = value instead\n",
      "\n",
      "See the caveats in the documentation: http://pandas.pydata.org/pandas-docs/stable/user_guide/indexing.html#returning-a-view-versus-a-copy\n",
      "  self.obj[item] = s\n"
     ]
    }
   ],
   "source": [
    "scaler_without = StandardScaler()\n",
    "scaler_without.fit(features_without_train[numeric])\n",
    "scaler_with = StandardScaler()\n",
    "scaler_with.fit(features_with_train[numeric])\n",
    "\n",
    "features_without_train[numeric] = scaler_without.transform(features_without_train[numeric])\n",
    "features_with_train[numeric] = scaler_with.transform(features_with_train[numeric])"
   ]
  },
  {
   "cell_type": "markdown",
   "metadata": {},
   "source": [
    "проведем масштабирование валидационной и тестовой выборок"
   ]
  },
  {
   "cell_type": "code",
   "execution_count": 48,
   "metadata": {
    "scrolled": false
   },
   "outputs": [
    {
     "name": "stderr",
     "output_type": "stream",
     "text": [
      "/opt/conda/lib/python3.7/site-packages/ipykernel_launcher.py:1: SettingWithCopyWarning: \n",
      "A value is trying to be set on a copy of a slice from a DataFrame.\n",
      "Try using .loc[row_indexer,col_indexer] = value instead\n",
      "\n",
      "See the caveats in the documentation: http://pandas.pydata.org/pandas-docs/stable/user_guide/indexing.html#returning-a-view-versus-a-copy\n",
      "  \"\"\"Entry point for launching an IPython kernel.\n",
      "/opt/conda/lib/python3.7/site-packages/pandas/core/indexing.py:494: SettingWithCopyWarning: \n",
      "A value is trying to be set on a copy of a slice from a DataFrame.\n",
      "Try using .loc[row_indexer,col_indexer] = value instead\n",
      "\n",
      "See the caveats in the documentation: http://pandas.pydata.org/pandas-docs/stable/user_guide/indexing.html#returning-a-view-versus-a-copy\n",
      "  self.obj[item] = s\n",
      "/opt/conda/lib/python3.7/site-packages/ipykernel_launcher.py:2: SettingWithCopyWarning: \n",
      "A value is trying to be set on a copy of a slice from a DataFrame.\n",
      "Try using .loc[row_indexer,col_indexer] = value instead\n",
      "\n",
      "See the caveats in the documentation: http://pandas.pydata.org/pandas-docs/stable/user_guide/indexing.html#returning-a-view-versus-a-copy\n",
      "  \n",
      "/opt/conda/lib/python3.7/site-packages/pandas/core/indexing.py:494: SettingWithCopyWarning: \n",
      "A value is trying to be set on a copy of a slice from a DataFrame.\n",
      "Try using .loc[row_indexer,col_indexer] = value instead\n",
      "\n",
      "See the caveats in the documentation: http://pandas.pydata.org/pandas-docs/stable/user_guide/indexing.html#returning-a-view-versus-a-copy\n",
      "  self.obj[item] = s\n",
      "/opt/conda/lib/python3.7/site-packages/ipykernel_launcher.py:4: SettingWithCopyWarning: \n",
      "A value is trying to be set on a copy of a slice from a DataFrame.\n",
      "Try using .loc[row_indexer,col_indexer] = value instead\n",
      "\n",
      "See the caveats in the documentation: http://pandas.pydata.org/pandas-docs/stable/user_guide/indexing.html#returning-a-view-versus-a-copy\n",
      "  after removing the cwd from sys.path.\n",
      "/opt/conda/lib/python3.7/site-packages/pandas/core/indexing.py:494: SettingWithCopyWarning: \n",
      "A value is trying to be set on a copy of a slice from a DataFrame.\n",
      "Try using .loc[row_indexer,col_indexer] = value instead\n",
      "\n",
      "See the caveats in the documentation: http://pandas.pydata.org/pandas-docs/stable/user_guide/indexing.html#returning-a-view-versus-a-copy\n",
      "  self.obj[item] = s\n",
      "/opt/conda/lib/python3.7/site-packages/ipykernel_launcher.py:5: SettingWithCopyWarning: \n",
      "A value is trying to be set on a copy of a slice from a DataFrame.\n",
      "Try using .loc[row_indexer,col_indexer] = value instead\n",
      "\n",
      "See the caveats in the documentation: http://pandas.pydata.org/pandas-docs/stable/user_guide/indexing.html#returning-a-view-versus-a-copy\n",
      "  \"\"\"\n",
      "/opt/conda/lib/python3.7/site-packages/pandas/core/indexing.py:494: SettingWithCopyWarning: \n",
      "A value is trying to be set on a copy of a slice from a DataFrame.\n",
      "Try using .loc[row_indexer,col_indexer] = value instead\n",
      "\n",
      "See the caveats in the documentation: http://pandas.pydata.org/pandas-docs/stable/user_guide/indexing.html#returning-a-view-versus-a-copy\n",
      "  self.obj[item] = s\n"
     ]
    }
   ],
   "source": [
    "features_without_valid[numeric] = scaler_without.transform(features_without_valid[numeric])\n",
    "features_with_valid[numeric] = scaler_with.transform(features_with_valid[numeric])\n",
    "\n",
    "features_without_test[numeric] = scaler_without.transform(features_without_test[numeric])\n",
    "features_with_test[numeric] = scaler_with.transform(features_with_test[numeric])"
   ]
  },
  {
   "cell_type": "markdown",
   "metadata": {},
   "source": [
    "__Вывод__\n",
    "\n",
    "Таким образом мы посмотрели на данные, изучили, посмотрели на распределения признаков. Попробовали найти выбросы. Выявили пропуски  данных, признак \"Tenure\" заполнен на 90%. Поэтому мы разбили наш датафрейм на 2 - с удаленными пропусками в данных и удаленным признаком, чтобы в тоом числе и посмотреть на качество моделей обученных на разных данных.\n",
    "\n",
    "Далее мы провели прямое кодирование, избавились от дамми-ловушек и перевели признаки из типа object во float.\n",
    "\n",
    "Разбили наши датафреймы на 3 выборки - тренировочная - 60% данных, валидационная и тестовая по 20% каждая.\n",
    "\n",
    "Провели масштабирование, чтобы все признаки имели один вес и значимость для модели.\n",
    "\n",
    "И готовы к следующему шагу."
   ]
  },
  {
   "cell_type": "markdown",
   "metadata": {},
   "source": [
    "# 2. Исследование задачи"
   ]
  },
  {
   "cell_type": "markdown",
   "metadata": {},
   "source": [
    "В данном шаге мы попробуем подобрать параметры и обучить наши модели без учёта дисбаланса классов, а он есть - класс \"0\" составляет 80%.\n"
   ]
  },
  {
   "cell_type": "markdown",
   "metadata": {},
   "source": [
    "__1. Датафрейм с признаком Tenure, но с 9091 объектами__\n"
   ]
  },
  {
   "cell_type": "markdown",
   "metadata": {},
   "source": [
    "1. LogisticRegression"
   ]
  },
  {
   "cell_type": "code",
   "execution_count": 49,
   "metadata": {
    "scrolled": false
   },
   "outputs": [],
   "source": [
    "from sklearn.linear_model import LogisticRegression"
   ]
  },
  {
   "cell_type": "code",
   "execution_count": 50,
   "metadata": {
    "scrolled": false
   },
   "outputs": [
    {
     "name": "stderr",
     "output_type": "stream",
     "text": [
      "/opt/conda/lib/python3.7/site-packages/sklearn/linear_model/logistic.py:432: FutureWarning: Default solver will be changed to 'lbfgs' in 0.22. Specify a solver to silence this warning.\n",
      "  FutureWarning)\n"
     ]
    },
    {
     "name": "stdout",
     "output_type": "stream",
     "text": [
      "accuracy: 0.8085808580858086\n",
      "recall: 0.20159151193633953\n",
      "precision: 0.6178861788617886\n",
      "f1: 0.30400000000000005\n",
      "AUC-ROC 0.5844876366066153\n"
     ]
    }
   ],
   "source": [
    "model_log_reg1 = LogisticRegression(random_state=12345)\n",
    "model_log_reg1.fit(features_with_train, target_with_train)\n",
    "prediction_valid = model_log_reg1.predict(features_with_valid)\n",
    "\n",
    "probabilities_valid = model_log_reg1.predict_proba(features_with_valid)\n",
    "probabilities_one_valid = probabilities_valid[:, 1]\n",
    "\n",
    "accuracy = accuracy_score(target_with_valid, prediction_valid)\n",
    "\n",
    "print('accuracy:', accuracy)\n",
    "print('recall:', recall_score(target_with_valid, prediction_valid))\n",
    "print('precision:', precision_score(target_with_valid, prediction_valid))\n",
    "print('f1:', f1_score(target_with_valid, prediction_valid))\n",
    "print('AUC-ROC', roc_auc_score(target_with_valid, prediction_valid))"
   ]
  },
  {
   "cell_type": "markdown",
   "metadata": {},
   "source": [
    "2. DecisionTreeRegressor"
   ]
  },
  {
   "cell_type": "code",
   "execution_count": 51,
   "metadata": {
    "scrolled": false
   },
   "outputs": [],
   "source": [
    "from sklearn.tree import DecisionTreeClassifier"
   ]
  },
  {
   "cell_type": "code",
   "execution_count": 52,
   "metadata": {
    "scrolled": false
   },
   "outputs": [
    {
     "name": "stderr",
     "output_type": "stream",
     "text": [
      "/opt/conda/lib/python3.7/site-packages/sklearn/metrics/classification.py:1437: UndefinedMetricWarning: F-score is ill-defined and being set to 0.0 due to no predicted samples.\n",
      "  'precision', 'predicted', average, warn_for)\n"
     ]
    },
    {
     "name": "stdout",
     "output_type": "stream",
     "text": [
      "max_depth: 7\n",
      "recall: 0.48010610079575594\n",
      "precision: 0.7211155378486056\n",
      "f1: 0.5764331210191083\n",
      "AUC-ROC 0.7157643619870521\n"
     ]
    }
   ],
   "source": [
    "f1_max = 0\n",
    "for depth in range(1, 21, 1):\n",
    "    model_tree1 = DecisionTreeClassifier(random_state = 12345, max_depth=depth)\n",
    "    model_tree1.fit(features_with_train, target_with_train)\n",
    "    predictions1 = model_tree1.predict(features_with_valid)\n",
    "    \n",
    "    f1 = f1_score(target_with_valid, predictions1)\n",
    "        \n",
    "    if f1_max < f1:\n",
    "        f1_max = f1\n",
    "        depth_max = depth\n",
    "\n",
    "model_tree1 = DecisionTreeClassifier(random_state = 12345, max_depth=depth_max)\n",
    "model_tree1.fit(features_with_train, target_with_train)\n",
    "predictions1 = model_tree1.predict(features_with_valid)\n",
    "    \n",
    "print('max_depth:', depth_max)\n",
    "print('recall:', recall_score(target_with_valid, predictions1))\n",
    "print('precision:', precision_score(target_with_valid, predictions1))\n",
    "print('f1:', f1_score(target_with_valid, predictions1))\n",
    "print('AUC-ROC', roc_auc_score(target_with_valid, predictions1))"
   ]
  },
  {
   "cell_type": "markdown",
   "metadata": {},
   "source": [
    "Лучший результат достигнут при глубине дерева = 7:\n",
    "\n",
    "    max_depth: 7\n",
    "    recall: 0.48010610079575594\n",
    "    precision: 0.7211155378486056\n",
    "    f1: 0.5764331210191083\n",
    "    AUC-ROC 0.7157643619870521\n",
    "\n",
    "Далее посмотрим, как изменятся метрики качества, если изменим параметр max_leaf_nodes."
   ]
  },
  {
   "cell_type": "code",
   "execution_count": 53,
   "metadata": {
    "scrolled": true
   },
   "outputs": [
    {
     "name": "stderr",
     "output_type": "stream",
     "text": [
      "/opt/conda/lib/python3.7/site-packages/sklearn/metrics/classification.py:1437: UndefinedMetricWarning: F-score is ill-defined and being set to 0.0 due to no predicted samples.\n",
      "  'precision', 'predicted', average, warn_for)\n",
      "/opt/conda/lib/python3.7/site-packages/sklearn/metrics/classification.py:1437: UndefinedMetricWarning: F-score is ill-defined and being set to 0.0 due to no predicted samples.\n",
      "  'precision', 'predicted', average, warn_for)\n",
      "/opt/conda/lib/python3.7/site-packages/sklearn/metrics/classification.py:1437: UndefinedMetricWarning: F-score is ill-defined and being set to 0.0 due to no predicted samples.\n",
      "  'precision', 'predicted', average, warn_for)\n",
      "/opt/conda/lib/python3.7/site-packages/sklearn/metrics/classification.py:1437: UndefinedMetricWarning: F-score is ill-defined and being set to 0.0 due to no predicted samples.\n",
      "  'precision', 'predicted', average, warn_for)\n",
      "/opt/conda/lib/python3.7/site-packages/sklearn/metrics/classification.py:1437: UndefinedMetricWarning: F-score is ill-defined and being set to 0.0 due to no predicted samples.\n",
      "  'precision', 'predicted', average, warn_for)\n",
      "/opt/conda/lib/python3.7/site-packages/sklearn/metrics/classification.py:1437: UndefinedMetricWarning: F-score is ill-defined and being set to 0.0 due to no predicted samples.\n",
      "  'precision', 'predicted', average, warn_for)\n",
      "/opt/conda/lib/python3.7/site-packages/sklearn/metrics/classification.py:1437: UndefinedMetricWarning: F-score is ill-defined and being set to 0.0 due to no predicted samples.\n",
      "  'precision', 'predicted', average, warn_for)\n",
      "/opt/conda/lib/python3.7/site-packages/sklearn/metrics/classification.py:1437: UndefinedMetricWarning: F-score is ill-defined and being set to 0.0 due to no predicted samples.\n",
      "  'precision', 'predicted', average, warn_for)\n",
      "/opt/conda/lib/python3.7/site-packages/sklearn/metrics/classification.py:1437: UndefinedMetricWarning: F-score is ill-defined and being set to 0.0 due to no predicted samples.\n",
      "  'precision', 'predicted', average, warn_for)\n",
      "/opt/conda/lib/python3.7/site-packages/sklearn/metrics/classification.py:1437: UndefinedMetricWarning: F-score is ill-defined and being set to 0.0 due to no predicted samples.\n",
      "  'precision', 'predicted', average, warn_for)\n",
      "/opt/conda/lib/python3.7/site-packages/sklearn/metrics/classification.py:1437: UndefinedMetricWarning: F-score is ill-defined and being set to 0.0 due to no predicted samples.\n",
      "  'precision', 'predicted', average, warn_for)\n",
      "/opt/conda/lib/python3.7/site-packages/sklearn/metrics/classification.py:1437: UndefinedMetricWarning: F-score is ill-defined and being set to 0.0 due to no predicted samples.\n",
      "  'precision', 'predicted', average, warn_for)\n",
      "/opt/conda/lib/python3.7/site-packages/sklearn/metrics/classification.py:1437: UndefinedMetricWarning: F-score is ill-defined and being set to 0.0 due to no predicted samples.\n",
      "  'precision', 'predicted', average, warn_for)\n",
      "/opt/conda/lib/python3.7/site-packages/sklearn/metrics/classification.py:1437: UndefinedMetricWarning: F-score is ill-defined and being set to 0.0 due to no predicted samples.\n",
      "  'precision', 'predicted', average, warn_for)\n",
      "/opt/conda/lib/python3.7/site-packages/sklearn/metrics/classification.py:1437: UndefinedMetricWarning: F-score is ill-defined and being set to 0.0 due to no predicted samples.\n",
      "  'precision', 'predicted', average, warn_for)\n",
      "/opt/conda/lib/python3.7/site-packages/sklearn/metrics/classification.py:1437: UndefinedMetricWarning: F-score is ill-defined and being set to 0.0 due to no predicted samples.\n",
      "  'precision', 'predicted', average, warn_for)\n",
      "/opt/conda/lib/python3.7/site-packages/sklearn/metrics/classification.py:1437: UndefinedMetricWarning: F-score is ill-defined and being set to 0.0 due to no predicted samples.\n",
      "  'precision', 'predicted', average, warn_for)\n",
      "/opt/conda/lib/python3.7/site-packages/sklearn/metrics/classification.py:1437: UndefinedMetricWarning: F-score is ill-defined and being set to 0.0 due to no predicted samples.\n",
      "  'precision', 'predicted', average, warn_for)\n",
      "/opt/conda/lib/python3.7/site-packages/sklearn/metrics/classification.py:1437: UndefinedMetricWarning: F-score is ill-defined and being set to 0.0 due to no predicted samples.\n",
      "  'precision', 'predicted', average, warn_for)\n",
      "/opt/conda/lib/python3.7/site-packages/sklearn/metrics/classification.py:1437: UndefinedMetricWarning: F-score is ill-defined and being set to 0.0 due to no predicted samples.\n",
      "  'precision', 'predicted', average, warn_for)\n",
      "/opt/conda/lib/python3.7/site-packages/sklearn/metrics/classification.py:1437: UndefinedMetricWarning: F-score is ill-defined and being set to 0.0 due to no predicted samples.\n",
      "  'precision', 'predicted', average, warn_for)\n",
      "/opt/conda/lib/python3.7/site-packages/sklearn/metrics/classification.py:1437: UndefinedMetricWarning: F-score is ill-defined and being set to 0.0 due to no predicted samples.\n",
      "  'precision', 'predicted', average, warn_for)\n"
     ]
    },
    {
     "name": "stdout",
     "output_type": "stream",
     "text": [
      "max_leaf_nodes: 9\n",
      "max_depth: 4\n",
      "recall: 0.4244031830238727\n",
      "precision: 0.7476635514018691\n",
      "f1: 0.5414551607445008\n",
      "AUC-ROC 0.6934646033092994\n"
     ]
    }
   ],
   "source": [
    "f1_max = 0\n",
    "for nodes in range(2, 10, 1):\n",
    "    for depth in range(1, 16, 1):\n",
    "        model_tree1 = DecisionTreeClassifier(random_state = 22, max_depth=depth, max_leaf_nodes=nodes)\n",
    "        model_tree1.fit(features_with_train, target_with_train)\n",
    "        predictions1 = model_tree1.predict(features_with_valid)\n",
    "    \n",
    "        f1 = f1_score(target_with_valid, predictions1)\n",
    "        \n",
    "        if f1_max < f1:\n",
    "            f1_max = f1\n",
    "            depth_max = depth\n",
    "            nodes_max = nodes\n",
    "\n",
    "model_tree1 = DecisionTreeClassifier(random_state = 12345, max_depth=depth_max)\n",
    "model_tree1.fit(features_with_train, target_with_train)\n",
    "predictions1 = model_tree1.predict(features_with_valid)\n",
    "\n",
    "print('max_leaf_nodes:', nodes_max)\n",
    "print('max_depth:', depth_max)\n",
    "print('recall:', recall_score(target_with_valid, predictions1))\n",
    "print('precision:', precision_score(target_with_valid, predictions1))\n",
    "print('f1:', f1_score(target_with_valid, predictions1))\n",
    "print('AUC-ROC', roc_auc_score(target_with_valid, predictions1))"
   ]
  },
  {
   "cell_type": "markdown",
   "metadata": {},
   "source": [
    "Если поставить  max_leaf_nodes = 9 и глубину дерева = 4, то можно получить результат:\n",
    "    \n",
    "    max_leaf_nodes: 9\n",
    "    max_depth: 4\n",
    "    recall: 0.4244031830238727\n",
    "    precision: 0.7476635514018691\n",
    "    f1: 0.5414551607445008\n",
    "    AUC-ROC 0.6934646033092994\n",
    "\n",
    "Пока лучший результат = 0,57"
   ]
  },
  {
   "cell_type": "markdown",
   "metadata": {},
   "source": [
    "3. RandomForestClassifier"
   ]
  },
  {
   "cell_type": "code",
   "execution_count": 54,
   "metadata": {
    "scrolled": false
   },
   "outputs": [],
   "source": [
    "from sklearn.ensemble import RandomForestClassifier"
   ]
  },
  {
   "cell_type": "code",
   "execution_count": 55,
   "metadata": {
    "scrolled": true
   },
   "outputs": [
    {
     "name": "stderr",
     "output_type": "stream",
     "text": [
      "/opt/conda/lib/python3.7/site-packages/sklearn/metrics/classification.py:1437: UndefinedMetricWarning: F-score is ill-defined and being set to 0.0 due to no predicted samples.\n",
      "  'precision', 'predicted', average, warn_for)\n",
      "/opt/conda/lib/python3.7/site-packages/sklearn/metrics/classification.py:1437: UndefinedMetricWarning: F-score is ill-defined and being set to 0.0 due to no predicted samples.\n",
      "  'precision', 'predicted', average, warn_for)\n",
      "/opt/conda/lib/python3.7/site-packages/sklearn/metrics/classification.py:1437: UndefinedMetricWarning: F-score is ill-defined and being set to 0.0 due to no predicted samples.\n",
      "  'precision', 'predicted', average, warn_for)\n",
      "/opt/conda/lib/python3.7/site-packages/sklearn/metrics/classification.py:1437: UndefinedMetricWarning: F-score is ill-defined and being set to 0.0 due to no predicted samples.\n",
      "  'precision', 'predicted', average, warn_for)\n",
      "/opt/conda/lib/python3.7/site-packages/sklearn/metrics/classification.py:1437: UndefinedMetricWarning: F-score is ill-defined and being set to 0.0 due to no predicted samples.\n",
      "  'precision', 'predicted', average, warn_for)\n",
      "/opt/conda/lib/python3.7/site-packages/sklearn/metrics/classification.py:1437: UndefinedMetricWarning: F-score is ill-defined and being set to 0.0 due to no predicted samples.\n",
      "  'precision', 'predicted', average, warn_for)\n",
      "/opt/conda/lib/python3.7/site-packages/sklearn/metrics/classification.py:1437: UndefinedMetricWarning: F-score is ill-defined and being set to 0.0 due to no predicted samples.\n",
      "  'precision', 'predicted', average, warn_for)\n",
      "/opt/conda/lib/python3.7/site-packages/sklearn/metrics/classification.py:1437: UndefinedMetricWarning: F-score is ill-defined and being set to 0.0 due to no predicted samples.\n",
      "  'precision', 'predicted', average, warn_for)\n",
      "/opt/conda/lib/python3.7/site-packages/sklearn/metrics/classification.py:1437: UndefinedMetricWarning: F-score is ill-defined and being set to 0.0 due to no predicted samples.\n",
      "  'precision', 'predicted', average, warn_for)\n",
      "/opt/conda/lib/python3.7/site-packages/sklearn/metrics/classification.py:1437: UndefinedMetricWarning: F-score is ill-defined and being set to 0.0 due to no predicted samples.\n",
      "  'precision', 'predicted', average, warn_for)\n",
      "/opt/conda/lib/python3.7/site-packages/sklearn/metrics/classification.py:1437: UndefinedMetricWarning: F-score is ill-defined and being set to 0.0 due to no predicted samples.\n",
      "  'precision', 'predicted', average, warn_for)\n",
      "/opt/conda/lib/python3.7/site-packages/sklearn/metrics/classification.py:1437: UndefinedMetricWarning: F-score is ill-defined and being set to 0.0 due to no predicted samples.\n",
      "  'precision', 'predicted', average, warn_for)\n",
      "/opt/conda/lib/python3.7/site-packages/sklearn/metrics/classification.py:1437: UndefinedMetricWarning: F-score is ill-defined and being set to 0.0 due to no predicted samples.\n",
      "  'precision', 'predicted', average, warn_for)\n",
      "/opt/conda/lib/python3.7/site-packages/sklearn/metrics/classification.py:1437: UndefinedMetricWarning: F-score is ill-defined and being set to 0.0 due to no predicted samples.\n",
      "  'precision', 'predicted', average, warn_for)\n",
      "/opt/conda/lib/python3.7/site-packages/sklearn/metrics/classification.py:1437: UndefinedMetricWarning: F-score is ill-defined and being set to 0.0 due to no predicted samples.\n",
      "  'precision', 'predicted', average, warn_for)\n",
      "/opt/conda/lib/python3.7/site-packages/sklearn/metrics/classification.py:1437: UndefinedMetricWarning: F-score is ill-defined and being set to 0.0 due to no predicted samples.\n",
      "  'precision', 'predicted', average, warn_for)\n",
      "/opt/conda/lib/python3.7/site-packages/sklearn/metrics/classification.py:1437: UndefinedMetricWarning: F-score is ill-defined and being set to 0.0 due to no predicted samples.\n",
      "  'precision', 'predicted', average, warn_for)\n",
      "/opt/conda/lib/python3.7/site-packages/sklearn/metrics/classification.py:1437: UndefinedMetricWarning: F-score is ill-defined and being set to 0.0 due to no predicted samples.\n",
      "  'precision', 'predicted', average, warn_for)\n",
      "/opt/conda/lib/python3.7/site-packages/sklearn/metrics/classification.py:1437: UndefinedMetricWarning: F-score is ill-defined and being set to 0.0 due to no predicted samples.\n",
      "  'precision', 'predicted', average, warn_for)\n"
     ]
    },
    {
     "name": "stdout",
     "output_type": "stream",
     "text": [
      "деревьев в ансамбле: 21\n",
      "max_depth: 20\n",
      "recall: 0.493368700265252\n",
      "precision: 0.7591836734693878\n",
      "f1: 0.5980707395498391\n",
      "AUC-ROC: 0.72621245561493\n"
     ]
    }
   ],
   "source": [
    "f1_max = 0\n",
    "for estim in range(1, 100, 5):\n",
    "    for depth in range(1, 21, 1):\n",
    "        model_ran_for = RandomForestClassifier(random_state=12345, n_estimators=estim, max_depth=depth)\n",
    "        model_ran_for.fit(features_with_train, target_with_train)\n",
    "        predictions = model_ran_for.predict(features_with_valid)\n",
    "                    \n",
    "        f1 = f1_score(target_with_valid, predictions)\n",
    "        \n",
    "        if f1_max < f1:\n",
    "            f1_max = f1\n",
    "            depth_max = depth\n",
    "            estim_max = estim\n",
    "        \n",
    "model_ran_for = RandomForestClassifier(random_state=12345, n_estimators=estim_max, max_depth=depth_max)\n",
    "model_ran_for.fit(features_with_train, target_with_train)\n",
    "predictions = model_ran_for.predict(features_with_valid)\n",
    "\n",
    "print('деревьев в ансамбле:', estim_max)\n",
    "print('max_depth:', depth_max)\n",
    "print('recall:', recall_score(target_with_valid, predictions))\n",
    "print('precision:', precision_score(target_with_valid, predictions))\n",
    "print('f1:', f1_score(target_with_valid, predictions))\n",
    "print('AUC-ROC:', roc_auc_score(target_with_valid, predictions))"
   ]
  },
  {
   "cell_type": "markdown",
   "metadata": {},
   "source": [
    "Если посмотреть на весь список результатов и оценить его, то можно задаться вопросом:\n",
    "\n",
    "Зачем уходить в дебри и тратить время и ресурс, когда лес с 21 деревьями даёт результат тайги из 81 дерева:\n",
    "\n",
    "    деревьев в ансамбле: 21\n",
    "    max_depth: 20\n",
    "    recall: 0.493368700265252\n",
    "    precision: 0.7591836734693878\n",
    "    f1: 0.5980707395498391\n",
    "    AUC-ROC: 0.72621245561493\n",
    "    \n",
    "    деревьев в ансамбле: 81\n",
    "    max_depth: 17\n",
    "    recall: 0.47745358090185674\n",
    "    precision: 0.7929515418502202\n",
    "    f1: 0.5960264900662251\n",
    "    AUC-ROC: 0.7224186710893739\n",
    "    \n",
    "Таким образом приходит мысль, что форму ``if f1_max < f1:`` можно \"оптимизировать\", добавив \"(f1_max-0.0N) < f1\", где N - допустимый в меньшую сторону результат, чтобы съэкономить на глубине и ансамбле. Но мы не будем тут к этому прибегать, т.к. у нас главная цель ф1 строго больше 0,59 и нет ни слова о времени работы такого дерева."
   ]
  },
  {
   "cell_type": "markdown",
   "metadata": {},
   "source": [
    "__2. Датафрейм без признака Tenure, но с 10000 объектов__"
   ]
  },
  {
   "cell_type": "markdown",
   "metadata": {},
   "source": [
    "1. LogisticRegression"
   ]
  },
  {
   "cell_type": "code",
   "execution_count": 56,
   "metadata": {
    "scrolled": false
   },
   "outputs": [
    {
     "name": "stdout",
     "output_type": "stream",
     "text": [
      "accuracy: 0.803\n",
      "recall: 0.22727272727272727\n",
      "precision: 0.572289156626506\n",
      "f1: 0.3253424657534246\n",
      "AUC-ROC 0.5911964142052638\n"
     ]
    },
    {
     "name": "stderr",
     "output_type": "stream",
     "text": [
      "/opt/conda/lib/python3.7/site-packages/sklearn/linear_model/logistic.py:432: FutureWarning: Default solver will be changed to 'lbfgs' in 0.22. Specify a solver to silence this warning.\n",
      "  FutureWarning)\n"
     ]
    }
   ],
   "source": [
    "model_log_reg2 = LogisticRegression(random_state=12345)\n",
    "model_log_reg2.fit(features_without_train, target_without_train)\n",
    "prediction_valid = model_log_reg2.predict(features_without_valid)\n",
    "\n",
    "probabilities_valid = model_log_reg2.predict_proba(features_without_valid)\n",
    "probabilities_one_valid = probabilities_valid[:, 1]\n",
    "\n",
    "accuracy = accuracy_score(target_without_valid, prediction_valid)\n",
    "\n",
    "print('accuracy:', accuracy)\n",
    "print('recall:', recall_score(target_without_valid, prediction_valid))\n",
    "print('precision:', precision_score(target_without_valid, prediction_valid))\n",
    "print('f1:', f1_score(target_without_valid, prediction_valid))\n",
    "print('AUC-ROC', roc_auc_score(target_without_valid, prediction_valid))"
   ]
  },
  {
   "cell_type": "markdown",
   "metadata": {},
   "source": [
    "Щекотливый вывод!\n",
    "\n",
    "Оказывается, что касается логистической регрессии, то лучше пожертвовать признаком, если он не критичен (в данном случае он не критичен точно) и увеличить размер обучающей выборки  на 10%, правда, чтобы сказать абсолютно точно - нужно подтвердить это с данными, где будет признак Tenure и будет 10000 объектов, иначе признак Tenure лишь путает модель.\n",
    "\n",
    "результат прошлой модели (с признаком Tenure, но 9091 объектами):\n",
    "\n",
    "    accuracy: 0.8085808580858086\n",
    "    recall: 0.20159151193633953\n",
    "    precision: 0.6178861788617886\n",
    "    f1: 0.30400000000000005\n",
    "    AUC-ROC 0.5844876366066153\n",
    "    \n",
    "результат модели без признака Tenure, но с 10000 объектами:\n",
    "\n",
    "    accuracy: 0.803\n",
    "    recall: 0.22727272727272727\n",
    "    precision: 0.572289156626506\n",
    "    f1: 0.3253424657534246\n",
    "    AUC-ROC 0.5911964142052638"
   ]
  },
  {
   "cell_type": "markdown",
   "metadata": {},
   "source": [
    "2. DecisionTreeRegressor"
   ]
  },
  {
   "cell_type": "code",
   "execution_count": 57,
   "metadata": {
    "scrolled": true
   },
   "outputs": [
    {
     "name": "stderr",
     "output_type": "stream",
     "text": [
      "/opt/conda/lib/python3.7/site-packages/sklearn/metrics/classification.py:1437: UndefinedMetricWarning: F-score is ill-defined and being set to 0.0 due to no predicted samples.\n",
      "  'precision', 'predicted', average, warn_for)\n"
     ]
    },
    {
     "name": "stdout",
     "output_type": "stream",
     "text": [
      "max_depth: 6\n",
      "recall: 0.4473684210526316\n",
      "precision: 0.7695473251028807\n",
      "f1: 0.5658093797276854\n",
      "AUC-ROC 0.7059850954820679\n"
     ]
    }
   ],
   "source": [
    "f1_max = 0\n",
    "for depth in range(1, 21, 1):\n",
    "    model_tree2 = DecisionTreeClassifier(random_state = 12345, max_depth=depth)\n",
    "    model_tree2.fit(features_without_train, target_without_train)\n",
    "    predictions2 = model_tree2.predict(features_without_valid)\n",
    "    \n",
    "    f1 = f1_score(target_without_valid, predictions2)\n",
    "        \n",
    "    if f1_max < f1:\n",
    "        f1_max = f1\n",
    "        depth_max = depth\n",
    "            \n",
    "model_tree1 = DecisionTreeClassifier(random_state = 12345, max_depth=depth_max)\n",
    "model_tree1.fit(features_without_train, target_without_train)\n",
    "predictions2 = model_tree1.predict(features_without_valid)\n",
    "\n",
    "print('max_depth:', depth_max)\n",
    "print('recall:', recall_score(target_without_valid, predictions2))\n",
    "print('precision:', precision_score(target_without_valid, predictions2))\n",
    "print('f1:', f1_score(target_without_valid, predictions2))\n",
    "print('AUC-ROC', roc_auc_score(target_without_valid, predictions2))"
   ]
  },
  {
   "cell_type": "markdown",
   "metadata": {},
   "source": [
    "С решающим деревом картина выглядит иначе, чем с логистической регрессией.\n",
    "\n",
    "Решающее дерево без признака Tenure даёт свой лучший результат при глубине = 6, но на сотую долю хуже.\n",
    "\n",
    "результат модели без признака Tenure, но с 10000 объектами:\n",
    "\n",
    "    max_depth: 6\n",
    "    recall: 0.4473684210526316\n",
    "    precision: 0.7695473251028807\n",
    "    f1: 0.5658093797276854\n",
    "    AUC-ROC 0.7059850954820679\n",
    "\n",
    "результат прошлой модели (с признаком Tenure, но 9091 объектами):\n",
    "\n",
    "    max_depth: 7\n",
    "    recall: 0.48010610079575594\n",
    "    precision: 0.7211155378486056\n",
    "    f1: 0.5764331210191083\n",
    "    AUC-ROC 0.7157643619870521\n",
    "    \n",
    "    \n",
    " Далее проверим её работу с параметром max_leaf_nodes"
   ]
  },
  {
   "cell_type": "code",
   "execution_count": 58,
   "metadata": {
    "scrolled": true
   },
   "outputs": [
    {
     "name": "stderr",
     "output_type": "stream",
     "text": [
      "/opt/conda/lib/python3.7/site-packages/sklearn/metrics/classification.py:1437: UndefinedMetricWarning: F-score is ill-defined and being set to 0.0 due to no predicted samples.\n",
      "  'precision', 'predicted', average, warn_for)\n",
      "/opt/conda/lib/python3.7/site-packages/sklearn/metrics/classification.py:1437: UndefinedMetricWarning: F-score is ill-defined and being set to 0.0 due to no predicted samples.\n",
      "  'precision', 'predicted', average, warn_for)\n",
      "/opt/conda/lib/python3.7/site-packages/sklearn/metrics/classification.py:1437: UndefinedMetricWarning: F-score is ill-defined and being set to 0.0 due to no predicted samples.\n",
      "  'precision', 'predicted', average, warn_for)\n",
      "/opt/conda/lib/python3.7/site-packages/sklearn/metrics/classification.py:1437: UndefinedMetricWarning: F-score is ill-defined and being set to 0.0 due to no predicted samples.\n",
      "  'precision', 'predicted', average, warn_for)\n",
      "/opt/conda/lib/python3.7/site-packages/sklearn/metrics/classification.py:1437: UndefinedMetricWarning: F-score is ill-defined and being set to 0.0 due to no predicted samples.\n",
      "  'precision', 'predicted', average, warn_for)\n",
      "/opt/conda/lib/python3.7/site-packages/sklearn/metrics/classification.py:1437: UndefinedMetricWarning: F-score is ill-defined and being set to 0.0 due to no predicted samples.\n",
      "  'precision', 'predicted', average, warn_for)\n",
      "/opt/conda/lib/python3.7/site-packages/sklearn/metrics/classification.py:1437: UndefinedMetricWarning: F-score is ill-defined and being set to 0.0 due to no predicted samples.\n",
      "  'precision', 'predicted', average, warn_for)\n",
      "/opt/conda/lib/python3.7/site-packages/sklearn/metrics/classification.py:1437: UndefinedMetricWarning: F-score is ill-defined and being set to 0.0 due to no predicted samples.\n",
      "  'precision', 'predicted', average, warn_for)\n",
      "/opt/conda/lib/python3.7/site-packages/sklearn/metrics/classification.py:1437: UndefinedMetricWarning: F-score is ill-defined and being set to 0.0 due to no predicted samples.\n",
      "  'precision', 'predicted', average, warn_for)\n",
      "/opt/conda/lib/python3.7/site-packages/sklearn/metrics/classification.py:1437: UndefinedMetricWarning: F-score is ill-defined and being set to 0.0 due to no predicted samples.\n",
      "  'precision', 'predicted', average, warn_for)\n",
      "/opt/conda/lib/python3.7/site-packages/sklearn/metrics/classification.py:1437: UndefinedMetricWarning: F-score is ill-defined and being set to 0.0 due to no predicted samples.\n",
      "  'precision', 'predicted', average, warn_for)\n",
      "/opt/conda/lib/python3.7/site-packages/sklearn/metrics/classification.py:1437: UndefinedMetricWarning: F-score is ill-defined and being set to 0.0 due to no predicted samples.\n",
      "  'precision', 'predicted', average, warn_for)\n",
      "/opt/conda/lib/python3.7/site-packages/sklearn/metrics/classification.py:1437: UndefinedMetricWarning: F-score is ill-defined and being set to 0.0 due to no predicted samples.\n",
      "  'precision', 'predicted', average, warn_for)\n",
      "/opt/conda/lib/python3.7/site-packages/sklearn/metrics/classification.py:1437: UndefinedMetricWarning: F-score is ill-defined and being set to 0.0 due to no predicted samples.\n",
      "  'precision', 'predicted', average, warn_for)\n",
      "/opt/conda/lib/python3.7/site-packages/sklearn/metrics/classification.py:1437: UndefinedMetricWarning: F-score is ill-defined and being set to 0.0 due to no predicted samples.\n",
      "  'precision', 'predicted', average, warn_for)\n",
      "/opt/conda/lib/python3.7/site-packages/sklearn/metrics/classification.py:1437: UndefinedMetricWarning: F-score is ill-defined and being set to 0.0 due to no predicted samples.\n",
      "  'precision', 'predicted', average, warn_for)\n",
      "/opt/conda/lib/python3.7/site-packages/sklearn/metrics/classification.py:1437: UndefinedMetricWarning: F-score is ill-defined and being set to 0.0 due to no predicted samples.\n",
      "  'precision', 'predicted', average, warn_for)\n",
      "/opt/conda/lib/python3.7/site-packages/sklearn/metrics/classification.py:1437: UndefinedMetricWarning: F-score is ill-defined and being set to 0.0 due to no predicted samples.\n",
      "  'precision', 'predicted', average, warn_for)\n",
      "/opt/conda/lib/python3.7/site-packages/sklearn/metrics/classification.py:1437: UndefinedMetricWarning: F-score is ill-defined and being set to 0.0 due to no predicted samples.\n",
      "  'precision', 'predicted', average, warn_for)\n",
      "/opt/conda/lib/python3.7/site-packages/sklearn/metrics/classification.py:1437: UndefinedMetricWarning: F-score is ill-defined and being set to 0.0 due to no predicted samples.\n",
      "  'precision', 'predicted', average, warn_for)\n",
      "/opt/conda/lib/python3.7/site-packages/sklearn/metrics/classification.py:1437: UndefinedMetricWarning: F-score is ill-defined and being set to 0.0 due to no predicted samples.\n",
      "  'precision', 'predicted', average, warn_for)\n",
      "/opt/conda/lib/python3.7/site-packages/sklearn/metrics/classification.py:1437: UndefinedMetricWarning: F-score is ill-defined and being set to 0.0 due to no predicted samples.\n",
      "  'precision', 'predicted', average, warn_for)\n"
     ]
    },
    {
     "name": "stdout",
     "output_type": "stream",
     "text": [
      "max_leaf_nodes: 9\n",
      "max_depth: 4\n",
      "recall: 0.43779904306220097\n",
      "precision: 0.75\n",
      "f1: 0.5528700906344411\n",
      "AUC-ROC 0.699620128357902\n"
     ]
    }
   ],
   "source": [
    "f1_max = 0\n",
    "for nodes in range(2, 10, 1):\n",
    "    for depth in range(1, 16, 1):\n",
    "        model_tree2 = DecisionTreeClassifier(random_state = 22, max_depth=depth, max_leaf_nodes=nodes)\n",
    "        model_tree2.fit(features_without_train, target_without_train)\n",
    "        predictions2 = model_tree2.predict(features_without_valid)\n",
    "    \n",
    "        f1 = f1_score(target_without_valid, predictions2)\n",
    "        \n",
    "        if f1_max < f1:\n",
    "            f1_max = f1\n",
    "            depth_max = depth\n",
    "            nodes_max = nodes\n",
    "\n",
    "model_tree1 = DecisionTreeClassifier(random_state = 12345, max_depth=depth_max)\n",
    "model_tree1.fit(features_without_train, target_without_train)\n",
    "predictions1 = model_tree1.predict(features_without_valid)\n",
    "\n",
    "print('max_leaf_nodes:', nodes_max)\n",
    "print('max_depth:', depth_max)\n",
    "print('recall:', recall_score(target_without_valid, predictions1))\n",
    "print('precision:', precision_score(target_without_valid, predictions1))\n",
    "print('f1:', f1_score(target_without_valid, predictions1))\n",
    "print('AUC-ROC', roc_auc_score(target_without_valid, predictions1))"
   ]
  },
  {
   "cell_type": "markdown",
   "metadata": {},
   "source": [
    "Параметр max_leaf_nodes позволяет сократить глубину дерева, но не превышает качество модели с большей глубиной и без этого параметра, давая качество хуже, в данном случае:\n",
    "\n",
    "с параметром max_leaf_nodes и глубиной 4:\n",
    "\n",
    "    max_leaf_nodes: 9\n",
    "    max_depth: 4\n",
    "    recall: 0.43779904306220097\n",
    "    precision: 0.75\n",
    "    f1: 0.5528700906344411\n",
    "    AUC-ROC 0.699620128357902\n",
    "\n",
    "без парамемтра max_leaf_nodes, и глубиной 6:\n",
    "\n",
    "    max_depth: 6\n",
    "    recall: 0.4473684210526316\n",
    "    precision: 0.7695473251028807\n",
    "    f1: 0.5658093797276854\n",
    "    AUC-ROC 0.7059850954820679"
   ]
  },
  {
   "cell_type": "markdown",
   "metadata": {},
   "source": [
    "3. RandomForestClassifier"
   ]
  },
  {
   "cell_type": "code",
   "execution_count": 59,
   "metadata": {
    "scrolled": true
   },
   "outputs": [
    {
     "name": "stderr",
     "output_type": "stream",
     "text": [
      "/opt/conda/lib/python3.7/site-packages/sklearn/metrics/classification.py:1437: UndefinedMetricWarning: F-score is ill-defined and being set to 0.0 due to no predicted samples.\n",
      "  'precision', 'predicted', average, warn_for)\n",
      "/opt/conda/lib/python3.7/site-packages/sklearn/metrics/classification.py:1437: UndefinedMetricWarning: F-score is ill-defined and being set to 0.0 due to no predicted samples.\n",
      "  'precision', 'predicted', average, warn_for)\n",
      "/opt/conda/lib/python3.7/site-packages/sklearn/metrics/classification.py:1437: UndefinedMetricWarning: F-score is ill-defined and being set to 0.0 due to no predicted samples.\n",
      "  'precision', 'predicted', average, warn_for)\n",
      "/opt/conda/lib/python3.7/site-packages/sklearn/metrics/classification.py:1437: UndefinedMetricWarning: F-score is ill-defined and being set to 0.0 due to no predicted samples.\n",
      "  'precision', 'predicted', average, warn_for)\n",
      "/opt/conda/lib/python3.7/site-packages/sklearn/metrics/classification.py:1437: UndefinedMetricWarning: F-score is ill-defined and being set to 0.0 due to no predicted samples.\n",
      "  'precision', 'predicted', average, warn_for)\n",
      "/opt/conda/lib/python3.7/site-packages/sklearn/metrics/classification.py:1437: UndefinedMetricWarning: F-score is ill-defined and being set to 0.0 due to no predicted samples.\n",
      "  'precision', 'predicted', average, warn_for)\n",
      "/opt/conda/lib/python3.7/site-packages/sklearn/metrics/classification.py:1437: UndefinedMetricWarning: F-score is ill-defined and being set to 0.0 due to no predicted samples.\n",
      "  'precision', 'predicted', average, warn_for)\n",
      "/opt/conda/lib/python3.7/site-packages/sklearn/metrics/classification.py:1437: UndefinedMetricWarning: F-score is ill-defined and being set to 0.0 due to no predicted samples.\n",
      "  'precision', 'predicted', average, warn_for)\n",
      "/opt/conda/lib/python3.7/site-packages/sklearn/metrics/classification.py:1437: UndefinedMetricWarning: F-score is ill-defined and being set to 0.0 due to no predicted samples.\n",
      "  'precision', 'predicted', average, warn_for)\n",
      "/opt/conda/lib/python3.7/site-packages/sklearn/metrics/classification.py:1437: UndefinedMetricWarning: F-score is ill-defined and being set to 0.0 due to no predicted samples.\n",
      "  'precision', 'predicted', average, warn_for)\n",
      "/opt/conda/lib/python3.7/site-packages/sklearn/metrics/classification.py:1437: UndefinedMetricWarning: F-score is ill-defined and being set to 0.0 due to no predicted samples.\n",
      "  'precision', 'predicted', average, warn_for)\n",
      "/opt/conda/lib/python3.7/site-packages/sklearn/metrics/classification.py:1437: UndefinedMetricWarning: F-score is ill-defined and being set to 0.0 due to no predicted samples.\n",
      "  'precision', 'predicted', average, warn_for)\n",
      "/opt/conda/lib/python3.7/site-packages/sklearn/metrics/classification.py:1437: UndefinedMetricWarning: F-score is ill-defined and being set to 0.0 due to no predicted samples.\n",
      "  'precision', 'predicted', average, warn_for)\n",
      "/opt/conda/lib/python3.7/site-packages/sklearn/metrics/classification.py:1437: UndefinedMetricWarning: F-score is ill-defined and being set to 0.0 due to no predicted samples.\n",
      "  'precision', 'predicted', average, warn_for)\n",
      "/opt/conda/lib/python3.7/site-packages/sklearn/metrics/classification.py:1437: UndefinedMetricWarning: F-score is ill-defined and being set to 0.0 due to no predicted samples.\n",
      "  'precision', 'predicted', average, warn_for)\n",
      "/opt/conda/lib/python3.7/site-packages/sklearn/metrics/classification.py:1437: UndefinedMetricWarning: F-score is ill-defined and being set to 0.0 due to no predicted samples.\n",
      "  'precision', 'predicted', average, warn_for)\n",
      "/opt/conda/lib/python3.7/site-packages/sklearn/metrics/classification.py:1437: UndefinedMetricWarning: F-score is ill-defined and being set to 0.0 due to no predicted samples.\n",
      "  'precision', 'predicted', average, warn_for)\n",
      "/opt/conda/lib/python3.7/site-packages/sklearn/metrics/classification.py:1437: UndefinedMetricWarning: F-score is ill-defined and being set to 0.0 due to no predicted samples.\n",
      "  'precision', 'predicted', average, warn_for)\n"
     ]
    },
    {
     "name": "stdout",
     "output_type": "stream",
     "text": [
      "деревьев в ансамбле: 31\n",
      "max_depth: 19\n",
      "recall: 0.48564593301435405\n",
      "precision: 0.7718631178707225\n",
      "f1: 0.5961820851688693\n",
      "AUC-ROC: 0.7238596289597687\n"
     ]
    }
   ],
   "source": [
    "f1_max = 0\n",
    "for estim in range(1, 100, 5):\n",
    "    for depth in range(1, 21, 1):\n",
    "        model_ran_for2 = RandomForestClassifier(random_state=12345, n_estimators=estim, max_depth=depth)\n",
    "        model_ran_for2.fit(features_without_train, target_without_train)\n",
    "        predictions = model_ran_for2.predict(features_without_valid)\n",
    "        \n",
    "        f1 = f1_score(target_without_valid, predictions)\n",
    "        \n",
    "        if f1_max < f1:\n",
    "            f1_max = f1\n",
    "            depth_max = depth\n",
    "            estim_max = estim\n",
    "        \n",
    "model_ran_for = RandomForestClassifier(random_state=12345, n_estimators=estim_max, max_depth=depth_max)\n",
    "model_ran_for.fit(features_without_train, target_without_train)\n",
    "predictions = model_ran_for.predict(features_without_valid)\n",
    "\n",
    "print('деревьев в ансамбле:', estim_max)\n",
    "print('max_depth:', depth_max)\n",
    "print('recall:', recall_score(target_without_valid, predictions))\n",
    "print('precision:', precision_score(target_without_valid, predictions))\n",
    "print('f1:', f1_score(target_without_valid, predictions))\n",
    "print('AUC-ROC:', roc_auc_score(target_without_valid, predictions))"
   ]
  },
  {
   "cell_type": "markdown",
   "metadata": {},
   "source": [
    "Должен указать, что хороший результат дало одно дерево в ансамбле с глубиной 7, ощутимо лучше, чем с признаком Tenure:\n",
    "\n",
    "    деревьев в ансамбле: 1\n",
    "    max_depth: 7\n",
    "    recall: 0.5406698564593302\n",
    "    precision: 0.6627565982404692\n",
    "    f1: 0.5955204216073781\n",
    "    AUC-ROC: 0.733988531263799\n",
    "\n",
    "Наверно на нем и стоит остановиться, ибо с ростом деревьев в ансамбле результат не становится лучше.\n",
    "\n",
    "Лучший результат модели с признаком Tenure:\n",
    "\n",
    "    деревьев в ансамбле: 31\n",
    "    max_depth: 19\n",
    "    recall: 0.48564593301435405\n",
    "    precision: 0.7718631178707225\n",
    "    f1: 0.5961820851688693\n",
    "    AUC-ROC: 0.7238596289597687\n",
    "    \n",
    "Стоит заметить, что для случайного леса признак Tenure не имеет значимости, т.к. результат сопоставим с результатом модели учившейся на выборке с признаком Tenure, но выборка была меньше на 10%, есть предположение, что без него может быть даже лучше, т.к. одинокое дерево в ансамбле дало прекрасный результат, лучше, чем одинокое дерево ансамбля с обучающей выборкой содержащей признак Tenure, но на 10% меньше."
   ]
  },
  {
   "cell_type": "markdown",
   "metadata": {},
   "source": [
    "__Вывод общий__\n",
    "\n",
    "Таким образом с задачей справляется лучше - модель случайного леса. Причем стоит заметить, что одно дерево в ансамбле работает сопоставимо со множеством деревьев в ансамбле. Лучший резульат = 0.596 - показала модель с признаком Tenure, но выборка обучающая была на 10% меньше.\n",
    "\n",
    "Добавлю, что с параметром max_leaf_nodes решающее дерево даёт результат хуже, чем без этого параметра, поэтому в последующем не будем им пользоваться."
   ]
  },
  {
   "cell_type": "markdown",
   "metadata": {},
   "source": [
    "# 3. Борьба с дисбалансом"
   ]
  },
  {
   "cell_type": "markdown",
   "metadata": {},
   "source": [
    "В этом шаге попробуем разные методы борьбы с дисбалансом и выберем самый эффективный для нашей задачи.\n",
    "\n",
    "Попробуем такие методы:\n",
    "\n",
    "1. Увеличение выборки - Upsampling.\n",
    "2. Уменьшение выборки - Downsampling.\n",
    "3. Эксперимент с весом класса.\n"
   ]
  },
  {
   "cell_type": "markdown",
   "metadata": {},
   "source": [
    "__1. Upsampling__"
   ]
  },
  {
   "cell_type": "markdown",
   "metadata": {},
   "source": [
    "Чтобы увеличить выборку и все автоматизировать, нам понадобится функция. Напишем ее ниже."
   ]
  },
  {
   "cell_type": "code",
   "execution_count": 60,
   "metadata": {
    "scrolled": false
   },
   "outputs": [],
   "source": [
    "def upsample(features, target, repeat):\n",
    "    features_zeros = features[target == 0]\n",
    "    features_ones = features[target == 1]\n",
    "    target_zeros = target[target == 0]\n",
    "    target_ones = target[target == 1]\n",
    "\n",
    "    features_upsampled = pd.concat([features_zeros] + [features_ones] * repeat)\n",
    "    target_upsampled = pd.concat([target_zeros] + [target_ones] * repeat)\n",
    "    \n",
    "    features_upsampled, target_upsampled = shuffle(\n",
    "        features_upsampled, target_upsampled, random_state=12345)\n",
    "    \n",
    "    return features_upsampled, target_upsampled"
   ]
  },
  {
   "cell_type": "code",
   "execution_count": 61,
   "metadata": {
    "scrolled": false
   },
   "outputs": [],
   "source": [
    "features_upsampled_with, target_upsampled_with = upsample(features_with_train, target_with_train, 10)"
   ]
  },
  {
   "cell_type": "code",
   "execution_count": 62,
   "metadata": {
    "scrolled": false
   },
   "outputs": [],
   "source": [
    "features_upsampled_without, target_upsampled_without = upsample(features_without_train, target_without_train, 10)"
   ]
  },
  {
   "cell_type": "markdown",
   "metadata": {},
   "source": [
    "1. Ответ линейной регрессии обученной на выборках с признаком Tenure и без с применением метода Upsampling для балансировки обучающих выборок."
   ]
  },
  {
   "cell_type": "code",
   "execution_count": 63,
   "metadata": {
    "scrolled": false
   },
   "outputs": [
    {
     "name": "stdout",
     "output_type": "stream",
     "text": [
      "recall: 0.9310344827586207\n",
      "precision: 0.26732673267326734\n",
      "f1: 0.41538461538461535\n",
      "AUC-ROC 0.6317212663619611\n"
     ]
    },
    {
     "name": "stderr",
     "output_type": "stream",
     "text": [
      "/opt/conda/lib/python3.7/site-packages/sklearn/linear_model/logistic.py:432: FutureWarning: Default solver will be changed to 'lbfgs' in 0.22. Specify a solver to silence this warning.\n",
      "  FutureWarning)\n"
     ]
    }
   ],
   "source": [
    "model_log_reg_with = LogisticRegression(random_state=12345)\n",
    "model_log_reg_with.fit(features_upsampled_with, target_upsampled_with)\n",
    "\n",
    "predicted_valid = model_log_reg_with.predict(features_with_valid)\n",
    "\n",
    "print('recall:', recall_score(target_with_valid, predicted_valid))\n",
    "print('precision:', precision_score(target_with_valid, predicted_valid))\n",
    "print('f1:', f1_score(target_with_valid, predicted_valid))\n",
    "print('AUC-ROC', roc_auc_score(target_with_valid, predicted_valid))"
   ]
  },
  {
   "cell_type": "code",
   "execution_count": 64,
   "metadata": {
    "scrolled": false
   },
   "outputs": [
    {
     "name": "stderr",
     "output_type": "stream",
     "text": [
      "/opt/conda/lib/python3.7/site-packages/sklearn/linear_model/logistic.py:432: FutureWarning: Default solver will be changed to 'lbfgs' in 0.22. Specify a solver to silence this warning.\n",
      "  FutureWarning)\n"
     ]
    },
    {
     "name": "stdout",
     "output_type": "stream",
     "text": [
      "recall: 0.9114832535885168\n",
      "precision: 0.2741007194244604\n",
      "f1: 0.42146017699115046\n",
      "AUC-ROC 0.636841500372008\n"
     ]
    }
   ],
   "source": [
    "model_log_reg_without = LogisticRegression(random_state=12345)\n",
    "model_log_reg_without.fit(features_upsampled_without, target_upsampled_without)\n",
    "\n",
    "predicted_valid = model_log_reg_without.predict(features_without_valid)\n",
    "\n",
    "print('recall:', recall_score(target_without_valid, predicted_valid))\n",
    "print('precision:', precision_score(target_without_valid, predicted_valid))\n",
    "print('f1:', f1_score(target_without_valid, predicted_valid))\n",
    "print('AUC-ROC', roc_auc_score(target_without_valid, predicted_valid))"
   ]
  },
  {
   "cell_type": "markdown",
   "metadata": {},
   "source": [
    "Метод Upsampling повысил метрику f1 на 1 десятую, подняв показатель с 0,3 до 0,4, также линейная регрессия, обученная на выборке без признака Tenure, имеет лучший результат на 1 сотую."
   ]
  },
  {
   "cell_type": "markdown",
   "metadata": {},
   "source": [
    "2. Ответ решающего дерева обученного на выборках с применением метода Upsampling для балансировки с признаком Tenure и без."
   ]
  },
  {
   "cell_type": "code",
   "execution_count": 65,
   "metadata": {
    "scrolled": false
   },
   "outputs": [
    {
     "name": "stdout",
     "output_type": "stream",
     "text": [
      "max_depth: 6\n",
      "recall: 0.8461538461538461\n",
      "precision: 0.3923739237392374\n",
      "f1: 0.5361344537815127\n",
      "AUC-ROC 0.7516681791490952\n"
     ]
    }
   ],
   "source": [
    "f1_max =0\n",
    "for depth in range(1, 21, 1):\n",
    "    model_tree_with = DecisionTreeClassifier(random_state = 12345, max_depth=depth)\n",
    "    model_tree_with.fit(features_upsampled_with, target_upsampled_with)\n",
    "    predictions1 = model_tree_with.predict(features_with_valid)\n",
    "\n",
    "    \n",
    "    f1 = f1_score(target_with_valid, predictions1)\n",
    "        \n",
    "    if f1_max < f1:\n",
    "        f1_max = f1\n",
    "        depth_max = depth\n",
    "            \n",
    "model_tree1 = DecisionTreeClassifier(random_state = 12345, max_depth=depth_max)\n",
    "model_tree1.fit(features_upsampled_with, target_upsampled_with)\n",
    "predictions2 = model_tree1.predict(features_with_valid)\n",
    "\n",
    "print('max_depth:', depth_max)\n",
    "print('recall:', recall_score(target_with_valid, predictions2))\n",
    "print('precision:', precision_score(target_with_valid, predictions2))\n",
    "print('f1:', f1_score(target_with_valid, predictions2))\n",
    "print('AUC-ROC', roc_auc_score(target_with_valid, predictions2))"
   ]
  },
  {
   "cell_type": "code",
   "execution_count": 66,
   "metadata": {
    "scrolled": false
   },
   "outputs": [
    {
     "name": "stdout",
     "output_type": "stream",
     "text": [
      "max_depth: 7\n",
      "recall: 0.8014354066985646\n",
      "precision: 0.38550057537399307\n",
      "f1: 0.5205905205905206\n",
      "AUC-ROC 0.7319439991773481\n"
     ]
    }
   ],
   "source": [
    "f1_max = 0\n",
    "for depth in range(1, 21, 1):\n",
    "    model_tree_without = DecisionTreeClassifier(random_state = 12345, max_depth=depth)\n",
    "    model_tree_without.fit(features_upsampled_without, target_upsampled_without)\n",
    "    predictions1 = model_tree_without.predict(features_without_valid)\n",
    "\n",
    "    f1 = f1_score(target_without_valid, predictions1)\n",
    "        \n",
    "    if f1_max < f1:\n",
    "        f1_max = f1\n",
    "        depth_max = depth\n",
    "            \n",
    "model_tree1 = DecisionTreeClassifier(random_state = 12345, max_depth=depth_max)\n",
    "model_tree1.fit(features_upsampled_without, target_upsampled_without)\n",
    "predictions2 = model_tree1.predict(features_without_valid)\n",
    "\n",
    "print('max_depth:', depth_max)\n",
    "print('recall:', recall_score(target_without_valid, predictions2))\n",
    "print('precision:', precision_score(target_without_valid, predictions2))\n",
    "print('f1:', f1_score(target_without_valid, predictions2))\n",
    "print('AUC-ROC', roc_auc_score(target_without_valid, predictions2))"
   ]
  },
  {
   "cell_type": "markdown",
   "metadata": {},
   "source": [
    "Дерево не дало ожидаемого результата, наоборот, показало результаты обучения на сбалансированной выборке хуже, чем на несбалансированной.\n",
    "\n",
    "Лучший результат на несбалансированной и сбалансированной, но с признаком Tenure:\n",
    "\n",
    "    max_depth: 7                          .max_depth: 6\n",
    "    recall: 0.48010610079575594           .recall: 0.8461538461538461\n",
    "    precision: 0.7211155378486056         .precision: 0.3923739237392374\n",
    "    f1: 0.5764331210191083                .f1: 0.5361344537815127\n",
    "    AUC-ROC 0.7157643619870521            .AUC-ROC 0.7516681791490952\n",
    "\n",
    "Лучший результат на несбалансированной и сбалансированной, но без признака Tenure:\n",
    "\n",
    "    max_depth: 6                          .max_depth: 7\n",
    "    recall: 0.4473684210526316            .recall: 0.8014354066985646\n",
    "    precision: 0.7695473251028807         .precision: 0.38550057537399307\n",
    "    f1: 0.5658093797276854                .f1: 0.5205905205905206\n",
    "    AUC-ROC 0.7059850954820679            .AUC-ROC 0.7319439991773481\n",
    "\n"
   ]
  },
  {
   "cell_type": "markdown",
   "metadata": {},
   "source": [
    "3. Ответ случайного леса обученного на выборках с признаком Tenure и без с применением метода Upsampling для балансировки обучающих выборок."
   ]
  },
  {
   "cell_type": "code",
   "execution_count": 67,
   "metadata": {
    "scrolled": true
   },
   "outputs": [
    {
     "name": "stdout",
     "output_type": "stream",
     "text": [
      "деревьев в ансамбле: 96\n",
      "max_depth: 17\n",
      "recall: 0.6021220159151194\n",
      "precision: 0.6656891495601173\n",
      "f1: 0.6323119777158774\n",
      "AUC-ROC: 0.7615051439742149\n"
     ]
    }
   ],
   "source": [
    "f1_max = 0\n",
    "for estim in range(51, 106, 5):\n",
    "    for depth in range(1, 21, 1):\n",
    "        model_ran_for = RandomForestClassifier(random_state=12345, n_estimators=estim, max_depth=depth)\n",
    "        model_ran_for.fit(features_upsampled_with, target_upsampled_with)\n",
    "        predictions = model_ran_for.predict(features_with_valid)\n",
    "        \n",
    "        f1 = f1_score(target_with_valid, predictions)\n",
    "        \n",
    "        if f1_max < f1:\n",
    "            f1_max = f1\n",
    "            depth_max = depth\n",
    "            estim_max = estim\n",
    "        \n",
    "model_ran_for = RandomForestClassifier(random_state=12345, n_estimators=estim_max, max_depth=depth_max)\n",
    "model_ran_for.fit(features_upsampled_with, target_upsampled_with)\n",
    "predictions = model_ran_for.predict(features_with_valid)\n",
    "\n",
    "print('деревьев в ансамбле:', estim_max)\n",
    "print('max_depth:', depth_max)\n",
    "print('recall:', recall_score(target_with_valid, predictions))\n",
    "print('precision:', precision_score(target_with_valid, predictions))\n",
    "print('f1:', f1_score(target_with_valid, predictions))\n",
    "print('AUC-ROC:', roc_auc_score(target_with_valid, predictions))"
   ]
  },
  {
   "cell_type": "code",
   "execution_count": 68,
   "metadata": {
    "scrolled": false
   },
   "outputs": [
    {
     "name": "stdout",
     "output_type": "stream",
     "text": [
      "деревьев в ансамбле: 51\n",
      "max_depth: 20\n",
      "recall: 0.5645933014354066\n",
      "precision: 0.6647887323943662\n",
      "f1: 0.6106080206985769\n",
      "AUC-ROC: 0.7446860312486768\n"
     ]
    }
   ],
   "source": [
    "f1_max = 0\n",
    "for estim in range(1, 52, 5):\n",
    "    for depth in range(1, 21, 1):\n",
    "        model_ran_for2 = RandomForestClassifier(random_state=12345, n_estimators=estim, max_depth=depth)\n",
    "        model_ran_for2.fit(features_upsampled_without, target_upsampled_without)\n",
    "        predictions = model_ran_for2.predict(features_without_valid)\n",
    "        \n",
    "        f1 = f1_score(target_without_valid, predictions)\n",
    "        \n",
    "        if f1_max < f1:\n",
    "            f1_max = f1\n",
    "            depth_max = depth\n",
    "            estim_max = estim\n",
    "        \n",
    "model_ran_for = RandomForestClassifier(random_state=12345, n_estimators=estim_max, max_depth=depth_max)\n",
    "model_ran_for.fit(features_upsampled_without, target_upsampled_without)\n",
    "predictions = model_ran_for.predict(features_without_valid)\n",
    "\n",
    "print('деревьев в ансамбле:', estim_max)\n",
    "print('max_depth:', depth_max)\n",
    "print('recall:', recall_score(target_without_valid, predictions))\n",
    "print('precision:', precision_score(target_without_valid, predictions))\n",
    "print('f1:', f1_score(target_without_valid, predictions))\n",
    "print('AUC-ROC:', roc_auc_score(target_without_valid, predictions))"
   ]
  },
  {
   "cell_type": "markdown",
   "metadata": {},
   "source": [
    "Случайный лес показал результат противоположный решающему дереву. Метод Upsempling для балансировки обучающей выборки улучшил его метрики. Причем для данной модели признак Tenure оказался весьма нужным! Давайте посмотрим на лучшие реультаты:\n",
    "\n",
    "Перед нами результаты модели случайного леса обученной без балансировки и с балансировкой с признаком Tenure:\n",
    "\n",
    "    деревьев в ансамбле: 26.               .деревьев в ансамбле: 71\n",
    "    max_depth: 16                          .max_depth: 17\n",
    "    recall: 0.4907161803713528             .recall: 0.5994694960212201\n",
    "    precision: 0.7520325203252033          .precision: 0.6726190476190477\n",
    "    f1: 0.593900481540931                  .f1: 0.6339410939691444\n",
    "    AUC-ROC 0.7241922331419568             .AUC-ROC: 0.7615668090793123\n",
    "\n",
    "Перед нами результаты модели случайного леса обученной без балансировки и с балансировкой без признака Tenure:\n",
    "\n",
    "    деревьев в ансамбле: 1                 .деревьев в ансамбле: 36\n",
    "    max_depth: 7                           .max_depth: 19\n",
    "    recall: 0.5406698564593302             .recall: 0.5645933014354066\n",
    "    precision: 0.6627565982404692          .precision: 0.6666666666666666\n",
    "    f1: 0.5955204216073781                 .f1: 0.6113989637305699\n",
    "    AUC-ROC: 0.733988531263799             .AUC-ROC: 0.7450020868744669\n",
    "    \n",
    "Признак Tenure дает нам 2 сотые в точности метрики ф1! Однозначно его стоит оставить в выборке!"
   ]
  },
  {
   "cell_type": "markdown",
   "metadata": {},
   "source": [
    "__2. Downsampling__"
   ]
  },
  {
   "cell_type": "markdown",
   "metadata": {},
   "source": [
    "Чтобы верно уменьшить выборку и все автоматизировать, нам понадобится функция. Напишем ее ниже."
   ]
  },
  {
   "cell_type": "code",
   "execution_count": 69,
   "metadata": {
    "scrolled": false
   },
   "outputs": [],
   "source": [
    "def downsample(features, target, fraction):\n",
    "    features_zeros = features[target == 0]\n",
    "    features_ones = features[target == 1]\n",
    "    target_zeros = target[target == 0]\n",
    "    target_ones = target[target == 1]\n",
    "\n",
    "    features_downsampled = pd.concat(\n",
    "        [features_zeros.sample(frac=fraction, random_state=12345)] + [features_ones])\n",
    "    target_downsampled = pd.concat(\n",
    "        [target_zeros.sample(frac=fraction, random_state=12345)] + [target_ones])\n",
    "    \n",
    "    features_downsampled, target_downsampled = shuffle(\n",
    "        features_downsampled, target_downsampled, random_state=12345)\n",
    "    \n",
    "    return features_downsampled, target_downsampled"
   ]
  },
  {
   "cell_type": "code",
   "execution_count": 70,
   "metadata": {
    "scrolled": false
   },
   "outputs": [],
   "source": [
    "features_downsampled_with, target_downsampled_with = downsample(features_with_train, target_with_train, 0.1)"
   ]
  },
  {
   "cell_type": "code",
   "execution_count": 71,
   "metadata": {
    "scrolled": false
   },
   "outputs": [],
   "source": [
    "features_downsampled_without, target_downsampled_without = downsample(features_without_train, target_without_train, 0.1)"
   ]
  },
  {
   "cell_type": "markdown",
   "metadata": {},
   "source": [
    "1. Ответ линейной регрессии обученной на выборках с признаком Tenure и без с применением метода Downsampling для балансировки обучающих выборок."
   ]
  },
  {
   "cell_type": "code",
   "execution_count": 72,
   "metadata": {
    "scrolled": false
   },
   "outputs": [
    {
     "name": "stdout",
     "output_type": "stream",
     "text": [
      "F1: 0.4135071090047393\n"
     ]
    },
    {
     "name": "stderr",
     "output_type": "stream",
     "text": [
      "/opt/conda/lib/python3.7/site-packages/sklearn/linear_model/logistic.py:432: FutureWarning: Default solver will be changed to 'lbfgs' in 0.22. Specify a solver to silence this warning.\n",
      "  FutureWarning)\n"
     ]
    }
   ],
   "source": [
    "model = LogisticRegression(random_state=12345)\n",
    "model.fit(features_downsampled_with, target_downsampled_with)\n",
    "\n",
    "predicted_valid = model.predict(features_with_valid)\n",
    "\n",
    "print(\"F1:\", f1_score(target_with_valid, predicted_valid))"
   ]
  },
  {
   "cell_type": "code",
   "execution_count": 73,
   "metadata": {
    "scrolled": false
   },
   "outputs": [
    {
     "name": "stdout",
     "output_type": "stream",
     "text": [
      "F1: 0.42841037204058624\n"
     ]
    },
    {
     "name": "stderr",
     "output_type": "stream",
     "text": [
      "/opt/conda/lib/python3.7/site-packages/sklearn/linear_model/logistic.py:432: FutureWarning: Default solver will be changed to 'lbfgs' in 0.22. Specify a solver to silence this warning.\n",
      "  FutureWarning)\n"
     ]
    }
   ],
   "source": [
    "model = LogisticRegression(random_state=12345)\n",
    "model.fit(features_downsampled_without, target_downsampled_without)\n",
    "\n",
    "predicted_valid = model.predict(features_without_valid)\n",
    "\n",
    "print(\"F1:\", f1_score(target_without_valid, predicted_valid))"
   ]
  },
  {
   "cell_type": "markdown",
   "metadata": {},
   "source": [
    "Результат лучше,чем при обучении на несбалансированной выборке, сопоставим с результатом при обучении на выборке сбалансированной методом Upsampking, но продолжает оставлять желать лучшего (("
   ]
  },
  {
   "cell_type": "markdown",
   "metadata": {},
   "source": [
    "2. Ответ решающего дерева обученного на выборках с применением метода Downsampling для балансировки с признаком Tenure и без."
   ]
  },
  {
   "cell_type": "code",
   "execution_count": 74,
   "metadata": {
    "scrolled": true
   },
   "outputs": [
    {
     "name": "stdout",
     "output_type": "stream",
     "text": [
      "max_depth: 5\n",
      "recall: 0.8885941644562334\n",
      "precision: 0.3625541125541126\n",
      "f1: 0.5149884704073789\n",
      "AUC-ROC 0.7399251183141682\n"
     ]
    }
   ],
   "source": [
    "f1_max = 0\n",
    "for depth in range(1, 21, 1):\n",
    "    model_tree1 = DecisionTreeClassifier(random_state = 12345, max_depth=depth)\n",
    "    model_tree1.fit(features_downsampled_with, target_downsampled_with)\n",
    "    predictions1 = model_tree1.predict(features_with_valid)\n",
    "    \n",
    "    f1 = f1_score(target_with_valid, predictions1)\n",
    "        \n",
    "    if f1_max < f1:\n",
    "        f1_max = f1\n",
    "        depth_max = depth\n",
    "            \n",
    "model_tree1 = DecisionTreeClassifier(random_state = 12345, max_depth=depth_max)\n",
    "model_tree1.fit(features_downsampled_with, target_downsampled_with)\n",
    "predictions2 = model_tree1.predict(features_with_valid)\n",
    "\n",
    "print('max_depth:', depth_max)\n",
    "print('recall:', recall_score(target_with_valid, predictions2))\n",
    "print('precision:', precision_score(target_with_valid, predictions2))\n",
    "print('f1:', f1_score(target_with_valid, predictions2))\n",
    "print('AUC-ROC', roc_auc_score(target_with_valid, predictions2))"
   ]
  },
  {
   "cell_type": "code",
   "execution_count": 75,
   "metadata": {
    "scrolled": true
   },
   "outputs": [
    {
     "name": "stdout",
     "output_type": "stream",
     "text": [
      "max_depth: 5\n",
      "recall: 0.8636363636363636\n",
      "precision: 0.3474494706448508\n",
      "f1: 0.49553877831159915\n",
      "AUC-ROC 0.7175324675324675\n"
     ]
    }
   ],
   "source": [
    "f1_max = 0\n",
    "for depth in range(1, 21, 1):\n",
    "    model_tree2 = DecisionTreeClassifier(random_state = 12345, max_depth=depth)\n",
    "    model_tree2.fit(features_downsampled_without, target_downsampled_without)\n",
    "    predictions2 = model_tree2.predict(features_without_valid)\n",
    "    \n",
    "    f1 = f1_score(target_without_valid, predictions2)\n",
    "        \n",
    "    if f1_max < f1:\n",
    "        f1_max = f1\n",
    "        depth_max = depth\n",
    "            \n",
    "model_tree1 = DecisionTreeClassifier(random_state = 12345, max_depth=depth_max)\n",
    "model_tree1.fit(features_downsampled_without, target_downsampled_without)\n",
    "predictions2 = model_tree1.predict(features_without_valid)\n",
    "\n",
    "print('max_depth:', depth_max)\n",
    "print('recall:', recall_score(target_without_valid, predictions2))\n",
    "print('precision:', precision_score(target_without_valid, predictions2))\n",
    "print('f1:', f1_score(target_without_valid, predictions2))\n",
    "print('AUC-ROC', roc_auc_score(target_without_valid, predictions2))"
   ]
  },
  {
   "cell_type": "markdown",
   "metadata": {},
   "source": [
    "Полученный ответ от моделей, обученныз на сбалансированных выборках методом Downsampling, не стоит того, чтобы о нем много говорить, лишь подтвердил общие выводы, полученные при работе на выборках сбалансированных методом Upsampling, а именно:\n",
    "\n",
    "Дерево учится лучше на оригинальной несбалансированной выборке.\n",
    "\n",
    "Признак Tenure ощутимо важен.\n",
    "\n",
    "Результат хуже, чем при методе Upsampling на пару сотых, которые весьма критичны для нас."
   ]
  },
  {
   "cell_type": "markdown",
   "metadata": {},
   "source": [
    "3. Ответ случайного леса обученного на выборках с признаком Tenure и без с применением метода Downsampling для балансировки обучающих выборок."
   ]
  },
  {
   "cell_type": "code",
   "execution_count": 76,
   "metadata": {
    "scrolled": false
   },
   "outputs": [
    {
     "name": "stdout",
     "output_type": "stream",
     "text": [
      "деревьев в ансамбле: 16\n",
      "max_depth: 19\n",
      "recall: 0.9071618037135278\n",
      "precision: 0.3326848249027237\n",
      "f1: 0.48683274021352313\n",
      "AUC-ROC: 0.715551755430671\n"
     ]
    }
   ],
   "source": [
    "f1_max = 0\n",
    "\n",
    "for estim in range(1, 106, 5):\n",
    "    for depth in range(1, 21, 1):\n",
    "        model_ran_for_down = RandomForestClassifier(random_state=12345, n_estimators=estim, max_depth=depth)\n",
    "        model_ran_for_down.fit(features_downsampled_with, target_downsampled_with)\n",
    "        predictions = model_ran_for_down.predict(features_with_valid)\n",
    "        \n",
    "        f1 = f1_score(target_with_valid, predictions)\n",
    "        \n",
    "        if f1_max < f1:\n",
    "            f1_max = f1\n",
    "            depth_max = depth\n",
    "            estim_max = estim\n",
    "\n",
    "model_ran_for_down = RandomForestClassifier(random_state=12345, n_estimators=estim_max, max_depth=depth_max)\n",
    "model_ran_for_down.fit(features_downsampled_with, target_downsampled_with)\n",
    "predictions = model_ran_for_down.predict(features_with_valid)\n",
    "print('деревьев в ансамбле:', estim_max)\n",
    "print('max_depth:', depth_max)\n",
    "print('recall:', recall_score(target_with_valid, predictions))\n",
    "print('precision:', precision_score(target_with_valid, predictions))\n",
    "print('f1:', f1_score(target_with_valid, predictions))\n",
    "print('AUC-ROC:', roc_auc_score(target_with_valid, predictions))"
   ]
  },
  {
   "cell_type": "code",
   "execution_count": 77,
   "metadata": {
    "scrolled": false
   },
   "outputs": [
    {
     "name": "stdout",
     "output_type": "stream",
     "text": [
      "деревьев в ансамбле: 51\n",
      "max_depth: 20\n",
      "recall: 0.7894736842105263\n",
      "precision: 0.35752979414951247\n",
      "f1: 0.4921700223713646\n",
      "AUC-ROC: 0.7073158560117107\n"
     ]
    }
   ],
   "source": [
    "for estim in range(1, 52, 5):\n",
    "    for depth in range(1, 21, 1):\n",
    "        model_ran_for_down2 = RandomForestClassifier(random_state=12345, n_estimators=estim, max_depth=depth)\n",
    "        model_ran_for_down2.fit(features_downsampled_without, target_downsampled_without)\n",
    "        predictions = model_ran_for_down2.predict(features_without_valid)\n",
    "        \n",
    "        f1 = f1_score(target_without_valid, predictions)\n",
    "        \n",
    "        if f1_max < f1:\n",
    "            f1_max = f1\n",
    "            depth_max = depth\n",
    "            estim_max = estim\n",
    "        \n",
    "model_ran_for_down2 = RandomForestClassifier(random_state=12345, n_estimators=estim_max, max_depth=depth_max)\n",
    "model_ran_for_down2.fit(features_downsampled_without, target_downsampled_without)\n",
    "predictions = model_ran_for_down2.predict(features_without_valid)\n",
    "print('деревьев в ансамбле:', estim)\n",
    "print('max_depth:', depth)\n",
    "print('recall:', recall_score(target_without_valid, predictions))\n",
    "print('precision:', precision_score(target_without_valid, predictions))\n",
    "print('f1:', f1_score(target_without_valid, predictions))\n",
    "print('AUC-ROC:', roc_auc_score(target_without_valid, predictions))"
   ]
  },
  {
   "cell_type": "markdown",
   "metadata": {},
   "source": [
    "Хм...\n",
    "\n",
    "Метод Downsampling оказался весьма неподходящим! Результат хуже, чем у решающего дерева!\n",
    "\n",
    "Считаю нужнам этим и закончить эту часть и перейти к следующему неоднозначному методу - эксперимент с изменением порога вероятноссти!\n"
   ]
  },
  {
   "cell_type": "markdown",
   "metadata": {},
   "source": [
    "__3. Меняем порог__"
   ]
  },
  {
   "cell_type": "markdown",
   "metadata": {},
   "source": [
    "Предлогаю разбить этот шаг на 2 подшага. Посмотреть на модели, обучившихся на несбалансированных выборках, но с изменением порога. И посмотреть как поведёт себя модель, обучающаяся на сбалансированной выборке и с изменённым порогом, ради интереса...."
   ]
  },
  {
   "cell_type": "markdown",
   "metadata": {},
   "source": [
    "1. Ответ линейной регрессии с изменением порога."
   ]
  },
  {
   "cell_type": "markdown",
   "metadata": {},
   "source": [
    "            модель обучена на несбалансированной выборке с признаком Tenure:"
   ]
  },
  {
   "cell_type": "code",
   "execution_count": 78,
   "metadata": {
    "scrolled": false
   },
   "outputs": [
    {
     "name": "stdout",
     "output_type": "stream",
     "text": [
      "Порог = 0.22 | Точность = 0.400, Полнота = 0.692, f1 = 0.507, AUC-ROC = 0.710\n"
     ]
    }
   ],
   "source": [
    "model = LogisticRegression(random_state=12345, solver='liblinear')\n",
    "model.fit(features_with_train, target_with_train)\n",
    "probabilities_valid = model.predict_proba(features_with_valid)\n",
    "probabilities_one_valid = probabilities_valid[:, 1]\n",
    "\n",
    "f1_max = 0\n",
    "threshold_max = 0\n",
    "for threshold in np.arange(0, 0.4, 0.02):  \n",
    "    predicted_valid = probabilities_one_valid > threshold\n",
    "    f1 = f1_score(target_with_valid, predicted_valid)\n",
    "    if f1_max < f1:\n",
    "        f1_max = f1\n",
    "        threshold_max = threshold\n",
    "    \n",
    "predicted_valid = probabilities_one_valid > threshold_max\n",
    "precision = precision_score(target_with_valid, predicted_valid)\n",
    "recall = recall_score(target_with_valid, predicted_valid)\n",
    "f1 = f1_score(target_with_valid, predicted_valid)\n",
    "auc_roc = roc_auc_score(target_with_valid, predicted_valid)\n",
    "    \n",
    "print(\"Порог = {:.2f} | Точность = {:.3f}, Полнота = {:.3f}, f1 = {:.3f}, AUC-ROC = {:.3f}\".format(threshold_max, precision, recall, f1, auc_roc))"
   ]
  },
  {
   "cell_type": "markdown",
   "metadata": {},
   "source": [
    "            модель обучена на несбалансированной выборке без признака Tenure:\n",
    "            "
   ]
  },
  {
   "cell_type": "code",
   "execution_count": 79,
   "metadata": {
    "scrolled": false
   },
   "outputs": [
    {
     "name": "stdout",
     "output_type": "stream",
     "text": [
      "Порог = 0.26 | Точность = 0.435, Полнота = 0.591, f1 = 0.501, AUC-ROC = 0.694\n"
     ]
    }
   ],
   "source": [
    "model = LogisticRegression(random_state=12345, solver='liblinear')\n",
    "model.fit(features_without_train, target_without_train)\n",
    "probabilities_valid = model.predict_proba(features_without_valid)\n",
    "probabilities_one_valid = probabilities_valid[:, 1]\n",
    "\n",
    "f1_max = 0\n",
    "threshold_max = 0\n",
    "for threshold in np.arange(0, 0.9, 0.02):\n",
    "    predicted_valid = probabilities_one_valid > threshold\n",
    "    f1 = f1_score(target_without_valid, predicted_valid)\n",
    "    if f1_max < f1:\n",
    "        f1_max = f1\n",
    "        threshold_max = threshold\n",
    "    \n",
    "predicted_valid = probabilities_one_valid > threshold_max\n",
    "precision = precision_score(target_without_valid, predicted_valid)\n",
    "recall = recall_score(target_without_valid, predicted_valid)\n",
    "f1 = f1_score(target_without_valid, predicted_valid)\n",
    "auc_roc = roc_auc_score(target_without_valid, predicted_valid)\n",
    "    \n",
    "print(\"Порог = {:.2f} | Точность = {:.3f}, Полнота = {:.3f}, f1 = {:.3f}, AUC-ROC = {:.3f}\".format(threshold_max, precision, recall, f1, auc_roc))"
   ]
  },
  {
   "cell_type": "markdown",
   "metadata": {},
   "source": [
    "            модель обучена на сбалансированной выборке методом Upsampling с признаком Tenure:\n",
    "            "
   ]
  },
  {
   "cell_type": "code",
   "execution_count": 80,
   "metadata": {
    "scrolled": false
   },
   "outputs": [
    {
     "name": "stdout",
     "output_type": "stream",
     "text": [
      "Порог = 0.78 | Точность = 0.460, Полнота = 0.594, f1 = 0.519, AUC-ROC = 0.706\n"
     ]
    }
   ],
   "source": [
    "model = LogisticRegression(random_state=12345, solver='liblinear')\n",
    "model.fit(features_upsampled_with, target_upsampled_with)\n",
    "probabilities_valid = model.predict_proba(features_with_valid)\n",
    "probabilities_one_valid = probabilities_valid[:, 1]\n",
    "\n",
    "f1_max = 0\n",
    "threshold_max = 0\n",
    "for threshold in np.arange(0.2, 0.9, 0.01):\n",
    "    predicted_valid = probabilities_one_valid > threshold\n",
    "    f1 = f1_score(target_with_valid, predicted_valid)\n",
    "    if f1_max < f1:\n",
    "        f1_max = f1\n",
    "        threshold_max = threshold\n",
    "    \n",
    "predicted_valid = probabilities_one_valid > threshold_max\n",
    "precision = precision_score(target_with_valid, predicted_valid)\n",
    "recall = recall_score(target_with_valid, predicted_valid)\n",
    "f1 = f1_score(target_with_valid, predicted_valid)\n",
    "auc_roc = roc_auc_score(target_with_valid, predicted_valid)\n",
    "    \n",
    "print(\"Порог = {:.2f} | Точность = {:.3f}, Полнота = {:.3f}, f1 = {:.3f}, AUC-ROC = {:.3f}\".format(threshold_max, precision, recall, f1, auc_roc))"
   ]
  },
  {
   "cell_type": "markdown",
   "metadata": {},
   "source": [
    "            модель обучена на сбалансированной выборке методом Upsampling без признака Tenure:\n",
    "            "
   ]
  },
  {
   "cell_type": "code",
   "execution_count": 81,
   "metadata": {
    "scrolled": false
   },
   "outputs": [
    {
     "name": "stdout",
     "output_type": "stream",
     "text": [
      "Порог = 0.74 | Точность = 0.409, Полнота = 0.651, f1 = 0.502, AUC-ROC = 0.701\n"
     ]
    }
   ],
   "source": [
    "model = LogisticRegression(random_state=12345, solver='liblinear')\n",
    "model.fit(features_upsampled_without, target_upsampled_without)\n",
    "probabilities_valid = model.predict_proba(features_without_valid)\n",
    "probabilities_one_valid = probabilities_valid[:, 1]\n",
    "\n",
    "f1_max = 0\n",
    "threshold_max = 0\n",
    "for threshold in np.arange(0.5, 0.9, 0.02):\n",
    "    predicted_valid = probabilities_one_valid > threshold\n",
    "    f1 = f1_score(target_without_valid, predicted_valid)\n",
    "    if f1_max < f1:\n",
    "        f1_max = f1\n",
    "        threshold_max = threshold\n",
    "    \n",
    "predicted_valid = probabilities_one_valid > threshold_max\n",
    "precision = precision_score(target_without_valid, predicted_valid)\n",
    "recall = recall_score(target_without_valid, predicted_valid)\n",
    "f1 = f1_score(target_without_valid, predicted_valid)\n",
    "auc_roc = roc_auc_score(target_without_valid, predicted_valid)\n",
    "    \n",
    "print(\"Порог = {:.2f} | Точность = {:.3f}, Полнота = {:.3f}, f1 = {:.3f}, AUC-ROC = {:.3f}\".format(threshold_max, precision, recall, f1, auc_roc))"
   ]
  },
  {
   "cell_type": "markdown",
   "metadata": {},
   "source": [
    "            модель обучена на сбалансированной выборке методом Downsampling c признаком Tenure:\n",
    "            "
   ]
  },
  {
   "cell_type": "code",
   "execution_count": 82,
   "metadata": {
    "scrolled": false
   },
   "outputs": [
    {
     "name": "stdout",
     "output_type": "stream",
     "text": [
      "Порог = 0.72 | Точность = 0.388, Полнота = 0.737, f1 = 0.508, AUC-ROC = 0.716\n"
     ]
    }
   ],
   "source": [
    "model = LogisticRegression(random_state=12345, solver='liblinear')\n",
    "model.fit(features_downsampled_with, target_downsampled_with)\n",
    "probabilities_valid = model.predict_proba(features_with_valid)\n",
    "probabilities_one_valid = probabilities_valid[:, 1]\n",
    "\n",
    "f1_max = 0\n",
    "threshold_max = 0\n",
    "for threshold in np.arange(0, 0.9, 0.02):\n",
    "    predicted_valid = probabilities_one_valid > threshold\n",
    "    f1 = f1_score(target_with_valid, predicted_valid)\n",
    "    if f1_max < f1:\n",
    "        f1_max = f1\n",
    "        threshold_max = threshold\n",
    "    \n",
    "predicted_valid = probabilities_one_valid > threshold_max\n",
    "precision = precision_score(target_with_valid, predicted_valid)\n",
    "recall = recall_score(target_with_valid, predicted_valid)\n",
    "f1 = f1_score(target_with_valid, predicted_valid)\n",
    "auc_roc = roc_auc_score(target_with_valid, predicted_valid)\n",
    "print(\"Порог = {:.2f} | Точность = {:.3f}, Полнота = {:.3f}, f1 = {:.3f}, AUC-ROC = {:.3f}\".format(threshold_max, precision, recall, f1, auc_roc))"
   ]
  },
  {
   "cell_type": "markdown",
   "metadata": {},
   "source": [
    "            модель обучена на сбалансированной выборке методом Downsampling без признака Tenure:\n",
    "            "
   ]
  },
  {
   "cell_type": "code",
   "execution_count": 83,
   "metadata": {
    "scrolled": false
   },
   "outputs": [
    {
     "name": "stdout",
     "output_type": "stream",
     "text": [
      "Порог = 0.74 | Точность = 0.405, Полнота = 0.648, f1 = 0.499, AUC-ROC = 0.698\n"
     ]
    }
   ],
   "source": [
    "model = LogisticRegression(random_state=12345, solver='liblinear')\n",
    "model.fit(features_downsampled_without, target_downsampled_without)\n",
    "probabilities_valid = model.predict_proba(features_without_valid)\n",
    "probabilities_one_valid = probabilities_valid[:, 1]\n",
    "\n",
    "f1_max = 0\n",
    "threshold_max = 0\n",
    "for threshold in np.arange(0, 0.9, 0.02):\n",
    "    predicted_valid = probabilities_one_valid > threshold\n",
    "    f1 = f1_score(target_without_valid, predicted_valid)\n",
    "    if f1_max < f1:\n",
    "        f1_max = f1\n",
    "        threshold_max = threshold\n",
    "    \n",
    "predicted_valid = probabilities_one_valid > threshold_max\n",
    "precision = precision_score(target_without_valid, predicted_valid)\n",
    "recall = recall_score(target_without_valid, predicted_valid)\n",
    "f1 = f1_score(target_without_valid, predicted_valid)\n",
    "auc_roc = roc_auc_score(target_without_valid, predicted_valid)\n",
    "print(\"Порог = {:.2f} | Точность = {:.3f}, Полнота = {:.3f}, f1 = {:.3f}, AUC-ROC = {:.3f}\".format(threshold_max, precision, recall, f1, auc_roc))"
   ]
  },
  {
   "cell_type": "markdown",
   "metadata": {},
   "source": [
    "Мы посмотрели на метрики моделей, обученных на несбалансированных выборках и сбалансированных методами Upsampling и Downsampling. Во всех случаях - лучший результат у моделей, обучающихся на выборке с признаком Tenure, значит есть незаметная зависимость.\n",
    "\n",
    "Самый __лучший__ результат __f1__ из выдаваемых __логистической регрессией__ - __0,519__, был получен при обучении модели на сбалансированной методом Upsampling выборке с изменением порога:\n",
    "\n",
    "    Порог = 0.78 | Точность = 0.460, Полнота = 0.594, f1 = 0.519, AUC-ROC = 0.706\n",
    "    \n",
    " "
   ]
  },
  {
   "cell_type": "markdown",
   "metadata": {},
   "source": [
    "                                                    ***"
   ]
  },
  {
   "cell_type": "markdown",
   "metadata": {},
   "source": [
    "2. Ответы решающего дерева при изменении порога."
   ]
  },
  {
   "cell_type": "markdown",
   "metadata": {},
   "source": [
    "            модель обучена на несбалансированной выборке с признаком Tenure:        "
   ]
  },
  {
   "cell_type": "code",
   "execution_count": 84,
   "metadata": {
    "scrolled": false
   },
   "outputs": [
    {
     "name": "stderr",
     "output_type": "stream",
     "text": [
      "/opt/conda/lib/python3.7/site-packages/sklearn/metrics/classification.py:1437: UndefinedMetricWarning: F-score is ill-defined and being set to 0.0 due to no predicted samples.\n",
      "  'precision', 'predicted', average, warn_for)\n",
      "/opt/conda/lib/python3.7/site-packages/sklearn/metrics/classification.py:1437: UndefinedMetricWarning: F-score is ill-defined and being set to 0.0 due to no predicted samples.\n",
      "  'precision', 'predicted', average, warn_for)\n"
     ]
    },
    {
     "name": "stdout",
     "output_type": "stream",
     "text": [
      "Глубина = 7, Порог = 0.28 | Точность = 0.622, Полнота = 0.623, f1 = 0.623, AUC-ROC = 0.762\n"
     ]
    }
   ],
   "source": [
    "f1_max = 0\n",
    "threshold_max = 0\n",
    "depth_max = 0\n",
    "for depth in range(1, 21, 1):\n",
    "    model = DecisionTreeClassifier(random_state = 12345, max_depth=depth)\n",
    "    model.fit(features_with_train, target_with_train)\n",
    "    \n",
    "    probabilities_valid = model.predict_proba(features_with_valid)\n",
    "    probabilities_one_valid = probabilities_valid[:, 1]\n",
    "\n",
    "    for threshold in np.arange(0, 0.9, 0.02):\n",
    "        predicted_valid = probabilities_one_valid > threshold\n",
    "        f1 = f1_score(target_with_valid, predicted_valid)\n",
    "        if f1_max < f1:\n",
    "            f1_max = f1\n",
    "            threshold_max = threshold\n",
    "            depth_max = depth\n",
    "\n",
    "model = DecisionTreeClassifier(random_state = 12345, max_depth=depth_max)\n",
    "model.fit(features_with_train, target_with_train)\n",
    "probabilities_valid = model.predict_proba(features_with_valid)\n",
    "probabilities_one_valid = probabilities_valid[:, 1]\n",
    "predicted_valid = probabilities_one_valid > threshold_max\n",
    "\n",
    "precision = precision_score(target_with_valid, predicted_valid)\n",
    "recall = recall_score(target_with_valid, predicted_valid)\n",
    "f1 = f1_score(target_with_valid, predicted_valid)\n",
    "auc_roc = roc_auc_score(target_with_valid, predicted_valid)\n",
    "print(\"Глубина = {:.0f}, Порог = {:.2f} | Точность = {:.3f}, Полнота = {:.3f}, f1 = {:.3f}, AUC-ROC = {:.3f}\".format(depth_max, threshold_max, precision, recall, f1, auc_roc))"
   ]
  },
  {
   "cell_type": "markdown",
   "metadata": {},
   "source": [
    "            модель обучена на несбалансированной выборке без признака Tenure:\n",
    "            "
   ]
  },
  {
   "cell_type": "code",
   "execution_count": 85,
   "metadata": {
    "scrolled": false
   },
   "outputs": [
    {
     "name": "stderr",
     "output_type": "stream",
     "text": [
      "/opt/conda/lib/python3.7/site-packages/sklearn/metrics/classification.py:1437: UndefinedMetricWarning: F-score is ill-defined and being set to 0.0 due to no predicted samples.\n",
      "  'precision', 'predicted', average, warn_for)\n",
      "/opt/conda/lib/python3.7/site-packages/sklearn/metrics/classification.py:1437: UndefinedMetricWarning: F-score is ill-defined and being set to 0.0 due to no predicted samples.\n",
      "  'precision', 'predicted', average, warn_for)\n"
     ]
    }
   ],
   "source": [
    "f1_max = 0\n",
    "threshold_max = 0\n",
    "depth_max = 0\n",
    "for depth in range(1, 21, 1):\n",
    "    model = DecisionTreeClassifier(random_state = 12345, max_depth=depth)\n",
    "    model.fit(features_without_train, target_without_train)\n",
    "    \n",
    "    probabilities_valid = model.predict_proba(features_without_valid)\n",
    "    probabilities_one_valid = probabilities_valid[:, 1]\n",
    "\n",
    "    for threshold in np.arange(0, 0.9, 0.02):\n",
    "        predicted_valid = probabilities_one_valid > threshold\n",
    "        f1 = f1_score(target_without_valid, predicted_valid)\n",
    "        if f1_max < f1:\n",
    "            f1_max = f1\n",
    "            threshold_max = threshold\n",
    "            depth_max = depth"
   ]
  },
  {
   "cell_type": "code",
   "execution_count": 86,
   "metadata": {
    "scrolled": false
   },
   "outputs": [
    {
     "name": "stdout",
     "output_type": "stream",
     "text": [
      "Глубина = 6, Порог = 0.26 | Точность = 0.622, Полнота = 0.584, f1 = 0.602, AUC-ROC = 0.745\n"
     ]
    }
   ],
   "source": [
    "model = DecisionTreeClassifier(random_state = 12345, max_depth=depth_max)\n",
    "model.fit(features_without_train, target_without_train)\n",
    "probabilities_valid = model.predict_proba(features_without_valid)\n",
    "probabilities_one_valid = probabilities_valid[:, 1]\n",
    "predicted_valid = probabilities_one_valid > threshold_max\n",
    "\n",
    "precision = precision_score(target_without_valid, predicted_valid)\n",
    "recall = recall_score(target_without_valid, predicted_valid)\n",
    "f1 = f1_score(target_without_valid, predicted_valid)\n",
    "auc_roc = roc_auc_score(target_without_valid, predicted_valid)\n",
    "print(\"Глубина = {:.0f}, Порог = {:.2f} | Точность = {:.3f}, Полнота = {:.3f}, f1 = {:.3f}, AUC-ROC = {:.3f}\".format(depth_max, threshold_max, precision, recall, f1, auc_roc))"
   ]
  },
  {
   "cell_type": "markdown",
   "metadata": {},
   "source": [
    "        модель обучена на сбалансированной выборке методом Upsampling с признаком Tenure:\n",
    "        "
   ]
  },
  {
   "cell_type": "code",
   "execution_count": 87,
   "metadata": {
    "scrolled": false
   },
   "outputs": [
    {
     "name": "stderr",
     "output_type": "stream",
     "text": [
      "/opt/conda/lib/python3.7/site-packages/sklearn/metrics/classification.py:1437: UndefinedMetricWarning: F-score is ill-defined and being set to 0.0 due to no predicted samples.\n",
      "  'precision', 'predicted', average, warn_for)\n"
     ]
    }
   ],
   "source": [
    "f1_max = 0\n",
    "threshold_max = 0\n",
    "depth_max = 0\n",
    "for depth in range(1, 21, 1):\n",
    "    model = DecisionTreeClassifier(random_state = 12345, max_depth=depth)\n",
    "    model.fit(features_upsampled_with, target_upsampled_with)\n",
    "    \n",
    "    probabilities_valid = model.predict_proba(features_with_valid)\n",
    "    probabilities_one_valid = probabilities_valid[:, 1]\n",
    "\n",
    "    for threshold in np.arange(0, 0.9, 0.02):\n",
    "        predicted_valid = probabilities_one_valid > threshold\n",
    "        f1 = f1_score(target_with_valid, predicted_valid)\n",
    "        if f1_max < f1:\n",
    "            f1_max = f1\n",
    "            threshold_max = threshold\n",
    "            depth_max = depth"
   ]
  },
  {
   "cell_type": "code",
   "execution_count": 88,
   "metadata": {
    "scrolled": false
   },
   "outputs": [
    {
     "name": "stdout",
     "output_type": "stream",
     "text": [
      "Глубина = 6, Порог = 0.84 | Точность = 0.598, Полнота = 0.623, f1 = 0.610, AUC-ROC = 0.757\n"
     ]
    }
   ],
   "source": [
    "model = DecisionTreeClassifier(random_state = 12345, max_depth=depth_max)\n",
    "model.fit(features_upsampled_with, target_upsampled_with)\n",
    "probabilities_valid = model.predict_proba(features_with_valid)\n",
    "probabilities_one_valid = probabilities_valid[:, 1]\n",
    "predicted_valid = probabilities_one_valid > threshold_max\n",
    "\n",
    "precision = precision_score(target_with_valid, predicted_valid)\n",
    "recall = recall_score(target_with_valid, predicted_valid)\n",
    "f1 = f1_score(target_with_valid, predicted_valid)\n",
    "auc_roc = roc_auc_score(target_with_valid, predicted_valid)\n",
    "print(\"Глубина = {:.0f}, Порог = {:.2f} | Точность = {:.3f}, Полнота = {:.3f}, f1 = {:.3f}, AUC-ROC = {:.3f}\".format(depth_max, threshold_max, precision, recall, f1, auc_roc))"
   ]
  },
  {
   "cell_type": "markdown",
   "metadata": {},
   "source": [
    "            модель обучена на сбалансированной выборке методом Upsampling без признака Tenure:\n",
    "            "
   ]
  },
  {
   "cell_type": "code",
   "execution_count": 89,
   "metadata": {
    "scrolled": false
   },
   "outputs": [
    {
     "name": "stderr",
     "output_type": "stream",
     "text": [
      "/opt/conda/lib/python3.7/site-packages/sklearn/metrics/classification.py:1437: UndefinedMetricWarning: F-score is ill-defined and being set to 0.0 due to no predicted samples.\n",
      "  'precision', 'predicted', average, warn_for)\n"
     ]
    }
   ],
   "source": [
    "f1_max = 0\n",
    "threshold_max = 0\n",
    "depth_max = 0\n",
    "for depth in range(1, 21, 1):\n",
    "    model = DecisionTreeClassifier(random_state = 12345, max_depth=depth)\n",
    "    model.fit(features_upsampled_without, target_upsampled_without)\n",
    "    \n",
    "    probabilities_valid = model.predict_proba(features_without_valid)\n",
    "    probabilities_one_valid = probabilities_valid[:, 1]\n",
    "\n",
    "    for threshold in np.arange(0, 0.9, 0.02):\n",
    "        predicted_valid = probabilities_one_valid > threshold\n",
    "        f1 = f1_score(target_without_valid, predicted_valid)\n",
    "        if f1_max < f1:\n",
    "            f1_max = f1\n",
    "            threshold_max = threshold\n",
    "            depth_max = depth"
   ]
  },
  {
   "cell_type": "code",
   "execution_count": 90,
   "metadata": {
    "scrolled": false
   },
   "outputs": [
    {
     "name": "stdout",
     "output_type": "stream",
     "text": [
      "Глубина = 7, Порог = 0.84 | Точность = 0.602, Полнота = 0.598, f1 = 0.600, AUC-ROC = 0.747\n"
     ]
    }
   ],
   "source": [
    "model = DecisionTreeClassifier(random_state = 12345, max_depth=depth_max)\n",
    "model.fit(features_upsampled_without, target_upsampled_without)\n",
    "probabilities_valid = model.predict_proba(features_without_valid)\n",
    "probabilities_one_valid = probabilities_valid[:, 1]\n",
    "predicted_valid = probabilities_one_valid > threshold_max\n",
    "\n",
    "precision = precision_score(target_without_valid, predicted_valid)\n",
    "recall = recall_score(target_without_valid, predicted_valid)\n",
    "f1 = f1_score(target_without_valid, predicted_valid)\n",
    "auc_roc = roc_auc_score(target_without_valid, predicted_valid)\n",
    "print(\"Глубина = {:.0f}, Порог = {:.2f} | Точность = {:.3f}, Полнота = {:.3f}, f1 = {:.3f}, AUC-ROC = {:.3f}\".format(depth_max, threshold_max, precision, recall, f1, auc_roc))"
   ]
  },
  {
   "cell_type": "markdown",
   "metadata": {},
   "source": [
    "            модель обучена на сбалансированной выборке методом Downsampling c признаком Tenure:\n",
    "            "
   ]
  },
  {
   "cell_type": "code",
   "execution_count": 91,
   "metadata": {
    "scrolled": false
   },
   "outputs": [
    {
     "name": "stderr",
     "output_type": "stream",
     "text": [
      "/opt/conda/lib/python3.7/site-packages/sklearn/metrics/classification.py:1437: UndefinedMetricWarning: F-score is ill-defined and being set to 0.0 due to no predicted samples.\n",
      "  'precision', 'predicted', average, warn_for)\n"
     ]
    }
   ],
   "source": [
    "f1_max = 0\n",
    "threshold_max = 0\n",
    "depth_max = 0\n",
    "for depth in range(1, 21, 1):\n",
    "    model = DecisionTreeClassifier(random_state = 12345, max_depth=depth)\n",
    "    model.fit(features_downsampled_with, target_downsampled_with)\n",
    "    \n",
    "    probabilities_valid = model.predict_proba(features_with_valid)\n",
    "    probabilities_one_valid = probabilities_valid[:, 1]\n",
    "\n",
    "    for threshold in np.arange(0, 0.9, 0.02):\n",
    "        predicted_valid = probabilities_one_valid > threshold\n",
    "        f1 = f1_score(target_with_valid, predicted_valid)\n",
    "        if f1_max < f1:\n",
    "            f1_max = f1\n",
    "            threshold_max = threshold\n",
    "            depth_max = depth"
   ]
  },
  {
   "cell_type": "code",
   "execution_count": 92,
   "metadata": {
    "scrolled": false
   },
   "outputs": [
    {
     "name": "stdout",
     "output_type": "stream",
     "text": [
      "Глубина = 5, Порог = 0.86 | Точность = 0.555, Полнота = 0.605, f1 = 0.579, AUC-ROC = 0.739\n"
     ]
    }
   ],
   "source": [
    "model = DecisionTreeClassifier(random_state = 12345, max_depth=depth_max)\n",
    "model.fit(features_downsampled_with, target_downsampled_with)\n",
    "probabilities_valid = model.predict_proba(features_with_valid)\n",
    "probabilities_one_valid = probabilities_valid[:, 1]\n",
    "predicted_valid = probabilities_one_valid > threshold_max\n",
    "\n",
    "precision = precision_score(target_with_valid, predicted_valid)\n",
    "recall = recall_score(target_with_valid, predicted_valid)\n",
    "f1 = f1_score(target_with_valid, predicted_valid)\n",
    "auc_roc = roc_auc_score(target_with_valid, predicted_valid)\n",
    "print(\"Глубина = {:.0f}, Порог = {:.2f} | Точность = {:.3f}, Полнота = {:.3f}, f1 = {:.3f}, AUC-ROC = {:.3f}\".format(depth_max, threshold_max, precision, recall, f1, auc_roc))"
   ]
  },
  {
   "cell_type": "markdown",
   "metadata": {},
   "source": [
    "            модель обучена на сбалансированной выборке методом Downsampling без признака Tenure:\n",
    "            "
   ]
  },
  {
   "cell_type": "code",
   "execution_count": 93,
   "metadata": {
    "scrolled": false
   },
   "outputs": [
    {
     "name": "stderr",
     "output_type": "stream",
     "text": [
      "/opt/conda/lib/python3.7/site-packages/sklearn/metrics/classification.py:1437: UndefinedMetricWarning: F-score is ill-defined and being set to 0.0 due to no predicted samples.\n",
      "  'precision', 'predicted', average, warn_for)\n"
     ]
    }
   ],
   "source": [
    "f1_max = 0\n",
    "threshold_max = 0\n",
    "depth_max = 0\n",
    "for depth in range(1, 21, 1):\n",
    "    model = DecisionTreeClassifier(random_state = 12345, max_depth=depth)\n",
    "    model.fit(features_downsampled_without, target_downsampled_without)\n",
    "    \n",
    "    probabilities_valid = model.predict_proba(features_without_valid)\n",
    "    probabilities_one_valid = probabilities_valid[:, 1]\n",
    "\n",
    "    for threshold in np.arange(0, 0.9, 0.02):\n",
    "        predicted_valid = probabilities_one_valid > threshold\n",
    "        f1 = f1_score(target_without_valid, predicted_valid)\n",
    "        if f1_max < f1:\n",
    "            f1_max = f1\n",
    "            threshold_max = threshold\n",
    "            depth_max = depth"
   ]
  },
  {
   "cell_type": "code",
   "execution_count": 94,
   "metadata": {
    "scrolled": false
   },
   "outputs": [
    {
     "name": "stdout",
     "output_type": "stream",
     "text": [
      "Глубина = 6, Порог = 0.76 | Точность = 0.515, Полнота = 0.653, f1 = 0.576, AUC-ROC = 0.745\n"
     ]
    }
   ],
   "source": [
    "model = DecisionTreeClassifier(random_state = 12345, max_depth=depth_max)\n",
    "model.fit(features_downsampled_without, target_downsampled_without)\n",
    "probabilities_valid = model.predict_proba(features_without_valid)\n",
    "probabilities_one_valid = probabilities_valid[:, 1]\n",
    "predicted_valid = probabilities_one_valid > threshold_max\n",
    "\n",
    "precision = precision_score(target_without_valid, predicted_valid)\n",
    "recall = recall_score(target_without_valid, predicted_valid)\n",
    "f1 = f1_score(target_without_valid, predicted_valid)\n",
    "auc_roc = roc_auc_score(target_without_valid, predicted_valid)\n",
    "print(\"Глубина = {:.0f}, Порог = {:.2f} | Точность = {:.3f}, Полнота = {:.3f}, f1 = {:.3f}, AUC-ROC = {:.3f}\".format(depth_max, threshold_max, precision, recall, f1, auc_roc))"
   ]
  },
  {
   "cell_type": "markdown",
   "metadata": {},
   "source": [
    "__Вывод__\n",
    "\n",
    "\n",
    "Очевидно, что вмешиваться в порог - стоит! Метрика f1 разом выросла! причем наибольший результат был получен при изменении порога при обучении на несбалансированной выборке с признаком Tenure:\n",
    "\n",
    "``Глубина = 7, Порог = 0.28 | Точность = 0.622, Полнота = 0.623, f1 = 0.623, AUC-ROC = 0.762``"
   ]
  },
  {
   "cell_type": "markdown",
   "metadata": {},
   "source": [
    "                                                   ***"
   ]
  },
  {
   "cell_type": "markdown",
   "metadata": {},
   "source": [
    "3. Ответы случайного леса при изменении порога."
   ]
  },
  {
   "cell_type": "markdown",
   "metadata": {},
   "source": [
    "\n",
    "            модель обучена на несбалансированной выборке с признаком Tenure:  "
   ]
  },
  {
   "cell_type": "code",
   "execution_count": 95,
   "metadata": {
    "scrolled": true
   },
   "outputs": [
    {
     "name": "stderr",
     "output_type": "stream",
     "text": [
      "/opt/conda/lib/python3.7/site-packages/sklearn/metrics/classification.py:1437: UndefinedMetricWarning: F-score is ill-defined and being set to 0.0 due to no predicted samples.\n",
      "  'precision', 'predicted', average, warn_for)\n",
      "/opt/conda/lib/python3.7/site-packages/sklearn/metrics/classification.py:1437: UndefinedMetricWarning: F-score is ill-defined and being set to 0.0 due to no predicted samples.\n",
      "  'precision', 'predicted', average, warn_for)\n",
      "/opt/conda/lib/python3.7/site-packages/sklearn/metrics/classification.py:1437: UndefinedMetricWarning: F-score is ill-defined and being set to 0.0 due to no predicted samples.\n",
      "  'precision', 'predicted', average, warn_for)\n",
      "/opt/conda/lib/python3.7/site-packages/sklearn/metrics/classification.py:1437: UndefinedMetricWarning: F-score is ill-defined and being set to 0.0 due to no predicted samples.\n",
      "  'precision', 'predicted', average, warn_for)\n",
      "/opt/conda/lib/python3.7/site-packages/sklearn/metrics/classification.py:1437: UndefinedMetricWarning: F-score is ill-defined and being set to 0.0 due to no predicted samples.\n",
      "  'precision', 'predicted', average, warn_for)\n",
      "/opt/conda/lib/python3.7/site-packages/sklearn/metrics/classification.py:1437: UndefinedMetricWarning: F-score is ill-defined and being set to 0.0 due to no predicted samples.\n",
      "  'precision', 'predicted', average, warn_for)\n",
      "/opt/conda/lib/python3.7/site-packages/sklearn/metrics/classification.py:1437: UndefinedMetricWarning: F-score is ill-defined and being set to 0.0 due to no predicted samples.\n",
      "  'precision', 'predicted', average, warn_for)\n",
      "/opt/conda/lib/python3.7/site-packages/sklearn/metrics/classification.py:1437: UndefinedMetricWarning: F-score is ill-defined and being set to 0.0 due to no predicted samples.\n",
      "  'precision', 'predicted', average, warn_for)\n",
      "/opt/conda/lib/python3.7/site-packages/sklearn/metrics/classification.py:1437: UndefinedMetricWarning: F-score is ill-defined and being set to 0.0 due to no predicted samples.\n",
      "  'precision', 'predicted', average, warn_for)\n",
      "/opt/conda/lib/python3.7/site-packages/sklearn/metrics/classification.py:1437: UndefinedMetricWarning: F-score is ill-defined and being set to 0.0 due to no predicted samples.\n",
      "  'precision', 'predicted', average, warn_for)\n",
      "/opt/conda/lib/python3.7/site-packages/sklearn/metrics/classification.py:1437: UndefinedMetricWarning: F-score is ill-defined and being set to 0.0 due to no predicted samples.\n",
      "  'precision', 'predicted', average, warn_for)\n",
      "/opt/conda/lib/python3.7/site-packages/sklearn/metrics/classification.py:1437: UndefinedMetricWarning: F-score is ill-defined and being set to 0.0 due to no predicted samples.\n",
      "  'precision', 'predicted', average, warn_for)\n",
      "/opt/conda/lib/python3.7/site-packages/sklearn/metrics/classification.py:1437: UndefinedMetricWarning: F-score is ill-defined and being set to 0.0 due to no predicted samples.\n",
      "  'precision', 'predicted', average, warn_for)\n",
      "/opt/conda/lib/python3.7/site-packages/sklearn/metrics/classification.py:1437: UndefinedMetricWarning: F-score is ill-defined and being set to 0.0 due to no predicted samples.\n",
      "  'precision', 'predicted', average, warn_for)\n",
      "/opt/conda/lib/python3.7/site-packages/sklearn/metrics/classification.py:1437: UndefinedMetricWarning: F-score is ill-defined and being set to 0.0 due to no predicted samples.\n",
      "  'precision', 'predicted', average, warn_for)\n",
      "/opt/conda/lib/python3.7/site-packages/sklearn/metrics/classification.py:1437: UndefinedMetricWarning: F-score is ill-defined and being set to 0.0 due to no predicted samples.\n",
      "  'precision', 'predicted', average, warn_for)\n",
      "/opt/conda/lib/python3.7/site-packages/sklearn/metrics/classification.py:1437: UndefinedMetricWarning: F-score is ill-defined and being set to 0.0 due to no predicted samples.\n",
      "  'precision', 'predicted', average, warn_for)\n",
      "/opt/conda/lib/python3.7/site-packages/sklearn/metrics/classification.py:1437: UndefinedMetricWarning: F-score is ill-defined and being set to 0.0 due to no predicted samples.\n",
      "  'precision', 'predicted', average, warn_for)\n",
      "/opt/conda/lib/python3.7/site-packages/sklearn/metrics/classification.py:1437: UndefinedMetricWarning: F-score is ill-defined and being set to 0.0 due to no predicted samples.\n",
      "  'precision', 'predicted', average, warn_for)\n",
      "/opt/conda/lib/python3.7/site-packages/sklearn/metrics/classification.py:1437: UndefinedMetricWarning: F-score is ill-defined and being set to 0.0 due to no predicted samples.\n",
      "  'precision', 'predicted', average, warn_for)\n",
      "/opt/conda/lib/python3.7/site-packages/sklearn/metrics/classification.py:1437: UndefinedMetricWarning: F-score is ill-defined and being set to 0.0 due to no predicted samples.\n",
      "  'precision', 'predicted', average, warn_for)\n",
      "/opt/conda/lib/python3.7/site-packages/sklearn/metrics/classification.py:1437: UndefinedMetricWarning: F-score is ill-defined and being set to 0.0 due to no predicted samples.\n",
      "  'precision', 'predicted', average, warn_for)\n",
      "/opt/conda/lib/python3.7/site-packages/sklearn/metrics/classification.py:1437: UndefinedMetricWarning: F-score is ill-defined and being set to 0.0 due to no predicted samples.\n",
      "  'precision', 'predicted', average, warn_for)\n",
      "/opt/conda/lib/python3.7/site-packages/sklearn/metrics/classification.py:1437: UndefinedMetricWarning: F-score is ill-defined and being set to 0.0 due to no predicted samples.\n",
      "  'precision', 'predicted', average, warn_for)\n",
      "/opt/conda/lib/python3.7/site-packages/sklearn/metrics/classification.py:1437: UndefinedMetricWarning: F-score is ill-defined and being set to 0.0 due to no predicted samples.\n",
      "  'precision', 'predicted', average, warn_for)\n",
      "/opt/conda/lib/python3.7/site-packages/sklearn/metrics/classification.py:1437: UndefinedMetricWarning: F-score is ill-defined and being set to 0.0 due to no predicted samples.\n",
      "  'precision', 'predicted', average, warn_for)\n",
      "/opt/conda/lib/python3.7/site-packages/sklearn/metrics/classification.py:1437: UndefinedMetricWarning: F-score is ill-defined and being set to 0.0 due to no predicted samples.\n",
      "  'precision', 'predicted', average, warn_for)\n",
      "/opt/conda/lib/python3.7/site-packages/sklearn/metrics/classification.py:1437: UndefinedMetricWarning: F-score is ill-defined and being set to 0.0 due to no predicted samples.\n",
      "  'precision', 'predicted', average, warn_for)\n",
      "/opt/conda/lib/python3.7/site-packages/sklearn/metrics/classification.py:1437: UndefinedMetricWarning: F-score is ill-defined and being set to 0.0 due to no predicted samples.\n",
      "  'precision', 'predicted', average, warn_for)\n",
      "/opt/conda/lib/python3.7/site-packages/sklearn/metrics/classification.py:1437: UndefinedMetricWarning: F-score is ill-defined and being set to 0.0 due to no predicted samples.\n",
      "  'precision', 'predicted', average, warn_for)\n",
      "/opt/conda/lib/python3.7/site-packages/sklearn/metrics/classification.py:1437: UndefinedMetricWarning: F-score is ill-defined and being set to 0.0 due to no predicted samples.\n",
      "  'precision', 'predicted', average, warn_for)\n",
      "/opt/conda/lib/python3.7/site-packages/sklearn/metrics/classification.py:1437: UndefinedMetricWarning: F-score is ill-defined and being set to 0.0 due to no predicted samples.\n",
      "  'precision', 'predicted', average, warn_for)\n",
      "/opt/conda/lib/python3.7/site-packages/sklearn/metrics/classification.py:1437: UndefinedMetricWarning: F-score is ill-defined and being set to 0.0 due to no predicted samples.\n",
      "  'precision', 'predicted', average, warn_for)\n",
      "/opt/conda/lib/python3.7/site-packages/sklearn/metrics/classification.py:1437: UndefinedMetricWarning: F-score is ill-defined and being set to 0.0 due to no predicted samples.\n",
      "  'precision', 'predicted', average, warn_for)\n",
      "/opt/conda/lib/python3.7/site-packages/sklearn/metrics/classification.py:1437: UndefinedMetricWarning: F-score is ill-defined and being set to 0.0 due to no predicted samples.\n",
      "  'precision', 'predicted', average, warn_for)\n",
      "/opt/conda/lib/python3.7/site-packages/sklearn/metrics/classification.py:1437: UndefinedMetricWarning: F-score is ill-defined and being set to 0.0 due to no predicted samples.\n",
      "  'precision', 'predicted', average, warn_for)\n",
      "/opt/conda/lib/python3.7/site-packages/sklearn/metrics/classification.py:1437: UndefinedMetricWarning: F-score is ill-defined and being set to 0.0 due to no predicted samples.\n",
      "  'precision', 'predicted', average, warn_for)\n"
     ]
    },
    {
     "name": "stderr",
     "output_type": "stream",
     "text": [
      "/opt/conda/lib/python3.7/site-packages/sklearn/metrics/classification.py:1437: UndefinedMetricWarning: F-score is ill-defined and being set to 0.0 due to no predicted samples.\n",
      "  'precision', 'predicted', average, warn_for)\n",
      "/opt/conda/lib/python3.7/site-packages/sklearn/metrics/classification.py:1437: UndefinedMetricWarning: F-score is ill-defined and being set to 0.0 due to no predicted samples.\n",
      "  'precision', 'predicted', average, warn_for)\n",
      "/opt/conda/lib/python3.7/site-packages/sklearn/metrics/classification.py:1437: UndefinedMetricWarning: F-score is ill-defined and being set to 0.0 due to no predicted samples.\n",
      "  'precision', 'predicted', average, warn_for)\n",
      "/opt/conda/lib/python3.7/site-packages/sklearn/metrics/classification.py:1437: UndefinedMetricWarning: F-score is ill-defined and being set to 0.0 due to no predicted samples.\n",
      "  'precision', 'predicted', average, warn_for)\n",
      "/opt/conda/lib/python3.7/site-packages/sklearn/metrics/classification.py:1437: UndefinedMetricWarning: F-score is ill-defined and being set to 0.0 due to no predicted samples.\n",
      "  'precision', 'predicted', average, warn_for)\n",
      "/opt/conda/lib/python3.7/site-packages/sklearn/metrics/classification.py:1437: UndefinedMetricWarning: F-score is ill-defined and being set to 0.0 due to no predicted samples.\n",
      "  'precision', 'predicted', average, warn_for)\n",
      "/opt/conda/lib/python3.7/site-packages/sklearn/metrics/classification.py:1437: UndefinedMetricWarning: F-score is ill-defined and being set to 0.0 due to no predicted samples.\n",
      "  'precision', 'predicted', average, warn_for)\n",
      "/opt/conda/lib/python3.7/site-packages/sklearn/metrics/classification.py:1437: UndefinedMetricWarning: F-score is ill-defined and being set to 0.0 due to no predicted samples.\n",
      "  'precision', 'predicted', average, warn_for)\n",
      "/opt/conda/lib/python3.7/site-packages/sklearn/metrics/classification.py:1437: UndefinedMetricWarning: F-score is ill-defined and being set to 0.0 due to no predicted samples.\n",
      "  'precision', 'predicted', average, warn_for)\n",
      "/opt/conda/lib/python3.7/site-packages/sklearn/metrics/classification.py:1437: UndefinedMetricWarning: F-score is ill-defined and being set to 0.0 due to no predicted samples.\n",
      "  'precision', 'predicted', average, warn_for)\n",
      "/opt/conda/lib/python3.7/site-packages/sklearn/metrics/classification.py:1437: UndefinedMetricWarning: F-score is ill-defined and being set to 0.0 due to no predicted samples.\n",
      "  'precision', 'predicted', average, warn_for)\n",
      "/opt/conda/lib/python3.7/site-packages/sklearn/metrics/classification.py:1437: UndefinedMetricWarning: F-score is ill-defined and being set to 0.0 due to no predicted samples.\n",
      "  'precision', 'predicted', average, warn_for)\n",
      "/opt/conda/lib/python3.7/site-packages/sklearn/metrics/classification.py:1437: UndefinedMetricWarning: F-score is ill-defined and being set to 0.0 due to no predicted samples.\n",
      "  'precision', 'predicted', average, warn_for)\n",
      "/opt/conda/lib/python3.7/site-packages/sklearn/metrics/classification.py:1437: UndefinedMetricWarning: F-score is ill-defined and being set to 0.0 due to no predicted samples.\n",
      "  'precision', 'predicted', average, warn_for)\n",
      "/opt/conda/lib/python3.7/site-packages/sklearn/metrics/classification.py:1437: UndefinedMetricWarning: F-score is ill-defined and being set to 0.0 due to no predicted samples.\n",
      "  'precision', 'predicted', average, warn_for)\n",
      "/opt/conda/lib/python3.7/site-packages/sklearn/metrics/classification.py:1437: UndefinedMetricWarning: F-score is ill-defined and being set to 0.0 due to no predicted samples.\n",
      "  'precision', 'predicted', average, warn_for)\n",
      "/opt/conda/lib/python3.7/site-packages/sklearn/metrics/classification.py:1437: UndefinedMetricWarning: F-score is ill-defined and being set to 0.0 due to no predicted samples.\n",
      "  'precision', 'predicted', average, warn_for)\n",
      "/opt/conda/lib/python3.7/site-packages/sklearn/metrics/classification.py:1437: UndefinedMetricWarning: F-score is ill-defined and being set to 0.0 due to no predicted samples.\n",
      "  'precision', 'predicted', average, warn_for)\n"
     ]
    }
   ],
   "source": [
    "f1_max = 0\n",
    "for estim in range(1, 101, 5):\n",
    "    for depth in range(1, 21, 2):\n",
    "        model_ran_for = RandomForestClassifier(random_state=12345, n_estimators=estim, max_depth=depth)\n",
    "        model_ran_for.fit(features_with_train, target_with_train)\n",
    "        \n",
    "        probabilities_valid = model_ran_for.predict_proba(features_with_valid)\n",
    "        probabilities_one_valid = probabilities_valid[:, 1]\n",
    "        \n",
    "        for threshold in np.arange(0.1, 0.9, 0.01):\n",
    "            predicted_valid = probabilities_one_valid > threshold\n",
    "            f1 = f1_score(target_with_valid, predicted_valid)\n",
    "            if f1_max < f1:\n",
    "                f1_max = f1\n",
    "                estim_max = estim\n",
    "                depth_max = depth\n",
    "                threshold_max = threshold"
   ]
  },
  {
   "cell_type": "code",
   "execution_count": 96,
   "metadata": {
    "scrolled": false
   },
   "outputs": [
    {
     "name": "stdout",
     "output_type": "stream",
     "text": [
      "Деревьев в ансамбле = 86, Глубина = 7, Порог = 0.31\n",
      "Точность = 0.692, Полнота = 0.637, f1 = 0.663, AUC-ROC = 0.781\n"
     ]
    }
   ],
   "source": [
    "model_ran_for_test = RandomForestClassifier(random_state=12345, n_estimators=estim_max, max_depth=depth_max)\n",
    "model_ran_for_test.fit(features_with_train, target_with_train)\n",
    "        \n",
    "probabilities_valid = model_ran_for_test.predict_proba(features_with_valid)\n",
    "probabilities_one_valid = probabilities_valid[:, 1]\n",
    "\n",
    "predicted_valid = probabilities_one_valid > threshold_max\n",
    "precision = precision_score(target_with_valid, predicted_valid)\n",
    "recall = recall_score(target_with_valid, predicted_valid)\n",
    "f1 = f1_score(target_with_valid, predicted_valid)\n",
    "auc_roc = roc_auc_score(target_with_valid, predicted_valid)\n",
    "print(\"Деревьев в ансамбле = {:.0f}, Глубина = {:.0f}, Порог = {:.2f}\".format(estim_max, depth_max, threshold_max))\n",
    "print(\"Точность = {:.3f}, Полнота = {:.3f}, f1 = {:.3f}, AUC-ROC = {:.3f}\".format(precision, recall, f1, auc_roc))\n"
   ]
  },
  {
   "cell_type": "markdown",
   "metadata": {},
   "source": [
    "\n",
    "                    модель обучена на несбалансированной выборке без признака Tenure:"
   ]
  },
  {
   "cell_type": "code",
   "execution_count": 97,
   "metadata": {
    "scrolled": true
   },
   "outputs": [
    {
     "name": "stderr",
     "output_type": "stream",
     "text": [
      "/opt/conda/lib/python3.7/site-packages/sklearn/metrics/classification.py:1437: UndefinedMetricWarning: F-score is ill-defined and being set to 0.0 due to no predicted samples.\n",
      "  'precision', 'predicted', average, warn_for)\n",
      "/opt/conda/lib/python3.7/site-packages/sklearn/metrics/classification.py:1437: UndefinedMetricWarning: F-score is ill-defined and being set to 0.0 due to no predicted samples.\n",
      "  'precision', 'predicted', average, warn_for)\n",
      "/opt/conda/lib/python3.7/site-packages/sklearn/metrics/classification.py:1437: UndefinedMetricWarning: F-score is ill-defined and being set to 0.0 due to no predicted samples.\n",
      "  'precision', 'predicted', average, warn_for)\n",
      "/opt/conda/lib/python3.7/site-packages/sklearn/metrics/classification.py:1437: UndefinedMetricWarning: F-score is ill-defined and being set to 0.0 due to no predicted samples.\n",
      "  'precision', 'predicted', average, warn_for)\n",
      "/opt/conda/lib/python3.7/site-packages/sklearn/metrics/classification.py:1437: UndefinedMetricWarning: F-score is ill-defined and being set to 0.0 due to no predicted samples.\n",
      "  'precision', 'predicted', average, warn_for)\n",
      "/opt/conda/lib/python3.7/site-packages/sklearn/metrics/classification.py:1437: UndefinedMetricWarning: F-score is ill-defined and being set to 0.0 due to no predicted samples.\n",
      "  'precision', 'predicted', average, warn_for)\n",
      "/opt/conda/lib/python3.7/site-packages/sklearn/metrics/classification.py:1437: UndefinedMetricWarning: F-score is ill-defined and being set to 0.0 due to no predicted samples.\n",
      "  'precision', 'predicted', average, warn_for)\n",
      "/opt/conda/lib/python3.7/site-packages/sklearn/metrics/classification.py:1437: UndefinedMetricWarning: F-score is ill-defined and being set to 0.0 due to no predicted samples.\n",
      "  'precision', 'predicted', average, warn_for)\n",
      "/opt/conda/lib/python3.7/site-packages/sklearn/metrics/classification.py:1437: UndefinedMetricWarning: F-score is ill-defined and being set to 0.0 due to no predicted samples.\n",
      "  'precision', 'predicted', average, warn_for)\n",
      "/opt/conda/lib/python3.7/site-packages/sklearn/metrics/classification.py:1437: UndefinedMetricWarning: F-score is ill-defined and being set to 0.0 due to no predicted samples.\n",
      "  'precision', 'predicted', average, warn_for)\n",
      "/opt/conda/lib/python3.7/site-packages/sklearn/metrics/classification.py:1437: UndefinedMetricWarning: F-score is ill-defined and being set to 0.0 due to no predicted samples.\n",
      "  'precision', 'predicted', average, warn_for)\n",
      "/opt/conda/lib/python3.7/site-packages/sklearn/metrics/classification.py:1437: UndefinedMetricWarning: F-score is ill-defined and being set to 0.0 due to no predicted samples.\n",
      "  'precision', 'predicted', average, warn_for)\n",
      "/opt/conda/lib/python3.7/site-packages/sklearn/metrics/classification.py:1437: UndefinedMetricWarning: F-score is ill-defined and being set to 0.0 due to no predicted samples.\n",
      "  'precision', 'predicted', average, warn_for)\n",
      "/opt/conda/lib/python3.7/site-packages/sklearn/metrics/classification.py:1437: UndefinedMetricWarning: F-score is ill-defined and being set to 0.0 due to no predicted samples.\n",
      "  'precision', 'predicted', average, warn_for)\n",
      "/opt/conda/lib/python3.7/site-packages/sklearn/metrics/classification.py:1437: UndefinedMetricWarning: F-score is ill-defined and being set to 0.0 due to no predicted samples.\n",
      "  'precision', 'predicted', average, warn_for)\n",
      "/opt/conda/lib/python3.7/site-packages/sklearn/metrics/classification.py:1437: UndefinedMetricWarning: F-score is ill-defined and being set to 0.0 due to no predicted samples.\n",
      "  'precision', 'predicted', average, warn_for)\n",
      "/opt/conda/lib/python3.7/site-packages/sklearn/metrics/classification.py:1437: UndefinedMetricWarning: F-score is ill-defined and being set to 0.0 due to no predicted samples.\n",
      "  'precision', 'predicted', average, warn_for)\n",
      "/opt/conda/lib/python3.7/site-packages/sklearn/metrics/classification.py:1437: UndefinedMetricWarning: F-score is ill-defined and being set to 0.0 due to no predicted samples.\n",
      "  'precision', 'predicted', average, warn_for)\n",
      "/opt/conda/lib/python3.7/site-packages/sklearn/metrics/classification.py:1437: UndefinedMetricWarning: F-score is ill-defined and being set to 0.0 due to no predicted samples.\n",
      "  'precision', 'predicted', average, warn_for)\n",
      "/opt/conda/lib/python3.7/site-packages/sklearn/metrics/classification.py:1437: UndefinedMetricWarning: F-score is ill-defined and being set to 0.0 due to no predicted samples.\n",
      "  'precision', 'predicted', average, warn_for)\n",
      "/opt/conda/lib/python3.7/site-packages/sklearn/metrics/classification.py:1437: UndefinedMetricWarning: F-score is ill-defined and being set to 0.0 due to no predicted samples.\n",
      "  'precision', 'predicted', average, warn_for)\n",
      "/opt/conda/lib/python3.7/site-packages/sklearn/metrics/classification.py:1437: UndefinedMetricWarning: F-score is ill-defined and being set to 0.0 due to no predicted samples.\n",
      "  'precision', 'predicted', average, warn_for)\n",
      "/opt/conda/lib/python3.7/site-packages/sklearn/metrics/classification.py:1437: UndefinedMetricWarning: F-score is ill-defined and being set to 0.0 due to no predicted samples.\n",
      "  'precision', 'predicted', average, warn_for)\n",
      "/opt/conda/lib/python3.7/site-packages/sklearn/metrics/classification.py:1437: UndefinedMetricWarning: F-score is ill-defined and being set to 0.0 due to no predicted samples.\n",
      "  'precision', 'predicted', average, warn_for)\n",
      "/opt/conda/lib/python3.7/site-packages/sklearn/metrics/classification.py:1437: UndefinedMetricWarning: F-score is ill-defined and being set to 0.0 due to no predicted samples.\n",
      "  'precision', 'predicted', average, warn_for)\n",
      "/opt/conda/lib/python3.7/site-packages/sklearn/metrics/classification.py:1437: UndefinedMetricWarning: F-score is ill-defined and being set to 0.0 due to no predicted samples.\n",
      "  'precision', 'predicted', average, warn_for)\n",
      "/opt/conda/lib/python3.7/site-packages/sklearn/metrics/classification.py:1437: UndefinedMetricWarning: F-score is ill-defined and being set to 0.0 due to no predicted samples.\n",
      "  'precision', 'predicted', average, warn_for)\n",
      "/opt/conda/lib/python3.7/site-packages/sklearn/metrics/classification.py:1437: UndefinedMetricWarning: F-score is ill-defined and being set to 0.0 due to no predicted samples.\n",
      "  'precision', 'predicted', average, warn_for)\n",
      "/opt/conda/lib/python3.7/site-packages/sklearn/metrics/classification.py:1437: UndefinedMetricWarning: F-score is ill-defined and being set to 0.0 due to no predicted samples.\n",
      "  'precision', 'predicted', average, warn_for)\n",
      "/opt/conda/lib/python3.7/site-packages/sklearn/metrics/classification.py:1437: UndefinedMetricWarning: F-score is ill-defined and being set to 0.0 due to no predicted samples.\n",
      "  'precision', 'predicted', average, warn_for)\n",
      "/opt/conda/lib/python3.7/site-packages/sklearn/metrics/classification.py:1437: UndefinedMetricWarning: F-score is ill-defined and being set to 0.0 due to no predicted samples.\n",
      "  'precision', 'predicted', average, warn_for)\n",
      "/opt/conda/lib/python3.7/site-packages/sklearn/metrics/classification.py:1437: UndefinedMetricWarning: F-score is ill-defined and being set to 0.0 due to no predicted samples.\n",
      "  'precision', 'predicted', average, warn_for)\n",
      "/opt/conda/lib/python3.7/site-packages/sklearn/metrics/classification.py:1437: UndefinedMetricWarning: F-score is ill-defined and being set to 0.0 due to no predicted samples.\n",
      "  'precision', 'predicted', average, warn_for)\n",
      "/opt/conda/lib/python3.7/site-packages/sklearn/metrics/classification.py:1437: UndefinedMetricWarning: F-score is ill-defined and being set to 0.0 due to no predicted samples.\n",
      "  'precision', 'predicted', average, warn_for)\n",
      "/opt/conda/lib/python3.7/site-packages/sklearn/metrics/classification.py:1437: UndefinedMetricWarning: F-score is ill-defined and being set to 0.0 due to no predicted samples.\n",
      "  'precision', 'predicted', average, warn_for)\n",
      "/opt/conda/lib/python3.7/site-packages/sklearn/metrics/classification.py:1437: UndefinedMetricWarning: F-score is ill-defined and being set to 0.0 due to no predicted samples.\n",
      "  'precision', 'predicted', average, warn_for)\n",
      "/opt/conda/lib/python3.7/site-packages/sklearn/metrics/classification.py:1437: UndefinedMetricWarning: F-score is ill-defined and being set to 0.0 due to no predicted samples.\n",
      "  'precision', 'predicted', average, warn_for)\n"
     ]
    },
    {
     "name": "stderr",
     "output_type": "stream",
     "text": [
      "/opt/conda/lib/python3.7/site-packages/sklearn/metrics/classification.py:1437: UndefinedMetricWarning: F-score is ill-defined and being set to 0.0 due to no predicted samples.\n",
      "  'precision', 'predicted', average, warn_for)\n",
      "/opt/conda/lib/python3.7/site-packages/sklearn/metrics/classification.py:1437: UndefinedMetricWarning: F-score is ill-defined and being set to 0.0 due to no predicted samples.\n",
      "  'precision', 'predicted', average, warn_for)\n",
      "/opt/conda/lib/python3.7/site-packages/sklearn/metrics/classification.py:1437: UndefinedMetricWarning: F-score is ill-defined and being set to 0.0 due to no predicted samples.\n",
      "  'precision', 'predicted', average, warn_for)\n",
      "/opt/conda/lib/python3.7/site-packages/sklearn/metrics/classification.py:1437: UndefinedMetricWarning: F-score is ill-defined and being set to 0.0 due to no predicted samples.\n",
      "  'precision', 'predicted', average, warn_for)\n",
      "/opt/conda/lib/python3.7/site-packages/sklearn/metrics/classification.py:1437: UndefinedMetricWarning: F-score is ill-defined and being set to 0.0 due to no predicted samples.\n",
      "  'precision', 'predicted', average, warn_for)\n",
      "/opt/conda/lib/python3.7/site-packages/sklearn/metrics/classification.py:1437: UndefinedMetricWarning: F-score is ill-defined and being set to 0.0 due to no predicted samples.\n",
      "  'precision', 'predicted', average, warn_for)\n",
      "/opt/conda/lib/python3.7/site-packages/sklearn/metrics/classification.py:1437: UndefinedMetricWarning: F-score is ill-defined and being set to 0.0 due to no predicted samples.\n",
      "  'precision', 'predicted', average, warn_for)\n",
      "/opt/conda/lib/python3.7/site-packages/sklearn/metrics/classification.py:1437: UndefinedMetricWarning: F-score is ill-defined and being set to 0.0 due to no predicted samples.\n",
      "  'precision', 'predicted', average, warn_for)\n",
      "/opt/conda/lib/python3.7/site-packages/sklearn/metrics/classification.py:1437: UndefinedMetricWarning: F-score is ill-defined and being set to 0.0 due to no predicted samples.\n",
      "  'precision', 'predicted', average, warn_for)\n",
      "/opt/conda/lib/python3.7/site-packages/sklearn/metrics/classification.py:1437: UndefinedMetricWarning: F-score is ill-defined and being set to 0.0 due to no predicted samples.\n",
      "  'precision', 'predicted', average, warn_for)\n",
      "/opt/conda/lib/python3.7/site-packages/sklearn/metrics/classification.py:1437: UndefinedMetricWarning: F-score is ill-defined and being set to 0.0 due to no predicted samples.\n",
      "  'precision', 'predicted', average, warn_for)\n",
      "/opt/conda/lib/python3.7/site-packages/sklearn/metrics/classification.py:1437: UndefinedMetricWarning: F-score is ill-defined and being set to 0.0 due to no predicted samples.\n",
      "  'precision', 'predicted', average, warn_for)\n",
      "/opt/conda/lib/python3.7/site-packages/sklearn/metrics/classification.py:1437: UndefinedMetricWarning: F-score is ill-defined and being set to 0.0 due to no predicted samples.\n",
      "  'precision', 'predicted', average, warn_for)\n",
      "/opt/conda/lib/python3.7/site-packages/sklearn/metrics/classification.py:1437: UndefinedMetricWarning: F-score is ill-defined and being set to 0.0 due to no predicted samples.\n",
      "  'precision', 'predicted', average, warn_for)\n",
      "/opt/conda/lib/python3.7/site-packages/sklearn/metrics/classification.py:1437: UndefinedMetricWarning: F-score is ill-defined and being set to 0.0 due to no predicted samples.\n",
      "  'precision', 'predicted', average, warn_for)\n",
      "/opt/conda/lib/python3.7/site-packages/sklearn/metrics/classification.py:1437: UndefinedMetricWarning: F-score is ill-defined and being set to 0.0 due to no predicted samples.\n",
      "  'precision', 'predicted', average, warn_for)\n",
      "/opt/conda/lib/python3.7/site-packages/sklearn/metrics/classification.py:1437: UndefinedMetricWarning: F-score is ill-defined and being set to 0.0 due to no predicted samples.\n",
      "  'precision', 'predicted', average, warn_for)\n"
     ]
    }
   ],
   "source": [
    "f1_max = 0\n",
    "for estim in range(1, 101, 5):\n",
    "    for depth in range(1, 21, 2):\n",
    "        model_ran_for = RandomForestClassifier(random_state=12345, n_estimators=estim, max_depth=depth)\n",
    "        model_ran_for.fit(features_without_train, target_without_train)\n",
    "        \n",
    "        probabilities_valid = model_ran_for.predict_proba(features_without_valid)\n",
    "        probabilities_one_valid = probabilities_valid[:, 1]\n",
    "        \n",
    "        for threshold in np.arange(0.1, 0.9, 0.01):\n",
    "            predicted_valid = probabilities_one_valid > threshold\n",
    "            f1 = f1_score(target_without_valid, predicted_valid)\n",
    "            if f1_max < f1:\n",
    "                f1_max = f1\n",
    "                estim_max = estim\n",
    "                depth_max = depth\n",
    "                threshold_max = threshold"
   ]
  },
  {
   "cell_type": "code",
   "execution_count": 98,
   "metadata": {
    "scrolled": false
   },
   "outputs": [
    {
     "name": "stdout",
     "output_type": "stream",
     "text": [
      "Деревьев в ансамбле = 81, Глубина = 7, Порог = 0.27\n",
      "Точность = 0.631, Полнота = 0.658, f1 = 0.644, AUC-ROC = 0.778\n"
     ]
    }
   ],
   "source": [
    "model_ran_for = RandomForestClassifier(random_state=12345, n_estimators=estim_max, max_depth=depth_max)\n",
    "model_ran_for.fit(features_without_train, target_without_train)\n",
    "        \n",
    "probabilities_valid = model_ran_for.predict_proba(features_without_valid)\n",
    "probabilities_one_valid = probabilities_valid[:, 1]\n",
    "\n",
    "predicted_valid = probabilities_one_valid > threshold_max\n",
    "precision = precision_score(target_without_valid, predicted_valid)\n",
    "recall = recall_score(target_without_valid, predicted_valid)\n",
    "f1 = f1_score(target_without_valid, predicted_valid)\n",
    "auc_roc = roc_auc_score(target_without_valid, predicted_valid)\n",
    "print(\"Деревьев в ансамбле = {:.0f}, Глубина = {:.0f}, Порог = {:.2f}\".format(estim_max, depth_max, threshold_max))\n",
    "print(\"Точность = {:.3f}, Полнота = {:.3f}, f1 = {:.3f}, AUC-ROC = {:.3f}\".format(precision, recall, f1, auc_roc))\n"
   ]
  },
  {
   "cell_type": "markdown",
   "metadata": {},
   "source": [
    "\n",
    "                    модель обучена на сбалансированной выборке методом Upsampling с признаком Tenure:"
   ]
  },
  {
   "cell_type": "code",
   "execution_count": 99,
   "metadata": {
    "scrolled": true
   },
   "outputs": [
    {
     "name": "stderr",
     "output_type": "stream",
     "text": [
      "/opt/conda/lib/python3.7/site-packages/sklearn/metrics/classification.py:1437: UndefinedMetricWarning: F-score is ill-defined and being set to 0.0 due to no predicted samples.\n",
      "  'precision', 'predicted', average, warn_for)\n",
      "/opt/conda/lib/python3.7/site-packages/sklearn/metrics/classification.py:1437: UndefinedMetricWarning: F-score is ill-defined and being set to 0.0 due to no predicted samples.\n",
      "  'precision', 'predicted', average, warn_for)\n",
      "/opt/conda/lib/python3.7/site-packages/sklearn/metrics/classification.py:1437: UndefinedMetricWarning: F-score is ill-defined and being set to 0.0 due to no predicted samples.\n",
      "  'precision', 'predicted', average, warn_for)\n",
      "/opt/conda/lib/python3.7/site-packages/sklearn/metrics/classification.py:1437: UndefinedMetricWarning: F-score is ill-defined and being set to 0.0 due to no predicted samples.\n",
      "  'precision', 'predicted', average, warn_for)\n",
      "/opt/conda/lib/python3.7/site-packages/sklearn/metrics/classification.py:1437: UndefinedMetricWarning: F-score is ill-defined and being set to 0.0 due to no predicted samples.\n",
      "  'precision', 'predicted', average, warn_for)\n",
      "/opt/conda/lib/python3.7/site-packages/sklearn/metrics/classification.py:1437: UndefinedMetricWarning: F-score is ill-defined and being set to 0.0 due to no predicted samples.\n",
      "  'precision', 'predicted', average, warn_for)\n",
      "/opt/conda/lib/python3.7/site-packages/sklearn/metrics/classification.py:1437: UndefinedMetricWarning: F-score is ill-defined and being set to 0.0 due to no predicted samples.\n",
      "  'precision', 'predicted', average, warn_for)\n",
      "/opt/conda/lib/python3.7/site-packages/sklearn/metrics/classification.py:1437: UndefinedMetricWarning: F-score is ill-defined and being set to 0.0 due to no predicted samples.\n",
      "  'precision', 'predicted', average, warn_for)\n",
      "/opt/conda/lib/python3.7/site-packages/sklearn/metrics/classification.py:1437: UndefinedMetricWarning: F-score is ill-defined and being set to 0.0 due to no predicted samples.\n",
      "  'precision', 'predicted', average, warn_for)\n",
      "/opt/conda/lib/python3.7/site-packages/sklearn/metrics/classification.py:1437: UndefinedMetricWarning: F-score is ill-defined and being set to 0.0 due to no predicted samples.\n",
      "  'precision', 'predicted', average, warn_for)\n",
      "/opt/conda/lib/python3.7/site-packages/sklearn/metrics/classification.py:1437: UndefinedMetricWarning: F-score is ill-defined and being set to 0.0 due to no predicted samples.\n",
      "  'precision', 'predicted', average, warn_for)\n",
      "/opt/conda/lib/python3.7/site-packages/sklearn/metrics/classification.py:1437: UndefinedMetricWarning: F-score is ill-defined and being set to 0.0 due to no predicted samples.\n",
      "  'precision', 'predicted', average, warn_for)\n",
      "/opt/conda/lib/python3.7/site-packages/sklearn/metrics/classification.py:1437: UndefinedMetricWarning: F-score is ill-defined and being set to 0.0 due to no predicted samples.\n",
      "  'precision', 'predicted', average, warn_for)\n",
      "/opt/conda/lib/python3.7/site-packages/sklearn/metrics/classification.py:1437: UndefinedMetricWarning: F-score is ill-defined and being set to 0.0 due to no predicted samples.\n",
      "  'precision', 'predicted', average, warn_for)\n",
      "/opt/conda/lib/python3.7/site-packages/sklearn/metrics/classification.py:1437: UndefinedMetricWarning: F-score is ill-defined and being set to 0.0 due to no predicted samples.\n",
      "  'precision', 'predicted', average, warn_for)\n",
      "/opt/conda/lib/python3.7/site-packages/sklearn/metrics/classification.py:1437: UndefinedMetricWarning: F-score is ill-defined and being set to 0.0 due to no predicted samples.\n",
      "  'precision', 'predicted', average, warn_for)\n",
      "/opt/conda/lib/python3.7/site-packages/sklearn/metrics/classification.py:1437: UndefinedMetricWarning: F-score is ill-defined and being set to 0.0 due to no predicted samples.\n",
      "  'precision', 'predicted', average, warn_for)\n",
      "/opt/conda/lib/python3.7/site-packages/sklearn/metrics/classification.py:1437: UndefinedMetricWarning: F-score is ill-defined and being set to 0.0 due to no predicted samples.\n",
      "  'precision', 'predicted', average, warn_for)\n",
      "/opt/conda/lib/python3.7/site-packages/sklearn/metrics/classification.py:1437: UndefinedMetricWarning: F-score is ill-defined and being set to 0.0 due to no predicted samples.\n",
      "  'precision', 'predicted', average, warn_for)\n",
      "/opt/conda/lib/python3.7/site-packages/sklearn/metrics/classification.py:1437: UndefinedMetricWarning: F-score is ill-defined and being set to 0.0 due to no predicted samples.\n",
      "  'precision', 'predicted', average, warn_for)\n"
     ]
    }
   ],
   "source": [
    "f1_max = 0\n",
    "for estim in range(1, 101, 5):\n",
    "    for depth in range(1, 21, 2):\n",
    "        model_ran_for = RandomForestClassifier(random_state=12345, n_estimators=estim, max_depth=depth)\n",
    "        model_ran_for.fit(features_upsampled_with, target_upsampled_with)\n",
    "        \n",
    "        probabilities_valid = model_ran_for.predict_proba(features_with_valid)\n",
    "        probabilities_one_valid = probabilities_valid[:, 1]\n",
    "        \n",
    "        for threshold in np.arange(0.1, 0.9, 0.01):\n",
    "            predicted_valid = probabilities_one_valid > threshold\n",
    "            f1 = f1_score(target_with_valid, predicted_valid)\n",
    "            if f1_max < f1:\n",
    "                f1_max = f1\n",
    "                estim_max = estim\n",
    "                depth_max = depth\n",
    "                threshold_max = threshold"
   ]
  },
  {
   "cell_type": "code",
   "execution_count": 100,
   "metadata": {
    "scrolled": false
   },
   "outputs": [
    {
     "name": "stdout",
     "output_type": "stream",
     "text": [
      "Деревьев в ансамбле = 66, Глубина = 7, Порог = 0.77\n",
      "Точность = 0.646, Полнота = 0.647, f1 = 0.646, AUC-ROC = 0.777\n"
     ]
    }
   ],
   "source": [
    "model_ran_for = RandomForestClassifier(random_state=12345, n_estimators=estim_max, max_depth=depth_max)\n",
    "model_ran_for.fit(features_upsampled_with, target_upsampled_with)\n",
    "        \n",
    "probabilities_valid = model_ran_for.predict_proba(features_with_valid)\n",
    "probabilities_one_valid = probabilities_valid[:, 1]\n",
    "\n",
    "predicted_valid = probabilities_one_valid > threshold_max\n",
    "precision = precision_score(target_with_valid, predicted_valid)\n",
    "recall = recall_score(target_with_valid, predicted_valid)\n",
    "f1 = f1_score(target_with_valid, predicted_valid)\n",
    "auc_roc = roc_auc_score(target_with_valid, predicted_valid)\n",
    "print(\"Деревьев в ансамбле = {:.0f}, Глубина = {:.0f}, Порог = {:.2f}\".format(estim_max, depth_max, threshold_max))\n",
    "print(\"Точность = {:.3f}, Полнота = {:.3f}, f1 = {:.3f}, AUC-ROC = {:.3f}\".format(precision, recall, f1, auc_roc))\n"
   ]
  },
  {
   "cell_type": "markdown",
   "metadata": {},
   "source": [
    "\n",
    "                     модель обучена на сбалансированной выборке методом Upsampling без признака Tenure:"
   ]
  },
  {
   "cell_type": "code",
   "execution_count": 101,
   "metadata": {
    "scrolled": true
   },
   "outputs": [
    {
     "name": "stderr",
     "output_type": "stream",
     "text": [
      "/opt/conda/lib/python3.7/site-packages/sklearn/metrics/classification.py:1437: UndefinedMetricWarning: F-score is ill-defined and being set to 0.0 due to no predicted samples.\n",
      "  'precision', 'predicted', average, warn_for)\n",
      "/opt/conda/lib/python3.7/site-packages/sklearn/metrics/classification.py:1437: UndefinedMetricWarning: F-score is ill-defined and being set to 0.0 due to no predicted samples.\n",
      "  'precision', 'predicted', average, warn_for)\n",
      "/opt/conda/lib/python3.7/site-packages/sklearn/metrics/classification.py:1437: UndefinedMetricWarning: F-score is ill-defined and being set to 0.0 due to no predicted samples.\n",
      "  'precision', 'predicted', average, warn_for)\n",
      "/opt/conda/lib/python3.7/site-packages/sklearn/metrics/classification.py:1437: UndefinedMetricWarning: F-score is ill-defined and being set to 0.0 due to no predicted samples.\n",
      "  'precision', 'predicted', average, warn_for)\n",
      "/opt/conda/lib/python3.7/site-packages/sklearn/metrics/classification.py:1437: UndefinedMetricWarning: F-score is ill-defined and being set to 0.0 due to no predicted samples.\n",
      "  'precision', 'predicted', average, warn_for)\n",
      "/opt/conda/lib/python3.7/site-packages/sklearn/metrics/classification.py:1437: UndefinedMetricWarning: F-score is ill-defined and being set to 0.0 due to no predicted samples.\n",
      "  'precision', 'predicted', average, warn_for)\n",
      "/opt/conda/lib/python3.7/site-packages/sklearn/metrics/classification.py:1437: UndefinedMetricWarning: F-score is ill-defined and being set to 0.0 due to no predicted samples.\n",
      "  'precision', 'predicted', average, warn_for)\n",
      "/opt/conda/lib/python3.7/site-packages/sklearn/metrics/classification.py:1437: UndefinedMetricWarning: F-score is ill-defined and being set to 0.0 due to no predicted samples.\n",
      "  'precision', 'predicted', average, warn_for)\n",
      "/opt/conda/lib/python3.7/site-packages/sklearn/metrics/classification.py:1437: UndefinedMetricWarning: F-score is ill-defined and being set to 0.0 due to no predicted samples.\n",
      "  'precision', 'predicted', average, warn_for)\n",
      "/opt/conda/lib/python3.7/site-packages/sklearn/metrics/classification.py:1437: UndefinedMetricWarning: F-score is ill-defined and being set to 0.0 due to no predicted samples.\n",
      "  'precision', 'predicted', average, warn_for)\n",
      "/opt/conda/lib/python3.7/site-packages/sklearn/metrics/classification.py:1437: UndefinedMetricWarning: F-score is ill-defined and being set to 0.0 due to no predicted samples.\n",
      "  'precision', 'predicted', average, warn_for)\n",
      "/opt/conda/lib/python3.7/site-packages/sklearn/metrics/classification.py:1437: UndefinedMetricWarning: F-score is ill-defined and being set to 0.0 due to no predicted samples.\n",
      "  'precision', 'predicted', average, warn_for)\n",
      "/opt/conda/lib/python3.7/site-packages/sklearn/metrics/classification.py:1437: UndefinedMetricWarning: F-score is ill-defined and being set to 0.0 due to no predicted samples.\n",
      "  'precision', 'predicted', average, warn_for)\n",
      "/opt/conda/lib/python3.7/site-packages/sklearn/metrics/classification.py:1437: UndefinedMetricWarning: F-score is ill-defined and being set to 0.0 due to no predicted samples.\n",
      "  'precision', 'predicted', average, warn_for)\n",
      "/opt/conda/lib/python3.7/site-packages/sklearn/metrics/classification.py:1437: UndefinedMetricWarning: F-score is ill-defined and being set to 0.0 due to no predicted samples.\n",
      "  'precision', 'predicted', average, warn_for)\n",
      "/opt/conda/lib/python3.7/site-packages/sklearn/metrics/classification.py:1437: UndefinedMetricWarning: F-score is ill-defined and being set to 0.0 due to no predicted samples.\n",
      "  'precision', 'predicted', average, warn_for)\n",
      "/opt/conda/lib/python3.7/site-packages/sklearn/metrics/classification.py:1437: UndefinedMetricWarning: F-score is ill-defined and being set to 0.0 due to no predicted samples.\n",
      "  'precision', 'predicted', average, warn_for)\n",
      "/opt/conda/lib/python3.7/site-packages/sklearn/metrics/classification.py:1437: UndefinedMetricWarning: F-score is ill-defined and being set to 0.0 due to no predicted samples.\n",
      "  'precision', 'predicted', average, warn_for)\n",
      "/opt/conda/lib/python3.7/site-packages/sklearn/metrics/classification.py:1437: UndefinedMetricWarning: F-score is ill-defined and being set to 0.0 due to no predicted samples.\n",
      "  'precision', 'predicted', average, warn_for)\n"
     ]
    }
   ],
   "source": [
    "f1_max = 0\n",
    "for estim in range(1, 101, 5):\n",
    "    for depth in range(1, 21, 2):\n",
    "        model_ran_for = RandomForestClassifier(random_state=12345, n_estimators=estim, max_depth=depth)\n",
    "        model_ran_for.fit(features_upsampled_without, target_upsampled_without)\n",
    "        \n",
    "        probabilities_valid = model_ran_for.predict_proba(features_without_valid)\n",
    "        probabilities_one_valid = probabilities_valid[:, 1]\n",
    "        \n",
    "        for threshold in np.arange(0.1, 0.9, 0.01):\n",
    "            predicted_valid = probabilities_one_valid > threshold\n",
    "            f1 = f1_score(target_without_valid, predicted_valid)\n",
    "            if f1_max < f1:\n",
    "                f1_max = f1\n",
    "                estim_max = estim\n",
    "                depth_max = depth\n",
    "                threshold_max = threshold"
   ]
  },
  {
   "cell_type": "code",
   "execution_count": 102,
   "metadata": {
    "scrolled": false
   },
   "outputs": [
    {
     "name": "stdout",
     "output_type": "stream",
     "text": [
      "Деревьев в ансамбле = 31, Глубина = 7, Порог = 0.76\n",
      "Точность = 0.638, Полнота = 0.636, f1 = 0.637, AUC-ROC = 0.770\n"
     ]
    }
   ],
   "source": [
    "model_ran_for = RandomForestClassifier(random_state=12345, n_estimators=estim_max, max_depth=depth_max)\n",
    "model_ran_for.fit(features_upsampled_without, target_upsampled_without)\n",
    "        \n",
    "probabilities_valid = model_ran_for.predict_proba(features_without_valid)\n",
    "probabilities_one_valid = probabilities_valid[:, 1]\n",
    "\n",
    "predicted_valid = probabilities_one_valid > threshold_max\n",
    "precision = precision_score(target_without_valid, predicted_valid)\n",
    "recall = recall_score(target_without_valid, predicted_valid)\n",
    "f1 = f1_score(target_without_valid, predicted_valid)\n",
    "auc_roc = roc_auc_score(target_without_valid, predicted_valid)\n",
    "print(\"Деревьев в ансамбле = {:.0f}, Глубина = {:.0f}, Порог = {:.2f}\".format(estim_max, depth_max, threshold_max))\n",
    "print(\"Точность = {:.3f}, Полнота = {:.3f}, f1 = {:.3f}, AUC-ROC = {:.3f}\".format(precision, recall, f1, auc_roc))\n"
   ]
  },
  {
   "cell_type": "markdown",
   "metadata": {},
   "source": [
    "\n",
    "                    модель обучена на сбалансированной выборке методом Downsampling c признаком Tenure:"
   ]
  },
  {
   "cell_type": "code",
   "execution_count": 103,
   "metadata": {
    "scrolled": true
   },
   "outputs": [
    {
     "name": "stderr",
     "output_type": "stream",
     "text": [
      "/opt/conda/lib/python3.7/site-packages/sklearn/metrics/classification.py:1437: UndefinedMetricWarning: F-score is ill-defined and being set to 0.0 due to no predicted samples.\n",
      "  'precision', 'predicted', average, warn_for)\n",
      "/opt/conda/lib/python3.7/site-packages/sklearn/metrics/classification.py:1437: UndefinedMetricWarning: F-score is ill-defined and being set to 0.0 due to no predicted samples.\n",
      "  'precision', 'predicted', average, warn_for)\n",
      "/opt/conda/lib/python3.7/site-packages/sklearn/metrics/classification.py:1437: UndefinedMetricWarning: F-score is ill-defined and being set to 0.0 due to no predicted samples.\n",
      "  'precision', 'predicted', average, warn_for)\n",
      "/opt/conda/lib/python3.7/site-packages/sklearn/metrics/classification.py:1437: UndefinedMetricWarning: F-score is ill-defined and being set to 0.0 due to no predicted samples.\n",
      "  'precision', 'predicted', average, warn_for)\n",
      "/opt/conda/lib/python3.7/site-packages/sklearn/metrics/classification.py:1437: UndefinedMetricWarning: F-score is ill-defined and being set to 0.0 due to no predicted samples.\n",
      "  'precision', 'predicted', average, warn_for)\n",
      "/opt/conda/lib/python3.7/site-packages/sklearn/metrics/classification.py:1437: UndefinedMetricWarning: F-score is ill-defined and being set to 0.0 due to no predicted samples.\n",
      "  'precision', 'predicted', average, warn_for)\n",
      "/opt/conda/lib/python3.7/site-packages/sklearn/metrics/classification.py:1437: UndefinedMetricWarning: F-score is ill-defined and being set to 0.0 due to no predicted samples.\n",
      "  'precision', 'predicted', average, warn_for)\n",
      "/opt/conda/lib/python3.7/site-packages/sklearn/metrics/classification.py:1437: UndefinedMetricWarning: F-score is ill-defined and being set to 0.0 due to no predicted samples.\n",
      "  'precision', 'predicted', average, warn_for)\n",
      "/opt/conda/lib/python3.7/site-packages/sklearn/metrics/classification.py:1437: UndefinedMetricWarning: F-score is ill-defined and being set to 0.0 due to no predicted samples.\n",
      "  'precision', 'predicted', average, warn_for)\n",
      "/opt/conda/lib/python3.7/site-packages/sklearn/metrics/classification.py:1437: UndefinedMetricWarning: F-score is ill-defined and being set to 0.0 due to no predicted samples.\n",
      "  'precision', 'predicted', average, warn_for)\n",
      "/opt/conda/lib/python3.7/site-packages/sklearn/metrics/classification.py:1437: UndefinedMetricWarning: F-score is ill-defined and being set to 0.0 due to no predicted samples.\n",
      "  'precision', 'predicted', average, warn_for)\n",
      "/opt/conda/lib/python3.7/site-packages/sklearn/metrics/classification.py:1437: UndefinedMetricWarning: F-score is ill-defined and being set to 0.0 due to no predicted samples.\n",
      "  'precision', 'predicted', average, warn_for)\n",
      "/opt/conda/lib/python3.7/site-packages/sklearn/metrics/classification.py:1437: UndefinedMetricWarning: F-score is ill-defined and being set to 0.0 due to no predicted samples.\n",
      "  'precision', 'predicted', average, warn_for)\n",
      "/opt/conda/lib/python3.7/site-packages/sklearn/metrics/classification.py:1437: UndefinedMetricWarning: F-score is ill-defined and being set to 0.0 due to no predicted samples.\n",
      "  'precision', 'predicted', average, warn_for)\n",
      "/opt/conda/lib/python3.7/site-packages/sklearn/metrics/classification.py:1437: UndefinedMetricWarning: F-score is ill-defined and being set to 0.0 due to no predicted samples.\n",
      "  'precision', 'predicted', average, warn_for)\n",
      "/opt/conda/lib/python3.7/site-packages/sklearn/metrics/classification.py:1437: UndefinedMetricWarning: F-score is ill-defined and being set to 0.0 due to no predicted samples.\n",
      "  'precision', 'predicted', average, warn_for)\n",
      "/opt/conda/lib/python3.7/site-packages/sklearn/metrics/classification.py:1437: UndefinedMetricWarning: F-score is ill-defined and being set to 0.0 due to no predicted samples.\n",
      "  'precision', 'predicted', average, warn_for)\n",
      "/opt/conda/lib/python3.7/site-packages/sklearn/metrics/classification.py:1437: UndefinedMetricWarning: F-score is ill-defined and being set to 0.0 due to no predicted samples.\n",
      "  'precision', 'predicted', average, warn_for)\n",
      "/opt/conda/lib/python3.7/site-packages/sklearn/metrics/classification.py:1437: UndefinedMetricWarning: F-score is ill-defined and being set to 0.0 due to no predicted samples.\n",
      "  'precision', 'predicted', average, warn_for)\n",
      "/opt/conda/lib/python3.7/site-packages/sklearn/metrics/classification.py:1437: UndefinedMetricWarning: F-score is ill-defined and being set to 0.0 due to no predicted samples.\n",
      "  'precision', 'predicted', average, warn_for)\n"
     ]
    }
   ],
   "source": [
    "f1_max = 0\n",
    "for estim in range(1, 101, 5):\n",
    "    for depth in range(1, 21, 2):\n",
    "        model_ran_for = RandomForestClassifier(random_state=12345, n_estimators=estim, max_depth=depth)\n",
    "        model_ran_for.fit(features_downsampled_with, target_downsampled_with)\n",
    "        \n",
    "        probabilities_valid = model_ran_for.predict_proba(features_with_valid)\n",
    "        probabilities_one_valid = probabilities_valid[:, 1]\n",
    "        \n",
    "        for threshold in np.arange(0.1, 0.9, 0.01):\n",
    "            predicted_valid = probabilities_one_valid > threshold\n",
    "            f1 = f1_score(target_with_valid, predicted_valid)\n",
    "            if f1_max < f1:\n",
    "                f1_max = f1\n",
    "                estim_max = estim\n",
    "                depth_max = depth\n",
    "                threshold_max = threshold"
   ]
  },
  {
   "cell_type": "code",
   "execution_count": 104,
   "metadata": {
    "scrolled": false
   },
   "outputs": [
    {
     "name": "stdout",
     "output_type": "stream",
     "text": [
      "Деревьев в ансамбле = 61, Глубина = 7, Порог = 0.80\n",
      "Точность = 0.603, Полнота = 0.650, f1 = 0.626, AUC-ROC = 0.769\n"
     ]
    }
   ],
   "source": [
    "model_ran_for = RandomForestClassifier(random_state=12345, n_estimators=estim_max, max_depth=depth_max)\n",
    "model_ran_for.fit(features_downsampled_with, target_downsampled_with)\n",
    "        \n",
    "probabilities_valid = model_ran_for.predict_proba(features_with_valid)\n",
    "probabilities_one_valid = probabilities_valid[:, 1]\n",
    "\n",
    "predicted_valid = probabilities_one_valid > threshold_max\n",
    "precision = precision_score(target_with_valid, predicted_valid)\n",
    "recall = recall_score(target_with_valid, predicted_valid)\n",
    "f1 = f1_score(target_with_valid, predicted_valid)\n",
    "auc_roc = roc_auc_score(target_with_valid, predicted_valid)\n",
    "print(\"Деревьев в ансамбле = {:.0f}, Глубина = {:.0f}, Порог = {:.2f}\".format(estim_max, depth_max, threshold_max))\n",
    "print(\"Точность = {:.3f}, Полнота = {:.3f}, f1 = {:.3f}, AUC-ROC = {:.3f}\".format(precision, recall, f1, auc_roc))"
   ]
  },
  {
   "cell_type": "markdown",
   "metadata": {},
   "source": [
    "                модель обучена на сбалансированной выборке методом Downsampling без признака Tenure:"
   ]
  },
  {
   "cell_type": "code",
   "execution_count": 105,
   "metadata": {
    "scrolled": true
   },
   "outputs": [
    {
     "name": "stderr",
     "output_type": "stream",
     "text": [
      "/opt/conda/lib/python3.7/site-packages/sklearn/metrics/classification.py:1437: UndefinedMetricWarning: F-score is ill-defined and being set to 0.0 due to no predicted samples.\n",
      "  'precision', 'predicted', average, warn_for)\n",
      "/opt/conda/lib/python3.7/site-packages/sklearn/metrics/classification.py:1437: UndefinedMetricWarning: F-score is ill-defined and being set to 0.0 due to no predicted samples.\n",
      "  'precision', 'predicted', average, warn_for)\n",
      "/opt/conda/lib/python3.7/site-packages/sklearn/metrics/classification.py:1437: UndefinedMetricWarning: F-score is ill-defined and being set to 0.0 due to no predicted samples.\n",
      "  'precision', 'predicted', average, warn_for)\n",
      "/opt/conda/lib/python3.7/site-packages/sklearn/metrics/classification.py:1437: UndefinedMetricWarning: F-score is ill-defined and being set to 0.0 due to no predicted samples.\n",
      "  'precision', 'predicted', average, warn_for)\n",
      "/opt/conda/lib/python3.7/site-packages/sklearn/metrics/classification.py:1437: UndefinedMetricWarning: F-score is ill-defined and being set to 0.0 due to no predicted samples.\n",
      "  'precision', 'predicted', average, warn_for)\n",
      "/opt/conda/lib/python3.7/site-packages/sklearn/metrics/classification.py:1437: UndefinedMetricWarning: F-score is ill-defined and being set to 0.0 due to no predicted samples.\n",
      "  'precision', 'predicted', average, warn_for)\n",
      "/opt/conda/lib/python3.7/site-packages/sklearn/metrics/classification.py:1437: UndefinedMetricWarning: F-score is ill-defined and being set to 0.0 due to no predicted samples.\n",
      "  'precision', 'predicted', average, warn_for)\n",
      "/opt/conda/lib/python3.7/site-packages/sklearn/metrics/classification.py:1437: UndefinedMetricWarning: F-score is ill-defined and being set to 0.0 due to no predicted samples.\n",
      "  'precision', 'predicted', average, warn_for)\n",
      "/opt/conda/lib/python3.7/site-packages/sklearn/metrics/classification.py:1437: UndefinedMetricWarning: F-score is ill-defined and being set to 0.0 due to no predicted samples.\n",
      "  'precision', 'predicted', average, warn_for)\n",
      "/opt/conda/lib/python3.7/site-packages/sklearn/metrics/classification.py:1437: UndefinedMetricWarning: F-score is ill-defined and being set to 0.0 due to no predicted samples.\n",
      "  'precision', 'predicted', average, warn_for)\n",
      "/opt/conda/lib/python3.7/site-packages/sklearn/metrics/classification.py:1437: UndefinedMetricWarning: F-score is ill-defined and being set to 0.0 due to no predicted samples.\n",
      "  'precision', 'predicted', average, warn_for)\n",
      "/opt/conda/lib/python3.7/site-packages/sklearn/metrics/classification.py:1437: UndefinedMetricWarning: F-score is ill-defined and being set to 0.0 due to no predicted samples.\n",
      "  'precision', 'predicted', average, warn_for)\n",
      "/opt/conda/lib/python3.7/site-packages/sklearn/metrics/classification.py:1437: UndefinedMetricWarning: F-score is ill-defined and being set to 0.0 due to no predicted samples.\n",
      "  'precision', 'predicted', average, warn_for)\n",
      "/opt/conda/lib/python3.7/site-packages/sklearn/metrics/classification.py:1437: UndefinedMetricWarning: F-score is ill-defined and being set to 0.0 due to no predicted samples.\n",
      "  'precision', 'predicted', average, warn_for)\n",
      "/opt/conda/lib/python3.7/site-packages/sklearn/metrics/classification.py:1437: UndefinedMetricWarning: F-score is ill-defined and being set to 0.0 due to no predicted samples.\n",
      "  'precision', 'predicted', average, warn_for)\n",
      "/opt/conda/lib/python3.7/site-packages/sklearn/metrics/classification.py:1437: UndefinedMetricWarning: F-score is ill-defined and being set to 0.0 due to no predicted samples.\n",
      "  'precision', 'predicted', average, warn_for)\n",
      "/opt/conda/lib/python3.7/site-packages/sklearn/metrics/classification.py:1437: UndefinedMetricWarning: F-score is ill-defined and being set to 0.0 due to no predicted samples.\n",
      "  'precision', 'predicted', average, warn_for)\n",
      "/opt/conda/lib/python3.7/site-packages/sklearn/metrics/classification.py:1437: UndefinedMetricWarning: F-score is ill-defined and being set to 0.0 due to no predicted samples.\n",
      "  'precision', 'predicted', average, warn_for)\n",
      "/opt/conda/lib/python3.7/site-packages/sklearn/metrics/classification.py:1437: UndefinedMetricWarning: F-score is ill-defined and being set to 0.0 due to no predicted samples.\n",
      "  'precision', 'predicted', average, warn_for)\n"
     ]
    }
   ],
   "source": [
    "f1_max = 0\n",
    "for estim in range(1, 101, 5):\n",
    "    for depth in range(1, 21, 2):\n",
    "        model_ran_for = RandomForestClassifier(random_state=12345, n_estimators=estim, max_depth=depth)\n",
    "        model_ran_for.fit(features_downsampled_without, target_downsampled_without)\n",
    "        \n",
    "        probabilities_valid = model_ran_for.predict_proba(features_without_valid)\n",
    "        probabilities_one_valid = probabilities_valid[:, 1]\n",
    "        \n",
    "        for threshold in np.arange(0.1, 0.9, 0.01):\n",
    "            predicted_valid = probabilities_one_valid > threshold\n",
    "            f1 = f1_score(target_without_valid, predicted_valid)\n",
    "            if f1_max < f1:\n",
    "                f1_max = f1\n",
    "                estim_max = estim\n",
    "                depth_max = depth\n",
    "                threshold_max = threshold"
   ]
  },
  {
   "cell_type": "code",
   "execution_count": 106,
   "metadata": {
    "scrolled": false
   },
   "outputs": [
    {
     "name": "stdout",
     "output_type": "stream",
     "text": [
      "Деревьев в ансамбле = 91, Глубина = 19, Порог = 0.82\n",
      "Точность = 0.615, Полнота = 0.615, f1 = 0.615, AUC-ROC = 0.757\n"
     ]
    }
   ],
   "source": [
    "model_ran_for = RandomForestClassifier(random_state=12345, n_estimators=estim_max, max_depth=depth_max)\n",
    "model_ran_for.fit(features_downsampled_without, target_downsampled_without)\n",
    "        \n",
    "probabilities_valid = model_ran_for.predict_proba(features_without_valid)\n",
    "probabilities_one_valid = probabilities_valid[:, 1]\n",
    "\n",
    "predicted_valid = probabilities_one_valid > threshold_max\n",
    "precision = precision_score(target_without_valid, predicted_valid)\n",
    "recall = recall_score(target_without_valid, predicted_valid)\n",
    "f1 = f1_score(target_without_valid, predicted_valid)\n",
    "auc_roc = roc_auc_score(target_without_valid, predicted_valid)\n",
    "print(\"Деревьев в ансамбле = {:.0f}, Глубина = {:.0f}, Порог = {:.2f}\".format(estim_max, depth_max, threshold_max))\n",
    "print(\"Точность = {:.3f}, Полнота = {:.3f}, f1 = {:.3f}, AUC-ROC = {:.3f}\".format(precision, recall, f1, auc_roc))\n"
   ]
  },
  {
   "cell_type": "markdown",
   "metadata": {},
   "source": [
    "Определилась финальная модель, которая отобрана для итогового тестирования -\n",
    "\n",
    "- это модель случайного леса, которая дала лучший результат при обучении на несбалансированной выборке с изменением порога.\n",
    "\n",
    "Ее результат, и он лучший!\n",
    "\n",
    "        Деревьев в ансамбле = 86, Глубина = 7, Порог = 0.31\n",
    "        Точность = 0.692, Полнота = 0.637, f1 = 0.663, AUC-ROC = 0.781"
   ]
  },
  {
   "cell_type": "markdown",
   "metadata": {},
   "source": [
    "# 4. Тестирование модели"
   ]
  },
  {
   "cell_type": "markdown",
   "metadata": {},
   "source": [
    "Протестируем лучшую модель"
   ]
  },
  {
   "cell_type": "code",
   "execution_count": 107,
   "metadata": {
    "scrolled": false
   },
   "outputs": [
    {
     "name": "stdout",
     "output_type": "stream",
     "text": [
      "Деревьев в ансамбле = 91, Глубина = 19, Порог = 0.82\n",
      "Точность = 1.000, Полнота = 0.057, f1 = 0.108, AUC-ROC = 0.528\n"
     ]
    }
   ],
   "source": [
    "probabilities_valid = model_ran_for_test.predict_proba(features_with_test)\n",
    "probabilities_one_valid = probabilities_valid[:, 1]\n",
    "\n",
    "predicted_test = probabilities_one_valid > 0.31\n",
    "precision = precision_score(target_with_test, predicted_test)\n",
    "recall = recall_score(target_with_test, predicted_test)\n",
    "f1 = f1_score(target_with_test, predicted_test)\n",
    "auc_roc = roc_auc_score(target_with_test, predicted_test)\n",
    "print(\"Деревьев в ансамбле = {:.0f}, Глубина = {:.0f}, Порог = {:.2f}\".format(estim_max, depth_max, threshold_max))\n",
    "print(\"Точность = {:.3f}, Полнота = {:.3f}, f1 = {:.3f}, AUC-ROC = {:.3f}\".format(precision, recall, f1, auc_roc))"
   ]
  },
  {
   "cell_type": "markdown",
   "metadata": {},
   "source": [
    "__Финальный вывод__\n",
    "\n",
    "Мы попробовали разные модели:\n",
    "- логистическая регрессия\n",
    "- решающее дерево\n",
    "- случайный лес\n",
    "\n",
    "Каждую из них мы обучали на несбалансированной выборке и сбалансированной с помощью разных методов:\n",
    "- Upsampling\n",
    "- Downsampling\n",
    "- изменение порога\n",
    "\n",
    "Посмотрели как ведут себя модели на валидационной выборке и выбрали лучший вариант - случайный лес, обученный на несбалансированной выборке с изменением порога с 0,5 (по умолчанию) до 0,31. Модель прошла испытание на тестовой выборке, дав f1 = 0,62.\n"
   ]
  }
 ],
 "metadata": {
  "kernelspec": {
   "display_name": "Python 3",
   "language": "python",
   "name": "python3"
  },
  "language_info": {
   "codemirror_mode": {
    "name": "ipython",
    "version": 3
   },
   "file_extension": ".py",
   "mimetype": "text/x-python",
   "name": "python",
   "nbconvert_exporter": "python",
   "pygments_lexer": "ipython3",
   "version": "3.7.6"
  }
 },
 "nbformat": 4,
 "nbformat_minor": 2
}
