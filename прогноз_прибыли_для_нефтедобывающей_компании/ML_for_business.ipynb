{
 "cells": [
  {
   "cell_type": "markdown",
   "metadata": {},
   "source": [
    "# Описание проекта"
   ]
  },
  {
   "cell_type": "markdown",
   "metadata": {},
   "source": [
    "Допустим, вы работаете в добывающей компании «ГлавРосГосНефть». Нужно решить, где бурить новую скважину.\n",
    "\n",
    "Вам предоставлены пробы нефти в трёх регионах: в каждом 10 000 месторождений, где измерили качество нефти и объём её запасов. Постройте модель машинного обучения, которая поможет определить регион, где добыча принесёт наибольшую прибыль. Проанализируйте возможную прибыль и риски техникой *Bootstrap.*\n",
    "\n",
    "Шаги для выбора локации:\n",
    "\n",
    "- В избранном регионе ищут месторождения, для каждого определяют значения признаков;\n",
    "- Строят модель и оценивают объём запасов;\n",
    "- Выбирают месторождения с самым высокими оценками значений. Количество месторождений зависит от бюджета компании и стоимости разработки одной скважины;\n",
    "- Прибыль равна суммарной прибыли отобранных месторождений."
   ]
  },
  {
   "cell_type": "markdown",
   "metadata": {},
   "source": [
    "# 1. Загрузка и подготовка данных"
   ]
  },
  {
   "cell_type": "code",
   "execution_count": 1,
   "metadata": {
    "scrolled": true
   },
   "outputs": [],
   "source": [
    "import pandas as pd\n",
    "import numpy as np\n",
    "import seaborn\n",
    "import matplotlib.pyplot as plt\n",
    "from IPython.display import display\n",
    "from sklearn.model_selection import train_test_split\n",
    "from sklearn.preprocessing import StandardScaler\n",
    "from sklearn.metrics import confusion_matrix, recall_score, precision_score, f1_score, roc_curve, roc_auc_score, accuracy_score\n",
    "from sklearn.utils import shuffle\n",
    "from sklearn.metrics import mean_squared_error\n",
    "from scipy import stats as st"
   ]
  },
  {
   "cell_type": "markdown",
   "metadata": {},
   "source": [
    "            Загрузим данные и посмотрим на них."
   ]
  },
  {
   "cell_type": "code",
   "execution_count": 2,
   "metadata": {
    "scrolled": true
   },
   "outputs": [],
   "source": [
    "reg_0 = pd.read_csv('geo_data_0.csv')\n",
    "reg_1 = pd.read_csv('geo_data_1.csv')\n",
    "reg_2 = pd.read_csv('geo_data_2.csv')"
   ]
  },
  {
   "cell_type": "code",
   "execution_count": 3,
   "metadata": {
    "scrolled": true
   },
   "outputs": [
    {
     "data": {
      "text/html": [
       "<div>\n",
       "<style scoped>\n",
       "    .dataframe tbody tr th:only-of-type {\n",
       "        vertical-align: middle;\n",
       "    }\n",
       "\n",
       "    .dataframe tbody tr th {\n",
       "        vertical-align: top;\n",
       "    }\n",
       "\n",
       "    .dataframe thead th {\n",
       "        text-align: right;\n",
       "    }\n",
       "</style>\n",
       "<table border=\"1\" class=\"dataframe\">\n",
       "  <thead>\n",
       "    <tr style=\"text-align: right;\">\n",
       "      <th></th>\n",
       "      <th>id</th>\n",
       "      <th>f0</th>\n",
       "      <th>f1</th>\n",
       "      <th>f2</th>\n",
       "      <th>product</th>\n",
       "    </tr>\n",
       "  </thead>\n",
       "  <tbody>\n",
       "    <tr>\n",
       "      <th>0</th>\n",
       "      <td>txEyH</td>\n",
       "      <td>0.705745</td>\n",
       "      <td>-0.497823</td>\n",
       "      <td>1.221170</td>\n",
       "      <td>105.280062</td>\n",
       "    </tr>\n",
       "    <tr>\n",
       "      <th>1</th>\n",
       "      <td>2acmU</td>\n",
       "      <td>1.334711</td>\n",
       "      <td>-0.340164</td>\n",
       "      <td>4.365080</td>\n",
       "      <td>73.037750</td>\n",
       "    </tr>\n",
       "    <tr>\n",
       "      <th>2</th>\n",
       "      <td>409Wp</td>\n",
       "      <td>1.022732</td>\n",
       "      <td>0.151990</td>\n",
       "      <td>1.419926</td>\n",
       "      <td>85.265647</td>\n",
       "    </tr>\n",
       "    <tr>\n",
       "      <th>3</th>\n",
       "      <td>iJLyR</td>\n",
       "      <td>-0.032172</td>\n",
       "      <td>0.139033</td>\n",
       "      <td>2.978566</td>\n",
       "      <td>168.620776</td>\n",
       "    </tr>\n",
       "    <tr>\n",
       "      <th>4</th>\n",
       "      <td>Xdl7t</td>\n",
       "      <td>1.988431</td>\n",
       "      <td>0.155413</td>\n",
       "      <td>4.751769</td>\n",
       "      <td>154.036647</td>\n",
       "    </tr>\n",
       "    <tr>\n",
       "      <th>...</th>\n",
       "      <td>...</td>\n",
       "      <td>...</td>\n",
       "      <td>...</td>\n",
       "      <td>...</td>\n",
       "      <td>...</td>\n",
       "    </tr>\n",
       "    <tr>\n",
       "      <th>99995</th>\n",
       "      <td>DLsed</td>\n",
       "      <td>0.971957</td>\n",
       "      <td>0.370953</td>\n",
       "      <td>6.075346</td>\n",
       "      <td>110.744026</td>\n",
       "    </tr>\n",
       "    <tr>\n",
       "      <th>99996</th>\n",
       "      <td>QKivN</td>\n",
       "      <td>1.392429</td>\n",
       "      <td>-0.382606</td>\n",
       "      <td>1.273912</td>\n",
       "      <td>122.346843</td>\n",
       "    </tr>\n",
       "    <tr>\n",
       "      <th>99997</th>\n",
       "      <td>3rnvd</td>\n",
       "      <td>1.029585</td>\n",
       "      <td>0.018787</td>\n",
       "      <td>-1.348308</td>\n",
       "      <td>64.375443</td>\n",
       "    </tr>\n",
       "    <tr>\n",
       "      <th>99998</th>\n",
       "      <td>7kl59</td>\n",
       "      <td>0.998163</td>\n",
       "      <td>-0.528582</td>\n",
       "      <td>1.583869</td>\n",
       "      <td>74.040764</td>\n",
       "    </tr>\n",
       "    <tr>\n",
       "      <th>99999</th>\n",
       "      <td>1CWhH</td>\n",
       "      <td>1.764754</td>\n",
       "      <td>-0.266417</td>\n",
       "      <td>5.722849</td>\n",
       "      <td>149.633246</td>\n",
       "    </tr>\n",
       "  </tbody>\n",
       "</table>\n",
       "<p>100000 rows × 5 columns</p>\n",
       "</div>"
      ],
      "text/plain": [
       "          id        f0        f1        f2     product\n",
       "0      txEyH  0.705745 -0.497823  1.221170  105.280062\n",
       "1      2acmU  1.334711 -0.340164  4.365080   73.037750\n",
       "2      409Wp  1.022732  0.151990  1.419926   85.265647\n",
       "3      iJLyR -0.032172  0.139033  2.978566  168.620776\n",
       "4      Xdl7t  1.988431  0.155413  4.751769  154.036647\n",
       "...      ...       ...       ...       ...         ...\n",
       "99995  DLsed  0.971957  0.370953  6.075346  110.744026\n",
       "99996  QKivN  1.392429 -0.382606  1.273912  122.346843\n",
       "99997  3rnvd  1.029585  0.018787 -1.348308   64.375443\n",
       "99998  7kl59  0.998163 -0.528582  1.583869   74.040764\n",
       "99999  1CWhH  1.764754 -0.266417  5.722849  149.633246\n",
       "\n",
       "[100000 rows x 5 columns]"
      ]
     },
     "execution_count": 3,
     "metadata": {},
     "output_type": "execute_result"
    }
   ],
   "source": [
    "reg_0"
   ]
  },
  {
   "cell_type": "code",
   "execution_count": 4,
   "metadata": {
    "scrolled": true
   },
   "outputs": [
    {
     "name": "stdout",
     "output_type": "stream",
     "text": [
      "<class 'pandas.core.frame.DataFrame'>\n",
      "RangeIndex: 100000 entries, 0 to 99999\n",
      "Data columns (total 5 columns):\n",
      " #   Column   Non-Null Count   Dtype  \n",
      "---  ------   --------------   -----  \n",
      " 0   id       100000 non-null  object \n",
      " 1   f0       100000 non-null  float64\n",
      " 2   f1       100000 non-null  float64\n",
      " 3   f2       100000 non-null  float64\n",
      " 4   product  100000 non-null  float64\n",
      "dtypes: float64(4), object(1)\n",
      "memory usage: 3.8+ MB\n"
     ]
    }
   ],
   "source": [
    "reg_0.info()"
   ]
  },
  {
   "cell_type": "code",
   "execution_count": 5,
   "metadata": {
    "scrolled": true
   },
   "outputs": [
    {
     "data": {
      "text/plain": [
       "0"
      ]
     },
     "execution_count": 5,
     "metadata": {},
     "output_type": "execute_result"
    }
   ],
   "source": [
    "reg_0.duplicated().sum()"
   ]
  },
  {
   "cell_type": "code",
   "execution_count": 6,
   "metadata": {
    "scrolled": true
   },
   "outputs": [
    {
     "data": {
      "text/plain": [
       "99990"
      ]
     },
     "execution_count": 6,
     "metadata": {},
     "output_type": "execute_result"
    }
   ],
   "source": [
    "len(reg_0['id'].unique())"
   ]
  },
  {
   "cell_type": "code",
   "execution_count": 7,
   "metadata": {
    "scrolled": true
   },
   "outputs": [
    {
     "data": {
      "text/plain": [
       "array([[<matplotlib.axes._subplots.AxesSubplot object at 0x000002CCD9D08D08>,\n",
       "        <matplotlib.axes._subplots.AxesSubplot object at 0x000002CCDABBD9C8>],\n",
       "       [<matplotlib.axes._subplots.AxesSubplot object at 0x000002CCDABF8948>,\n",
       "        <matplotlib.axes._subplots.AxesSubplot object at 0x000002CCDAC2FA48>]],\n",
       "      dtype=object)"
      ]
     },
     "execution_count": 7,
     "metadata": {},
     "output_type": "execute_result"
    },
    {
     "data": {
      "image/png": "[encoded data removed]",
      "text/plain": [
       "<Figure size 1080x720 with 4 Axes>"
      ]
     },
     "metadata": {
      "needs_background": "light"
     },
     "output_type": "display_data"
    }
   ],
   "source": [
    "reg_0.hist(bins=50, figsize=(15, 10))"
   ]
  },
  {
   "cell_type": "markdown",
   "metadata": {},
   "source": [
    "        Многогорбые распределения.\n",
    "        Пропусков в данных нет.\n",
    "        Есть дубликаты ID скважин, при совещании с руководителем программы (наш коуч в Slack'е) \n",
    "        было решено, что нужно их проигнорировать."
   ]
  },
  {
   "cell_type": "code",
   "execution_count": 8,
   "metadata": {
    "scrolled": true
   },
   "outputs": [
    {
     "name": "stdout",
     "output_type": "stream",
     "text": [
      "<class 'pandas.core.frame.DataFrame'>\n",
      "RangeIndex: 100000 entries, 0 to 99999\n",
      "Data columns (total 5 columns):\n",
      " #   Column   Non-Null Count   Dtype  \n",
      "---  ------   --------------   -----  \n",
      " 0   id       100000 non-null  object \n",
      " 1   f0       100000 non-null  float64\n",
      " 2   f1       100000 non-null  float64\n",
      " 3   f2       100000 non-null  float64\n",
      " 4   product  100000 non-null  float64\n",
      "dtypes: float64(4), object(1)\n",
      "memory usage: 3.8+ MB\n"
     ]
    }
   ],
   "source": [
    "reg_1.info()"
   ]
  },
  {
   "cell_type": "code",
   "execution_count": 9,
   "metadata": {
    "scrolled": true
   },
   "outputs": [
    {
     "data": {
      "text/plain": [
       "0"
      ]
     },
     "execution_count": 9,
     "metadata": {},
     "output_type": "execute_result"
    }
   ],
   "source": [
    "reg_1.duplicated().sum()"
   ]
  },
  {
   "cell_type": "code",
   "execution_count": 10,
   "metadata": {
    "scrolled": true
   },
   "outputs": [
    {
     "data": {
      "text/plain": [
       "4"
      ]
     },
     "execution_count": 10,
     "metadata": {},
     "output_type": "execute_result"
    }
   ],
   "source": [
    "reg_1['id'].duplicated().sum()"
   ]
  },
  {
   "cell_type": "code",
   "execution_count": 11,
   "metadata": {
    "scrolled": true
   },
   "outputs": [
    {
     "data": {
      "text/plain": [
       "array([[<matplotlib.axes._subplots.AxesSubplot object at 0x000002CCDBC7D648>,\n",
       "        <matplotlib.axes._subplots.AxesSubplot object at 0x000002CCDB610248>],\n",
       "       [<matplotlib.axes._subplots.AxesSubplot object at 0x000002CCDB62EA48>,\n",
       "        <matplotlib.axes._subplots.AxesSubplot object at 0x000002CCDB667448>]],\n",
       "      dtype=object)"
      ]
     },
     "execution_count": 11,
     "metadata": {},
     "output_type": "execute_result"
    },
    {
     "data": {
      "image/png": "[encoded data removed]",
      "text/plain": [
       "<Figure size 1080x720 with 4 Axes>"
      ]
     },
     "metadata": {
      "needs_background": "light"
     },
     "output_type": "display_data"
    }
   ],
   "source": [
    "reg_1.hist(bins=50, figsize=(15, 10))"
   ]
  },
  {
   "cell_type": "code",
   "execution_count": 12,
   "metadata": {
    "scrolled": true
   },
   "outputs": [
    {
     "name": "stdout",
     "output_type": "stream",
     "text": [
      "<class 'pandas.core.frame.DataFrame'>\n",
      "RangeIndex: 100000 entries, 0 to 99999\n",
      "Data columns (total 5 columns):\n",
      " #   Column   Non-Null Count   Dtype  \n",
      "---  ------   --------------   -----  \n",
      " 0   id       100000 non-null  object \n",
      " 1   f0       100000 non-null  float64\n",
      " 2   f1       100000 non-null  float64\n",
      " 3   f2       100000 non-null  float64\n",
      " 4   product  100000 non-null  float64\n",
      "dtypes: float64(4), object(1)\n",
      "memory usage: 3.8+ MB\n"
     ]
    }
   ],
   "source": [
    "reg_2.info()"
   ]
  },
  {
   "cell_type": "code",
   "execution_count": 13,
   "metadata": {
    "scrolled": true
   },
   "outputs": [
    {
     "data": {
      "text/plain": [
       "0"
      ]
     },
     "execution_count": 13,
     "metadata": {},
     "output_type": "execute_result"
    }
   ],
   "source": [
    "reg_2.duplicated().sum()"
   ]
  },
  {
   "cell_type": "code",
   "execution_count": 14,
   "metadata": {
    "scrolled": true
   },
   "outputs": [
    {
     "data": {
      "text/plain": [
       "4"
      ]
     },
     "execution_count": 14,
     "metadata": {},
     "output_type": "execute_result"
    }
   ],
   "source": [
    "reg_2['id'].duplicated().sum()"
   ]
  },
  {
   "cell_type": "code",
   "execution_count": 15,
   "metadata": {
    "scrolled": true
   },
   "outputs": [
    {
     "data": {
      "text/plain": [
       "array([[<matplotlib.axes._subplots.AxesSubplot object at 0x000002CCDC270EC8>,\n",
       "        <matplotlib.axes._subplots.AxesSubplot object at 0x000002CCDC2875C8>],\n",
       "       [<matplotlib.axes._subplots.AxesSubplot object at 0x000002CCDBF27DC8>,\n",
       "        <matplotlib.axes._subplots.AxesSubplot object at 0x000002CCDBF627C8>]],\n",
       "      dtype=object)"
      ]
     },
     "execution_count": 15,
     "metadata": {},
     "output_type": "execute_result"
    },
    {
     "data": {
      "image/png": "[encoded data removed]",
      "text/plain": [
       "<Figure size 1080x720 with 4 Axes>"
      ]
     },
     "metadata": {
      "needs_background": "light"
     },
     "output_type": "display_data"
    }
   ],
   "source": [
    "reg_2.hist(bins=50, figsize=(15, 10))"
   ]
  },
  {
   "cell_type": "markdown",
   "metadata": {
    "scrolled": true
   },
   "source": [
    "    Мы увидели разные распределения.\n",
    "    Засекли повторы в ID скважин, но их крайне малое значение, максимум - 10шт. в регионе 1. Поэтому их даже можно не удалять.\n",
    "    Заметили, что признаки не однородны и требуют масштабирования."
   ]
  },
  {
   "cell_type": "markdown",
   "metadata": {},
   "source": [
    "В дальнейшей работе нам не понадобятся ID скважин, и более того, нам нужны данные сторого без ID, поэтому удалим их, сохранив в новой переменной остаток."
   ]
  },
  {
   "cell_type": "code",
   "execution_count": 16,
   "metadata": {
    "scrolled": true
   },
   "outputs": [],
   "source": [
    "df_0 = reg_0.drop('id', axis=1)\n",
    "df_1 = reg_1.drop('id', axis=1)\n",
    "df_2 = reg_2.drop('id', axis=1)"
   ]
  },
  {
   "cell_type": "markdown",
   "metadata": {},
   "source": [
    "# 2. Обучение и проверка модели"
   ]
  },
  {
   "cell_type": "markdown",
   "metadata": {},
   "source": [
    "    В этом шаге мы обучим и проверим модели для каждого региона.\n",
    "    Сохраним предсказания наших моделей на валидационной выборке."
   ]
  },
  {
   "cell_type": "markdown",
   "metadata": {},
   "source": [
    "__1.__\n",
    "\n",
    "Разбиваю данные на обучающую и валидационную выборки в соотношении 75:25."
   ]
  },
  {
   "cell_type": "markdown",
   "metadata": {},
   "source": [
    "        Для этого отделим целевое значение от остальных признаков."
   ]
  },
  {
   "cell_type": "code",
   "execution_count": 17,
   "metadata": {
    "scrolled": true
   },
   "outputs": [],
   "source": [
    "features_0 = df_0.drop('product', axis=1)\n",
    "target_0 = df_0['product']\n",
    "\n",
    "features_1 = df_1.drop('product', axis=1)\n",
    "target_1 = df_1['product']\n",
    "\n",
    "features_2 = df_2.drop('product', axis=1)\n",
    "target_2 = df_2['product']"
   ]
  },
  {
   "cell_type": "markdown",
   "metadata": {},
   "source": [
    "    Непосредственное разделение на обучающую и валидационную выборки в соотношении 75 к 25."
   ]
  },
  {
   "cell_type": "markdown",
   "metadata": {},
   "source": [
    "        для региона 1"
   ]
  },
  {
   "cell_type": "code",
   "execution_count": 18,
   "metadata": {
    "scrolled": true
   },
   "outputs": [],
   "source": [
    "train_features_0, valid_features_0, train_target_0, valid_target_0 = train_test_split(\n",
    "    features_0, target_0, test_size=0.25, random_state=123)"
   ]
  },
  {
   "cell_type": "code",
   "execution_count": 19,
   "metadata": {
    "scrolled": true
   },
   "outputs": [
    {
     "data": {
      "text/plain": [
       "((75000, 3), (25000, 3), (75000,), (25000,))"
      ]
     },
     "execution_count": 19,
     "metadata": {},
     "output_type": "execute_result"
    }
   ],
   "source": [
    "train_features_0.shape, valid_features_0.shape, train_target_0.shape, valid_target_0.shape"
   ]
  },
  {
   "cell_type": "markdown",
   "metadata": {},
   "source": [
    "        для региона 2"
   ]
  },
  {
   "cell_type": "code",
   "execution_count": 20,
   "metadata": {
    "scrolled": true
   },
   "outputs": [],
   "source": [
    "train_features_1, valid_features_1, train_target_1, valid_target_1 = train_test_split(\n",
    "    features_1, target_1, test_size=0.25, random_state=123)"
   ]
  },
  {
   "cell_type": "code",
   "execution_count": 21,
   "metadata": {
    "scrolled": true
   },
   "outputs": [
    {
     "data": {
      "text/plain": [
       "((75000, 3), (25000, 3), (75000,), (25000,))"
      ]
     },
     "execution_count": 21,
     "metadata": {},
     "output_type": "execute_result"
    }
   ],
   "source": [
    "train_features_1.shape, valid_features_1.shape, train_target_1.shape, valid_target_1.shape"
   ]
  },
  {
   "cell_type": "markdown",
   "metadata": {},
   "source": [
    "        для региона 3"
   ]
  },
  {
   "cell_type": "code",
   "execution_count": 22,
   "metadata": {
    "scrolled": true
   },
   "outputs": [],
   "source": [
    "train_features_2, valid_features_2, train_target_2, valid_target_2 = train_test_split(\n",
    "    features_2, target_2, test_size=0.25, random_state=123)"
   ]
  },
  {
   "cell_type": "code",
   "execution_count": 23,
   "metadata": {
    "scrolled": true
   },
   "outputs": [
    {
     "data": {
      "text/plain": [
       "((75000, 3), (25000, 3), (75000,), (25000,))"
      ]
     },
     "execution_count": 23,
     "metadata": {},
     "output_type": "execute_result"
    }
   ],
   "source": [
    "train_features_2.shape, valid_features_2.shape, train_target_2.shape, valid_target_2.shape"
   ]
  },
  {
   "cell_type": "markdown",
   "metadata": {},
   "source": [
    "__2.__\n",
    "\n",
    "проведем стандартизацию признаков для уравнения их значимости перед моделью."
   ]
  },
  {
   "cell_type": "markdown",
   "metadata": {},
   "source": [
    "            перед этим определим признаки, которые будем масштабировать"
   ]
  },
  {
   "cell_type": "code",
   "execution_count": 24,
   "metadata": {
    "scrolled": true
   },
   "outputs": [],
   "source": [
    "numeric = ['f0', 'f1', 'f2']"
   ]
  },
  {
   "cell_type": "markdown",
   "metadata": {},
   "source": [
    "    для этого на тренировочных выборках обучим наш scaler"
   ]
  },
  {
   "cell_type": "code",
   "execution_count": 25,
   "metadata": {
    "scrolled": true
   },
   "outputs": [],
   "source": [
    "scaler_0 = StandardScaler()\n",
    "scaler_1 = StandardScaler()\n",
    "scaler_2 = StandardScaler()"
   ]
  },
  {
   "cell_type": "code",
   "execution_count": 26,
   "metadata": {
    "scrolled": true
   },
   "outputs": [
    {
     "data": {
      "text/plain": [
       "StandardScaler(copy=True, with_mean=True, with_std=True)"
      ]
     },
     "execution_count": 26,
     "metadata": {},
     "output_type": "execute_result"
    }
   ],
   "source": [
    "scaler_0.fit(train_features_0[numeric])\n",
    "\n",
    "scaler_1.fit(train_features_1[numeric])\n",
    "\n",
    "scaler_2.fit(train_features_2[numeric])"
   ]
  },
  {
   "cell_type": "markdown",
   "metadata": {},
   "source": [
    "    теперь проведем масштабирование валидационной и тестовой выборок"
   ]
  },
  {
   "cell_type": "markdown",
   "metadata": {},
   "source": [
    "            для региона 1"
   ]
  },
  {
   "cell_type": "code",
   "execution_count": 27,
   "metadata": {
    "scrolled": true
   },
   "outputs": [
    {
     "name": "stderr",
     "output_type": "stream",
     "text": [
      "C:\\ProgramData\\Anaconda3\\lib\\site-packages\\ipykernel_launcher.py:1: SettingWithCopyWarning: \n",
      "A value is trying to be set on a copy of a slice from a DataFrame.\n",
      "Try using .loc[row_indexer,col_indexer] = value instead\n",
      "\n",
      "See the caveats in the documentation: https://pandas.pydata.org/pandas-docs/stable/user_guide/indexing.html#returning-a-view-versus-a-copy\n",
      "  \"\"\"Entry point for launching an IPython kernel.\n",
      "C:\\ProgramData\\Anaconda3\\lib\\site-packages\\pandas\\core\\frame.py:2969: SettingWithCopyWarning: \n",
      "A value is trying to be set on a copy of a slice from a DataFrame\n",
      "\n",
      "See the caveats in the documentation: https://pandas.pydata.org/pandas-docs/stable/user_guide/indexing.html#returning-a-view-versus-a-copy\n",
      "  self.loc._setitem_with_indexer((slice(None), indexer), value)\n",
      "C:\\ProgramData\\Anaconda3\\lib\\site-packages\\pandas\\core\\frame.py:2935: SettingWithCopyWarning: \n",
      "A value is trying to be set on a copy of a slice from a DataFrame\n",
      "\n",
      "See the caveats in the documentation: https://pandas.pydata.org/pandas-docs/stable/user_guide/indexing.html#returning-a-view-versus-a-copy\n",
      "  self._setitem_array(key, value)\n",
      "C:\\ProgramData\\Anaconda3\\lib\\site-packages\\ipykernel_launcher.py:2: SettingWithCopyWarning: \n",
      "A value is trying to be set on a copy of a slice from a DataFrame.\n",
      "Try using .loc[row_indexer,col_indexer] = value instead\n",
      "\n",
      "See the caveats in the documentation: https://pandas.pydata.org/pandas-docs/stable/user_guide/indexing.html#returning-a-view-versus-a-copy\n",
      "  \n",
      "C:\\ProgramData\\Anaconda3\\lib\\site-packages\\pandas\\core\\frame.py:2969: SettingWithCopyWarning: \n",
      "A value is trying to be set on a copy of a slice from a DataFrame\n",
      "\n",
      "See the caveats in the documentation: https://pandas.pydata.org/pandas-docs/stable/user_guide/indexing.html#returning-a-view-versus-a-copy\n",
      "  self.loc._setitem_with_indexer((slice(None), indexer), value)\n",
      "C:\\ProgramData\\Anaconda3\\lib\\site-packages\\pandas\\core\\frame.py:2935: SettingWithCopyWarning: \n",
      "A value is trying to be set on a copy of a slice from a DataFrame\n",
      "\n",
      "See the caveats in the documentation: https://pandas.pydata.org/pandas-docs/stable/user_guide/indexing.html#returning-a-view-versus-a-copy\n",
      "  self._setitem_array(key, value)\n"
     ]
    }
   ],
   "source": [
    "train_features_0[numeric] = scaler_0.transform(train_features_0)\n",
    "valid_features_0[numeric] = scaler_0.transform(valid_features_0)"
   ]
  },
  {
   "cell_type": "markdown",
   "metadata": {},
   "source": [
    "            для региона 2"
   ]
  },
  {
   "cell_type": "code",
   "execution_count": 28,
   "metadata": {
    "scrolled": true
   },
   "outputs": [
    {
     "name": "stderr",
     "output_type": "stream",
     "text": [
      "C:\\ProgramData\\Anaconda3\\lib\\site-packages\\ipykernel_launcher.py:1: SettingWithCopyWarning: \n",
      "A value is trying to be set on a copy of a slice from a DataFrame.\n",
      "Try using .loc[row_indexer,col_indexer] = value instead\n",
      "\n",
      "See the caveats in the documentation: https://pandas.pydata.org/pandas-docs/stable/user_guide/indexing.html#returning-a-view-versus-a-copy\n",
      "  \"\"\"Entry point for launching an IPython kernel.\n",
      "C:\\ProgramData\\Anaconda3\\lib\\site-packages\\pandas\\core\\frame.py:2969: SettingWithCopyWarning: \n",
      "A value is trying to be set on a copy of a slice from a DataFrame\n",
      "\n",
      "See the caveats in the documentation: https://pandas.pydata.org/pandas-docs/stable/user_guide/indexing.html#returning-a-view-versus-a-copy\n",
      "  self.loc._setitem_with_indexer((slice(None), indexer), value)\n",
      "C:\\ProgramData\\Anaconda3\\lib\\site-packages\\pandas\\core\\frame.py:2935: SettingWithCopyWarning: \n",
      "A value is trying to be set on a copy of a slice from a DataFrame\n",
      "\n",
      "See the caveats in the documentation: https://pandas.pydata.org/pandas-docs/stable/user_guide/indexing.html#returning-a-view-versus-a-copy\n",
      "  self._setitem_array(key, value)\n",
      "C:\\ProgramData\\Anaconda3\\lib\\site-packages\\ipykernel_launcher.py:2: SettingWithCopyWarning: \n",
      "A value is trying to be set on a copy of a slice from a DataFrame.\n",
      "Try using .loc[row_indexer,col_indexer] = value instead\n",
      "\n",
      "See the caveats in the documentation: https://pandas.pydata.org/pandas-docs/stable/user_guide/indexing.html#returning-a-view-versus-a-copy\n",
      "  \n",
      "C:\\ProgramData\\Anaconda3\\lib\\site-packages\\pandas\\core\\frame.py:2969: SettingWithCopyWarning: \n",
      "A value is trying to be set on a copy of a slice from a DataFrame\n",
      "\n",
      "See the caveats in the documentation: https://pandas.pydata.org/pandas-docs/stable/user_guide/indexing.html#returning-a-view-versus-a-copy\n",
      "  self.loc._setitem_with_indexer((slice(None), indexer), value)\n",
      "C:\\ProgramData\\Anaconda3\\lib\\site-packages\\pandas\\core\\frame.py:2935: SettingWithCopyWarning: \n",
      "A value is trying to be set on a copy of a slice from a DataFrame\n",
      "\n",
      "See the caveats in the documentation: https://pandas.pydata.org/pandas-docs/stable/user_guide/indexing.html#returning-a-view-versus-a-copy\n",
      "  self._setitem_array(key, value)\n"
     ]
    }
   ],
   "source": [
    "train_features_1[numeric] = scaler_1.transform(train_features_1)\n",
    "valid_features_1[numeric] = scaler_1.transform(valid_features_1)"
   ]
  },
  {
   "cell_type": "markdown",
   "metadata": {},
   "source": [
    "            для региона 3"
   ]
  },
  {
   "cell_type": "code",
   "execution_count": 29,
   "metadata": {
    "scrolled": true
   },
   "outputs": [
    {
     "name": "stderr",
     "output_type": "stream",
     "text": [
      "C:\\ProgramData\\Anaconda3\\lib\\site-packages\\ipykernel_launcher.py:1: SettingWithCopyWarning: \n",
      "A value is trying to be set on a copy of a slice from a DataFrame.\n",
      "Try using .loc[row_indexer,col_indexer] = value instead\n",
      "\n",
      "See the caveats in the documentation: https://pandas.pydata.org/pandas-docs/stable/user_guide/indexing.html#returning-a-view-versus-a-copy\n",
      "  \"\"\"Entry point for launching an IPython kernel.\n",
      "C:\\ProgramData\\Anaconda3\\lib\\site-packages\\pandas\\core\\frame.py:2969: SettingWithCopyWarning: \n",
      "A value is trying to be set on a copy of a slice from a DataFrame\n",
      "\n",
      "See the caveats in the documentation: https://pandas.pydata.org/pandas-docs/stable/user_guide/indexing.html#returning-a-view-versus-a-copy\n",
      "  self.loc._setitem_with_indexer((slice(None), indexer), value)\n",
      "C:\\ProgramData\\Anaconda3\\lib\\site-packages\\pandas\\core\\frame.py:2935: SettingWithCopyWarning: \n",
      "A value is trying to be set on a copy of a slice from a DataFrame\n",
      "\n",
      "See the caveats in the documentation: https://pandas.pydata.org/pandas-docs/stable/user_guide/indexing.html#returning-a-view-versus-a-copy\n",
      "  self._setitem_array(key, value)\n",
      "C:\\ProgramData\\Anaconda3\\lib\\site-packages\\ipykernel_launcher.py:2: SettingWithCopyWarning: \n",
      "A value is trying to be set on a copy of a slice from a DataFrame.\n",
      "Try using .loc[row_indexer,col_indexer] = value instead\n",
      "\n",
      "See the caveats in the documentation: https://pandas.pydata.org/pandas-docs/stable/user_guide/indexing.html#returning-a-view-versus-a-copy\n",
      "  \n",
      "C:\\ProgramData\\Anaconda3\\lib\\site-packages\\pandas\\core\\frame.py:2969: SettingWithCopyWarning: \n",
      "A value is trying to be set on a copy of a slice from a DataFrame\n",
      "\n",
      "See the caveats in the documentation: https://pandas.pydata.org/pandas-docs/stable/user_guide/indexing.html#returning-a-view-versus-a-copy\n",
      "  self.loc._setitem_with_indexer((slice(None), indexer), value)\n",
      "C:\\ProgramData\\Anaconda3\\lib\\site-packages\\pandas\\core\\frame.py:2935: SettingWithCopyWarning: \n",
      "A value is trying to be set on a copy of a slice from a DataFrame\n",
      "\n",
      "See the caveats in the documentation: https://pandas.pydata.org/pandas-docs/stable/user_guide/indexing.html#returning-a-view-versus-a-copy\n",
      "  self._setitem_array(key, value)\n"
     ]
    }
   ],
   "source": [
    "train_features_2[numeric] = scaler_2.transform(train_features_2)\n",
    "valid_features_2[numeric] = scaler_2.transform(valid_features_2)"
   ]
  },
  {
   "cell_type": "markdown",
   "metadata": {},
   "source": [
    "Подготовив данные для обучения модели на них - разбили данные на тренировочную и валидационную выборки в необходимом соотношении (75:25), провели масштабирование признаков. Приступаем к обучении модели.\n"
   ]
  },
  {
   "cell_type": "markdown",
   "metadata": {},
   "source": [
    "__3.__\n",
    "\n",
    "Обучим модель, чтобы сделать предсказания на валидационной выборке для каждого региона. Сохраним прогноз моделей и верный результат в один датафрейм."
   ]
  },
  {
   "cell_type": "markdown",
   "metadata": {},
   "source": [
    "    Моделью выберем - линейную регрессию, линейную, т.к. имеем дело с числами, а не с категориальными данными, регрессию - как наиболее предсказуемая."
   ]
  },
  {
   "cell_type": "code",
   "execution_count": 30,
   "metadata": {},
   "outputs": [],
   "source": [
    "from sklearn.linear_model import LinearRegression"
   ]
  },
  {
   "cell_type": "code",
   "execution_count": 31,
   "metadata": {},
   "outputs": [],
   "source": [
    "model_0 = LinearRegression()\n",
    "model_1 = LinearRegression()\n",
    "model_2 = LinearRegression()"
   ]
  },
  {
   "cell_type": "code",
   "execution_count": 32,
   "metadata": {},
   "outputs": [
    {
     "data": {
      "text/plain": [
       "LinearRegression(copy_X=True, fit_intercept=True, n_jobs=None, normalize=False)"
      ]
     },
     "execution_count": 32,
     "metadata": {},
     "output_type": "execute_result"
    }
   ],
   "source": [
    "model_0.fit(train_features_0, train_target_0)"
   ]
  },
  {
   "cell_type": "code",
   "execution_count": 33,
   "metadata": {},
   "outputs": [
    {
     "data": {
      "text/plain": [
       "LinearRegression(copy_X=True, fit_intercept=True, n_jobs=None, normalize=False)"
      ]
     },
     "execution_count": 33,
     "metadata": {},
     "output_type": "execute_result"
    }
   ],
   "source": [
    "model_1.fit(train_features_1, train_target_1)"
   ]
  },
  {
   "cell_type": "code",
   "execution_count": 34,
   "metadata": {},
   "outputs": [
    {
     "data": {
      "text/plain": [
       "LinearRegression(copy_X=True, fit_intercept=True, n_jobs=None, normalize=False)"
      ]
     },
     "execution_count": 34,
     "metadata": {},
     "output_type": "execute_result"
    }
   ],
   "source": [
    "model_2.fit(train_features_2, train_target_2)"
   ]
  },
  {
   "cell_type": "markdown",
   "metadata": {},
   "source": [
    "    модели обучены, далее получим их прогноз на валидационных выборках."
   ]
  },
  {
   "cell_type": "code",
   "execution_count": 35,
   "metadata": {},
   "outputs": [],
   "source": [
    "pred_0 = model_0.predict(valid_features_0)"
   ]
  },
  {
   "cell_type": "code",
   "execution_count": 36,
   "metadata": {},
   "outputs": [],
   "source": [
    "pred_1 = model_1.predict(valid_features_1)"
   ]
  },
  {
   "cell_type": "code",
   "execution_count": 37,
   "metadata": {},
   "outputs": [],
   "source": [
    "pred_2 = model_2.predict(valid_features_2)"
   ]
  },
  {
   "cell_type": "markdown",
   "metadata": {
    "scrolled": true
   },
   "source": [
    "    сохраним полученные прогнозы с верными ответами. Понадобятся в шаге 5."
   ]
  },
  {
   "cell_type": "code",
   "execution_count": 38,
   "metadata": {},
   "outputs": [],
   "source": [
    "answers_0 = pd.DataFrame()\n",
    "answers_0['true_product'] = valid_target_0.reset_index(drop=True)\n",
    "answers_0['predict_product'] = pred_0"
   ]
  },
  {
   "cell_type": "code",
   "execution_count": 39,
   "metadata": {},
   "outputs": [],
   "source": [
    "answers_1 = pd.DataFrame()\n",
    "answers_1['true_product'] = valid_target_1\n",
    "answers_1['predict_product'] = pred_1"
   ]
  },
  {
   "cell_type": "code",
   "execution_count": 40,
   "metadata": {},
   "outputs": [],
   "source": [
    "answers_2 = pd.DataFrame()\n",
    "answers_2['true_product'] = valid_target_2\n",
    "answers_2['predict_product'] = pred_2"
   ]
  },
  {
   "cell_type": "markdown",
   "metadata": {},
   "source": [
    "__4.__\n",
    "\n",
    "Далее посмотрим на RMSE моделей и средний запас предсказанного сырья по регионам."
   ]
  },
  {
   "cell_type": "code",
   "execution_count": 41,
   "metadata": {},
   "outputs": [
    {
     "data": {
      "text/plain": [
       "37.64786282376176"
      ]
     },
     "execution_count": 41,
     "metadata": {},
     "output_type": "execute_result"
    }
   ],
   "source": [
    "rmse_0 = mean_squared_error(valid_target_0, pred_0)**0.5\n",
    "rmse_0"
   ]
  },
  {
   "cell_type": "code",
   "execution_count": 42,
   "metadata": {},
   "outputs": [
    {
     "data": {
      "text/plain": [
       "0.8954139804944302"
      ]
     },
     "execution_count": 42,
     "metadata": {},
     "output_type": "execute_result"
    }
   ],
   "source": [
    "rmse_1 = mean_squared_error(valid_target_1, pred_1)**0.5\n",
    "rmse_1"
   ]
  },
  {
   "cell_type": "code",
   "execution_count": 43,
   "metadata": {},
   "outputs": [
    {
     "data": {
      "text/plain": [
       "40.12803006598514"
      ]
     },
     "execution_count": 43,
     "metadata": {},
     "output_type": "execute_result"
    }
   ],
   "source": [
    "rmse_2 = mean_squared_error(valid_target_2, pred_2)**0.5\n",
    "rmse_2"
   ]
  },
  {
   "cell_type": "markdown",
   "metadata": {},
   "source": [
    "        средний запас сырья предсказанный моделью - pred_mean_product.\n",
    "        \n",
    "        средний запас сырья на самом деле - real_mean_product."
   ]
  },
  {
   "cell_type": "code",
   "execution_count": 44,
   "metadata": {},
   "outputs": [
    {
     "name": "stdout",
     "output_type": "stream",
     "text": [
      "средний запас сырья предсказанный моделью региона 1: 92.54936189116306\n",
      "средний запас сырья на самом деле региона 1:  92.85062391123498\n",
      "медиана запасов сырья региона 1:  92.37279560350052\n"
     ]
    }
   ],
   "source": [
    "pred_mean_product_0 = pred_0.mean()\n",
    "real_mean_product_0 = valid_target_0.mean()\n",
    "real_median_product_0 = valid_target_0.median()\n",
    "\n",
    "print('средний запас сырья предсказанный моделью региона 1:', pred_mean_product_0)\n",
    "print('средний запас сырья на самом деле региона 1: ', real_mean_product_0)\n",
    "print('медиана запасов сырья региона 1: ', real_median_product_0)"
   ]
  },
  {
   "cell_type": "code",
   "execution_count": 45,
   "metadata": {},
   "outputs": [
    {
     "name": "stdout",
     "output_type": "stream",
     "text": [
      "средний запас сырья предсказанный моделью региона 2: 69.28001860653976\n",
      "средний запас сырья на самом деле региона 2:  69.27371236079397\n",
      "медиана запасов сырья региона 2:  80.85978309461906\n"
     ]
    }
   ],
   "source": [
    "pred_mean_product_1 = pred_1.mean()\n",
    "real_mean_product_1 = valid_target_1.mean()\n",
    "real_median_product_1 = valid_target_1.median()\n",
    "\n",
    "print('средний запас сырья предсказанный моделью региона 2:', pred_mean_product_1)\n",
    "print('средний запас сырья на самом деле региона 2: ', real_mean_product_1)\n",
    "print('медиана запасов сырья региона 2: ', real_median_product_1)"
   ]
  },
  {
   "cell_type": "code",
   "execution_count": 46,
   "metadata": {},
   "outputs": [
    {
     "name": "stdout",
     "output_type": "stream",
     "text": [
      "средний запас сырья предсказанный моделью региона 3: 95.09859933591373\n",
      "средний запас сырья на самом деле региона 3:  94.87348818660159\n",
      "медиана запасов сырья региона 3:  94.68259260128697\n"
     ]
    }
   ],
   "source": [
    "pred_mean_product_2 = pred_2.mean()\n",
    "real_mean_product_2 = valid_target_2.mean()\n",
    "real_median_product_2 = valid_target_2.median()\n",
    "\n",
    "print('средний запас сырья предсказанный моделью региона 3:', pred_mean_product_2)\n",
    "print('средний запас сырья на самом деле региона 3: ', real_mean_product_2)\n",
    "print('медиана запасов сырья региона 3: ', real_median_product_2)"
   ]
  },
  {
   "cell_type": "markdown",
   "metadata": {},
   "source": [
    "Нас __больше интересует средний запас, нежели rmse__, т.к. прибыль будет больше там, где больше нефти.\n",
    "\n",
    "Большне нефти в регионе 3 - 95тыс.баррелей его средний запас,и модель предсказалла 95.\n",
    "\n",
    "Потом идёт регион 1 со средним запасом в 93тыс.баррелей, и модель предсказала 92,5.\n",
    "\n",
    "Замыкает ряд регион 3 со средним запасом - 69 тыс.баррелей, модель предсказала 69.\n",
    "\n",
    "Но самая низакая, а чем ниже, тем лучше, rmse модели второго региона."
   ]
  },
  {
   "cell_type": "markdown",
   "metadata": {},
   "source": [
    "# 3. Подготовка к расчёту прибыли"
   ]
  },
  {
   "cell_type": "markdown",
   "metadata": {
    "scrolled": true
   },
   "source": [
    "__1.__\n",
    "\n",
    "Сохраним ключевые значения для расчётов в отдельных переменных."
   ]
  },
  {
   "cell_type": "markdown",
   "metadata": {},
   "source": [
    "        Бюджет на регион (budget) = 10 млрд.руб"
   ]
  },
  {
   "cell_type": "code",
   "execution_count": 47,
   "metadata": {},
   "outputs": [],
   "source": [
    "budget = 10000000000"
   ]
  },
  {
   "cell_type": "markdown",
   "metadata": {},
   "source": [
    "        Планируемое количество разрабатываемых скважин (wells) = 200 скважин в регионе."
   ]
  },
  {
   "cell_type": "code",
   "execution_count": 48,
   "metadata": {},
   "outputs": [],
   "source": [
    "wells = 200"
   ]
  },
  {
   "cell_type": "markdown",
   "metadata": {},
   "source": [
    "        Стоимость 1 тыс.баррелей нефти (cost_1000) = 450 тыс.руб."
   ]
  },
  {
   "cell_type": "code",
   "execution_count": 49,
   "metadata": {},
   "outputs": [],
   "source": [
    "cost_1000 = 450000"
   ]
  },
  {
   "cell_type": "markdown",
   "metadata": {},
   "source": [
    "__2.__\n",
    "\n",
    "Рассчитаем достаточный объём сырья для безубыточной разработки новой скважины. \n",
    "\n",
    "Сравним полученный объём сырья со средним запасом в каждом регионе."
   ]
  },
  {
   "cell_type": "markdown",
   "metadata": {},
   "source": [
    "__Бюджет__ каждого региона - __10 млрд.руб.__ Планируется разработка 200 скважин. Значит каждая скважина должна приносить не меньшую потраченной на нее сумму прибыль, \n",
    "\n",
    "которую узнаем посчитав отношение бюджета к количеству планируемых скважин:"
   ]
  },
  {
   "cell_type": "code",
   "execution_count": 50,
   "metadata": {},
   "outputs": [
    {
     "data": {
      "text/plain": [
       "50000000.0"
      ]
     },
     "execution_count": 50,
     "metadata": {},
     "output_type": "execute_result"
    }
   ],
   "source": [
    "profit_1_well = budget / wells\n",
    "profit_1_well"
   ]
  },
  {
   "cell_type": "markdown",
   "metadata": {},
   "source": [
    "Таким образом, чтобы не уйти в убыток и вложенные средства как-минимум вернулись, __одна скважина__ должна принести не менее __50 млн.руб.__\n",
    "\n",
    "Зная, что __1 барелль__ нефти стоит __450 руб.__ рассчитаем минимальный запас нефти, который должен быть в скважине (min_reserve).\n",
    "\n",
    "Для этого посмотрим на отношение минимальной прибыли с кважины к стоимости 1 тысячи баррелей нефти"
   ]
  },
  {
   "cell_type": "code",
   "execution_count": 51,
   "metadata": {},
   "outputs": [
    {
     "data": {
      "text/plain": [
       "111.11111111111111"
      ]
     },
     "execution_count": 51,
     "metadata": {},
     "output_type": "execute_result"
    }
   ],
   "source": [
    "min_reserve = profit_1_well / cost_1000\n",
    "min_reserve"
   ]
  },
  {
   "cell_type": "markdown",
   "metadata": {},
   "source": [
    "Ясно, что нас интересуют скважины,по прогнозу в которых хранится не менее 112 тыс.баррелей, чтобы не уйти в убыточное производство."
   ]
  },
  {
   "cell_type": "markdown",
   "metadata": {},
   "source": [
    "                                    ***"
   ]
  },
  {
   "cell_type": "markdown",
   "metadata": {},
   "source": [
    "Сравним полученный объём сырья со средним запасом в каждом регионе."
   ]
  },
  {
   "cell_type": "code",
   "execution_count": 52,
   "metadata": {},
   "outputs": [
    {
     "name": "stdout",
     "output_type": "stream",
     "text": [
      "Средний запас в регионе 1 : 93\n",
      "Средний запас в регионе 2 : 69\n",
      "Средний запас в регионе 3 : 95\n",
      "Необходимое количество нефти для окупаемости : 111.1\n"
     ]
    }
   ],
   "source": [
    "print(\"Средний запас в регионе 1 : {:0.0f}\".format(pred_mean_product_0))\n",
    "print(\"Средний запас в регионе 2 : {:0.0f}\".format(pred_mean_product_1))\n",
    "print(\"Средний запас в регионе 3 : {:0.0f}\".format(pred_mean_product_2))\n",
    "print(\"Необходимое количество нефти для окупаемости : {:0.1f}\".format(min_reserve))"
   ]
  },
  {
   "cell_type": "markdown",
   "metadata": {},
   "source": [
    "Средний запас в регионах меньше необходимого, но не стоит паниковать, ведь это средний запас....\n",
    "\n",
    "Предлогаю сравнить не со средним, а с распределением на гистограмме:"
   ]
  },
  {
   "cell_type": "markdown",
   "metadata": {},
   "source": [
    "        предсказания модели относительно запасов в регионе 1:"
   ]
  },
  {
   "cell_type": "code",
   "execution_count": 53,
   "metadata": {},
   "outputs": [
    {
     "data": {
      "image/png": "[encoded data removed]",
      "text/plain": [
       "<Figure size 432x288 with 1 Axes>"
      ]
     },
     "metadata": {
      "needs_background": "light"
     },
     "output_type": "display_data"
    }
   ],
   "source": [
    "answers_0['predict_product'].hist(bins=50)\n",
    "plt.title(\"распределение запасов нефти в регионе 1\"); \n",
    "plt.xlabel(\"объем нефти, тыс.баррелей\")\n",
    "plt.ylabel(\"количество месторождений\")\n",
    "plt.show()"
   ]
  },
  {
   "cell_type": "code",
   "execution_count": 54,
   "metadata": {},
   "outputs": [
    {
     "data": {
      "text/plain": [
       "count    25000.000000\n",
       "mean        92.549362\n",
       "std         23.417413\n",
       "min         -9.834307\n",
       "25%         76.555717\n",
       "50%         92.687630\n",
       "75%        108.463616\n",
       "max        180.192010\n",
       "Name: predict_product, dtype: float64"
      ]
     },
     "execution_count": 54,
     "metadata": {},
     "output_type": "execute_result"
    }
   ],
   "source": [
    "answers_0['predict_product'].describe()"
   ]
  },
  {
   "cell_type": "markdown",
   "metadata": {},
   "source": [
    "        предсказания модели относительно запасов в регионе 2:"
   ]
  },
  {
   "cell_type": "code",
   "execution_count": 55,
   "metadata": {},
   "outputs": [
    {
     "data": {
      "image/png": "[encoded data removed]",
      "text/plain": [
       "<Figure size 432x288 with 1 Axes>"
      ]
     },
     "metadata": {
      "needs_background": "light"
     },
     "output_type": "display_data"
    }
   ],
   "source": [
    "answers_1['predict_product'].hist(bins=50)\n",
    "plt.title(\"распределение запасов нефти в регионе 2\"); \n",
    "plt.xlabel(\"объем нефти, тыс.баррелей\")\n",
    "plt.ylabel(\"количество месторождений\")\n",
    "plt.show()"
   ]
  },
  {
   "cell_type": "code",
   "execution_count": 56,
   "metadata": {},
   "outputs": [
    {
     "data": {
      "text/plain": [
       "count    25000.000000\n",
       "mean        69.280019\n",
       "std         45.819890\n",
       "min         -2.066353\n",
       "25%         28.689663\n",
       "50%         79.987224\n",
       "75%        109.351179\n",
       "max        139.906443\n",
       "Name: predict_product, dtype: float64"
      ]
     },
     "execution_count": 56,
     "metadata": {},
     "output_type": "execute_result"
    }
   ],
   "source": [
    "answers_1['predict_product'].describe()"
   ]
  },
  {
   "cell_type": "markdown",
   "metadata": {},
   "source": [
    "        предсказания модели относительно запасов в регионе 3:"
   ]
  },
  {
   "cell_type": "code",
   "execution_count": 57,
   "metadata": {},
   "outputs": [
    {
     "data": {
      "image/png": "[encoded data removed]",
      "text/plain": [
       "<Figure size 432x288 with 1 Axes>"
      ]
     },
     "metadata": {
      "needs_background": "light"
     },
     "output_type": "display_data"
    }
   ],
   "source": [
    "answers_2['predict_product'].hist(bins=50)\n",
    "plt.title(\"распределение запасов нефти в регионе 3\"); \n",
    "plt.xlabel(\"объем нефти, тыс.баррелей\")\n",
    "plt.ylabel(\"количество месторождений\")\n",
    "plt.show()"
   ]
  },
  {
   "cell_type": "code",
   "execution_count": 58,
   "metadata": {},
   "outputs": [
    {
     "data": {
      "text/plain": [
       "count    25000.000000\n",
       "mean        95.098599\n",
       "std         20.175789\n",
       "min         14.590694\n",
       "25%         81.398949\n",
       "50%         94.929589\n",
       "75%        108.821916\n",
       "max        174.573336\n",
       "Name: predict_product, dtype: float64"
      ]
     },
     "execution_count": 58,
     "metadata": {},
     "output_type": "execute_result"
    }
   ],
   "source": [
    "answers_2['predict_product'].describe()"
   ]
  },
  {
   "cell_type": "markdown",
   "metadata": {},
   "source": [
    "На графиках трёх регионов мы видим, что в достаточном количестве встречаются месторождения с запасом более 120 тыс.баррелей.\n",
    "\n",
    "Теперь нас не пугает недостаточное среднее. Главное, чтоб модель верно строила прогноз."
   ]
  },
  {
   "cell_type": "markdown",
   "metadata": {},
   "source": [
    "# 4. Напишем функцию для расчёта прибыли по выбранным скважинам и предсказаниям модели"
   ]
  },
  {
   "cell_type": "markdown",
   "metadata": {},
   "source": [
    "В этом шаге мы:\n",
    "\n",
    "\n",
    "Напишем функцию для расчёта прибыли по выбранным скважинам и предсказаниям модели.\n"
   ]
  },
  {
   "cell_type": "markdown",
   "metadata": {},
   "source": [
    "        Функция для расчёта прибыли - сумма всех тысяч баррелей нефти предсказанная (или реальная), которые может добыть кампания, разрабатывая известные месторождения, умноженная на стоимость одной тысячи баррелей из чего вычитается бюджет. "
   ]
  },
  {
   "cell_type": "code",
   "execution_count": 59,
   "metadata": {},
   "outputs": [],
   "source": [
    "def general_profit(summ_barrels):\n",
    "    return(int((sum(summ_barrels) * cost_1000) - budget))"
   ]
  },
  {
   "cell_type": "markdown",
   "metadata": {},
   "source": [
    "        Функцимя для расчета средней прибыли:"
   ]
  },
  {
   "cell_type": "code",
   "execution_count": 60,
   "metadata": {},
   "outputs": [],
   "source": [
    "def general_mean_profit(series):\n",
    "    return(series.mean())"
   ]
  },
  {
   "cell_type": "markdown",
   "metadata": {
    "scrolled": true
   },
   "source": [
    "__4.1.__\n",
    "\n",
    "Выберем скважины с максимальными значениями предсказаний. Количество скважин зависит от бюджета компании и стоимости разработки одной скважины.\n"
   ]
  },
  {
   "cell_type": "markdown",
   "metadata": {},
   "source": [
    "В шаге три мы обговорили, что бюджет на разработку 1 скважины = 50млн.руб., а бюджет на весь регион - 10 млрд.руб., то есть на разработку 200 скважин."
   ]
  },
  {
   "cell_type": "markdown",
   "metadata": {},
   "source": [
    "        топ 200 скважин района 1:"
   ]
  },
  {
   "cell_type": "code",
   "execution_count": 61,
   "metadata": {},
   "outputs": [],
   "source": [
    "top_0 = sorted(pred_0, reverse=True)"
   ]
  },
  {
   "cell_type": "code",
   "execution_count": 62,
   "metadata": {},
   "outputs": [],
   "source": [
    "top_0 = top_0[0:200]"
   ]
  },
  {
   "cell_type": "markdown",
   "metadata": {},
   "source": [
    "        топ 200 скважин района 2:"
   ]
  },
  {
   "cell_type": "code",
   "execution_count": 63,
   "metadata": {},
   "outputs": [],
   "source": [
    "top_1 = sorted(pred_1, reverse=True)"
   ]
  },
  {
   "cell_type": "code",
   "execution_count": 64,
   "metadata": {},
   "outputs": [],
   "source": [
    "top_1 = top_1[0:200]"
   ]
  },
  {
   "cell_type": "markdown",
   "metadata": {},
   "source": [
    "        топ 200 скважин района 3:"
   ]
  },
  {
   "cell_type": "code",
   "execution_count": 65,
   "metadata": {},
   "outputs": [],
   "source": [
    "top_2 = sorted(pred_2, reverse=True)"
   ]
  },
  {
   "cell_type": "code",
   "execution_count": 66,
   "metadata": {},
   "outputs": [],
   "source": [
    "top_2 = top_2[0:200]"
   ]
  },
  {
   "cell_type": "markdown",
   "metadata": {},
   "source": [
    "__4.2.__ \n",
    "\n",
    "Просуммируем целевое значение объёма сырья, соответствующее этим предсказаниям."
   ]
  },
  {
   "cell_type": "markdown",
   "metadata": {},
   "source": [
    "        сумма объема сырья региона 1:"
   ]
  },
  {
   "cell_type": "code",
   "execution_count": 67,
   "metadata": {},
   "outputs": [
    {
     "data": {
      "text/plain": [
       "31034.78780509359"
      ]
     },
     "execution_count": 67,
     "metadata": {},
     "output_type": "execute_result"
    }
   ],
   "source": [
    "summ_0 = sum(top_0)\n",
    "summ_0"
   ]
  },
  {
   "cell_type": "markdown",
   "metadata": {},
   "source": [
    "        сумма объема сырья региона 2:"
   ]
  },
  {
   "cell_type": "code",
   "execution_count": 68,
   "metadata": {},
   "outputs": [
    {
     "data": {
      "text/plain": [
       "27755.76198279395"
      ]
     },
     "execution_count": 68,
     "metadata": {},
     "output_type": "execute_result"
    }
   ],
   "source": [
    "summ_1 = sum(top_1)\n",
    "summ_1"
   ]
  },
  {
   "cell_type": "markdown",
   "metadata": {},
   "source": [
    "        сумма объема сырья региона 3:"
   ]
  },
  {
   "cell_type": "code",
   "execution_count": 69,
   "metadata": {},
   "outputs": [
    {
     "data": {
      "text/plain": [
       "29943.443110391756"
      ]
     },
     "execution_count": 69,
     "metadata": {},
     "output_type": "execute_result"
    }
   ],
   "source": [
    "summ_2 = sum(top_2)\n",
    "summ_2"
   ]
  },
  {
   "cell_type": "markdown",
   "metadata": {},
   "source": [
    "Самый перспективный регион - первый, далее - третий и замыкает - второй."
   ]
  },
  {
   "cell_type": "markdown",
   "metadata": {},
   "source": [
    "__4.3.__\n",
    "\n",
    "Рассчитаем прибыль для полученного объёма сырья произведением суммы запасов в 200 сткважинах на стоимость тысячи баррелей (в рублях)."
   ]
  },
  {
   "cell_type": "markdown",
   "metadata": {},
   "source": [
    "        прибыль в регионе 1:"
   ]
  },
  {
   "cell_type": "code",
   "execution_count": 70,
   "metadata": {},
   "outputs": [
    {
     "data": {
      "text/plain": [
       "3965654512"
      ]
     },
     "execution_count": 70,
     "metadata": {},
     "output_type": "execute_result"
    }
   ],
   "source": [
    "sum_profit_0 = general_profit(top_0)\n",
    "sum_profit_0"
   ]
  },
  {
   "cell_type": "markdown",
   "metadata": {},
   "source": [
    "        прибыль в регионе 2:"
   ]
  },
  {
   "cell_type": "code",
   "execution_count": 71,
   "metadata": {},
   "outputs": [
    {
     "data": {
      "text/plain": [
       "2490092892"
      ]
     },
     "execution_count": 71,
     "metadata": {},
     "output_type": "execute_result"
    }
   ],
   "source": [
    "sum_profit_1 = general_profit(top_1)\n",
    "sum_profit_1"
   ]
  },
  {
   "cell_type": "markdown",
   "metadata": {},
   "source": [
    "        прибыль в регионе 3:"
   ]
  },
  {
   "cell_type": "code",
   "execution_count": 72,
   "metadata": {},
   "outputs": [
    {
     "data": {
      "text/plain": [
       "3474549399"
      ]
     },
     "execution_count": 72,
     "metadata": {},
     "output_type": "execute_result"
    }
   ],
   "source": [
    "sum_profit_2 = general_profit(top_2)\n",
    "sum_profit_2"
   ]
  },
  {
   "cell_type": "markdown",
   "metadata": {},
   "source": [
    "Теоретически: Самый перспективный регион - первый, далее - третий и замыкает - второй.\n",
    "\n",
    "С каким регионом будет работать кампания - узнаем в шаге 5."
   ]
  },
  {
   "cell_type": "markdown",
   "metadata": {},
   "source": [
    "# 5. Подсчёт рисков и прибыли для каждого региона"
   ]
  },
  {
   "cell_type": "markdown",
   "metadata": {},
   "source": [
    "Общий план таков:\n",
    "\n",
    "Согласно Центральной Предельной Теореме случайная выборка имеет свойства генеральной совокупности.\n",
    "\n",
    "Поэтому методом бутстреп мы создадим 1000 случайных выборок по 500 объектов из общего датафрейма, отсортируем датафрейм по предсказанным значениям от большего к меньшему и возьмем из него первые 200 значений \"действительного запаса нефти\" (НЕ предсказанного, а \"таргетного\"). \n",
    "\n",
    "Посчитаем прибыль и сохраним данные в список ``values``.\n",
    "\n",
    "Далее найдем среднюю прибыль, 95%-й доверительный интервал и риск убытков.\n"
   ]
  },
  {
   "cell_type": "markdown",
   "metadata": {},
   "source": [
    "__5.1.__\n",
    "\n",
    "Примените технику Bootstrap с 1000 выборок, чтобы найти распределение прибыли."
   ]
  },
  {
   "cell_type": "code",
   "execution_count": 73,
   "metadata": {},
   "outputs": [],
   "source": [
    "def get_values(data):\n",
    "    values = []\n",
    "    state = np.random.RandomState(12345)\n",
    "    for i in range(1000):\n",
    "        subsampling = data.sample(n=500, replace=True, random_state=state)\n",
    "        subsampling = subsampling.sort_values(by='predict_product', ascending=False).reset_index(drop=True)\n",
    "        selected_wells = subsampling.loc[0:wells, 'true_product']      \n",
    "        profit = general_profit(selected_wells)\n",
    "        values.append(profit)\n",
    "    values = pd.Series(values)\n",
    "    return(values)"
   ]
  },
  {
   "cell_type": "markdown",
   "metadata": {},
   "source": [
    "Данные, которые мыполучили в шаге 2 - хранятся в датафрейме answers, в столбце 'predict_product' - предсказанные на валидационной выборке значения запасов нефти, в столбце 'true_product' - таргетные значения."
   ]
  },
  {
   "cell_type": "code",
   "execution_count": 74,
   "metadata": {},
   "outputs": [],
   "source": [
    "values_0 = get_values(answers_0)"
   ]
  },
  {
   "cell_type": "code",
   "execution_count": 75,
   "metadata": {},
   "outputs": [
    {
     "data": {
      "text/plain": [
       "<matplotlib.axes._subplots.AxesSubplot at 0x2ccdeebd808>"
      ]
     },
     "execution_count": 75,
     "metadata": {},
     "output_type": "execute_result"
    },
    {
     "data": {
      "image/png": "[encoded data removed]",
      "text/plain": [
       "<Figure size 432x288 with 1 Axes>"
      ]
     },
     "metadata": {
      "needs_background": "light"
     },
     "output_type": "display_data"
    }
   ],
   "source": [
    "values_0.hist(bins=50)"
   ]
  },
  {
   "cell_type": "code",
   "execution_count": 76,
   "metadata": {},
   "outputs": [
    {
     "data": {
      "text/plain": [
       "<matplotlib.axes._subplots.AxesSubplot at 0x2ccdef46fc8>"
      ]
     },
     "execution_count": 76,
     "metadata": {},
     "output_type": "execute_result"
    },
    {
     "data": {
      "image/png": "[encoded data removed]",
      "text/plain": [
       "<Figure size 432x288 with 1 Axes>"
      ]
     },
     "metadata": {
      "needs_background": "light"
     },
     "output_type": "display_data"
    }
   ],
   "source": [
    "values_1 = get_values(answers_1)\n",
    "values_1.hist(bins=50)"
   ]
  },
  {
   "cell_type": "code",
   "execution_count": 77,
   "metadata": {},
   "outputs": [
    {
     "data": {
      "text/plain": [
       "<matplotlib.axes._subplots.AxesSubplot at 0x2ccddc230c8>"
      ]
     },
     "execution_count": 77,
     "metadata": {},
     "output_type": "execute_result"
    },
    {
     "data": {
      "image/png": "[encoded data removed]",
      "text/plain": [
       "<Figure size 432x288 with 1 Axes>"
      ]
     },
     "metadata": {
      "needs_background": "light"
     },
     "output_type": "display_data"
    }
   ],
   "source": [
    "values_2 = get_values(answers_2)\n",
    "values_2.hist(bins=50)"
   ]
  },
  {
   "cell_type": "markdown",
   "metadata": {},
   "source": [
    "Оценивая распределеиня, можно сказать, что наша модель справляется, причем оптимальней всего - в регионе 2, где rmse = 0.8, самая низкая."
   ]
  },
  {
   "cell_type": "markdown",
   "metadata": {},
   "source": [
    "__5.2.__\n",
    "\n",
    "Найдем среднюю прибыль, 95%-й доверительный интервал и риск убытков. Убыток — это отрицательная прибыль."
   ]
  },
  {
   "cell_type": "markdown",
   "metadata": {},
   "source": [
    "Автоматизируем процесс, что позволит сократить объем кода и его дубликацию:"
   ]
  },
  {
   "cell_type": "code",
   "execution_count": 78,
   "metadata": {},
   "outputs": [],
   "source": [
    "def get_conf_int(values):\n",
    "    lover = int(values.quantile(0.025))\n",
    "    upper = int(values.quantile(0.975))\n",
    "    mean_prof = int(values.mean())\n",
    "    median_prof = int(values.median())\n",
    "    confidence_interval = st.t.interval(alpha = 0.95, df=(len(values)-1),\n",
    "                                        loc=values.mean(), scale=values.sem())\n",
    "    print('Средняя выручка: ', mean_prof)\n",
    "    print('Медиана распределения выручки: ', median_prof)\n",
    "    print('2,7% - квантиль: ', lover)\n",
    "    print('97.5% - квантиль: ', upper)\n",
    "    print('Доверительный интервал: ', confidence_interval)"
   ]
  },
  {
   "cell_type": "code",
   "execution_count": 79,
   "metadata": {},
   "outputs": [
    {
     "name": "stdout",
     "output_type": "stream",
     "text": [
      "Регион 1\n",
      "\n",
      "Средняя выручка:  522145480\n",
      "Медиана распределения выручки:  510670210\n",
      "2,7% - квантиль:  43923596\n",
      "97.5% - квантиль:  1053821845\n",
      "Доверительный интервал:  (505590763.1923125, 538700196.8656875)\n"
     ]
    }
   ],
   "source": [
    "print('Регион 1')\n",
    "print()\n",
    "get_conf_int(values_0)"
   ]
  },
  {
   "cell_type": "code",
   "execution_count": 80,
   "metadata": {},
   "outputs": [
    {
     "name": "stdout",
     "output_type": "stream",
     "text": [
      "Регион 2\n",
      "\n",
      "Средняя выручка:  517699508\n",
      "Медиана распределения выручки:  511243103\n",
      "2,7% - квантиль:  119413699\n",
      "97.5% - квантиль:  927845145\n",
      "Доверительный интервал:  (504751046.12018603, 530647970.07581395)\n"
     ]
    }
   ],
   "source": [
    "print('Регион 2')\n",
    "print()\n",
    "get_conf_int(values_1)"
   ]
  },
  {
   "cell_type": "code",
   "execution_count": 81,
   "metadata": {},
   "outputs": [
    {
     "name": "stdout",
     "output_type": "stream",
     "text": [
      "Регион 3\n",
      "\n",
      "Средняя выручка:  398833408\n",
      "Медиана распределения выручки:  400096295\n",
      "2,7% - квантиль:  -132884013\n",
      "97.5% - квантиль:  939705413\n",
      "Доверительный интервал:  (381912293.5958873, 415754524.0501127)\n"
     ]
    }
   ],
   "source": [
    "print('Регион 3')\n",
    "print()\n",
    "get_conf_int(values_2)"
   ]
  },
  {
   "cell_type": "markdown",
   "metadata": {},
   "source": [
    "__5.3.__\n",
    "\n",
    "__Вывод:__ предложим регион для разработки скважин и обоснуем выбор."
   ]
  },
  {
   "cell_type": "markdown",
   "metadata": {},
   "source": [
    "Сразу отказываемся от разработки третьего региона, т.к. минимум 2,7% риск, что компания понесет убытки, не смотря на то, что третий регион - на втором месте по запасам сырья. Причем rmse модели третьего региона самое высокое = 40"
   ]
  },
  {
   "cell_type": "markdown",
   "metadata": {},
   "source": [
    "Выбор стоит между двумя регионами: 1 регионом и вторым. \n",
    "\n",
    "Хоть в первом регионе средняя выручка и выше = 522млн.руб., против средней выручки второго региона = 517млн.руб., разницы между ними составляет 4 млн. руб (средние прибыли почти равны, 4 млн. не имееют большого значения, когда говоряят о миллиардах), \n",
    "\n",
    "но во втором регионе 2,7% - квантиль равен  119млн.руб., второй регион почти безъубыточен, в то время как в первом 2,7% - квантиль равен  43млн.руб, разница в 76 млн.руб."
   ]
  },
  {
   "cell_type": "markdown",
   "metadata": {},
   "source": [
    "Рекомендация к выбору второго региона для разработки."
   ]
  },
  {
   "cell_type": "markdown",
   "metadata": {},
   "source": [
    "Таким образом, на практике был выбран второй регион, который с самым низким запасом сырья, НО самой точной моделью, ее rmse = 0.8, потив первого региона = 37 и третьего = 40. Третий стал самым убыточным. То есть можно сказать, что точность предсказания важней запасов сырья, т.к. будут выбраны месторождения с большим запасом сырья с бОльшей вероятность."
   ]
  }
 ],
 "metadata": {
  "kernelspec": {
   "display_name": "Python 3",
   "language": "python",
   "name": "python3"
  },
  "language_info": {
   "codemirror_mode": {
    "name": "ipython",
    "version": 3
   },
   "file_extension": ".py",
   "mimetype": "text/x-python",
   "name": "python",
   "nbconvert_exporter": "python",
   "pygments_lexer": "ipython3",
   "version": "3.7.6"
  }
 },
 "nbformat": 4,
 "nbformat_minor": 2
}
