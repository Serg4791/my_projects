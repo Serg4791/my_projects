{
 "cells": [
  {
   "cell_type": "markdown",
   "metadata": {},
   "source": [
    "# Исследование объявлений о продаже квартир\n",
    "\n",
    "В вашем распоряжении данные сервиса Яндекс.Недвижимость — архив объявлений о продаже квартир в Санкт-Петербурге и соседних населённых пунктов за несколько лет. Нужно определить рыночную стоимость объектов недвижимости. Ваша задача — установить параметры. Это позволит построить автоматизированную систему: она отследит аномалии и мошенническую деятельность. \n",
    "\n",
    "По каждой квартире на продажу доступны два вида данных. Первые вписаны пользователем, вторые — получены автоматически на основе картографических данных. Например, расстояние до центра, аэропорта, ближайшего парка и водоёма. "
   ]
  },
  {
   "cell_type": "markdown",
   "metadata": {},
   "source": [
    "**Описание данных**\n",
    "\n",
    "    airports_nearest — расстояние до ближайшего аэропорта в метрах (м)\n",
    "    balcony — число балконов\n",
    "    ceiling_height — высота потолков (м)\n",
    "    cityCenters_nearest — расстояние до центра города (м)\n",
    "    days_exposition — сколько дней было размещено объявление (от публикации до снятия)\n",
    "    first_day_exposition — дата публикации\n",
    "    floor — этаж\n",
    "    floors_total — всего этажей в доме\n",
    "    is_apartment — апартаменты (булев тип)\n",
    "    kitchen_area — площадь кухни в квадратных метрах (м²)\n",
    "    last_price — цена на момент снятия с публикации\n",
    "    living_area — жилая площадь в квадратных метрах(м²)\n",
    "    locality_name — название населённого пункта\n",
    "    open_plan — свободная планировка (булев тип)\n",
    "    parks_around3000 — число парков в радиусе 3 км\n",
    "    parks_nearest — расстояние до ближайшего парка (м)\n",
    "    ponds_around3000 — число водоёмов в радиусе 3 км\n",
    "    ponds_nearest — расстояние до ближайшего водоёма (м)\n",
    "    rooms — число комнат\n",
    "    studio — квартира-студия (булев тип)\n",
    "    total_area — площадь квартиры в квадратных метрах (м²)\n",
    "    total_images — число фотографий квартиры в объявлении\n",
    "    \n",
    "Пояснение: апартаменты — это нежилые помещения, не относящиеся к жилому фонду, но имеющие необходимые условия для проживания."
   ]
  },
  {
   "cell_type": "markdown",
   "metadata": {},
   "source": [
    "### Шаг 1. Откроем файл с данными и изучим общую информацию. "
   ]
  },
  {
   "cell_type": "code",
   "execution_count": null,
   "metadata": {},
   "outputs": [],
   "source": [
    "import seaborn\n",
    "import matplotlib.pyplot as plt"
   ]
  },
  {
   "cell_type": "code",
   "execution_count": null,
   "metadata": {},
   "outputs": [],
   "source": [
    "import pandas as pd\n",
    "from IPython.display import display\n",
    "\n",
    "flat_data = pd.read_csv(r'C:\\Users\\Айболит\\Desktop\\DataFrames\\projects\\недвижимость\\real_estate_data.csv', sep='\\t', decimal='.')\n",
    "pd.options.display.max_columns = None\n",
    "display(flat_data.head(5))"
   ]
  },
  {
   "cell_type": "code",
   "execution_count": null,
   "metadata": {},
   "outputs": [],
   "source": [
    "flat_data.info()"
   ]
  },
  {
   "cell_type": "code",
   "execution_count": null,
   "metadata": {},
   "outputs": [],
   "source": [
    "flat_data.duplicated().sum()"
   ]
  },
  {
   "cell_type": "code",
   "execution_count": null,
   "metadata": {},
   "outputs": [],
   "source": [
    "flat_data.columns = ['total_images', 'last_price', 'total_area', 'first_day_exposition', 'rooms', 'ceiling_height', 'floors_total', 'living_area', 'floor', 'is_apartment', 'studio', 'open_plan', 'kitchen_area', 'balcony', 'locality_name', 'airports_nearest', 'city_centers_nearest', 'parks_around_3000', 'parks_nearest', 'ponds_around_3000', 'ponds_nearest', 'days_exposition']\n",
    "display(flat_data.head(5))"
   ]
  },
  {
   "cell_type": "code",
   "execution_count": null,
   "metadata": {},
   "outputs": [],
   "source": [
    "flat_data['balcony'].value_counts()"
   ]
  },
  {
   "cell_type": "code",
   "execution_count": null,
   "metadata": {},
   "outputs": [],
   "source": [
    "flat_data['locality_name'].isnull().sum()"
   ]
  },
  {
   "cell_type": "code",
   "execution_count": null,
   "metadata": {},
   "outputs": [],
   "source": [
    "flat_data.dropna(subset = ['locality_name'],inplace = True)\n",
    "flat_data.info()"
   ]
  },
  {
   "cell_type": "markdown",
   "metadata": {},
   "source": [
    "Удалил строки с пропущенными данными столбца 'locality_name', не зная к какому населённому пункту они прикреплены, мы не можем ими пользоваться, этих строк - 49, искажений данных не будет. Я надеюсь.... Да не, точно не будет."
   ]
  },
  {
   "cell_type": "code",
   "execution_count": null,
   "metadata": {},
   "outputs": [],
   "source": [
    "balcony = flat_data['balcony']"
   ]
  },
  {
   "cell_type": "code",
   "execution_count": null,
   "metadata": {},
   "outputs": [],
   "source": [
    "balcony = balcony.fillna(0)\n"
   ]
  },
  {
   "cell_type": "code",
   "execution_count": null,
   "metadata": {},
   "outputs": [],
   "source": [
    "flat_data['balcony'] = balcony"
   ]
  },
  {
   "cell_type": "code",
   "execution_count": null,
   "metadata": {},
   "outputs": [],
   "source": [
    "flat_data['balcony'] = flat_data['balcony'].astype('int64')\n"
   ]
  },
  {
   "cell_type": "markdown",
   "metadata": {},
   "source": [
    "### Вывод"
   ]
  },
  {
   "cell_type": "markdown",
   "metadata": {},
   "source": [
    "Посмотрел на таблицу. Много пропусков, то, что ясно сразу - удалил и заполнил. На данном этапе пока не однозначно ясно, какие столбцы понадобятся точно, а какие нет.\n",
    "Дубликаты не обнаружены.\n",
    "\n",
    "Пропуски могли появиться из-за неполноты предоставленной информации владельцами."
   ]
  },
  {
   "cell_type": "markdown",
   "metadata": {},
   "source": [
    "### Шаг 2. Предобработка данных"
   ]
  },
  {
   "cell_type": "markdown",
   "metadata": {},
   "source": [
    "#### Категоризация типа населённого пункта"
   ]
  },
  {
   "cell_type": "code",
   "execution_count": null,
   "metadata": {},
   "outputs": [],
   "source": [
    "flat_data['locality_name'].value_counts()"
   ]
  },
  {
   "cell_type": "code",
   "execution_count": null,
   "metadata": {
    "scrolled": false
   },
   "outputs": [],
   "source": [
    "df = flat_data['locality_name'].value_counts()\n",
    "pd.set_option('display.max_rows', df.shape[0]+1)\n",
    "#print(df)"
   ]
  },
  {
   "cell_type": "code",
   "execution_count": null,
   "metadata": {},
   "outputs": [],
   "source": [
    "from pymystem3 import Mystem\n",
    "m = Mystem()"
   ]
  },
  {
   "cell_type": "code",
   "execution_count": null,
   "metadata": {},
   "outputs": [],
   "source": [
    "dictionary = ['товарищество','садовый']\n",
    "def locality_type_func(row):\n",
    "    lemma = m.lemmatize(row)\n",
    "    for word in lemma:\n",
    "        if word == 'санкт-петербург':\n",
    "            return(0)\n",
    "        if word == 'село':\n",
    "            return(1)\n",
    "        if word == 'деревня':\n",
    "            return(2)\n",
    "        if word == 'поселок':\n",
    "            for next_word in lemma:\n",
    "                if next_word == 'городской':\n",
    "                    return(4)\n",
    "            return(3)\n",
    "        if word == 'городской':\n",
    "            return(4)\n",
    "        if word in dictionary:\n",
    "            return(5)\n",
    "        return(6)"
   ]
  },
  {
   "cell_type": "code",
   "execution_count": null,
   "metadata": {},
   "outputs": [],
   "source": [
    "flat_data['locality_type'] = flat_data['locality_name'].apply(locality_type_func)\n",
    "flat_data.head()"
   ]
  },
  {
   "cell_type": "code",
   "execution_count": null,
   "metadata": {},
   "outputs": [],
   "source": [
    "flat_data['locality_type'].value_counts()"
   ]
  },
  {
   "cell_type": "markdown",
   "metadata": {},
   "source": [
    "#### Обработка пропусков в данных"
   ]
  },
  {
   "cell_type": "code",
   "execution_count": null,
   "metadata": {},
   "outputs": [],
   "source": [
    "floor_nan = flat_data.query('floors_total == \"NaN\"')\n",
    "floor_nan"
   ]
  },
  {
   "cell_type": "markdown",
   "metadata": {},
   "source": [
    "тут я посмотрел расположение домов с пропуском в 'floors_total', если бы все были в поселках, а 'floor' == 1, то можно было бы подумать, что это частные дома. Но нет приявязки к локализации и у почти всех этаж выше первого. Значит заменяем пропуски, благо их не много, искажений не должно последовать. Далее смотрю на медиану по 'locality_type' и заменяю пропуски."
   ]
  },
  {
   "cell_type": "code",
   "execution_count": null,
   "metadata": {},
   "outputs": [],
   "source": [
    "flat_data.dropna(subset = ['floors_total'],inplace = True)\n",
    "flat_data.info()"
   ]
  },
  {
   "cell_type": "markdown",
   "metadata": {},
   "source": [
    "я принял сложное решение - не заполнять пропуски в этажности дома, а удалить. Это решение далось тяжко, несколько недель... пытался заменить пропуски на медиану в зависимости от нас.пункта, но порой тогда выходило, что этаж квартиры был выше дома, решил, что нужно в таких случаях прировнять этажность к этажу квартиры или посмотреть самый высокий этаж по нас.пункту и заменить на него. В итоге это всё не объективно, а данных с пропуском в этажности едва сотня."
   ]
  },
  {
   "cell_type": "markdown",
   "metadata": {},
   "source": [
    "#### заполнение пропусков касающихся жилой площади и  кухни"
   ]
  },
  {
   "cell_type": "markdown",
   "metadata": {},
   "source": [
    "я решил, что пропуски в площади кухни следует заполнить медианой исходя из количества комнат,т.е. со схожей планировкой."
   ]
  },
  {
   "cell_type": "code",
   "execution_count": null,
   "metadata": {},
   "outputs": [],
   "source": [
    "area = flat_data[['kitchen_area', 'total_area', 'rooms']]\n",
    "area.info()"
   ]
  },
  {
   "cell_type": "code",
   "execution_count": null,
   "metadata": {},
   "outputs": [],
   "source": [
    "kitchen = area.groupby(['rooms'])['kitchen_area'].median()\n",
    "kitchen"
   ]
  },
  {
   "cell_type": "code",
   "execution_count": null,
   "metadata": {
    "scrolled": true
   },
   "outputs": [],
   "source": [
    "flat_data.loc[flat_data.loc[:,'rooms'] == 0]"
   ]
  },
  {
   "cell_type": "markdown",
   "metadata": {},
   "source": [
    "площадь кухни при количестве комнат = 0 везде имеет пропуск. Средняя площадь таких квартир = 25-30 кв.м., это скорее всего студии, при просмотре среза - там только 4 квартиры с площадью больше 40кв.м. : 50кв.м., 73кв.м., 98 кв.м., 371кв.м.  Слабо верится, что помещение 300+ кв.м. имеет 0 комнат, но это помещение со свободной планировкой. А квартиры 50,70+,90+ кв.м. - это студии, где кухня, если есть, плавно переходит в жилое помещение, либо объединена с комнатой. Поэтому заполню пропуски единицей, чтобы при арифметических действиях не получить 0."
   ]
  },
  {
   "cell_type": "code",
   "execution_count": null,
   "metadata": {},
   "outputs": [],
   "source": [
    "area.loc[area.loc[:,'rooms'] == 0] = area.loc[area.loc[:,'rooms'] == 0].fillna(1)\n",
    "area.loc[area.loc[:,'rooms'] == 1] = area.loc[area.loc[:,'rooms'] == 1].fillna(9)\n",
    "area.loc[area.loc[:,'rooms'] == 2] = area.loc[area.loc[:,'rooms'] == 2].fillna(8.7)\n",
    "area.loc[area.loc[:,'rooms'] == 3] = area.loc[area.loc[:,'rooms'] == 3].fillna(9.5)\n",
    "area.loc[area.loc[:,'rooms'] == 4] = area.loc[area.loc[:,'rooms'] == 4].fillna(11)\n",
    "area.loc[area.loc[:,'rooms'] == 5] = area.loc[area.loc[:,'rooms'] == 5].fillna(15.1)\n",
    "area.loc[area.loc[:,'rooms'] == 6] = area.loc[area.loc[:,'rooms'] == 6].fillna(19.75)\n",
    "area.loc[area.loc[:,'rooms'] == 7] = area.loc[area.loc[:,'rooms'] == 7].fillna(20)\n",
    "area.loc[area.loc[:,'rooms'] == 8] = area.loc[area.loc[:,'rooms'] == 8].fillna(25)\n",
    "area.loc[area.loc[:,'rooms'] == 9] = area.loc[area.loc[:,'rooms'] == 9].fillna(14.3)\n",
    "area.loc[area.loc[:,'rooms'] == 10] = area.loc[area.loc[:,'rooms'] == 10].fillna(19.8)\n",
    "area.loc[area.loc[:,'rooms'] == 11] = area.loc[area.loc[:,'rooms'] == 11].fillna(12.6)\n",
    "area.loc[area.loc[:,'rooms'] == 12] = area.loc[area.loc[:,'rooms'] == 12].fillna(112)\n",
    "area.loc[area.loc[:,'rooms'] == 14] = area.loc[area.loc[:,'rooms'] == 14].fillna(21.25)\n"
   ]
  },
  {
   "cell_type": "code",
   "execution_count": null,
   "metadata": {},
   "outputs": [],
   "source": [
    "area.info()"
   ]
  },
  {
   "cell_type": "code",
   "execution_count": null,
   "metadata": {},
   "outputs": [],
   "source": [
    "flat_data['kitchen_area'] = area['kitchen_area']\n",
    "flat_data.info()"
   ]
  },
  {
   "cell_type": "code",
   "execution_count": null,
   "metadata": {},
   "outputs": [],
   "source": [
    "area = flat_data[['kitchen_area', 'total_area', 'living_area']]\n",
    "area.info()"
   ]
  },
  {
   "cell_type": "code",
   "execution_count": null,
   "metadata": {},
   "outputs": [],
   "source": [
    "area['living_area'] = area['living_area'].fillna(area['total_area'] - area['kitchen_area'])\n",
    "area.info()"
   ]
  },
  {
   "cell_type": "markdown",
   "metadata": {},
   "source": [
    "заменил пропуски в жилой зоне разностью общей площади и кухни. Допускаю, что есть погрешность, но ею можно пренебречь."
   ]
  },
  {
   "cell_type": "code",
   "execution_count": null,
   "metadata": {},
   "outputs": [],
   "source": [
    "flat_data['living_area'] = area['living_area']\n",
    "flat_data.info()"
   ]
  },
  {
   "cell_type": "markdown",
   "metadata": {},
   "source": [
    "#### Категоризация в зависимости от этажа."
   ]
  },
  {
   "cell_type": "markdown",
   "metadata": {},
   "source": [
    "Ниже функция каатегоризации.\n",
    "\n",
    "Категории следующие:\n",
    "\n",
    "        1 - первый этаж\n",
    "        2 - средний этаж\n",
    "        3 - поледний этаж"
   ]
  },
  {
   "cell_type": "code",
   "execution_count": null,
   "metadata": {},
   "outputs": [],
   "source": [
    "def what_floor(data):\n",
    "    if data['floors_total'] == data['floor']:\n",
    "        return(3)\n",
    "    if data['floor'] == 1:\n",
    "        return(1)\n",
    "    return(2)"
   ]
  },
  {
   "cell_type": "code",
   "execution_count": null,
   "metadata": {
    "scrolled": true
   },
   "outputs": [],
   "source": [
    "flat_data['floor_type'] = flat_data.apply(what_floor, axis=1)\n",
    "flat_data.head()"
   ]
  },
  {
   "cell_type": "markdown",
   "metadata": {},
   "source": [
    "#### Приведение даты в привычный, рабочий вид"
   ]
  },
  {
   "cell_type": "code",
   "execution_count": null,
   "metadata": {},
   "outputs": [],
   "source": [
    "flat_data['first_day_exposition'] = pd.to_datetime(flat_data['first_day_exposition'], format='%Y-%m-%dT%H:%M:%S')\n",
    "flat_data.head()"
   ]
  },
  {
   "cell_type": "markdown",
   "metadata": {},
   "source": [
    "теперь мы можем легко вытащить день, месяц и год публикации"
   ]
  },
  {
   "cell_type": "markdown",
   "metadata": {},
   "source": [
    "#### изменение типа данных"
   ]
  },
  {
   "cell_type": "code",
   "execution_count": null,
   "metadata": {},
   "outputs": [],
   "source": [
    "flat_data.info()"
   ]
  },
  {
   "cell_type": "code",
   "execution_count": null,
   "metadata": {},
   "outputs": [],
   "source": [
    "flat_data['floors_total'] = flat_data['floors_total'].astype('int64')\n",
    "flat_data['last_price'] = flat_data['last_price'].astype('int64')\n",
    "flat_data.head()\n"
   ]
  },
  {
   "cell_type": "markdown",
   "metadata": {},
   "source": [
    "#### разбираюсь с потолками"
   ]
  },
  {
   "cell_type": "code",
   "execution_count": null,
   "metadata": {},
   "outputs": [],
   "source": [
    "flat_data['ceiling_height'].value_counts().sort_values()"
   ]
  },
  {
   "cell_type": "code",
   "execution_count": null,
   "metadata": {},
   "outputs": [],
   "source": [
    "flat_data.loc[flat_data.loc[:, 'ceiling_height'] > 6]"
   ]
  },
  {
   "cell_type": "code",
   "execution_count": null,
   "metadata": {},
   "outputs": [],
   "source": [
    "flat_data.loc[flat_data.loc[:, 'ceiling_height'] < 2.30]"
   ]
  },
  {
   "cell_type": "code",
   "execution_count": null,
   "metadata": {},
   "outputs": [],
   "source": [
    "flat_data['ceiling_height'].median()"
   ]
  },
  {
   "cell_type": "code",
   "execution_count": null,
   "metadata": {},
   "outputs": [],
   "source": [
    "flat_data.groupby('locality_type')['ceiling_height'].median()"
   ]
  },
  {
   "cell_type": "code",
   "execution_count": null,
   "metadata": {},
   "outputs": [],
   "source": [
    "ceiling = flat_data[['ceiling_height', 'locality_type']]"
   ]
  },
  {
   "cell_type": "code",
   "execution_count": null,
   "metadata": {},
   "outputs": [],
   "source": [
    "ceiling.loc[ceiling.loc[:,'locality_type'] == 0] = ceiling.loc[ceiling.loc[:,'locality_type'] == 0].fillna(2.7)\n",
    "ceiling.loc[ceiling.loc[:,'locality_type'] == 1] = ceiling.loc[ceiling.loc[:,'locality_type'] == 1].fillna(2.7)\n",
    "ceiling.loc[ceiling.loc[:,'locality_type'] == 2] = ceiling.loc[ceiling.loc[:,'locality_type'] == 2].fillna(2.7)\n",
    "ceiling.loc[ceiling.loc[:,'locality_type'] == 3] = ceiling.loc[ceiling.loc[:,'locality_type'] == 3].fillna(2.7)\n",
    "ceiling.loc[ceiling.loc[:,'locality_type'] == 4] = ceiling.loc[ceiling.loc[:,'locality_type'] == 4].fillna(2.7)\n",
    "ceiling.loc[ceiling.loc[:,'locality_type'] == 5] = ceiling.loc[ceiling.loc[:,'locality_type'] == 5].fillna(2.7)\n",
    "ceiling.loc[ceiling.loc[:,'locality_type'] == 6] = ceiling.loc[ceiling.loc[:,'locality_type'] == 6].fillna(2.7)\n"
   ]
  },
  {
   "cell_type": "code",
   "execution_count": null,
   "metadata": {},
   "outputs": [],
   "source": [
    "ceiling['ceiling_height'].value_counts()"
   ]
  },
  {
   "cell_type": "code",
   "execution_count": null,
   "metadata": {},
   "outputs": [],
   "source": [
    "s = ceiling['ceiling_height']\n",
    "s.value_counts()"
   ]
  },
  {
   "cell_type": "code",
   "execution_count": null,
   "metadata": {},
   "outputs": [],
   "source": [
    "s=s.where(s<6, 2.65)\n",
    "s=s.where(s > 2.3, 2.65)\n",
    "s.value_counts()"
   ]
  },
  {
   "cell_type": "code",
   "execution_count": null,
   "metadata": {},
   "outputs": [],
   "source": [
    "ceiling.loc[:,'ceiling_height'] = s"
   ]
  },
  {
   "cell_type": "code",
   "execution_count": null,
   "metadata": {},
   "outputs": [],
   "source": [
    "ceiling['ceiling_height'].value_counts()"
   ]
  },
  {
   "cell_type": "code",
   "execution_count": null,
   "metadata": {},
   "outputs": [],
   "source": [
    "flat_data['ceiling_height'] = ceiling['ceiling_height']"
   ]
  },
  {
   "cell_type": "code",
   "execution_count": null,
   "metadata": {},
   "outputs": [],
   "source": [
    "\n",
    "flat_data.info()"
   ]
  },
  {
   "cell_type": "code",
   "execution_count": null,
   "metadata": {
    "scrolled": false
   },
   "outputs": [],
   "source": [
    "flat_data['ceiling_height'].value_counts()"
   ]
  },
  {
   "cell_type": "markdown",
   "metadata": {},
   "source": [
    "Заполнил пропуски в столбце отражающем высоту потолка, и заменил выбивающиеся значения на общую медиану, исходя из населенного пункта. Все потолки выше 6 метров и ниже 2.3 метров - заменил на медиану, 6 метров - возможно 2х-ярусная квартира."
   ]
  },
  {
   "cell_type": "markdown",
   "metadata": {},
   "source": [
    "В этом шаге я выполнил категоризацию типа нас.пункта, чтобы легче было выделить Санкт-Петербург, поселки, и города.\n",
    "\n",
    "Удалил строки с пропусками в данных указывающие количество этажей в доме, эта критически важная информация, т.к. в последующем она понадобиться для анализа.\n",
    "\n",
    "Заполнил пропуски в данных указывающие площадь жилую и кухни, заменил пропуски на медиану квартир отобранных по общему количеству комнат, из соображений общности планировки, а значит и одинаковой площади кухни.\n",
    "\n",
    "Выполнил категоризацию данных указывающих количество этаже в доме.\n",
    "\n",
    "Изменил тип даты, сделав возможным вытаскивать из нее информацию о годе, месяце и дне недели.\n",
    "\n",
    "Такжу изменил тип данных столбцов 'floor' and 'last_price', решение очевидное - этаж хранит целые числа, а в цене недвижимости символы до десятков тысяч вовсе не имеют значения.\n",
    "\n"
   ]
  },
  {
   "cell_type": "markdown",
   "metadata": {},
   "source": [
    "### Шаг 3. Посчитаем и добавим в таблицу"
   ]
  },
  {
   "cell_type": "markdown",
   "metadata": {},
   "source": [
    "#### отношение жилой площади к общей и кухни к жилой"
   ]
  },
  {
   "cell_type": "code",
   "execution_count": null,
   "metadata": {},
   "outputs": [],
   "source": [
    "flat_data.info()"
   ]
  },
  {
   "cell_type": "code",
   "execution_count": null,
   "metadata": {},
   "outputs": [],
   "source": [
    "flat_data['living_total'] = round(flat_data['living_area'] / flat_data['total_area'], 2)"
   ]
  },
  {
   "cell_type": "code",
   "execution_count": null,
   "metadata": {},
   "outputs": [],
   "source": [
    "flat_data['kitchen_living'] = round(flat_data['kitchen_area'] / flat_data['living_area'], 2)"
   ]
  },
  {
   "cell_type": "code",
   "execution_count": null,
   "metadata": {},
   "outputs": [],
   "source": [
    "flat_data.head()"
   ]
  },
  {
   "cell_type": "markdown",
   "metadata": {},
   "source": [
    "#### Стоимость квадратного метра"
   ]
  },
  {
   "cell_type": "code",
   "execution_count": null,
   "metadata": {},
   "outputs": [],
   "source": [
    "flat_data['price_square_meter'] = flat_data['last_price'] // flat_data['total_area']\n",
    "flat_data.head()"
   ]
  },
  {
   "cell_type": "code",
   "execution_count": null,
   "metadata": {},
   "outputs": [],
   "source": [
    "flat_data['price_square_meter'] = flat_data['price_square_meter'].astype('int')\n",
    "flat_data.info()"
   ]
  },
  {
   "cell_type": "markdown",
   "metadata": {},
   "source": [
    "#### добавление колонок отображения для дня недели, месяца и года"
   ]
  },
  {
   "cell_type": "code",
   "execution_count": null,
   "metadata": {},
   "outputs": [],
   "source": [
    "flat_data['year'] = pd.DatetimeIndex(flat_data['first_day_exposition']).year\n",
    "flat_data['month'] = pd.DatetimeIndex(flat_data['first_day_exposition']).month\n",
    "flat_data['day'] = pd.DatetimeIndex(flat_data['first_day_exposition']).weekday"
   ]
  },
  {
   "cell_type": "code",
   "execution_count": null,
   "metadata": {},
   "outputs": [],
   "source": [
    "flat_data.head(3)"
   ]
  },
  {
   "cell_type": "markdown",
   "metadata": {},
   "source": [
    "### Шаг 4. Проведем исследовательский анализ данных:"
   ]
  },
  {
   "cell_type": "markdown",
   "metadata": {},
   "source": [
    "посмотрим на распределения"
   ]
  },
  {
   "cell_type": "code",
   "execution_count": null,
   "metadata": {},
   "outputs": [],
   "source": [
    "flat_data['total_area'].hist(bins=50, range=(0,200))\n",
    "plt.title(\"распределение продаваемых квартир и площади\"); \n",
    "plt.xlabel(\"площадь недвижимости, м^2\")\n",
    "plt.ylabel(\"количество\")\n",
    "plt.show()"
   ]
  },
  {
   "cell_type": "markdown",
   "metadata": {},
   "source": [
    "на гистограмме видно, что наиболее распространены в продаже квартиры от 30 до 50 кв.м. Основной массив - это квартиры от 30 до 75 кв.м."
   ]
  },
  {
   "cell_type": "code",
   "execution_count": null,
   "metadata": {},
   "outputs": [],
   "source": [
    "flat_data['rooms'].hist(range=(0,7),bins=20)"
   ]
  },
  {
   "cell_type": "markdown",
   "metadata": {},
   "source": [
    "максимум приходится на 1- и 2-комнатные квартиры, как раз хорошо сочетаются с информацией полученной выше - это квартиры до 50 кв.м., прибавим сегмент до 75 кв.м. - получим 3-комнатные."
   ]
  },
  {
   "cell_type": "code",
   "execution_count": null,
   "metadata": {},
   "outputs": [],
   "source": [
    "flat_data['ceiling_height'].hist(range=(1,6), bins=30)\n",
    "\n",
    "plt.title(\"распределение высоты потолков в продаваемой недвижимости\"); \n",
    "plt.xlabel(\"высоиа потолков, метр\")\n",
    "plt.ylabel(\"количество\")\n",
    "plt.show()"
   ]
  },
  {
   "cell_type": "markdown",
   "metadata": {},
   "source": [
    "с потолками - все по стандарту, мансимум приходится на 2.5 - 2.75 метров."
   ]
  },
  {
   "cell_type": "code",
   "execution_count": null,
   "metadata": {},
   "outputs": [],
   "source": [
    "flat_data['last_price'].hist(range=(10000,20000000), bins=50)\n",
    "\n",
    "plt.title(\"распределение стоимости продаваемой недвижимости\"); \n",
    "plt.xlabel(\"стоимость\")\n",
    "plt.ylabel(\"частота\")\n",
    "plt.show()"
   ]
  },
  {
   "cell_type": "code",
   "execution_count": null,
   "metadata": {},
   "outputs": [],
   "source": [
    "flat_data['last_price'].value_counts()"
   ]
  },
  {
   "cell_type": "markdown",
   "metadata": {},
   "source": [
    "#### 2. Время продажи"
   ]
  },
  {
   "cell_type": "code",
   "execution_count": null,
   "metadata": {},
   "outputs": [],
   "source": [
    "flat_data['days_exposition'].hist(range=(0, 1000))\n",
    "\n",
    "plt.title(\"распределение по продолжительности продажи\"); \n",
    "plt.xlabel(\"продолжительность, день\")\n",
    "plt.ylabel(\"колиество\")\n",
    "plt.show()"
   ]
  },
  {
   "cell_type": "markdown",
   "metadata": {},
   "source": [
    "время продажи у большинства квартир не превышает 100 дней. Давайте посмотрим на первые 100 дней внимательней.\n",
    "\n",
    "Заметим, что нами считается квартира проданной с момента снятия объявления с доски."
   ]
  },
  {
   "cell_type": "code",
   "execution_count": null,
   "metadata": {},
   "outputs": [],
   "source": [
    "flat_data['days_exposition'].hist(range=(0, 100))\n",
    "\n",
    "plt.title(\"распределение по продолжительности продажи\"); \n",
    "plt.xlabel(\"продолжительность, день\")\n",
    "plt.ylabel(\"колиество\")\n",
    "plt.show()"
   ]
  },
  {
   "cell_type": "markdown",
   "metadata": {},
   "source": [
    "Пик продаж приходится на 40-50 дни размещения объявления. Также можно заметить, что большинство квартир продается в певые 50 дней."
   ]
  },
  {
   "cell_type": "code",
   "execution_count": null,
   "metadata": {},
   "outputs": [],
   "source": [
    "flat_data.boxplot(column = 'days_exposition')\n",
    "plt.title(\"ящик с усами по времени продажи\"); \n"
   ]
  },
  {
   "cell_type": "code",
   "execution_count": null,
   "metadata": {},
   "outputs": [],
   "source": [
    "flat_data['days_exposition'].describe()"
   ]
  },
  {
   "cell_type": "code",
   "execution_count": null,
   "metadata": {},
   "outputs": [],
   "source": [
    "time_long = flat_data.query('days_exposition > 500')\n",
    "time_long.head(10)"
   ]
  },
  {
   "cell_type": "code",
   "execution_count": null,
   "metadata": {},
   "outputs": [],
   "source": [
    "time_fast = flat_data.query('days_exposition < 100')"
   ]
  },
  {
   "cell_type": "code",
   "execution_count": null,
   "metadata": {},
   "outputs": [],
   "source": [
    "time_norm = flat_data.query('days_exposition < 500')"
   ]
  },
  {
   "cell_type": "code",
   "execution_count": null,
   "metadata": {},
   "outputs": [],
   "source": [
    "time_norm.boxplot(column = 'days_exposition')\n",
    "plt.title('ящик с усами по времени продажи после \"отсечения объявлений сроком более 500 дней\"'); \n"
   ]
  },
  {
   "cell_type": "code",
   "execution_count": null,
   "metadata": {},
   "outputs": [],
   "source": [
    "time_norm['days_exposition'].describe()"
   ]
  },
  {
   "cell_type": "code",
   "execution_count": null,
   "metadata": {},
   "outputs": [],
   "source": [
    "time_long['locality_type'].value_counts()"
   ]
  },
  {
   "cell_type": "code",
   "execution_count": null,
   "metadata": {},
   "outputs": [],
   "source": [
    "time_long['last_price'].describe()"
   ]
  },
  {
   "cell_type": "code",
   "execution_count": null,
   "metadata": {},
   "outputs": [],
   "source": [
    "time_long.query('locality_type == 1')"
   ]
  },
  {
   "cell_type": "code",
   "execution_count": null,
   "metadata": {},
   "outputs": [],
   "source": [
    "time_long.query('days_exposition > 1000')"
   ]
  },
  {
   "cell_type": "code",
   "execution_count": null,
   "metadata": {},
   "outputs": [],
   "source": [
    "time_long['last_price'].mean()\n"
   ]
  },
  {
   "cell_type": "code",
   "execution_count": null,
   "metadata": {},
   "outputs": [],
   "source": [
    "time_long['last_price'].median()"
   ]
  },
  {
   "cell_type": "code",
   "execution_count": null,
   "metadata": {},
   "outputs": [],
   "source": [
    "time_norm['last_price'].median()"
   ]
  },
  {
   "cell_type": "code",
   "execution_count": null,
   "metadata": {},
   "outputs": [],
   "source": [
    "time_norm['last_price'].mean()"
   ]
  },
  {
   "cell_type": "markdown",
   "metadata": {},
   "source": [
    "я посмотрел как распределен срок продажи квартир. У кого-то это занимает 1 день, а у кого-то больше 4х лет. Есть пропуски в данных, которые я не стал заполнять, чтобы не исказить данные. Слишком малые или слишком больши данные аналогично, считаю, что не нужно исключать, т.к. нет причин считать их выбросом. Это недвижимость, квартиры, которые долго стоят в продаже имеют цену выше, возможно продавец не хотел снижать цену и ждал своего покупателя. Также и с квартирами, которые быстро ушли с продажи.\n",
    "\n",
    "Если цена квартиры не выше медианы, но она долго стоит в продаже - она находится в посёлке, соответственно нет желающих её взять по цене, по которой можно приобрести квартиру в городе."
   ]
  },
  {
   "cell_type": "markdown",
   "metadata": {},
   "source": [
    "####  Факторы влияющие на стоимость квартиры."
   ]
  },
  {
   "cell_type": "markdown",
   "metadata": {},
   "source": [
    "##### 1. Площадь недвижимости"
   ]
  },
  {
   "cell_type": "code",
   "execution_count": null,
   "metadata": {},
   "outputs": [],
   "source": [
    "flat_data.info()"
   ]
  },
  {
   "cell_type": "code",
   "execution_count": null,
   "metadata": {},
   "outputs": [],
   "source": [
    "square = flat_data[['last_price', 'total_area']]"
   ]
  },
  {
   "cell_type": "code",
   "execution_count": null,
   "metadata": {},
   "outputs": [],
   "source": [
    "square.corr()"
   ]
  },
  {
   "cell_type": "markdown",
   "metadata": {},
   "source": [
    "Далее я компаную квартиры в зависимости от их площади. Чтобы данные были более однородны и, таким образом, оценка полученных наблюдений была более объективна."
   ]
  },
  {
   "cell_type": "code",
   "execution_count": null,
   "metadata": {},
   "outputs": [],
   "source": [
    "square20 = flat_data.query('total_area <= 20').median()\n",
    "square30 = flat_data.query('20 < total_area <= 30').median()\n",
    "square40 = flat_data.query('30 < total_area <= 40').median()\n",
    "square50 = flat_data.query('40 < total_area <= 50').median()\n",
    "square60 = flat_data.query('50 < total_area <= 60').median()\n",
    "square70 = flat_data.query('60 < total_area <= 70').median()\n",
    "square80 = flat_data.query('70 < total_area <= 80').median()\n",
    "square90 = flat_data.query('80 < total_area <= 90').median()\n",
    "square100 = flat_data.query('90 < total_area <= 100').median()\n",
    "square110 = flat_data.query('100 < total_area <= 110').median()\n",
    "square120 = flat_data.query('110 < total_area <= 120').median()\n",
    "square130 = flat_data.query('120 < total_area <= 130').median()\n",
    "square140 = flat_data.query('130 < total_area <= 140').median()\n",
    "square150 = flat_data.query('140 < total_area <= 150').median()\n",
    "square160 = flat_data.query('150 < total_area <= 160').median()\n",
    "square170 = flat_data.query('160 < total_area <= 170').median()\n",
    "square180 = flat_data.query('170 < total_area <= 180').median()\n",
    "square190 = flat_data.query('180 < total_area <= 190').median()\n",
    "square200 = flat_data.query('190 < total_area <= 200').median()\n",
    "square100500 = flat_data.query(' total_area > 200').median()"
   ]
  },
  {
   "cell_type": "code",
   "execution_count": null,
   "metadata": {},
   "outputs": [],
   "source": [
    "sq_median = pd.DataFrame({\n",
    "    'price': [square20['last_price'],square30['last_price'],square40['last_price'],square50['last_price'],square60['last_price'],square70['last_price'],square80['last_price'],square90['last_price'],square100['last_price'],square110['last_price'],square120['last_price'],square130['last_price'],square140['last_price'],square150['last_price'],square160['last_price'],square170['last_price'],square180['last_price'],square190['last_price'],square200['last_price'],square100500['last_price']]}) \n",
    "sq_median"
   ]
  },
  {
   "cell_type": "code",
   "execution_count": null,
   "metadata": {},
   "outputs": [],
   "source": [
    "seaborn.regplot(x='total_area', y='last_price', data=square)\n",
    "plt.title(\"зависимость площади продаваемой недвижимости и ее цены\"); \n",
    "plt.xlabel(\"площадь, кв.метры\")\n",
    "plt.ylabel(\"стоимость\")\n",
    "plt.show()"
   ]
  },
  {
   "cell_type": "code",
   "execution_count": null,
   "metadata": {},
   "outputs": [],
   "source": [
    "sq_median.plot()\n",
    "\n",
    "plt.title(\"зависимость площади продаваемой недвижимости и ее цены, по медиане в зависимости от категории\"); \n",
    "plt.xlabel(\"медиана площади, кв.метры\")\n",
    "plt.ylabel(\"стоимость\")\n",
    "plt.show()"
   ]
  },
  {
   "cell_type": "markdown",
   "metadata": {},
   "source": [
    "глядя на график, видно, что с ценой растёт и увеличение площади квартиры, также коэф.корреляции цены от площади - 0,65, то есть умеренный. Я взял медиану по цене для промежутков площади, чтобы убрать излишнюю \"скученность\" графика, которую могут привносить другие факторы, такие как ремонт, расположение, жадность."
   ]
  },
  {
   "cell_type": "markdown",
   "metadata": {},
   "source": [
    "##### 2. Количество комнат"
   ]
  },
  {
   "cell_type": "markdown",
   "metadata": {},
   "source": [
    "забегу вперёд, сказав, что количество комнат крайне тесно коррелирует с площадью недвижимости. "
   ]
  },
  {
   "cell_type": "code",
   "execution_count": null,
   "metadata": {},
   "outputs": [],
   "source": [
    "room_square = flat_data[['rooms','total_area']]\n",
    "room_square.corr()"
   ]
  },
  {
   "cell_type": "markdown",
   "metadata": {},
   "source": [
    "коэф.корреляции указывает на сильную зависимость количества комнат и площади. Значит - что верно для площади, будет верно и для параметра \"количество комнат\"."
   ]
  },
  {
   "cell_type": "code",
   "execution_count": null,
   "metadata": {
    "scrolled": true
   },
   "outputs": [],
   "source": [
    "seaborn.regplot(x='rooms', y='total_area', data=room_square)\n",
    "plt.title(\"зависимость цены продаваемой недвижимости и количества комнат\"); \n",
    "plt.xlabel(\"количество комнат\")\n",
    "plt.ylabel(\"стоимость\")\n",
    "plt.show()"
   ]
  },
  {
   "cell_type": "markdown",
   "metadata": {},
   "source": [
    "Видим хорошую корреляцию"
   ]
  },
  {
   "cell_type": "code",
   "execution_count": null,
   "metadata": {},
   "outputs": [],
   "source": [
    "room_price = flat_data.pivot_table(index='rooms',values='last_price',aggfunc='median')\n",
    "room_price"
   ]
  },
  {
   "cell_type": "code",
   "execution_count": null,
   "metadata": {},
   "outputs": [],
   "source": [
    "room_price.plot(figsize=(7,5))\n",
    "\n",
    "\n",
    "plt.title(\"зависимость цены продаваемой недвижимости и количества комнат по медиане\"); \n",
    "plt.xlabel(\"количество комнат\")\n",
    "plt.ylabel(\"стоимость, медиана\")\n",
    "plt.show()"
   ]
  },
  {
   "cell_type": "code",
   "execution_count": null,
   "metadata": {},
   "outputs": [],
   "source": [
    "room_price.query('rooms == 12')"
   ]
  },
  {
   "cell_type": "code",
   "execution_count": null,
   "metadata": {},
   "outputs": [],
   "source": [
    "room_price.info()"
   ]
  },
  {
   "cell_type": "code",
   "execution_count": null,
   "metadata": {},
   "outputs": [],
   "source": [
    "room_price = room_price.loc[room_price['last_price'] != 420000000]"
   ]
  },
  {
   "cell_type": "code",
   "execution_count": null,
   "metadata": {},
   "outputs": [],
   "source": [
    "room_price.plot(figsize=(10,5))\n",
    "plt.title(\"зависимость цены продаваемой недвижимости и количества комнат по медиане\"); \n",
    "plt.xlabel(\"количество комнат\")\n",
    "plt.ylabel(\"стоимость, медиана\")\n",
    "plt.show()"
   ]
  },
  {
   "cell_type": "markdown",
   "metadata": {},
   "source": [
    "мы видим, что с увеличением количества комнат, действительно увеличивается и стоимость. Причем зависимость количества комнат - ценнее, чем общая площадь, зависимость выражена сильнее. Можно добавить, если привязывать стоимость недвижимости к количеству комнат, то идёт резкий подьём с 3х комнат до 7. Т.к. тут наибольшая привязка количеств комнат к площади."
   ]
  },
  {
   "cell_type": "code",
   "execution_count": null,
   "metadata": {},
   "outputs": [],
   "source": [
    "rooms_area = flat_data.pivot_table(index='rooms',values='total_area',aggfunc='median')\n",
    "rooms_area"
   ]
  },
  {
   "cell_type": "code",
   "execution_count": null,
   "metadata": {},
   "outputs": [],
   "source": [
    "rooms_area.plot(figsize=(10,5))\n",
    "\n",
    "plt.title(\"зависимость цены продаваемой недвижимости и количества комнат по медиане, со всеми объектами без исключения\"); \n",
    "plt.xlabel(\"количество комнат\")\n",
    "plt.ylabel(\"стоимость, медиана\")\n",
    "plt.show()"
   ]
  },
  {
   "cell_type": "markdown",
   "metadata": {},
   "source": [
    "видя 2 пика на 12 и 15 комнатах, если посмотрим на эти объявления глазом и обратимсяк графику из прошлого шага, то увидем, что квартиры имеют просто невероятную площадь, этим объясняется и пик в стоимости. Графики   зависимости стоимости от количества комнат   и   площади от количества комнат   почти идентичны. Поэтому можно смело сказать, что количество комнат это вторичный фактор, зависящий от площади."
   ]
  },
  {
   "cell_type": "markdown",
   "metadata": {},
   "source": [
    "##### 3. Удалённость от центра"
   ]
  },
  {
   "cell_type": "markdown",
   "metadata": {},
   "source": [
    "я не стал заполнять пропуски в столбце удаленности от центра. Потому что как я могу это сделать? на медиану - не сойдёт, будет искажение данных - 5000 значений из 23565 - почти четверть. Возможно эти квартиры находятся в центре и следовало заполнить нулями, а возможно адрес квартиры не указан был, поэтому значение может быть любым."
   ]
  },
  {
   "cell_type": "code",
   "execution_count": null,
   "metadata": {},
   "outputs": [],
   "source": [
    "flat_data.info()"
   ]
  },
  {
   "cell_type": "code",
   "execution_count": null,
   "metadata": {},
   "outputs": [],
   "source": [
    "experiment = flat_data[['city_centers_nearest','locality_type','locality_name','last_price']]\n",
    "center = flat_data[['city_centers_nearest','last_price']]"
   ]
  },
  {
   "cell_type": "code",
   "execution_count": null,
   "metadata": {},
   "outputs": [],
   "source": [
    "experiment = experiment.fillna(0)"
   ]
  },
  {
   "cell_type": "code",
   "execution_count": null,
   "metadata": {},
   "outputs": [],
   "source": [
    "experiment['city_centers_nearest'].value_counts().sort_values()"
   ]
  },
  {
   "cell_type": "code",
   "execution_count": null,
   "metadata": {},
   "outputs": [],
   "source": [
    "experiment.corr()"
   ]
  },
  {
   "cell_type": "code",
   "execution_count": null,
   "metadata": {},
   "outputs": [],
   "source": [
    "center.corr()"
   ]
  },
  {
   "cell_type": "code",
   "execution_count": null,
   "metadata": {},
   "outputs": [],
   "source": [
    "experiment0 = experiment.loc[experiment.loc[:,'city_centers_nearest'] == 0]\n"
   ]
  },
  {
   "cell_type": "code",
   "execution_count": null,
   "metadata": {},
   "outputs": [],
   "source": [
    "experiment0['locality_type'].value_counts()"
   ]
  },
  {
   "cell_type": "code",
   "execution_count": null,
   "metadata": {},
   "outputs": [],
   "source": [
    "#center.sort_values('city_centers_nearest').plot(y='last_price', x='city_centers_nearest',  style = 'o',  grid = True, figsize = (12, 6))\n",
    "\n",
    "seaborn.regplot(x='city_centers_nearest', y='last_price', data=center)\n",
    "\n",
    "plt.title(\"зависимость цены продаваемой недвижимости от удаленности от центра\"); \n",
    "plt.xlabel(\"удаленность от центра, м.\")\n",
    "plt.ylabel(\"стоимость\")\n",
    "plt.show()"
   ]
  },
  {
   "cell_type": "code",
   "execution_count": null,
   "metadata": {},
   "outputs": [],
   "source": [
    "experiment.sort_values('city_centers_nearest').plot(y='last_price', x='city_centers_nearest',  style = 'o',  grid = True, figsize = (12, 6))\n",
    "\n",
    "plt.title(\"зависимость цены продаваемой недвижимости от удаленности от центра\"); \n",
    "plt.xlabel(\"удаленность от центра, м.\")\n",
    "plt.ylabel(\"стоимость\")\n",
    "plt.show()"
   ]
  },
  {
   "cell_type": "code",
   "execution_count": null,
   "metadata": {},
   "outputs": [],
   "source": [
    "center10 = center.query('city_centers_nearest < 10000')"
   ]
  },
  {
   "cell_type": "code",
   "execution_count": null,
   "metadata": {},
   "outputs": [],
   "source": [
    "center10.sort_values('city_centers_nearest').plot(y='last_price', x='city_centers_nearest',  style = 'o',  grid = True, figsize = (12, 6))\n",
    "\n",
    "plt.title(\"зависимость цены продаваемой недвижимости от удаленности от центра на удаленности до 10000 м.\"); \n",
    "plt.xlabel(\"удаленность от центра, м.\")\n",
    "plt.ylabel(\"стоимость\")\n",
    "plt.show()"
   ]
  },
  {
   "cell_type": "markdown",
   "metadata": {},
   "source": [
    "на первом графике видно, что, если брать всю удаленность,это от 0 до более, чем 60000 метров, то на отрезке 0-10км. квартиры стоят существенно дороже, чем далее 10 км.\n",
    "Но если мы приблизим и рассмотрим участок 0-10 км, то увидим, что нет привязки на участке 0-8км. Вероятно это связано, что данные у нас не стандартизованы. Мы не можем оценивать квартиру в 30кв.м. в центре и квартиру 100кв.м. на удалении в 8км от центра. Предлагаю посмотреть как распределена стоимость квартир одной площади, но с разной удалённостью от центра."
   ]
  },
  {
   "cell_type": "markdown",
   "metadata": {},
   "source": [
    "Сделаю сейчас то, что нужно было сделать давно"
   ]
  },
  {
   "cell_type": "code",
   "execution_count": null,
   "metadata": {},
   "outputs": [],
   "source": [
    "def square_flat(row):\n",
    "    if row < 20:\n",
    "        return(2)\n",
    "    if (row >= 20) & (row < 30):\n",
    "        return(3)\n",
    "    if (row >= 30) & (row < 40):\n",
    "        return(4)\n",
    "    if (row >= 40) & (row < 50):\n",
    "        return(5)\n",
    "    if (row >= 50) & (row < 60):\n",
    "        return(6)\n",
    "    if (row >= 60) & (row < 70):\n",
    "        return(7)\n",
    "    if (row >= 70) & (row < 80):\n",
    "        return(8)\n",
    "    if (row >= 80) & (row < 90):\n",
    "        return(9)\n",
    "    if (row >= 90) & (row < 100):\n",
    "        return(10)\n",
    "    if (row >= 100) & (row < 110):\n",
    "        return(11)\n",
    "    if (row >= 110) & (row < 120):\n",
    "        return(12)\n",
    "    if (row >= 120) & (row < 130):\n",
    "        return(13)\n",
    "    if (row >= 130) & (row < 140):\n",
    "        return(14)\n",
    "    if (row >= 140) & (row < 150):\n",
    "        return(15)\n",
    "    if (row >= 150) & (row < 160):\n",
    "        return(16)\n",
    "    if (row >= 160) & (row < 170):\n",
    "        return(17)\n",
    "    if (row >= 170) & (row < 180):\n",
    "        return(18)\n",
    "    if (row >= 180) & (row < 190):\n",
    "        return(19)\n",
    "    if (row >= 190) & (row < 200):\n",
    "        return(20)\n",
    "    if row >= 20:\n",
    "        return(888)"
   ]
  },
  {
   "cell_type": "code",
   "execution_count": null,
   "metadata": {},
   "outputs": [],
   "source": [
    "flat_data['square_type'] = flat_data['total_area'].apply(square_flat)"
   ]
  },
  {
   "cell_type": "markdown",
   "metadata": {},
   "source": [
    "тут я произвёл категоризацию в зависимости от площади квартиры."
   ]
  },
  {
   "cell_type": "code",
   "execution_count": null,
   "metadata": {},
   "outputs": [],
   "source": [
    "flat_data.head(5)"
   ]
  },
  {
   "cell_type": "code",
   "execution_count": null,
   "metadata": {},
   "outputs": [],
   "source": [
    "center = flat_data[['last_price','city_centers_nearest','square_type']]"
   ]
  },
  {
   "cell_type": "code",
   "execution_count": null,
   "metadata": {},
   "outputs": [],
   "source": [
    "center20 = center.loc[center.loc[:, 'square_type'] == 2]\n",
    "seaborn.regplot(x='city_centers_nearest', y='last_price', data=center20)\n",
    "plt.title(\"зависимость цены продаваемой недвижимости площадью до 20 кв.м. от удаленности от центра\"); \n",
    "plt.xlabel(\"удаленность от центра, м.\")\n",
    "plt.ylabel(\"стоимость\")"
   ]
  },
  {
   "cell_type": "code",
   "execution_count": null,
   "metadata": {},
   "outputs": [],
   "source": [
    "center30 = center.loc[center.loc[:, 'square_type'] == 3]\n",
    "seaborn.regplot(x='city_centers_nearest', y='last_price', data=center30)\n",
    "plt.title(\"зависимость цены продаваемой недвижимости площадью до 20-30 кв.м. от удаленности от центра\"); \n",
    "plt.xlabel(\"удаленность от центра, м.\")\n",
    "plt.ylabel(\"стоимость\")\n"
   ]
  },
  {
   "cell_type": "code",
   "execution_count": null,
   "metadata": {},
   "outputs": [],
   "source": [
    "center30 = center30.query('city_centers_nearest <20000')\n",
    "seaborn.regplot(x='city_centers_nearest', y='last_price', data=center30)\n",
    "plt.title(\"зависимость цены продаваемой недвижимости площадью до 20 кв.м. от удаленности от центра в диапозоне до 20км.\"); \n",
    "plt.xlabel(\"удаленность от центра, м.\")\n",
    "plt.ylabel(\"стоимость\")"
   ]
  },
  {
   "cell_type": "code",
   "execution_count": null,
   "metadata": {},
   "outputs": [],
   "source": [
    "center40 = center.loc[center.loc[:, 'square_type'] == 4]\n",
    "seaborn.regplot(x='city_centers_nearest', y='last_price', data=center40)\n",
    "plt.title(\"зависимость цены продаваемой недвижимости площадью 30-40 кв.м. от удаленности от центра\"); \n",
    "plt.xlabel(\"удаленность от центра, м.\")\n",
    "plt.ylabel(\"стоимость\")"
   ]
  },
  {
   "cell_type": "code",
   "execution_count": null,
   "metadata": {},
   "outputs": [],
   "source": [
    "center50 = center.loc[center.loc[:, 'square_type'] == 5]\n",
    "seaborn.regplot(x='city_centers_nearest', y='last_price', data=center50)\n",
    "plt.title(\"зависимость цены продаваемой недвижимости площадью 40-50 кв.м. от удаленности от центра\"); \n",
    "plt.xlabel(\"удаленность от центра, м.\")\n",
    "plt.ylabel(\"стоимость\")"
   ]
  },
  {
   "cell_type": "code",
   "execution_count": null,
   "metadata": {},
   "outputs": [],
   "source": [
    "center60 = center.loc[center.loc[:, 'square_type'] == 6]\n",
    "seaborn.regplot(x='city_centers_nearest', y='last_price', data=center60)\n",
    "plt.title(\"зависимость цены продаваемой недвижимости площадью 50-60 кв.м. от удаленности от центра\"); \n",
    "plt.xlabel(\"удаленность от центра, м.\")\n",
    "plt.ylabel(\"стоимость\")"
   ]
  },
  {
   "cell_type": "code",
   "execution_count": null,
   "metadata": {},
   "outputs": [],
   "source": [
    "center70 = center.loc[center.loc[:, 'square_type'] == 7]\n",
    "seaborn.regplot(x='city_centers_nearest', y='last_price', data=center70)\n",
    "plt.title(\"зависимость цены продаваемой недвижимости площадью 60-70 кв.м. от удаленности от центра\"); \n",
    "plt.xlabel(\"удаленность от центра, м.\")\n",
    "plt.ylabel(\"стоимость\")"
   ]
  },
  {
   "cell_type": "code",
   "execution_count": null,
   "metadata": {},
   "outputs": [],
   "source": [
    "center80 = center.loc[center.loc[:, 'square_type'] == 8]\n",
    "seaborn.regplot(x='city_centers_nearest', y='last_price', data=center80)\n",
    "plt.title(\"зависимость цены продаваемой недвижимости площадью 70-80 кв.м. от удаленности от центра\"); \n",
    "plt.xlabel(\"удаленность от центра, м.\")\n",
    "plt.ylabel(\"стоимость\")"
   ]
  },
  {
   "cell_type": "code",
   "execution_count": null,
   "metadata": {},
   "outputs": [],
   "source": [
    "center90 = center.loc[center.loc[:, 'square_type'] == 9]\n",
    "seaborn.regplot(x='city_centers_nearest', y='last_price', data=center90)\n",
    "plt.title(\"зависимость цены продаваемой недвижимости площадью 80-90 кв.м. от удаленности от центра\"); \n",
    "plt.xlabel(\"удаленность от центра, м.\")\n",
    "plt.ylabel(\"стоимость\")"
   ]
  },
  {
   "cell_type": "code",
   "execution_count": null,
   "metadata": {},
   "outputs": [],
   "source": [
    "center100 = center.loc[center.loc[:, 'square_type'] == 10]\n",
    "seaborn.regplot(x='city_centers_nearest', y='last_price', data=center100)\n",
    "plt.title(\"зависимость цены продаваемой недвижимости площадью 90-100 кв.м. от удаленности от центра\"); \n",
    "plt.xlabel(\"удаленность от центра, м.\")\n",
    "plt.ylabel(\"стоимость\")"
   ]
  },
  {
   "cell_type": "markdown",
   "metadata": {},
   "source": [
    "я дальше не стал строить графики, т.к. все они типичны и повторяют друг друга. Имеют вид прямоугольной трапеции с линейной хависимостью к уменьшению цены при отдалении от центра. Теперь мы можем сказать, что - да, близость к центру влияет на стоимость квартиры, точнее - тенденция к её увеличению, ибо в центре квартиры стоят дороже, чем дальше от него с одинаковой площадью. "
   ]
  },
  {
   "cell_type": "markdown",
   "metadata": {},
   "source": [
    "#####  4. Влияние этажа на стоимость квартиры"
   ]
  },
  {
   "cell_type": "code",
   "execution_count": null,
   "metadata": {},
   "outputs": [],
   "source": [
    "flat_data.info()"
   ]
  },
  {
   "cell_type": "code",
   "execution_count": null,
   "metadata": {},
   "outputs": [],
   "source": [
    "floor_df = flat_data[['floor_type','last_price','square_type']]"
   ]
  },
  {
   "cell_type": "code",
   "execution_count": null,
   "metadata": {},
   "outputs": [],
   "source": [
    "floor_df.corr()"
   ]
  },
  {
   "cell_type": "markdown",
   "metadata": {},
   "source": [
    "На первый взгляд зависимость слабая, но давайте посмотрим внимательней, объединим квартиры по одной площади и расстоянию к центру."
   ]
  },
  {
   "cell_type": "code",
   "execution_count": null,
   "metadata": {},
   "outputs": [],
   "source": [
    "floor_df = flat_data[['floor_type','last_price','square_type', 'city_centers_nearest']]"
   ]
  },
  {
   "cell_type": "code",
   "execution_count": null,
   "metadata": {},
   "outputs": [],
   "source": [
    "standart1 = floor_df.query('(square_type == 2) & (city_centers_nearest < 5000)')"
   ]
  },
  {
   "cell_type": "code",
   "execution_count": null,
   "metadata": {},
   "outputs": [],
   "source": [
    "standart1.corr()"
   ]
  },
  {
   "cell_type": "markdown",
   "metadata": {},
   "source": [
    "Интересно. Сразу кардинально сменилась картина. Было 0,05, а стало 0,74. Давайте посмотрим на график."
   ]
  },
  {
   "cell_type": "code",
   "execution_count": null,
   "metadata": {},
   "outputs": [],
   "source": [
    "standart1 = standart1[['floor_type','last_price']]\n",
    "seaborn.regplot(x='floor_type', y='last_price', data=standart1)\n",
    "plt.title(\"зависимость цены продаваемой недвижимости площадью до 20кв.м. от этажа при диапозоне удаленности от центра до 5км.\"); \n",
    "plt.xlabel(\"категория в зависимости от этажа\")\n",
    "plt.ylabel(\"стоимость\")"
   ]
  },
  {
   "cell_type": "code",
   "execution_count": null,
   "metadata": {},
   "outputs": [],
   "source": [
    "standart1.loc[standart1.loc[:,'floor_type'] == 3]"
   ]
  },
  {
   "cell_type": "markdown",
   "metadata": {},
   "source": [
    "не совсем чистые данные, нет последнего этажа и данных не много. Посмотрим, что по другим категориям."
   ]
  },
  {
   "cell_type": "code",
   "execution_count": null,
   "metadata": {},
   "outputs": [],
   "source": [
    "standart3 = floor_df.query('(square_type == 3) & (city_centers_nearest < 5000)')\n",
    "standart3.corr()"
   ]
  },
  {
   "cell_type": "code",
   "execution_count": null,
   "metadata": {},
   "outputs": [],
   "source": [
    "standart3 = standart3[['floor_type','last_price']]\n",
    "seaborn.regplot(x='floor_type', y='last_price', data=standart3)\n",
    "plt.title(\"зависимость цены продаваемой недвижимости площадью 20-30кв.м. от этажа при диапозоне удаленности от центра до 5км.\"); \n",
    "plt.xlabel(\"категория в зависимости от этажа\")\n",
    "plt.ylabel(\"стоимость\")"
   ]
  },
  {
   "cell_type": "code",
   "execution_count": null,
   "metadata": {},
   "outputs": [],
   "source": [
    "standart4 = floor_df.query('(square_type == 4) & (city_centers_nearest < 5000)')\n",
    "standart4.corr()"
   ]
  },
  {
   "cell_type": "code",
   "execution_count": null,
   "metadata": {},
   "outputs": [],
   "source": [
    "standart4 = standart4[['floor_type','last_price']]\n",
    "seaborn.regplot(x='floor_type', y='last_price', data=standart4)\n",
    "plt.title(\"зависимость цены продаваемой недвижимости площадью 30-40кв.м. этажа  при диапозоне удаленности от центра до 5км.\"); \n",
    "plt.xlabel(\"категория в зависимости от этажа\")\n",
    "plt.ylabel(\"стоимость\")"
   ]
  },
  {
   "cell_type": "code",
   "execution_count": null,
   "metadata": {},
   "outputs": [],
   "source": [
    "standart5 = floor_df.query('(square_type == 5) & (city_centers_nearest < 5000)')\n",
    "standart5.corr()"
   ]
  },
  {
   "cell_type": "code",
   "execution_count": null,
   "metadata": {},
   "outputs": [],
   "source": [
    "standart5 = standart5[['floor_type','last_price']]\n",
    "seaborn.regplot(x='floor_type', y='last_price', data=standart5)\n",
    "plt.title(\"зависимость цены продаваемой недвижимости площадью 40-50кв.м. от этажа  при диапозоне удаленности от центра до 5км.\"); \n",
    "plt.xlabel(\"категория в зависимости от этажа\")\n",
    "plt.ylabel(\"стоимость\")"
   ]
  },
  {
   "cell_type": "code",
   "execution_count": null,
   "metadata": {},
   "outputs": [],
   "source": [
    "standart6 = floor_df.query('(square_type == 6) & (city_centers_nearest < 5000)')\n",
    "standart6.corr()"
   ]
  },
  {
   "cell_type": "code",
   "execution_count": null,
   "metadata": {},
   "outputs": [],
   "source": [
    "standart6 = standart6[['floor_type','last_price']]\n",
    "seaborn.regplot(x='floor_type', y='last_price', data=standart6)\n",
    "plt.title(\"зависимость цены продаваемой недвижимости площадью 50-60кв.м. от этажа  при диапозоне удаленности от центра до 5км.\"); \n",
    "plt.xlabel(\"категория в зависимости от этажа\")\n",
    "plt.ylabel(\"стоимость\")"
   ]
  },
  {
   "cell_type": "code",
   "execution_count": null,
   "metadata": {},
   "outputs": [],
   "source": [
    "standart7 = floor_df.query('(square_type == 7) & (city_centers_nearest < 5000)')\n",
    "standart7.corr()"
   ]
  },
  {
   "cell_type": "code",
   "execution_count": null,
   "metadata": {},
   "outputs": [],
   "source": [
    "standart7 = standart7[['floor_type','last_price']]\n",
    "seaborn.regplot(x='floor_type', y='last_price', data=standart7)\n",
    "plt.title(\"зависимость цены продаваемой недвижимости площадью 60-70кв.м. от этажа  при диапозоне удаленности от центра до 5км.\"); \n",
    "plt.xlabel(\"категория в зависимости от этажа\")\n",
    "plt.ylabel(\"стоимость\")"
   ]
  },
  {
   "cell_type": "code",
   "execution_count": null,
   "metadata": {},
   "outputs": [],
   "source": [
    "standart8 = floor_df.query('(square_type == 8) & (city_centers_nearest < 5000)')\n",
    "standart8.corr()"
   ]
  },
  {
   "cell_type": "code",
   "execution_count": null,
   "metadata": {},
   "outputs": [],
   "source": [
    "standart8 = standart8[['floor_type','last_price']]\n",
    "seaborn.regplot(x='floor_type', y='last_price', data=standart8)\n",
    "plt.title(\"зависимость цены продаваемой недвижимости площадью 70-80кв.м. от этажа  при диапозоне удаленности от центра до 5км.\"); \n",
    "plt.xlabel(\"категория в зависимости от этажа\")\n",
    "plt.ylabel(\"стоимость\")"
   ]
  },
  {
   "cell_type": "code",
   "execution_count": null,
   "metadata": {},
   "outputs": [],
   "source": [
    "standart9 = floor_df.query('(square_type == 9) & (city_centers_nearest < 5000)')\n",
    "standart9.corr()"
   ]
  },
  {
   "cell_type": "code",
   "execution_count": null,
   "metadata": {},
   "outputs": [],
   "source": [
    "standart9 = standart9[['floor_type','last_price']]\n",
    "seaborn.regplot(x='floor_type', y='last_price', data=standart9)\n",
    "plt.title(\"зависимость цены продаваемой недвижимости площадью 80-90кв.м. от этажа  при диапозоне удаленности от центра до 5км.\"); \n",
    "plt.xlabel(\"категория в зависимости от этажа\")\n",
    "plt.ylabel(\"стоимость\")"
   ]
  },
  {
   "cell_type": "code",
   "execution_count": null,
   "metadata": {},
   "outputs": [],
   "source": [
    "standart10 = floor_df.query('(square_type == 10) & (city_centers_nearest < 5000)')\n",
    "standart10.corr()"
   ]
  },
  {
   "cell_type": "code",
   "execution_count": null,
   "metadata": {},
   "outputs": [],
   "source": [
    "standart10 = standart10[['floor_type','last_price']]\n",
    "seaborn.regplot(x='floor_type', y='last_price', data=standart10)\n",
    "plt.title(\"зависимость цены продаваемой недвижимости площадью 90-100кв.м. от этажа  при диапозоне удаленности от центра до 5км.\"); \n",
    "plt.xlabel(\"категория в зависимости от этажа\")\n",
    "plt.ylabel(\"стоимость\")"
   ]
  },
  {
   "cell_type": "code",
   "execution_count": null,
   "metadata": {},
   "outputs": [],
   "source": [
    "standart11 = floor_df.query('(square_type == 11) & (city_centers_nearest < 5000)')\n",
    "standart11.corr()"
   ]
  },
  {
   "cell_type": "code",
   "execution_count": null,
   "metadata": {},
   "outputs": [],
   "source": [
    "standart11 = standart11[['floor_type','last_price']]\n",
    "seaborn.regplot(x='floor_type', y='last_price', data=standart11)\n",
    "plt.title(\"зависимость цены продаваемой недвижимости площадью 100-110кв.м. от этажа  при диапозоне удаленности от центра до 5км.\"); \n",
    "plt.xlabel(\"категория в зависимости от этажа\")\n",
    "plt.ylabel(\"стоимость\")"
   ]
  },
  {
   "cell_type": "code",
   "execution_count": null,
   "metadata": {},
   "outputs": [],
   "source": [
    "standart12 = floor_df.query('(square_type == 12) & (city_centers_nearest < 5000)')\n",
    "standart12.corr()"
   ]
  },
  {
   "cell_type": "code",
   "execution_count": null,
   "metadata": {},
   "outputs": [],
   "source": [
    "standart12 = standart12[['floor_type','last_price']]\n",
    "seaborn.regplot(x='floor_type', y='last_price', data=standart12)\n",
    "plt.title(\"зависимость цены продаваемой недвижимости площадью 110-120кв.м. от этажа  при диапозоне удаленности от центра до 5км.\"); \n",
    "plt.xlabel(\"категория в зависимости от этажа\")\n",
    "plt.ylabel(\"стоимость\")"
   ]
  },
  {
   "cell_type": "markdown",
   "metadata": {},
   "source": [
    "Логичная мысль при знакомстве с графиками подтвердилась - стоимость квартир схожей площади и отдаленности от центра ниже, если этаж первый, стоимость среднего этажа всегда выше, чем первого и последнего."
   ]
  },
  {
   "cell_type": "code",
   "execution_count": null,
   "metadata": {},
   "outputs": [],
   "source": [
    "df = standart12.loc[standart12.loc[:, 'floor_type'] == 3].max()\n",
    "df"
   ]
  },
  {
   "cell_type": "code",
   "execution_count": null,
   "metadata": {},
   "outputs": [],
   "source": [
    "standart12 = standart12.loc[standart12.loc[:, 'last_price'] != 39000000]"
   ]
  },
  {
   "cell_type": "code",
   "execution_count": null,
   "metadata": {},
   "outputs": [],
   "source": [
    "df = standart12.loc[standart12.loc[:, 'floor_type'] == 1].max()\n",
    "df"
   ]
  },
  {
   "cell_type": "code",
   "execution_count": null,
   "metadata": {},
   "outputs": [],
   "source": [
    "standart12 = standart12.loc[standart12.loc[:, 'last_price'] != 22400000]"
   ]
  },
  {
   "cell_type": "code",
   "execution_count": null,
   "metadata": {},
   "outputs": [],
   "source": [
    "standart12.plot(y='floor_type', x='last_price',  style = 'o',  grid = True, figsize = (10, 5))"
   ]
  },
  {
   "cell_type": "code",
   "execution_count": null,
   "metadata": {},
   "outputs": [],
   "source": [
    "standart12.corr()"
   ]
  },
  {
   "cell_type": "markdown",
   "metadata": {},
   "source": [
    "Увы, но метод corr() упорно отказывается замечать зависимость."
   ]
  },
  {
   "cell_type": "code",
   "execution_count": null,
   "metadata": {},
   "outputs": [],
   "source": [
    "standart_all = floor_df.query('(square_type > 12) & (city_centers_nearest < 5000)')\n",
    "standart_all.corr()"
   ]
  },
  {
   "cell_type": "code",
   "execution_count": null,
   "metadata": {},
   "outputs": [],
   "source": [
    "standart_all.plot(y='floor_type', x='last_price',  style = 'o',  grid = True, figsize = (10, 5))"
   ]
  },
  {
   "cell_type": "code",
   "execution_count": null,
   "metadata": {},
   "outputs": [],
   "source": [
    "floor_df = floor_df[['floor_type','last_price']]\n",
    "floor_df.plot(y='floor_type', x='last_price',  style = 'o',  grid = True, figsize = (10, 5))"
   ]
  },
  {
   "cell_type": "markdown",
   "metadata": {},
   "source": [
    "Метод corr() не выявил чёткой закономерности стоимости квартир от этажа. Но на графиках мы видим, что средний этаж (2.00) более смещен к в сторону роста цены. Но стоит помнить, что \"средних\" квартир больше. Т.к. график имеет тенденцию к повышению цены у средних этажей, то можно сказать, что да, этаж влияет на формирование цены, но не так критично, как площадь."
   ]
  },
  {
   "cell_type": "markdown",
   "metadata": {},
   "source": [
    "##### 5. Поиск зависимости стоимости от даты размещения."
   ]
  },
  {
   "cell_type": "markdown",
   "metadata": {},
   "source": [
    "может ли зависеть стоимость недвижимости от даты публикации объявления? Предположение - наверно может, если дата связана с некоторыми событиями в стране и мире. Все мы знаем, что спрос рождает предложение. Если есть увеличение спроса в те или иные временные периоды, логично предположить, что цена повысится, это работат и в обратном порядке. Давайте попробуем выделить временные промежутки, когда было получено много предложений по продаже квартир/мало объявлений и сравним медианы цен примерно \"одинаковых\" квартир по площади и удалённости от центра."
   ]
  },
  {
   "cell_type": "code",
   "execution_count": null,
   "metadata": {},
   "outputs": [],
   "source": [
    "flat_data.info()"
   ]
  },
  {
   "cell_type": "code",
   "execution_count": null,
   "metadata": {},
   "outputs": [],
   "source": [
    "time_sell = flat_data[['square_type', 'year','month','day','last_price', 'first_day_exposition', 'days_exposition']]"
   ]
  },
  {
   "cell_type": "code",
   "execution_count": null,
   "metadata": {},
   "outputs": [],
   "source": [
    "time_sell.corr()"
   ]
  },
  {
   "cell_type": "markdown",
   "metadata": {},
   "source": [
    "Давайте узнаем - какие месяца самые любимые для продающих недвижимость."
   ]
  },
  {
   "cell_type": "code",
   "execution_count": null,
   "metadata": {},
   "outputs": [],
   "source": [
    "time_sell['month'].value_counts() "
   ]
  },
  {
   "cell_type": "markdown",
   "metadata": {},
   "source": [
    "Глядя на общее распределение с 14 по неполный 19 гг., можно сказать следующее - предложение начинает расти с сентября, в декабре и январе - резкий спад, оно и понятно, все празднуют и радуются жизни, снова достигает пика к февралю и начинает по-немногу снижаться. Летом все заняты отпусками."
   ]
  },
  {
   "cell_type": "code",
   "execution_count": null,
   "metadata": {},
   "outputs": [],
   "source": [
    "date = time_sell.pivot_table(index=['year','month'], values='day',  aggfunc='count')\n",
    "table = date.reset_index()\n",
    "i = 0\n",
    "while i < 54:\n",
    "    table.loc[i,'month'] = i\n",
    "    i+=1\n",
    "table = table[['month','day']]\n",
    "date.reset_index()"
   ]
  },
  {
   "cell_type": "code",
   "execution_count": null,
   "metadata": {},
   "outputs": [],
   "source": [
    "table.plot(x='month', y='day', figsize=(10,8), grid=True)\n",
    "plt.title(\"зависимость цены продаваемой недвижимости по времени выставления объявления\"); \n",
    "plt.xlabel(\"временная шкала\")\n",
    "plt.ylabel(\"стоимость\")"
   ]
  },
  {
   "cell_type": "markdown",
   "metadata": {},
   "source": [
    "Распределение по годам - в общем подтверждает отраженное ранее. Летом, если появляются новые объявления, то не значительно.\n",
    "Мы видим, что был резкий взлёт продаваемости с мая 2017 года, с чем он был связан, возможно с рекламой сайта, возможно со сдачей высоток, тогда нужно посмотреть на квартиры выставленные в мае 2017. Кривая уходит глубоко вниз, возвращаясь к значениям 14-15гг. и вновь поступают предложения. Тут возможно несколько исходов - проблемы с сайтом и все объявления слетели, либо квартиры были распроданы, а новые предложения не поступали. Интересно посмотреть на цены на вершинах графика и внизу."
   ]
  },
  {
   "cell_type": "code",
   "execution_count": null,
   "metadata": {},
   "outputs": [],
   "source": [
    "plato1 = flat_data.query('(year <= 2016) & (month < 2)')\n",
    "pic1 = flat_data.query('(year == 2016) & (2 < month < 7)')\n",
    "plato2 = flat_data.query('(year == 2016) & (7 <= month <= 12)')\n",
    "pic2 = flat_data.query('(year == 2017) & (4 <= month <= 10)')\n",
    "mega_pic1 = flat_data.query('(year == 2017) & (month == 11)')\n",
    "plato3_1 = flat_data.query('(year == 2017) & (month == 12)')\n",
    "plato3_2 = flat_data.query('(year == 2018) & (month == 1)')\n",
    "join_plato = [plato3_1, plato3_2]\n",
    "plato3 = pd.concat(join_plato)\n",
    "mega_pic2 = flat_data.query('(year == 2017) & (month == 11)')\n",
    "crizis = flat_data.query('(year == 2018) & (4 <= month <= 6)')"
   ]
  },
  {
   "cell_type": "code",
   "execution_count": null,
   "metadata": {},
   "outputs": [],
   "source": [
    "plato1['locality_type'].value_counts()"
   ]
  },
  {
   "cell_type": "code",
   "execution_count": null,
   "metadata": {},
   "outputs": [],
   "source": [
    "pic1['locality_type'].value_counts()"
   ]
  },
  {
   "cell_type": "markdown",
   "metadata": {},
   "source": [
    "видим увеличение количества объявлений в 10 раз во всех типах нас.пунктов, скорее всего реклама сайта..."
   ]
  },
  {
   "cell_type": "code",
   "execution_count": null,
   "metadata": {},
   "outputs": [],
   "source": [
    "plato2['locality_type'].value_counts()"
   ]
  },
  {
   "cell_type": "code",
   "execution_count": null,
   "metadata": {},
   "outputs": [],
   "source": [
    "pic2['locality_type'].value_counts()"
   ]
  },
  {
   "cell_type": "code",
   "execution_count": null,
   "metadata": {},
   "outputs": [],
   "source": [
    "mega_pic1['locality_type'].value_counts()"
   ]
  },
  {
   "cell_type": "code",
   "execution_count": null,
   "metadata": {},
   "outputs": [],
   "source": [
    "mega_pic2['locality_type'].value_counts()"
   ]
  },
  {
   "cell_type": "code",
   "execution_count": null,
   "metadata": {},
   "outputs": [],
   "source": [
    "plato2['locality_type'].value_counts()"
   ]
  },
  {
   "cell_type": "code",
   "execution_count": null,
   "metadata": {},
   "outputs": [],
   "source": [
    "plato3['locality_type'].value_counts()"
   ]
  },
  {
   "cell_type": "code",
   "execution_count": null,
   "metadata": {},
   "outputs": [],
   "source": [
    "crizis['locality_type'].value_counts()"
   ]
  },
  {
   "cell_type": "code",
   "execution_count": null,
   "metadata": {},
   "outputs": [],
   "source": [
    "median_price = plato1.pivot_table(index=['square_type'], values='last_price', aggfunc='median')\n",
    "median_price = median_price.reset_index()\n",
    "median_price.columns = ['square_type','plato1']"
   ]
  },
  {
   "cell_type": "code",
   "execution_count": null,
   "metadata": {},
   "outputs": [],
   "source": [
    "median_price_pic1 = pic1.pivot_table(index=['square_type'], values='last_price', aggfunc='median')\n",
    "median_price_pic1 = median_price_pic1.reset_index()\n",
    "median_price_pic1.columns = ['square_type','pic1']"
   ]
  },
  {
   "cell_type": "code",
   "execution_count": null,
   "metadata": {},
   "outputs": [],
   "source": [
    "median_price_plato2 = plato2.pivot_table(index=['square_type'], values='last_price', aggfunc='median')\n",
    "median_price_plato2 = median_price_plato2.reset_index()\n",
    "median_price_plato2.columns = ['square_type','plato2']\n",
    "\n",
    "median_price_pic2 = pic2.pivot_table(index=['square_type'], values='last_price', aggfunc='median')\n",
    "median_price_pic2 = median_price_pic2.reset_index()\n",
    "median_price_pic2.columns = ['square_type','pic2']\n",
    "\n",
    "median_price_mega_pic1 = mega_pic1.pivot_table(index=['square_type'], values='last_price', aggfunc='median')\n",
    "median_price_mega_pic1 = median_price_mega_pic1.reset_index()\n",
    "median_price_mega_pic1.columns = ['square_type','mega_pic1']\n",
    "\n",
    "median_price_plato3 = plato3.pivot_table(index=['square_type'], values='last_price', aggfunc='median')\n",
    "median_price_plato3 = median_price_plato3.reset_index()\n",
    "median_price_plato3.columns = ['square_type','plato3']\n",
    "\n",
    "median_price_mega_pic2 = mega_pic2.pivot_table(index=['square_type'], values='last_price', aggfunc='median')\n",
    "median_price_mega_pic2 = median_price_mega_pic2.reset_index()\n",
    "median_price_mega_pic2.columns = ['square_type','mega_pic2']\n",
    "\n",
    "median_price_crizis = crizis.pivot_table(index=['square_type'], values='last_price', aggfunc='median')\n",
    "median_price_crizis = median_price_crizis.reset_index()\n",
    "median_price_crizis.columns = ['square_type','crizis']"
   ]
  },
  {
   "cell_type": "code",
   "execution_count": null,
   "metadata": {},
   "outputs": [],
   "source": [
    "plato1_pic1 = median_price.merge(median_price_pic1, on='square_type', how='right')\n",
    "general = plato1_pic1.merge(median_price_plato2, on='square_type', how='right')\n",
    "general = general.merge(median_price_pic2, on='square_type', how='right')\n",
    "general = general.merge(median_price_mega_pic1, on='square_type', how='right')\n",
    "general = general.merge(median_price_plato3, on='square_type', how='right')\n",
    "general = general.merge(median_price_mega_pic2, on='square_type', how='right')\n",
    "general = general.merge(median_price_crizis, on='square_type', how='right')\n",
    "general"
   ]
  },
  {
   "cell_type": "code",
   "execution_count": null,
   "metadata": {},
   "outputs": [],
   "source": [
    "general.head(20)"
   ]
  },
  {
   "cell_type": "code",
   "execution_count": null,
   "metadata": {},
   "outputs": [],
   "source": []
  },
  {
   "cell_type": "markdown",
   "metadata": {},
   "source": [
    "далее решил посмотреть также как будет выглядеть картина, если мы будем работать не с медианой, а со средним, для этого хочу удалить выбивающиеся из общего числа значения."
   ]
  },
  {
   "cell_type": "code",
   "execution_count": null,
   "metadata": {},
   "outputs": [],
   "source": [
    "st2 = flat_data.query('square_type == 2')\n",
    "st2.boxplot(column =['last_price'])"
   ]
  },
  {
   "cell_type": "code",
   "execution_count": null,
   "metadata": {},
   "outputs": [],
   "source": [
    "st2 = st2.loc[st2.loc[:, 'last_price'] < 300000]"
   ]
  },
  {
   "cell_type": "code",
   "execution_count": null,
   "metadata": {},
   "outputs": [],
   "source": [
    "st3 = flat_data.query('square_type == 3')\n",
    "st3.boxplot(column =['last_price'])"
   ]
  },
  {
   "cell_type": "code",
   "execution_count": null,
   "metadata": {},
   "outputs": [],
   "source": [
    "st3['last_price'].describe()"
   ]
  },
  {
   "cell_type": "code",
   "execution_count": null,
   "metadata": {},
   "outputs": [],
   "source": [
    "st3 = st3.loc[st3.loc[:, 'last_price'] > 900000]\n",
    "st3 = st3.loc[st3.loc[:, 'last_price'] < 5600000]"
   ]
  },
  {
   "cell_type": "code",
   "execution_count": null,
   "metadata": {},
   "outputs": [],
   "source": [
    "st4 = flat_data.query('square_type == 4')\n",
    "st4.boxplot(column =['last_price'])"
   ]
  },
  {
   "cell_type": "code",
   "execution_count": null,
   "metadata": {},
   "outputs": [],
   "source": [
    "st4['last_price'].describe()"
   ]
  },
  {
   "cell_type": "code",
   "execution_count": null,
   "metadata": {},
   "outputs": [],
   "source": [
    "st4 = st4.loc[st4.loc[:, 'last_price'] >= 2780000]\n",
    "st4 = st4.loc[st4.loc[:, 'last_price'] <= 3950000]"
   ]
  },
  {
   "cell_type": "code",
   "execution_count": null,
   "metadata": {},
   "outputs": [],
   "source": [
    "st5 = flat_data.query('square_type == 5')\n",
    "st5['last_price'].describe()"
   ]
  },
  {
   "cell_type": "code",
   "execution_count": null,
   "metadata": {},
   "outputs": [],
   "source": [
    "st5 = st5.loc[st5.loc[:, 'last_price'] >= 3225000]\n",
    "st5 = st5.loc[st5.loc[:, 'last_price'] <= 4749000]"
   ]
  },
  {
   "cell_type": "code",
   "execution_count": null,
   "metadata": {},
   "outputs": [],
   "source": [
    "st6 = flat_data.query('square_type == 6')\n",
    "st6['last_price'].describe()"
   ]
  },
  {
   "cell_type": "code",
   "execution_count": null,
   "metadata": {},
   "outputs": [],
   "source": [
    "st6 = st6.loc[st6.loc[:, 'last_price'] >= 3900000]\n",
    "st6 = st6.loc[st6.loc[:, 'last_price'] <= 5800000]"
   ]
  },
  {
   "cell_type": "code",
   "execution_count": null,
   "metadata": {},
   "outputs": [],
   "source": [
    "st7 = flat_data.query('square_type == 7')\n",
    "st7['last_price'].describe()"
   ]
  },
  {
   "cell_type": "code",
   "execution_count": null,
   "metadata": {},
   "outputs": [],
   "source": [
    "st7 = st7.loc[st7.loc[:, 'last_price'] >= 4600000]\n",
    "st7 = st7.loc[st7.loc[:, 'last_price'] <= 7160000]"
   ]
  },
  {
   "cell_type": "code",
   "execution_count": null,
   "metadata": {},
   "outputs": [],
   "source": [
    "st8 = flat_data.query('square_type == 8')\n",
    "st8['last_price'].describe()"
   ]
  },
  {
   "cell_type": "code",
   "execution_count": null,
   "metadata": {},
   "outputs": [],
   "source": [
    "st8 = st8.loc[st8.loc[:, 'last_price'] >= 5400000]\n",
    "st8 = st8.loc[st8.loc[:, 'last_price'] <= 8446750]"
   ]
  },
  {
   "cell_type": "code",
   "execution_count": null,
   "metadata": {},
   "outputs": [],
   "source": [
    "st9 = flat_data.query('square_type == 9')\n",
    "st9['last_price'].describe()"
   ]
  },
  {
   "cell_type": "code",
   "execution_count": null,
   "metadata": {},
   "outputs": [],
   "source": [
    "st9 = st9.loc[st9.loc[:, 'last_price'] >= 6450000]\n",
    "st9 = st9.loc[st9.loc[:, 'last_price'] <= 10300000]"
   ]
  },
  {
   "cell_type": "code",
   "execution_count": null,
   "metadata": {},
   "outputs": [],
   "source": [
    "st10 = flat_data.query('square_type == 10')\n",
    "st10['last_price'].describe()"
   ]
  },
  {
   "cell_type": "code",
   "execution_count": null,
   "metadata": {},
   "outputs": [],
   "source": [
    "st10 = st10.loc[st10.loc[:, 'last_price'] >= 7800000]\n",
    "st10 = st10.loc[st10.loc[:, 'last_price'] <= 12600000]"
   ]
  },
  {
   "cell_type": "code",
   "execution_count": null,
   "metadata": {},
   "outputs": [],
   "source": [
    "st11 = flat_data.query('square_type == 11')\n",
    "st11['last_price'].describe()"
   ]
  },
  {
   "cell_type": "code",
   "execution_count": null,
   "metadata": {},
   "outputs": [],
   "source": [
    "st11 = st11.loc[st11.loc[:, 'last_price'] >= 9313558]\n",
    "st11 = st11.loc[st11.loc[:, 'last_price'] <= 14500000]"
   ]
  },
  {
   "cell_type": "code",
   "execution_count": null,
   "metadata": {},
   "outputs": [],
   "source": [
    "st12 = flat_data.query('square_type == 12')\n",
    "st12['last_price'].describe()"
   ]
  },
  {
   "cell_type": "code",
   "execution_count": null,
   "metadata": {},
   "outputs": [],
   "source": [
    "st12 = st12.loc[st12.loc[:, 'last_price'] >= 10000000]\n",
    "st12 = st12.loc[st12.loc[:, 'last_price'] <= 17388750]"
   ]
  },
  {
   "cell_type": "code",
   "execution_count": null,
   "metadata": {},
   "outputs": [],
   "source": [
    "st13 = flat_data.query('square_type == 13')\n",
    "st13['last_price'].describe()"
   ]
  },
  {
   "cell_type": "code",
   "execution_count": null,
   "metadata": {},
   "outputs": [],
   "source": [
    "st13 = st13.loc[st13.loc[:, 'last_price'] >= 11525000]\n",
    "st13 = st13.loc[st13.loc[:, 'last_price'] <= 20900000]"
   ]
  },
  {
   "cell_type": "code",
   "execution_count": null,
   "metadata": {},
   "outputs": [],
   "source": [
    "st14 = flat_data.query('square_type == 14')\n",
    "st14['last_price'].describe()"
   ]
  },
  {
   "cell_type": "code",
   "execution_count": null,
   "metadata": {},
   "outputs": [],
   "source": [
    "st14 = st14.loc[st14.loc[:, 'last_price'] >= 12974250]\n",
    "st14 = st14.loc[st14.loc[:, 'last_price'] <= 22432310]"
   ]
  },
  {
   "cell_type": "code",
   "execution_count": null,
   "metadata": {},
   "outputs": [],
   "source": [
    "st15 = flat_data.query('square_type == 15')\n",
    "st15['last_price'].describe()"
   ]
  },
  {
   "cell_type": "code",
   "execution_count": null,
   "metadata": {},
   "outputs": [],
   "source": [
    "st15 = st15.loc[st15.loc[:, 'last_price'] >= 13000000]\n",
    "st15 = st15.loc[st15.loc[:, 'last_price'] <= 25000000]"
   ]
  },
  {
   "cell_type": "code",
   "execution_count": null,
   "metadata": {},
   "outputs": [],
   "source": [
    "st16 = flat_data.query('square_type == 16')\n",
    "st16['last_price'].describe()"
   ]
  },
  {
   "cell_type": "code",
   "execution_count": null,
   "metadata": {},
   "outputs": [],
   "source": [
    "st16 = st16.loc[st16.loc[:, 'last_price'] >= 14990000]\n",
    "st16 = st16.loc[st16.loc[:, 'last_price'] <= 26037740]"
   ]
  },
  {
   "cell_type": "code",
   "execution_count": null,
   "metadata": {},
   "outputs": [],
   "source": [
    "st17 = flat_data.query('square_type == 17')\n",
    "st17['last_price'].describe()"
   ]
  },
  {
   "cell_type": "code",
   "execution_count": null,
   "metadata": {},
   "outputs": [],
   "source": [
    "st17 = st17.loc[st17.loc[:, 'last_price'] >= 17500000]\n",
    "st17 = st17.loc[st17.loc[:, 'last_price'] <= 31300000]"
   ]
  },
  {
   "cell_type": "code",
   "execution_count": null,
   "metadata": {},
   "outputs": [],
   "source": [
    "st18 = flat_data.query('square_type == 18')\n",
    "st18['last_price'].describe()"
   ]
  },
  {
   "cell_type": "code",
   "execution_count": null,
   "metadata": {},
   "outputs": [],
   "source": [
    "st18 = st18.loc[st18.loc[:, 'last_price'] >= 15965000]\n",
    "st18 = st18.loc[st18.loc[:, 'last_price'] <= 29887120]"
   ]
  },
  {
   "cell_type": "code",
   "execution_count": null,
   "metadata": {},
   "outputs": [],
   "source": [
    "st19 = flat_data.query('square_type == 19')\n",
    "st19['last_price'].describe()"
   ]
  },
  {
   "cell_type": "code",
   "execution_count": null,
   "metadata": {},
   "outputs": [],
   "source": [
    "st19 = st19.loc[st19.loc[:, 'last_price'] >= 16249000]\n",
    "st19 = st19.loc[st19.loc[:, 'last_price'] <= 36576700]"
   ]
  },
  {
   "cell_type": "code",
   "execution_count": null,
   "metadata": {},
   "outputs": [],
   "source": [
    "st20 = flat_data.query('square_type == 20')\n",
    "st20['last_price'].describe()"
   ]
  },
  {
   "cell_type": "code",
   "execution_count": null,
   "metadata": {},
   "outputs": [],
   "source": [
    "st20 = st20.loc[st20.loc[:, 'last_price'] >= 19275000]\n",
    "st20 = st20.loc[st20.loc[:, 'last_price'] <= 31679000]"
   ]
  },
  {
   "cell_type": "code",
   "execution_count": null,
   "metadata": {},
   "outputs": [],
   "source": [
    "st888 = flat_data.query('square_type == 888')\n",
    "st888['last_price'].describe()"
   ]
  },
  {
   "cell_type": "code",
   "execution_count": null,
   "metadata": {},
   "outputs": [],
   "source": [
    "st888 = st888.loc[st888.loc[:, 'last_price'] >= 23125000]\n",
    "st888 = st888.loc[st888.loc[:, 'last_price'] <= 68000000]"
   ]
  },
  {
   "cell_type": "code",
   "execution_count": null,
   "metadata": {},
   "outputs": [],
   "source": [
    "combine = [st2,st3,st4,st5,st6,st7,st8,st9,st10,st11,st12,st13,st14,st15,st16,st17,st18,st19,st20,st888]\n",
    "general_df = pd.concat(combine)"
   ]
  },
  {
   "cell_type": "code",
   "execution_count": null,
   "metadata": {},
   "outputs": [],
   "source": [
    "plato1 = general_df.query('(year <= 2016) & (month < 2)')\n",
    "pic1 = general_df.query('(year == 2016) & (2 < month < 7)')\n",
    "plato2 = general_df.query('(year == 2016) & (7 <= month <= 12)')\n",
    "pic2 = general_df.query('(year == 2017) & (4 <= month <= 10)')\n",
    "mega_pic1 = general_df.query('(year == 2017) & (month == 11)')\n",
    "plato3_1 = general_df.query('(year == 2017) & (month == 12)')\n",
    "plato3_2 = general_df.query('(year == 2018) & (month == 1)')\n",
    "join_plato = [plato3_1, plato3_2]\n",
    "plato3 = pd.concat(join_plato)\n",
    "mega_pic2 = general_df.query('(year == 2017) & (month == 11)')\n",
    "crizis = flat_data.query('(year == 2018) & (4 <= month <= 6)')"
   ]
  },
  {
   "cell_type": "code",
   "execution_count": null,
   "metadata": {},
   "outputs": [],
   "source": [
    "median_price = plato1.pivot_table(index=['square_type'], values='last_price', aggfunc='median')\n",
    "median_price = median_price.reset_index()\n",
    "median_price.columns = ['square_type','plato1']"
   ]
  },
  {
   "cell_type": "code",
   "execution_count": null,
   "metadata": {},
   "outputs": [],
   "source": [
    "median_price_pic1 = pic1.pivot_table(index=['square_type'], values='last_price', aggfunc='median')\n",
    "median_price_pic1 = median_price_pic1.reset_index()\n",
    "median_price_pic1.columns = ['square_type','pic1']"
   ]
  },
  {
   "cell_type": "code",
   "execution_count": null,
   "metadata": {},
   "outputs": [],
   "source": [
    "median_price_plato2 = plato2.pivot_table(index=['square_type'], values='last_price', aggfunc='median')\n",
    "median_price_plato2 = median_price_plato2.reset_index()\n",
    "median_price_plato2.columns = ['square_type','plato2']\n",
    "\n",
    "median_price_pic2 = pic2.pivot_table(index=['square_type'], values='last_price', aggfunc='median')\n",
    "median_price_pic2 = median_price_pic2.reset_index()\n",
    "median_price_pic2.columns = ['square_type','pic2']\n",
    "\n",
    "median_price_mega_pic1 = mega_pic1.pivot_table(index=['square_type'], values='last_price', aggfunc='median')\n",
    "median_price_mega_pic1 = median_price_mega_pic1.reset_index()\n",
    "median_price_mega_pic1.columns = ['square_type','mega_pic1']\n",
    "\n",
    "median_price_plato3 = plato3.pivot_table(index=['square_type'], values='last_price', aggfunc='median')\n",
    "median_price_plato3 = median_price_plato3.reset_index()\n",
    "median_price_plato3.columns = ['square_type','plato3']\n",
    "\n",
    "median_price_mega_pic2 = mega_pic2.pivot_table(index=['square_type'], values='last_price', aggfunc='median')\n",
    "median_price_mega_pic2 = median_price_mega_pic2.reset_index()\n",
    "median_price_mega_pic2.columns = ['square_type','mega_pic2']\n",
    "\n",
    "median_price_crizis = crizis.pivot_table(index=['square_type'], values='last_price', aggfunc='median')\n",
    "median_price_crizis = median_price_crizis.reset_index()\n",
    "median_price_crizis.columns = ['square_type','crizis']"
   ]
  },
  {
   "cell_type": "code",
   "execution_count": null,
   "metadata": {},
   "outputs": [],
   "source": [
    "plato1_pic1 = median_price.merge(median_price_pic1, on='square_type', how='right')\n",
    "general = plato1_pic1.merge(median_price_plato2, on='square_type', how='right')\n",
    "general = general.merge(median_price_pic2, on='square_type', how='right')\n",
    "general = general.merge(median_price_mega_pic1, on='square_type', how='right')\n",
    "general = general.merge(median_price_plato3, on='square_type', how='right')\n",
    "general = general.merge(median_price_mega_pic2, on='square_type', how='right')\n",
    "general = general.merge(median_price_crizis, on='square_type', how='right')\n",
    "general"
   ]
  },
  {
   "cell_type": "code",
   "execution_count": null,
   "metadata": {},
   "outputs": [],
   "source": [
    "median_price = plato1.pivot_table(index=['square_type'], values='last_price', aggfunc='mean')\n",
    "median_price = median_price.reset_index()\n",
    "median_price.columns = ['square_type','plato1']\n",
    "\n",
    "median_price_pic1 = pic1.pivot_table(index=['square_type'], values='last_price', aggfunc='mean')\n",
    "median_price_pic1 = median_price_pic1.reset_index()\n",
    "median_price_pic1.columns = ['square_type','pic1']\n",
    "\n",
    "median_price_plato2 = plato2.pivot_table(index=['square_type'], values='last_price', aggfunc='mean')\n",
    "median_price_plato2 = median_price_plato2.reset_index()\n",
    "median_price_plato2.columns = ['square_type','plato2']\n",
    "\n",
    "median_price_pic2 = pic2.pivot_table(index=['square_type'], values='last_price', aggfunc='mean')\n",
    "median_price_pic2 = median_price_pic2.reset_index()\n",
    "median_price_pic2.columns = ['square_type','pic2']\n",
    "\n",
    "median_price_mega_pic1 = mega_pic1.pivot_table(index=['square_type'], values='last_price', aggfunc='mean')\n",
    "median_price_mega_pic1 = median_price_mega_pic1.reset_index()\n",
    "median_price_mega_pic1.columns = ['square_type','mega_pic1']\n",
    "\n",
    "median_price_plato3 = plato3.pivot_table(index=['square_type'], values='last_price', aggfunc='mean')\n",
    "median_price_plato3 = median_price_plato3.reset_index()\n",
    "median_price_plato3.columns = ['square_type','plato3']\n",
    "\n",
    "median_price_mega_pic2 = mega_pic2.pivot_table(index=['square_type'], values='last_price', aggfunc='mean')\n",
    "median_price_mega_pic2 = median_price_mega_pic2.reset_index()\n",
    "median_price_mega_pic2.columns = ['square_type','mega_pic2']\n",
    "\n",
    "median_price_crizis = crizis.pivot_table(index=['square_type'], values='last_price', aggfunc='mean')\n",
    "median_price_crizis = median_price_crizis.reset_index()\n",
    "median_price_crizis.columns = ['square_type','crizis']"
   ]
  },
  {
   "cell_type": "code",
   "execution_count": null,
   "metadata": {},
   "outputs": [],
   "source": [
    "plato1_pic1 = median_price.merge(median_price_pic1, on='square_type', how='right')\n",
    "general = plato1_pic1.merge(median_price_plato2, on='square_type', how='right')\n",
    "general = general.merge(median_price_pic2, on='square_type', how='right')\n",
    "general = general.merge(median_price_mega_pic1, on='square_type', how='right')\n",
    "general = general.merge(median_price_plato3, on='square_type', how='right')\n",
    "general = general.merge(median_price_mega_pic2, on='square_type', how='right')\n",
    "general = general.merge(median_price_crizis, on='square_type', how='right')\n",
    "general"
   ]
  },
  {
   "cell_type": "code",
   "execution_count": null,
   "metadata": {},
   "outputs": [],
   "source": [
    "flat_data['square_type'].value_counts()"
   ]
  },
  {
   "cell_type": "markdown",
   "metadata": {},
   "source": [
    "Я посмотрел на медиану всех данных, посмотрел на медиану данных после исключения \"выбивающихся\" из общего распределения данных, посмотрел на среднее, которое даёт те же выводы, что и медиана, а именно - особой привязки месяца продажи, количества объявлений на сайте (пик, момент, когда много объявлений или спад) к стоимости нет. Возможно, что это может повлиять на СРОК, ВРЕМЯ продажи. \n",
    "\n",
    "Стоит заметить, что стоимость недвижимости увеличивается, если смотреть на года, в годовом плане - стомость увеличивается, возможно тут замешана инфляция, обесценивание денег, увеличение спроса (конечно же за счёт перераспределения населения) при запаздвающем строительстве новой недвижимости. Было бы кстати посмотреть на тип недвижимости - первичная или вторичная.\n",
    "\n",
    "Давайте посмотрим на распределение по дням недели. Есть предположение, что день публикации не будет влиять на стоимость квартиры, но давайте посмотрим на распределение по дням недели, какие дни люди считают более подходящими для публикации и посмотрим на стоимость по дням недели, возможно, я ошибаюсь, говоря, что день недели не влияет на стоимость."
   ]
  },
  {
   "cell_type": "code",
   "execution_count": null,
   "metadata": {},
   "outputs": [],
   "source": [
    "flat_data['day'].value_counts()"
   ]
  },
  {
   "cell_type": "code",
   "execution_count": null,
   "metadata": {},
   "outputs": [],
   "source": [
    "general_df['day'].value_counts()"
   ]
  },
  {
   "cell_type": "markdown",
   "metadata": {},
   "source": [
    "\"любимые\" дни размещения объявления это - четверг, с небольшим, символическим отрывом идёт вторник. В субботу и воскресенье подают меньше всего объявлений, но тем не менее это примерно в 2,5 раза меньше, чем в четверг, что не так уж и мало.\n",
    "\n",
    "Давайте посмотрим на самые \"дорогие\" дни."
   ]
  },
  {
   "cell_type": "code",
   "execution_count": null,
   "metadata": {},
   "outputs": [],
   "source": [
    "day_price_general = flat_data.pivot_table(index=['day'], values='last_price', aggfunc=['median','mean'])\n",
    "day_price_general"
   ]
  },
  {
   "cell_type": "code",
   "execution_count": null,
   "metadata": {},
   "outputs": [],
   "source": [
    "day_price_general_camb = general_df.pivot_table(index=['day'], values='last_price', aggfunc=['median','mean'])\n",
    "day_price_general_camb"
   ]
  },
  {
   "cell_type": "code",
   "execution_count": null,
   "metadata": {},
   "outputs": [],
   "source": [
    "general_df.corr()"
   ]
  },
  {
   "cell_type": "markdown",
   "metadata": {},
   "source": [
    "Что касается дня недели - наибольшее количество объявлений приходится на средние дни со вторника по пятницу. С субботы до понедельника люди не любят давать объявления. Это и объяснимо, на выходных - люди отдыхают (в большинстве случаев), а понедельник - \"день тяжёлый\"."
   ]
  },
  {
   "cell_type": "markdown",
   "metadata": {},
   "source": [
    "##### Выбераю 10 населённых пунктов с наибольшим числом объявлений."
   ]
  },
  {
   "cell_type": "code",
   "execution_count": null,
   "metadata": {},
   "outputs": [],
   "source": [
    "\n",
    "flat_data['locality_name'].value_counts().head(10)"
   ]
  },
  {
   "cell_type": "markdown",
   "metadata": {},
   "source": [
    "Далее определяю среднюю цену за квадратный метр в этих населённых пунктов."
   ]
  },
  {
   "cell_type": "markdown",
   "metadata": {},
   "source": [
    "##### Санкт-Петербург"
   ]
  },
  {
   "cell_type": "code",
   "execution_count": null,
   "metadata": {},
   "outputs": [],
   "source": [
    "piter = flat_data.query('locality_type == 0')\n",
    "piter1 = general_df.query('locality_type == 0')"
   ]
  },
  {
   "cell_type": "markdown",
   "metadata": {},
   "source": [
    "В таблице general_df - я убрал \"слишком\" дорогие и дешёвые варианты больше в качестве эксперимента, т.к. не считаю слишком дорогую или дешёвую квартиру выбросом, ведь я не знаю что находится внутри этой недвижимости и всех нюансов. Поэтому среднюю стоимость расчитаю также в двух вариантах. Я посчитал среднее и медиану не разделяя по времени подачи объявлений, то есть за все годы, то есть почти за 5 лет, надеюсь это не критично. Среднее выше медианы, из чего можно делать вывод, что квартир с более низкой ценой больше, они представляют большее количество, поэтому считаю нужным работать с медианой."
   ]
  },
  {
   "cell_type": "code",
   "execution_count": null,
   "metadata": {},
   "outputs": [],
   "source": [
    "mean_piter_price = int(piter['last_price'].sum() / piter['total_area'].sum())\n",
    "mean_piter_price"
   ]
  },
  {
   "cell_type": "code",
   "execution_count": null,
   "metadata": {},
   "outputs": [],
   "source": [
    "mean_piter_price1 = int(piter1['last_price'].sum() / piter['total_area'].sum())\n",
    "mean_piter_price1"
   ]
  },
  {
   "cell_type": "code",
   "execution_count": null,
   "metadata": {},
   "outputs": [],
   "source": [
    "median_piter_price = int(piter['last_price'].median() / piter['total_area'].median())\n",
    "median_piter_price"
   ]
  },
  {
   "cell_type": "code",
   "execution_count": null,
   "metadata": {},
   "outputs": [],
   "source": [
    "median_piter_price1 = int(piter1['last_price'].median() / piter['total_area'].median())\n",
    "median_piter_price1"
   ]
  },
  {
   "cell_type": "code",
   "execution_count": null,
   "metadata": {},
   "outputs": [],
   "source": [
    "flat_data.info()"
   ]
  },
  {
   "cell_type": "code",
   "execution_count": null,
   "metadata": {},
   "outputs": [],
   "source": [
    "x = int(piter['price_square_meter'].sum() / len(piter))\n",
    "x"
   ]
  },
  {
   "cell_type": "code",
   "execution_count": null,
   "metadata": {},
   "outputs": [],
   "source": [
    "x = int(piter1['price_square_meter'].sum() / len(piter1))\n",
    "x"
   ]
  },
  {
   "cell_type": "markdown",
   "metadata": {},
   "source": [
    "Здесь и далее буду работать с данными из таблицы general_df, откуда я с помощью метода boxplot() убрал выбивающиеся из общего распределения квартиры, т.к. нас больше интересует общая выборка, большинство, а единичные выбивающиеся случаи будут искажать цифру.\n",
    "\n",
    "Таким образом средняя цена за квадратный метр в Санкт-Питербурге составляет около 100т.р."
   ]
  },
  {
   "cell_type": "markdown",
   "metadata": {},
   "source": [
    "##### посёлок Мурино"
   ]
  },
  {
   "cell_type": "code",
   "execution_count": null,
   "metadata": {},
   "outputs": [],
   "source": [
    "murino = flat_data.query('locality_name == \"посёлок Мурино\"')\n",
    "murino1 = general_df.query('locality_name == \"посёлок Мурино\"')\n"
   ]
  },
  {
   "cell_type": "code",
   "execution_count": null,
   "metadata": {},
   "outputs": [],
   "source": [
    "mean_murino_price = int(murino['last_price'].sum() / murino['total_area'].sum())\n",
    "mean_murino_price"
   ]
  },
  {
   "cell_type": "code",
   "execution_count": null,
   "metadata": {},
   "outputs": [],
   "source": [
    "mean_murino_price1 = int(murino1['last_price'].sum() / murino1['total_area'].sum())\n",
    "mean_murino_price1"
   ]
  },
  {
   "cell_type": "code",
   "execution_count": null,
   "metadata": {},
   "outputs": [],
   "source": [
    "x = int(murino['price_square_meter'].sum() / len(murino))\n",
    "x"
   ]
  },
  {
   "cell_type": "code",
   "execution_count": null,
   "metadata": {},
   "outputs": [],
   "source": [
    "x = int(murino1['price_square_meter'].sum() / len(murino1))\n",
    "x"
   ]
  },
  {
   "cell_type": "markdown",
   "metadata": {},
   "source": [
    "Средняя цена за квадратный метр в Мурино составляет 90т.р. Но необходимо заметить, что цена ниже с квартирами, выбивающимися из общей выборки, в отличии от \"второй столицы\", из этого можно сделать вывод, что в Мурино больше квартир с \"занижением\" стоимости, то есть людям главное продать свою недвижимость."
   ]
  },
  {
   "cell_type": "markdown",
   "metadata": {},
   "source": [
    "##### Шушары"
   ]
  },
  {
   "cell_type": "code",
   "execution_count": null,
   "metadata": {},
   "outputs": [],
   "source": [
    "shush = flat_data.query('locality_name == \"посёлок Шушары\"')\n",
    "shush1 = general_df.query('locality_name == \"посёлок Шушары\"')"
   ]
  },
  {
   "cell_type": "code",
   "execution_count": null,
   "metadata": {},
   "outputs": [],
   "source": [
    "x = int(shush['price_square_meter'].sum() / len(shush))\n",
    "x"
   ]
  },
  {
   "cell_type": "code",
   "execution_count": null,
   "metadata": {},
   "outputs": [],
   "source": [
    "x = int(shush1['price_square_meter'].sum() / len(shush1))\n",
    "x"
   ]
  },
  {
   "cell_type": "code",
   "execution_count": null,
   "metadata": {},
   "outputs": [],
   "source": [
    "mean_shush_price1 = int(shush1['last_price'].sum() / shush1['total_area'].sum())\n",
    "mean_shush_price1"
   ]
  },
  {
   "cell_type": "markdown",
   "metadata": {},
   "source": [
    "Средняя стоимость квадратного метра в пос.Шушары - 85т.р. И тут наблюдается ситуация схожая с ситуацией в пос.Мурино. Когда имеется тенденция к занижению цены."
   ]
  },
  {
   "cell_type": "markdown",
   "metadata": {},
   "source": [
    "##### Всеволожск"
   ]
  },
  {
   "cell_type": "code",
   "execution_count": null,
   "metadata": {},
   "outputs": [],
   "source": [
    "vsk = flat_data.query('locality_name == \"Всеволожск\"')\n",
    "vsk1 = general_df.query('locality_name == \"Всеволожск\"')"
   ]
  },
  {
   "cell_type": "code",
   "execution_count": null,
   "metadata": {},
   "outputs": [],
   "source": [
    "x = int(vsk['price_square_meter'].sum() / len(vsk))\n",
    "x"
   ]
  },
  {
   "cell_type": "code",
   "execution_count": null,
   "metadata": {},
   "outputs": [],
   "source": [
    "x = int(vsk1['price_square_meter'].sum() / len(vsk1))\n",
    "x"
   ]
  },
  {
   "cell_type": "markdown",
   "metadata": {},
   "source": [
    "Средняя стоимость квадратного метра во Всеволожске - 80т.р. Не глядя на карту можно сказать, что Всеволожск не пользуется популярность, небольшой населённый пункт с оттоком населения."
   ]
  },
  {
   "cell_type": "markdown",
   "metadata": {},
   "source": [
    "##### Пушкин"
   ]
  },
  {
   "cell_type": "code",
   "execution_count": null,
   "metadata": {},
   "outputs": [],
   "source": [
    "push = flat_data.query('locality_name == \"Пушкин\"')\n",
    "push1 = general_df.query('locality_name == \"Пушкин\"')"
   ]
  },
  {
   "cell_type": "code",
   "execution_count": null,
   "metadata": {},
   "outputs": [],
   "source": [
    "x = int(push['price_square_meter'].sum() / len(push))\n",
    "x"
   ]
  },
  {
   "cell_type": "code",
   "execution_count": null,
   "metadata": {},
   "outputs": [],
   "source": [
    "x = int(push1['price_square_meter'].sum() / len(push1))\n",
    "x"
   ]
  },
  {
   "cell_type": "markdown",
   "metadata": {},
   "source": [
    "А в Пушкине ситуация наоборот, средняя стоимость за кв.м. - 97 т.р., почти как в Спб. И тут имется тенденция к \"завышению\" цены."
   ]
  },
  {
   "cell_type": "markdown",
   "metadata": {},
   "source": [
    "##### Колпино"
   ]
  },
  {
   "cell_type": "code",
   "execution_count": null,
   "metadata": {},
   "outputs": [],
   "source": [
    "kol = flat_data.query('locality_name == \"Колпино\"')\n",
    "kol1 = general_df.query('locality_name == \"Колпино\"')"
   ]
  },
  {
   "cell_type": "code",
   "execution_count": null,
   "metadata": {},
   "outputs": [],
   "source": [
    "x = int(kol['price_square_meter'].sum() / len(kol))\n",
    "x"
   ]
  },
  {
   "cell_type": "code",
   "execution_count": null,
   "metadata": {},
   "outputs": [],
   "source": [
    "x = int(kol1['price_square_meter'].sum() / len(kol1))\n",
    "x"
   ]
  },
  {
   "cell_type": "markdown",
   "metadata": {},
   "source": [
    "Средняя цена за кв.м. - 82 т.р."
   ]
  },
  {
   "cell_type": "markdown",
   "metadata": {},
   "source": [
    "##### посёлок Парголово"
   ]
  },
  {
   "cell_type": "code",
   "execution_count": null,
   "metadata": {},
   "outputs": [],
   "source": [
    "par = flat_data.query('locality_name == \"посёлок Парголово\"')\n",
    "par1 = general_df.query('locality_name == \"посёлок Парголово\"')"
   ]
  },
  {
   "cell_type": "code",
   "execution_count": null,
   "metadata": {},
   "outputs": [],
   "source": [
    "x = int(par['price_square_meter'].sum() / len(par))\n",
    "x"
   ]
  },
  {
   "cell_type": "code",
   "execution_count": null,
   "metadata": {},
   "outputs": [],
   "source": [
    "x = int(par1['price_square_meter'].sum() / len(par1))\n",
    "x"
   ]
  },
  {
   "cell_type": "markdown",
   "metadata": {},
   "source": [
    "Средняя цена за кв.м. - 90 т.р. Стало интересно, почему цена немногим уступает цене СПБ и без значительной тенденции к снижению. Заглянул в Википедию - с 2014 года стойкий колоссальный прирост населения. Это вполне объясняет все - спрос резко увеличился."
   ]
  },
  {
   "cell_type": "markdown",
   "metadata": {},
   "source": [
    "##### Гатчина"
   ]
  },
  {
   "cell_type": "code",
   "execution_count": null,
   "metadata": {},
   "outputs": [],
   "source": [
    "gat = flat_data.query('locality_name == \"Гатчина\"')\n",
    "gat1 = general_df.query('locality_name == \"Гатчина\"')"
   ]
  },
  {
   "cell_type": "code",
   "execution_count": null,
   "metadata": {},
   "outputs": [],
   "source": [
    "x = int(gat['price_square_meter'].sum() / len(gat))\n",
    "x"
   ]
  },
  {
   "cell_type": "code",
   "execution_count": null,
   "metadata": {},
   "outputs": [],
   "source": [
    "x = int(gat1['price_square_meter'].sum() / len(gat1))\n",
    "x"
   ]
  },
  {
   "cell_type": "markdown",
   "metadata": {},
   "source": [
    "Средняя цена за кв.м. - 82 т.р. Но Гатчину не жалуют, стараются продать и уехать."
   ]
  },
  {
   "cell_type": "markdown",
   "metadata": {},
   "source": [
    "##### Кудрово"
   ]
  },
  {
   "cell_type": "code",
   "execution_count": null,
   "metadata": {},
   "outputs": [],
   "source": [
    "kudr01 = flat_data.query('locality_name == \"деревня Кудрово\"')\n",
    "kudr02 = flat_data.query('locality_name == \"Кудрово\"')\n",
    "kudr11 = general_df.query('locality_name == \"деревня Кудрово\"')\n",
    "kudr12 = general_df.query('locality_name == \"Кудрово\"')\n",
    "k0 = [kudr01, kudr02]\n",
    "k1 = [kudr11, kudr12]\n",
    "kudr = pd.concat(k0)\n",
    "kudr1 = pd.concat(k1)\n"
   ]
  },
  {
   "cell_type": "code",
   "execution_count": null,
   "metadata": {},
   "outputs": [],
   "source": [
    "x = int(kudr01['price_square_meter'].sum() / len(kudr01))\n",
    "x"
   ]
  },
  {
   "cell_type": "code",
   "execution_count": null,
   "metadata": {},
   "outputs": [],
   "source": [
    "x = int(kudr02['price_square_meter'].sum() / len(kudr02))\n",
    "x"
   ]
  },
  {
   "cell_type": "code",
   "execution_count": null,
   "metadata": {},
   "outputs": [],
   "source": [
    "x = int(kudr['price_square_meter'].sum() / len(kudr))\n",
    "x"
   ]
  },
  {
   "cell_type": "code",
   "execution_count": null,
   "metadata": {},
   "outputs": [],
   "source": [
    "x = int(kudr1['price_square_meter'].sum() / len(kudr1))\n",
    "x"
   ]
  },
  {
   "cell_type": "code",
   "execution_count": null,
   "metadata": {},
   "outputs": [],
   "source": [
    "x = int(kudr11['price_square_meter'].sum() / len(kudr11))\n",
    "x"
   ]
  },
  {
   "cell_type": "code",
   "execution_count": null,
   "metadata": {},
   "outputs": [],
   "source": [
    "x = int(kudr12['price_square_meter'].sum() / len(kudr12))\n",
    "x"
   ]
  },
  {
   "cell_type": "markdown",
   "metadata": {},
   "source": [
    "А вот с Кудрово интересная картина. Получив статус города - цена сразу повысилась, почти сравнявшись с ценой в Спб."
   ]
  },
  {
   "cell_type": "markdown",
   "metadata": {},
   "source": [
    "##### Выборг"
   ]
  },
  {
   "cell_type": "code",
   "execution_count": null,
   "metadata": {},
   "outputs": [],
   "source": [
    "vbg = flat_data.query('locality_name == \"Выборг\"')\n",
    "vbg1 = general_df.query('locality_name == \"Выборг\"')"
   ]
  },
  {
   "cell_type": "code",
   "execution_count": null,
   "metadata": {},
   "outputs": [],
   "source": [
    "x = int(vbg['price_square_meter'].sum() / len(vbg))\n",
    "x"
   ]
  },
  {
   "cell_type": "code",
   "execution_count": null,
   "metadata": {},
   "outputs": [],
   "source": [
    "x = int(vbg1['price_square_meter'].sum() / len(vbg1))\n",
    "x"
   ]
  },
  {
   "cell_type": "markdown",
   "metadata": {},
   "source": [
    "Средняя цена - 75т.р. Без комментариев."
   ]
  },
  {
   "cell_type": "markdown",
   "metadata": {},
   "source": [
    "#### Определяем центр Санкт-Петербурга"
   ]
  },
  {
   "cell_type": "code",
   "execution_count": null,
   "metadata": {},
   "outputs": [],
   "source": [
    "spb = flat_data.query('locality_type == 0')\n",
    "spb = general_df.query('locality_type == 0')"
   ]
  },
  {
   "cell_type": "code",
   "execution_count": null,
   "metadata": {},
   "outputs": [],
   "source": [
    "spb.dropna(subset=['city_centers_nearest'], inplace=True)\n",
    "general_df.dropna(subset=['city_centers_nearest'], inplace=True)\n",
    "spb['city_centers_nearest'] = spb['city_centers_nearest'].astype('int')\n",
    "general_df['city_centers_nearest'] = general_df['city_centers_nearest'].astype('int')\n",
    "spb['city_centers_nearest'] = spb['city_centers_nearest'] / 1000\n",
    "general_df['city_centers_nearest'] = general_df['city_centers_nearest'] / 1000\n",
    "spb['city_centers_nearest'] = spb['city_centers_nearest'].round(0)\n",
    "general_df['city_centers_nearest'] = general_df['city_centers_nearest'].round(0)\n",
    "spb['city_centers_nearest'].value_counts()\n",
    "grafik = spb[['city_centers_nearest','last_price']]\n",
    "grafik1 = general_df[['city_centers_nearest','last_price']]\n",
    "#spb.plot(x='city_centers_nearest', y='last_price', figsize=(10,8), grid=True)"
   ]
  },
  {
   "cell_type": "code",
   "execution_count": null,
   "metadata": {},
   "outputs": [],
   "source": [
    "grafik['city_centers_nearest'].value_counts()"
   ]
  },
  {
   "cell_type": "code",
   "execution_count": null,
   "metadata": {},
   "outputs": [],
   "source": [
    "grafik.plot(x = 'city_centers_nearest', y = 'last_price', style='o', figsize=(15,8), grid=True)"
   ]
  },
  {
   "cell_type": "code",
   "execution_count": null,
   "metadata": {},
   "outputs": [],
   "source": [
    "grafik1.plot(x = 'city_centers_nearest', y = 'last_price', style='o', figsize=(15,8), grid=True)"
   ]
  },
  {
   "cell_type": "code",
   "execution_count": null,
   "metadata": {},
   "outputs": [],
   "source": [
    "every_km = general_df.pivot_table(index=['city_centers_nearest'], values='last_price', aggfunc=['mean','median'])\n",
    "every_km = every_km.reset_index()\n",
    "every_km = every_km.drop(42)\n",
    "every_km"
   ]
  },
  {
   "cell_type": "code",
   "execution_count": null,
   "metadata": {},
   "outputs": [],
   "source": [
    "every_km.plot(x='city_centers_nearest', y='mean',figsize=(15,8), grid=True)"
   ]
  },
  {
   "cell_type": "code",
   "execution_count": null,
   "metadata": {},
   "outputs": [],
   "source": [
    "every_km.plot(x='city_centers_nearest', y='median',figsize=(15,8), grid=True)"
   ]
  },
  {
   "cell_type": "markdown",
   "metadata": {},
   "source": [
    "Видим, что после третьего километра стоимость начинает снижаться."
   ]
  },
  {
   "cell_type": "markdown",
   "metadata": {},
   "source": [
    "#### Изучаем параметры и ценообразующие факторы квартир в центре"
   ]
  },
  {
   "cell_type": "code",
   "execution_count": null,
   "metadata": {},
   "outputs": [],
   "source": [
    "spb = general_df.query('locality_type == 0')\n",
    "center_spb = spb.query('city_centers_nearest <= 8')\n",
    "without_center = spb.query('city_centers_nearest > 8')"
   ]
  },
  {
   "cell_type": "code",
   "execution_count": null,
   "metadata": {},
   "outputs": [],
   "source": [
    "center_spb['square_type'].value_counts()"
   ]
  },
  {
   "cell_type": "code",
   "execution_count": null,
   "metadata": {},
   "outputs": [],
   "source": [
    "spb['square_type'].value_counts()"
   ]
  },
  {
   "cell_type": "code",
   "execution_count": null,
   "metadata": {},
   "outputs": [],
   "source": [
    "without_center['square_type'].value_counts()"
   ]
  },
  {
   "cell_type": "markdown",
   "metadata": {},
   "source": [
    "В центре в продаже превалируют квартиры с большей площадью, причём квартир с площадью более 130 кв.м. - абсолютное большинство по сравнению с \"нецентральной\" частью города."
   ]
  },
  {
   "cell_type": "code",
   "execution_count": null,
   "metadata": {},
   "outputs": [],
   "source": [
    "price_center = center_spb.pivot_table(index=['square_type'], values='last_price', aggfunc=['median','mean'])\n",
    "\n",
    "price_spb = spb.pivot_table(index=['square_type'], values='last_price', aggfunc=['median','mean'])\n",
    "\n",
    "price_without_center = without_center.pivot_table(index=['square_type'], values='last_price', aggfunc=['median','mean'])\n",
    "\n",
    "price_center = price_center.reset_index()\n",
    "price_center.columns = ['square_type','median_center','mean_center']\n",
    "\n",
    "price_spb = price_spb.reset_index()\n",
    "price_spb.columns = ['square_type','median_spb','mean_spb']\n",
    "\n",
    "price_without_center = price_without_center.reset_index()\n",
    "price_without_center.columns = ['square_type','median_with_centr','mean_with_centr']\n",
    "\n",
    "prices0 = price_center.merge(price_spb, on='square_type', how='right')\n",
    "prices = prices0.merge(price_without_center, on='square_type', how='right')\n",
    "prices"
   ]
  },
  {
   "cell_type": "code",
   "execution_count": null,
   "metadata": {},
   "outputs": [],
   "source": [
    "difference = prices[['square_type']]\n",
    "difference['median_center/spb'] = prices['median_center'] - prices['median_spb']\n",
    "difference['mean_center/spb'] = prices['mean_center'] - prices['mean_spb']\n",
    "difference['median_center/without_centr'] = prices['median_center'] - prices['median_with_centr']\n",
    "difference['mean_center/without_centr'] = prices['mean_center'] - prices['mean_with_centr']\n",
    "difference['median_spb/without_centr'] = prices['median_spb'] - prices['median_with_centr']\n",
    "difference['mean_spb/without_centr'] = prices['mean_spb'] - prices['mean_with_centr']\n",
    "\n",
    "\n",
    "difference"
   ]
  },
  {
   "cell_type": "code",
   "execution_count": null,
   "metadata": {},
   "outputs": [],
   "source": [
    "spb.query('9 < square_type < 13')"
   ]
  },
  {
   "cell_type": "markdown",
   "metadata": {},
   "source": [
    "Мы вновь убедились, что квартиры в общей сложности дороже в центре, увидели разницу - от 50 тысяч до  нескольких миллионов. Но есть аномалия среди квартир площадью 90 - 120 кв.м., для них общие правила не действуют, как медиана, так и среднее выше за пределами центра. С чем это может быть связано? Возможно, что это связано с годом публикации объявления и большинство квартир за пределами условного центра выставлены в более поздние сроки, когда инфляция сделала своё. Давайте проверим это."
   ]
  },
  {
   "cell_type": "code",
   "execution_count": null,
   "metadata": {},
   "outputs": [],
   "source": [
    "anomalia_spb = spb.query('9 < square_type < 13')\n",
    "years_square = anomalia_spb.pivot_table(index=['year', 'square_type'], values='total_area', aggfunc='count')\n",
    "years_square = years_square.reset_index()\n",
    "years_square.columns = ['year','square_type','count_spb']\n",
    "\n",
    "anomalia_center = center_spb.query('9 < square_type < 13')\n",
    "years_square_center = anomalia_center.pivot_table(index=['year', 'square_type'], values='total_area', aggfunc='count')\n",
    "years_square_center = years_square_center.reset_index()\n",
    "years_square_center.columns = ['year','square_type','count_center']\n",
    "years_square['count_center'] = years_square_center['count_center']\n",
    "\n",
    "\n",
    "years_square"
   ]
  },
  {
   "cell_type": "code",
   "execution_count": null,
   "metadata": {},
   "outputs": [],
   "source": [
    "spb2018 = spb.query('year == 2018')\n",
    "center2018 = spb2018.query('city_centers_nearest <= 8')\n",
    "without_center2018 = spb2018.query('city_centers_nearest > 8')\n",
    "\n",
    "price_center = center2018.pivot_table(index=['square_type'], values='last_price', aggfunc=['median','mean'])\n",
    "\n",
    "price_spb = spb2018.pivot_table(index=['square_type'], values='last_price', aggfunc=['median','mean'])\n",
    "\n",
    "price_without_center2018 = without_center2018.pivot_table(index=['square_type'], values='last_price', aggfunc=['median','mean'])\n",
    "\n",
    "price_center = price_center.reset_index()\n",
    "price_center.columns = ['square_type','median_center','mean_center']\n",
    "\n",
    "price_spb = price_spb.reset_index()\n",
    "price_spb.columns = ['square_type','median_spb','mean_spb']\n",
    "\n",
    "price_without_center2018 = price_without_center2018.reset_index()\n",
    "price_without_center2018.columns = ['square_type','median_with_centr','mean_with_centr']\n",
    "\n",
    "prices0 = price_center.merge(price_spb, on='square_type', how='right')\n",
    "prices = prices0.merge(price_without_center2018, on='square_type', how='right')\n",
    "prices"
   ]
  },
  {
   "cell_type": "markdown",
   "metadata": {},
   "source": [
    "Я взял только 2018 год и картина не изменилась. Значит год не влияет. Возможно спрос на данную площадь выше, что подогревает рост стоимости."
   ]
  },
  {
   "cell_type": "markdown",
   "metadata": {},
   "source": [
    "Посмотрим как количество комнат распределено по центру и по городу в целом. Т.к. мы уже знаем, что количество комнат прямо пропорционально площади квартиры, то ожидаемый результат бужет аналогичен распределению площади в зависимости от центра к городу."
   ]
  },
  {
   "cell_type": "code",
   "execution_count": null,
   "metadata": {},
   "outputs": [],
   "source": [
    "center_spb['rooms'].value_counts()"
   ]
  },
  {
   "cell_type": "code",
   "execution_count": null,
   "metadata": {},
   "outputs": [],
   "source": [
    "spb['rooms'].value_counts()"
   ]
  },
  {
   "cell_type": "code",
   "execution_count": null,
   "metadata": {},
   "outputs": [],
   "source": [
    "without_center['rooms'].value_counts()"
   ]
  },
  {
   "cell_type": "code",
   "execution_count": null,
   "metadata": {},
   "outputs": [],
   "source": [
    "center_spb.plot(x='rooms', y='last_price', style='o', figsize=(15,8), grid=True)"
   ]
  },
  {
   "cell_type": "code",
   "execution_count": null,
   "metadata": {},
   "outputs": [],
   "source": [
    "spb.plot(x='rooms', y='last_price', style='o', figsize=(15,8), grid=True)"
   ]
  },
  {
   "cell_type": "code",
   "execution_count": null,
   "metadata": {},
   "outputs": [],
   "source": [
    "without_center.plot(x='rooms', y='last_price', style='o', figsize=(15,8), grid=True)"
   ]
  },
  {
   "cell_type": "markdown",
   "metadata": {},
   "source": [
    "Мы убедились, что самые большие квартиры расположены в центральной части, которая является и чемпионом по многокомнатности."
   ]
  },
  {
   "cell_type": "code",
   "execution_count": null,
   "metadata": {},
   "outputs": [],
   "source": [
    "center_spb['ceiling_height'].hist(bins=50, figsize=(10,8))"
   ]
  },
  {
   "cell_type": "code",
   "execution_count": null,
   "metadata": {},
   "outputs": [],
   "source": [
    "without_center['ceiling_height'].hist(bins=50, figsize=(10,8))"
   ]
  },
  {
   "cell_type": "markdown",
   "metadata": {},
   "source": [
    "Да, квартиры в центральной части города не только больше по площади, но и выше. "
   ]
  },
  {
   "cell_type": "code",
   "execution_count": null,
   "metadata": {},
   "outputs": [],
   "source": [
    "center_spb['floor'].value_counts()"
   ]
  },
  {
   "cell_type": "markdown",
   "metadata": {},
   "source": [
    "Сразу видно, что преобладают пяти-этажные здания."
   ]
  },
  {
   "cell_type": "code",
   "execution_count": null,
   "metadata": {},
   "outputs": [],
   "source": [
    "spb['floor'].value_counts()"
   ]
  },
  {
   "cell_type": "code",
   "execution_count": null,
   "metadata": {},
   "outputs": [],
   "source": [
    "center_spb['floor_type'].hist()"
   ]
  },
  {
   "cell_type": "code",
   "execution_count": null,
   "metadata": {},
   "outputs": [],
   "source": [
    "spb['floor_type'].hist()"
   ]
  },
  {
   "cell_type": "markdown",
   "metadata": {},
   "source": [
    "Цетральная часть застроена пятиэтажными домами, поэтому превалирует продажа от 1 до 5 этажа, с единичными случаями выше 5го. По всему городу до 10 этажа - превалирующие предложения. И в подавляющем большинстве это не 1 и последний этажи. Влияние этажа на стоимость имеется, но не настолько критичный как фактор площади и близости к центру."
   ]
  },
  {
   "cell_type": "markdown",
   "metadata": {},
   "source": [
    "Относительно даты подачи объявлений - также пришли в прошлых этапах анализа к выводу, что с годом стоимость растёт, по месяцам, по количеству объявлений - продающие не смотрят, когда определяют стоимость своей квартиры. 2019 год представлен не полностью, максимум объявлений приходится на 2018 год."
   ]
  },
  {
   "cell_type": "markdown",
   "metadata": {},
   "source": [
    "### Шаг 5. Общий вывод"
   ]
  },
  {
   "cell_type": "markdown",
   "metadata": {},
   "source": [
    "\n",
    "В ходе работы стали известны параметры, которые влияют на стоимость квартиры. Это в первую очередь - площадь (количество комнат не рассматриваю, т.к. они коррелируют с площадью), близость к центру, в меньшей мере - этаж. Высота потолков - больше в зданиях ранней постройки, расположенных в центре, следует заметить, что в зданиях в центре и потолки выше и площадь больше, что также сказывается на росте стоимости.\n",
    "\n",
    "Относительно даты публикации объявления - можно сказать, что с инфляцией растет и цена "
   ]
  }
 ],
 "metadata": {
  "kernelspec": {
   "display_name": "Python 3",
   "language": "python",
   "name": "python3"
  },
  "language_info": {
   "codemirror_mode": {
    "name": "ipython",
    "version": 3
   },
   "file_extension": ".py",
   "mimetype": "text/x-python",
   "name": "python",
   "nbconvert_exporter": "python",
   "pygments_lexer": "ipython3",
   "version": "3.7.6"
  }
 },
 "nbformat": 4,
 "nbformat_minor": 2
}
